{
 "cells": [
  {
   "cell_type": "code",
   "execution_count": null,
   "id": "0df38806",
   "metadata": {},
   "outputs": [],
   "source": [
    "# 데이터 처리 및 기타 작업을 위한 라이브러리들을 불러옵니다.\n",
    "import pandas as pd                                         # 데이터프레임 구조를 다루는 데 필수적인 라이브러리\n",
    "import numpy as np                                          # 숫자 연산을 위한 라이브러리\n",
    "import datetime as dt                                       # 날짜와 시간을 다루는 라이브러리\n",
    "import json                                                 # JSON 형식의 데이터를 처리하는 라이브러리\n",
    "\n",
    "import taipy as tp\n",
    "from taipy import Config, Orchestrator, Gui"
   ]
  },
  {
   "cell_type": "code",
   "execution_count": null,
   "id": "fd50c75c",
   "metadata": {},
   "outputs": [],
   "source": [
    "tp.get_scenarios()"
   ]
  },
  {
   "cell_type": "code",
   "execution_count": 1,
   "id": "b0b39e6b",
   "metadata": {},
   "outputs": [
    {
     "ename": "KeyboardInterrupt",
     "evalue": "",
     "output_type": "error",
     "traceback": [
      "\u001b[31m---------------------------------------------------------------------------\u001b[39m",
      "\u001b[31mKeyboardInterrupt\u001b[39m                         Traceback (most recent call last)",
      "\u001b[36mCell\u001b[39m\u001b[36m \u001b[39m\u001b[32mIn[1]\u001b[39m\u001b[32m, line 1\u001b[39m\n\u001b[32m----> \u001b[39m\u001b[32m1\u001b[39m \u001b[38;5;28;01mfrom\u001b[39;00m\u001b[38;5;250m \u001b[39m\u001b[34;01malgos\u001b[39;00m\u001b[34;01m.\u001b[39;00m\u001b[34;01malgos\u001b[39;00m\u001b[38;5;250m \u001b[39m\u001b[38;5;28;01mimport\u001b[39;00m *\n",
      "\u001b[36mFile \u001b[39m\u001b[32mc:\\Users\\ohbok\\Taipy\\sparc-malfunction-classification-develop\\src\\algos\\algos.py:3\u001b[39m\n\u001b[32m      1\u001b[39m \u001b[38;5;66;03m# 필요한 라이브러리들을 불러옵니다.\u001b[39;00m\n\u001b[32m      2\u001b[39m \u001b[38;5;66;03m# scikit-learn에서 여러 머신러닝 모델과 유틸리티를 가져옵니다.\u001b[39;00m\n\u001b[32m----> \u001b[39m\u001b[32m3\u001b[39m \u001b[38;5;28;01mfrom\u001b[39;00m\u001b[38;5;250m \u001b[39m\u001b[34;01msklearn\u001b[39;00m\u001b[34;01m.\u001b[39;00m\u001b[34;01mlinear_model\u001b[39;00m\u001b[38;5;250m \u001b[39m\u001b[38;5;28;01mimport\u001b[39;00m LogisticRegression         \u001b[38;5;66;03m# 로지스틱 회귀 모델\u001b[39;00m\n\u001b[32m      4\u001b[39m \u001b[38;5;28;01mfrom\u001b[39;00m\u001b[38;5;250m \u001b[39m\u001b[34;01msklearn\u001b[39;00m\u001b[34;01m.\u001b[39;00m\u001b[34;01mensemble\u001b[39;00m\u001b[38;5;250m \u001b[39m\u001b[38;5;28;01mimport\u001b[39;00m RandomForestClassifier         \u001b[38;5;66;03m# 랜덤 포레스트 분류 모델\u001b[39;00m\n\u001b[32m      5\u001b[39m \u001b[38;5;28;01mfrom\u001b[39;00m\u001b[38;5;250m \u001b[39m\u001b[34;01msklearn\u001b[39;00m\u001b[34;01m.\u001b[39;00m\u001b[34;01mmodel_selection\u001b[39;00m\u001b[38;5;250m \u001b[39m\u001b[38;5;28;01mimport\u001b[39;00m train_test_split, GridSearchCV \u001b[38;5;66;03m# 데이터 분할 및 하이퍼파라미터 튜닝을 위한 도구\u001b[39;00m\n",
      "\u001b[36mFile \u001b[39m\u001b[32mc:\\Users\\ohbok\\Taipy\\sparc-malfunction-classification-develop\\src\\.venv\\Lib\\site-packages\\sklearn\\linear_model\\__init__.py:12\u001b[39m\n\u001b[32m     10\u001b[39m \u001b[38;5;28;01mfrom\u001b[39;00m\u001b[38;5;250m \u001b[39m\u001b[34;01m.\u001b[39;00m\u001b[34;01m_base\u001b[39;00m\u001b[38;5;250m \u001b[39m\u001b[38;5;28;01mimport\u001b[39;00m LinearRegression\n\u001b[32m     11\u001b[39m \u001b[38;5;28;01mfrom\u001b[39;00m\u001b[38;5;250m \u001b[39m\u001b[34;01m.\u001b[39;00m\u001b[34;01m_bayes\u001b[39;00m\u001b[38;5;250m \u001b[39m\u001b[38;5;28;01mimport\u001b[39;00m ARDRegression, BayesianRidge\n\u001b[32m---> \u001b[39m\u001b[32m12\u001b[39m \u001b[38;5;28;01mfrom\u001b[39;00m\u001b[38;5;250m \u001b[39m\u001b[34;01m.\u001b[39;00m\u001b[34;01m_coordinate_descent\u001b[39;00m\u001b[38;5;250m \u001b[39m\u001b[38;5;28;01mimport\u001b[39;00m (\n\u001b[32m     13\u001b[39m     ElasticNet,\n\u001b[32m     14\u001b[39m     ElasticNetCV,\n\u001b[32m     15\u001b[39m     Lasso,\n\u001b[32m     16\u001b[39m     LassoCV,\n\u001b[32m     17\u001b[39m     MultiTaskElasticNet,\n\u001b[32m     18\u001b[39m     MultiTaskElasticNetCV,\n\u001b[32m     19\u001b[39m     MultiTaskLasso,\n\u001b[32m     20\u001b[39m     MultiTaskLassoCV,\n\u001b[32m     21\u001b[39m     enet_path,\n\u001b[32m     22\u001b[39m     lasso_path,\n\u001b[32m     23\u001b[39m )\n\u001b[32m     24\u001b[39m \u001b[38;5;28;01mfrom\u001b[39;00m\u001b[38;5;250m \u001b[39m\u001b[34;01m.\u001b[39;00m\u001b[34;01m_glm\u001b[39;00m\u001b[38;5;250m \u001b[39m\u001b[38;5;28;01mimport\u001b[39;00m GammaRegressor, PoissonRegressor, TweedieRegressor\n\u001b[32m     25\u001b[39m \u001b[38;5;28;01mfrom\u001b[39;00m\u001b[38;5;250m \u001b[39m\u001b[34;01m.\u001b[39;00m\u001b[34;01m_huber\u001b[39;00m\u001b[38;5;250m \u001b[39m\u001b[38;5;28;01mimport\u001b[39;00m HuberRegressor\n",
      "\u001b[36mFile \u001b[39m\u001b[32mc:\\Users\\ohbok\\Taipy\\sparc-malfunction-classification-develop\\src\\.venv\\Lib\\site-packages\\sklearn\\linear_model\\_coordinate_descent.py:18\u001b[39m\n\u001b[32m     15\u001b[39m \u001b[38;5;28;01mfrom\u001b[39;00m\u001b[38;5;250m \u001b[39m\u001b[34;01msklearn\u001b[39;00m\u001b[34;01m.\u001b[39;00m\u001b[34;01mutils\u001b[39;00m\u001b[38;5;250m \u001b[39m\u001b[38;5;28;01mimport\u001b[39;00m metadata_routing\n\u001b[32m     17\u001b[39m \u001b[38;5;28;01mfrom\u001b[39;00m\u001b[38;5;250m \u001b[39m\u001b[34;01m.\u001b[39;00m\u001b[34;01m.\u001b[39;00m\u001b[34;01mbase\u001b[39;00m\u001b[38;5;250m \u001b[39m\u001b[38;5;28;01mimport\u001b[39;00m MultiOutputMixin, RegressorMixin, _fit_context\n\u001b[32m---> \u001b[39m\u001b[32m18\u001b[39m \u001b[38;5;28;01mfrom\u001b[39;00m\u001b[38;5;250m \u001b[39m\u001b[34;01m.\u001b[39;00m\u001b[34;01m.\u001b[39;00m\u001b[34;01mmodel_selection\u001b[39;00m\u001b[38;5;250m \u001b[39m\u001b[38;5;28;01mimport\u001b[39;00m check_cv\n\u001b[32m     19\u001b[39m \u001b[38;5;28;01mfrom\u001b[39;00m\u001b[38;5;250m \u001b[39m\u001b[34;01m.\u001b[39;00m\u001b[34;01m.\u001b[39;00m\u001b[34;01mutils\u001b[39;00m\u001b[38;5;250m \u001b[39m\u001b[38;5;28;01mimport\u001b[39;00m Bunch, check_array, check_scalar\n\u001b[32m     20\u001b[39m \u001b[38;5;28;01mfrom\u001b[39;00m\u001b[38;5;250m \u001b[39m\u001b[34;01m.\u001b[39;00m\u001b[34;01m.\u001b[39;00m\u001b[34;01mutils\u001b[39;00m\u001b[34;01m.\u001b[39;00m\u001b[34;01m_metadata_requests\u001b[39;00m\u001b[38;5;250m \u001b[39m\u001b[38;5;28;01mimport\u001b[39;00m (\n\u001b[32m     21\u001b[39m     MetadataRouter,\n\u001b[32m     22\u001b[39m     MethodMapping,\n\u001b[32m     23\u001b[39m     _raise_for_params,\n\u001b[32m     24\u001b[39m     get_routing_for_object,\n\u001b[32m     25\u001b[39m )\n",
      "\u001b[36mFile \u001b[39m\u001b[32mc:\\Users\\ohbok\\Taipy\\sparc-malfunction-classification-develop\\src\\.venv\\Lib\\site-packages\\sklearn\\model_selection\\__init__.py:8\u001b[39m\n\u001b[32m      3\u001b[39m \u001b[38;5;66;03m# Authors: The scikit-learn developers\u001b[39;00m\n\u001b[32m      4\u001b[39m \u001b[38;5;66;03m# SPDX-License-Identifier: BSD-3-Clause\u001b[39;00m\n\u001b[32m      6\u001b[39m \u001b[38;5;28;01mimport\u001b[39;00m\u001b[38;5;250m \u001b[39m\u001b[34;01mtyping\u001b[39;00m\n\u001b[32m----> \u001b[39m\u001b[32m8\u001b[39m \u001b[38;5;28;01mfrom\u001b[39;00m\u001b[38;5;250m \u001b[39m\u001b[34;01m.\u001b[39;00m\u001b[34;01m_classification_threshold\u001b[39;00m\u001b[38;5;250m \u001b[39m\u001b[38;5;28;01mimport\u001b[39;00m (\n\u001b[32m      9\u001b[39m     FixedThresholdClassifier,\n\u001b[32m     10\u001b[39m     TunedThresholdClassifierCV,\n\u001b[32m     11\u001b[39m )\n\u001b[32m     12\u001b[39m \u001b[38;5;28;01mfrom\u001b[39;00m\u001b[38;5;250m \u001b[39m\u001b[34;01m.\u001b[39;00m\u001b[34;01m_plot\u001b[39;00m\u001b[38;5;250m \u001b[39m\u001b[38;5;28;01mimport\u001b[39;00m LearningCurveDisplay, ValidationCurveDisplay\n\u001b[32m     13\u001b[39m \u001b[38;5;28;01mfrom\u001b[39;00m\u001b[38;5;250m \u001b[39m\u001b[34;01m.\u001b[39;00m\u001b[34;01m_search\u001b[39;00m\u001b[38;5;250m \u001b[39m\u001b[38;5;28;01mimport\u001b[39;00m GridSearchCV, ParameterGrid, ParameterSampler, RandomizedSearchCV\n",
      "\u001b[36mFile \u001b[39m\u001b[32mc:\\Users\\ohbok\\Taipy\\sparc-malfunction-classification-develop\\src\\.venv\\Lib\\site-packages\\sklearn\\model_selection\\_classification_threshold.py:17\u001b[39m\n\u001b[32m      9\u001b[39m \u001b[38;5;28;01mfrom\u001b[39;00m\u001b[38;5;250m \u001b[39m\u001b[34;01m.\u001b[39;00m\u001b[34;01m.\u001b[39;00m\u001b[34;01mbase\u001b[39;00m\u001b[38;5;250m \u001b[39m\u001b[38;5;28;01mimport\u001b[39;00m (\n\u001b[32m     10\u001b[39m     BaseEstimator,\n\u001b[32m     11\u001b[39m     ClassifierMixin,\n\u001b[32m   (...)\u001b[39m\u001b[32m     14\u001b[39m     clone,\n\u001b[32m     15\u001b[39m )\n\u001b[32m     16\u001b[39m \u001b[38;5;28;01mfrom\u001b[39;00m\u001b[38;5;250m \u001b[39m\u001b[34;01m.\u001b[39;00m\u001b[34;01m.\u001b[39;00m\u001b[34;01mexceptions\u001b[39;00m\u001b[38;5;250m \u001b[39m\u001b[38;5;28;01mimport\u001b[39;00m NotFittedError\n\u001b[32m---> \u001b[39m\u001b[32m17\u001b[39m \u001b[38;5;28;01mfrom\u001b[39;00m\u001b[38;5;250m \u001b[39m\u001b[34;01m.\u001b[39;00m\u001b[34;01m.\u001b[39;00m\u001b[34;01mmetrics\u001b[39;00m\u001b[38;5;250m \u001b[39m\u001b[38;5;28;01mimport\u001b[39;00m (\n\u001b[32m     18\u001b[39m     check_scoring,\n\u001b[32m     19\u001b[39m     get_scorer_names,\n\u001b[32m     20\u001b[39m )\n\u001b[32m     21\u001b[39m \u001b[38;5;28;01mfrom\u001b[39;00m\u001b[38;5;250m \u001b[39m\u001b[34;01m.\u001b[39;00m\u001b[34;01m.\u001b[39;00m\u001b[34;01mmetrics\u001b[39;00m\u001b[34;01m.\u001b[39;00m\u001b[34;01m_scorer\u001b[39;00m\u001b[38;5;250m \u001b[39m\u001b[38;5;28;01mimport\u001b[39;00m (\n\u001b[32m     22\u001b[39m     _CurveScorer,\n\u001b[32m     23\u001b[39m     _threshold_scores_to_class_labels,\n\u001b[32m     24\u001b[39m )\n\u001b[32m     25\u001b[39m \u001b[38;5;28;01mfrom\u001b[39;00m\u001b[38;5;250m \u001b[39m\u001b[34;01m.\u001b[39;00m\u001b[34;01m.\u001b[39;00m\u001b[34;01mutils\u001b[39;00m\u001b[38;5;250m \u001b[39m\u001b[38;5;28;01mimport\u001b[39;00m _safe_indexing, get_tags\n",
      "\u001b[36mFile \u001b[39m\u001b[32mc:\\Users\\ohbok\\Taipy\\sparc-malfunction-classification-develop\\src\\.venv\\Lib\\site-packages\\sklearn\\metrics\\__init__.py:6\u001b[39m\n\u001b[32m      1\u001b[39m \u001b[33;03m\"\"\"Score functions, performance metrics, pairwise metrics and distance computations.\"\"\"\u001b[39;00m\n\u001b[32m      3\u001b[39m \u001b[38;5;66;03m# Authors: The scikit-learn developers\u001b[39;00m\n\u001b[32m      4\u001b[39m \u001b[38;5;66;03m# SPDX-License-Identifier: BSD-3-Clause\u001b[39;00m\n\u001b[32m----> \u001b[39m\u001b[32m6\u001b[39m \u001b[38;5;28;01mfrom\u001b[39;00m\u001b[38;5;250m \u001b[39m\u001b[34;01m.\u001b[39;00m\u001b[38;5;250m \u001b[39m\u001b[38;5;28;01mimport\u001b[39;00m cluster\n\u001b[32m      7\u001b[39m \u001b[38;5;28;01mfrom\u001b[39;00m\u001b[38;5;250m \u001b[39m\u001b[34;01m.\u001b[39;00m\u001b[34;01m_classification\u001b[39;00m\u001b[38;5;250m \u001b[39m\u001b[38;5;28;01mimport\u001b[39;00m (\n\u001b[32m      8\u001b[39m     accuracy_score,\n\u001b[32m      9\u001b[39m     balanced_accuracy_score,\n\u001b[32m   (...)\u001b[39m\u001b[32m     27\u001b[39m     zero_one_loss,\n\u001b[32m     28\u001b[39m )\n\u001b[32m     29\u001b[39m \u001b[38;5;28;01mfrom\u001b[39;00m\u001b[38;5;250m \u001b[39m\u001b[34;01m.\u001b[39;00m\u001b[34;01m_dist_metrics\u001b[39;00m\u001b[38;5;250m \u001b[39m\u001b[38;5;28;01mimport\u001b[39;00m DistanceMetric\n",
      "\u001b[36mFile \u001b[39m\u001b[32mc:\\Users\\ohbok\\Taipy\\sparc-malfunction-classification-develop\\src\\.venv\\Lib\\site-packages\\sklearn\\metrics\\cluster\\__init__.py:28\u001b[39m\n\u001b[32m     11\u001b[39m \u001b[38;5;28;01mfrom\u001b[39;00m\u001b[38;5;250m \u001b[39m\u001b[34;01m.\u001b[39;00m\u001b[34;01m_bicluster\u001b[39;00m\u001b[38;5;250m \u001b[39m\u001b[38;5;28;01mimport\u001b[39;00m consensus_score\n\u001b[32m     12\u001b[39m \u001b[38;5;28;01mfrom\u001b[39;00m\u001b[38;5;250m \u001b[39m\u001b[34;01m.\u001b[39;00m\u001b[34;01m_supervised\u001b[39;00m\u001b[38;5;250m \u001b[39m\u001b[38;5;28;01mimport\u001b[39;00m (\n\u001b[32m     13\u001b[39m     adjusted_mutual_info_score,\n\u001b[32m     14\u001b[39m     adjusted_rand_score,\n\u001b[32m   (...)\u001b[39m\u001b[32m     26\u001b[39m     v_measure_score,\n\u001b[32m     27\u001b[39m )\n\u001b[32m---> \u001b[39m\u001b[32m28\u001b[39m \u001b[38;5;28;01mfrom\u001b[39;00m\u001b[38;5;250m \u001b[39m\u001b[34;01m.\u001b[39;00m\u001b[34;01m_unsupervised\u001b[39;00m\u001b[38;5;250m \u001b[39m\u001b[38;5;28;01mimport\u001b[39;00m (\n\u001b[32m     29\u001b[39m     calinski_harabasz_score,\n\u001b[32m     30\u001b[39m     davies_bouldin_score,\n\u001b[32m     31\u001b[39m     silhouette_samples,\n\u001b[32m     32\u001b[39m     silhouette_score,\n\u001b[32m     33\u001b[39m )\n\u001b[32m     35\u001b[39m __all__ = [\n\u001b[32m     36\u001b[39m     \u001b[33m\"\u001b[39m\u001b[33madjusted_mutual_info_score\u001b[39m\u001b[33m\"\u001b[39m,\n\u001b[32m     37\u001b[39m     \u001b[33m\"\u001b[39m\u001b[33madjusted_rand_score\u001b[39m\u001b[33m\"\u001b[39m,\n\u001b[32m   (...)\u001b[39m\u001b[32m     54\u001b[39m     \u001b[33m\"\u001b[39m\u001b[33mv_measure_score\u001b[39m\u001b[33m\"\u001b[39m,\n\u001b[32m     55\u001b[39m ]\n",
      "\u001b[36mFile \u001b[39m\u001b[32mc:\\Users\\ohbok\\Taipy\\sparc-malfunction-classification-develop\\src\\.venv\\Lib\\site-packages\\sklearn\\metrics\\cluster\\_unsupervised.py:20\u001b[39m\n\u001b[32m     14\u001b[39m \u001b[38;5;28;01mfrom\u001b[39;00m\u001b[38;5;250m \u001b[39m\u001b[34;01m.\u001b[39;00m\u001b[34;01m.\u001b[39;00m\u001b[34;01m.\u001b[39;00m\u001b[34;01mutils\u001b[39;00m\u001b[34;01m.\u001b[39;00m\u001b[34;01m_array_api\u001b[39;00m\u001b[38;5;250m \u001b[39m\u001b[38;5;28;01mimport\u001b[39;00m _atol_for_type\n\u001b[32m     15\u001b[39m \u001b[38;5;28;01mfrom\u001b[39;00m\u001b[38;5;250m \u001b[39m\u001b[34;01m.\u001b[39;00m\u001b[34;01m.\u001b[39;00m\u001b[34;01m.\u001b[39;00m\u001b[34;01mutils\u001b[39;00m\u001b[34;01m.\u001b[39;00m\u001b[34;01m_param_validation\u001b[39;00m\u001b[38;5;250m \u001b[39m\u001b[38;5;28;01mimport\u001b[39;00m (\n\u001b[32m     16\u001b[39m     Interval,\n\u001b[32m     17\u001b[39m     StrOptions,\n\u001b[32m     18\u001b[39m     validate_params,\n\u001b[32m     19\u001b[39m )\n\u001b[32m---> \u001b[39m\u001b[32m20\u001b[39m \u001b[38;5;28;01mfrom\u001b[39;00m\u001b[38;5;250m \u001b[39m\u001b[34;01m.\u001b[39;00m\u001b[34;01m.\u001b[39;00m\u001b[34;01mpairwise\u001b[39;00m\u001b[38;5;250m \u001b[39m\u001b[38;5;28;01mimport\u001b[39;00m _VALID_METRICS, pairwise_distances, pairwise_distances_chunked\n\u001b[32m     23\u001b[39m \u001b[38;5;28;01mdef\u001b[39;00m\u001b[38;5;250m \u001b[39m\u001b[34mcheck_number_of_labels\u001b[39m(n_labels, n_samples):\n\u001b[32m     24\u001b[39m \u001b[38;5;250m    \u001b[39m\u001b[33;03m\"\"\"Check that number of labels are valid.\u001b[39;00m\n\u001b[32m     25\u001b[39m \n\u001b[32m     26\u001b[39m \u001b[33;03m    Parameters\u001b[39;00m\n\u001b[32m   (...)\u001b[39m\u001b[32m     32\u001b[39m \u001b[33;03m        Number of samples.\u001b[39;00m\n\u001b[32m     33\u001b[39m \u001b[33;03m    \"\"\"\u001b[39;00m\n",
      "\u001b[36mFile \u001b[39m\u001b[32mc:\\Users\\ohbok\\Taipy\\sparc-malfunction-classification-develop\\src\\.venv\\Lib\\site-packages\\sklearn\\metrics\\pairwise.py:46\u001b[39m\n\u001b[32m     44\u001b[39m \u001b[38;5;28;01mfrom\u001b[39;00m\u001b[38;5;250m \u001b[39m\u001b[34;01m.\u001b[39;00m\u001b[34;01m.\u001b[39;00m\u001b[34;01mutils\u001b[39;00m\u001b[34;01m.\u001b[39;00m\u001b[34;01mparallel\u001b[39;00m\u001b[38;5;250m \u001b[39m\u001b[38;5;28;01mimport\u001b[39;00m Parallel, delayed\n\u001b[32m     45\u001b[39m \u001b[38;5;28;01mfrom\u001b[39;00m\u001b[38;5;250m \u001b[39m\u001b[34;01m.\u001b[39;00m\u001b[34;01m.\u001b[39;00m\u001b[34;01mutils\u001b[39;00m\u001b[34;01m.\u001b[39;00m\u001b[34;01mvalidation\u001b[39;00m\u001b[38;5;250m \u001b[39m\u001b[38;5;28;01mimport\u001b[39;00m _num_samples, check_non_negative\n\u001b[32m---> \u001b[39m\u001b[32m46\u001b[39m \u001b[38;5;28;01mfrom\u001b[39;00m\u001b[38;5;250m \u001b[39m\u001b[34;01m.\u001b[39;00m\u001b[34;01m_pairwise_distances_reduction\u001b[39;00m\u001b[38;5;250m \u001b[39m\u001b[38;5;28;01mimport\u001b[39;00m ArgKmin\n\u001b[32m     47\u001b[39m \u001b[38;5;28;01mfrom\u001b[39;00m\u001b[38;5;250m \u001b[39m\u001b[34;01m.\u001b[39;00m\u001b[34;01m_pairwise_fast\u001b[39;00m\u001b[38;5;250m \u001b[39m\u001b[38;5;28;01mimport\u001b[39;00m _chi2_kernel_fast, _sparse_manhattan\n\u001b[32m     50\u001b[39m \u001b[38;5;66;03m# Utility Functions\u001b[39;00m\n",
      "\u001b[36mFile \u001b[39m\u001b[32mc:\\Users\\ohbok\\Taipy\\sparc-malfunction-classification-develop\\src\\.venv\\Lib\\site-packages\\sklearn\\metrics\\_pairwise_distances_reduction\\__init__.py:94\u001b[39m\n\u001b[32m      1\u001b[39m \u001b[38;5;66;03m# Authors: The scikit-learn developers\u001b[39;00m\n\u001b[32m      2\u001b[39m \u001b[38;5;66;03m# SPDX-License-Identifier: BSD-3-Clause\u001b[39;00m\n\u001b[32m      3\u001b[39m \n\u001b[32m   (...)\u001b[39m\u001b[32m     91\u001b[39m \u001b[38;5;66;03m#    (see :class:`MiddleTermComputer{32,64}`).\u001b[39;00m\n\u001b[32m     92\u001b[39m \u001b[38;5;66;03m#\u001b[39;00m\n\u001b[32m---> \u001b[39m\u001b[32m94\u001b[39m \u001b[38;5;28;01mfrom\u001b[39;00m\u001b[38;5;250m \u001b[39m\u001b[34;01m.\u001b[39;00m\u001b[34;01m_dispatcher\u001b[39;00m\u001b[38;5;250m \u001b[39m\u001b[38;5;28;01mimport\u001b[39;00m (\n\u001b[32m     95\u001b[39m     ArgKmin,\n\u001b[32m     96\u001b[39m     ArgKminClassMode,\n\u001b[32m     97\u001b[39m     BaseDistancesReductionDispatcher,\n\u001b[32m     98\u001b[39m     RadiusNeighbors,\n\u001b[32m     99\u001b[39m     RadiusNeighborsClassMode,\n\u001b[32m    100\u001b[39m     sqeuclidean_row_norms,\n\u001b[32m    101\u001b[39m )\n\u001b[32m    103\u001b[39m __all__ = [\n\u001b[32m    104\u001b[39m     \u001b[33m\"\u001b[39m\u001b[33mArgKmin\u001b[39m\u001b[33m\"\u001b[39m,\n\u001b[32m    105\u001b[39m     \u001b[33m\"\u001b[39m\u001b[33mArgKminClassMode\u001b[39m\u001b[33m\"\u001b[39m,\n\u001b[32m   (...)\u001b[39m\u001b[32m    109\u001b[39m     \u001b[33m\"\u001b[39m\u001b[33msqeuclidean_row_norms\u001b[39m\u001b[33m\"\u001b[39m,\n\u001b[32m    110\u001b[39m ]\n\u001b[32m    112\u001b[39m \u001b[38;5;66;03m# ruff: noqa: E501\u001b[39;00m\n",
      "\u001b[36mFile \u001b[39m\u001b[32mc:\\Users\\ohbok\\Taipy\\sparc-malfunction-classification-develop\\src\\.venv\\Lib\\site-packages\\sklearn\\metrics\\_pairwise_distances_reduction\\_dispatcher.py:16\u001b[39m\n\u001b[32m     10\u001b[39m \u001b[38;5;28;01mfrom\u001b[39;00m\u001b[38;5;250m \u001b[39m\u001b[34;01m.\u001b[39;00m\u001b[34;01m.\u001b[39;00m\u001b[34;01m.\u001b[39;00m\u001b[38;5;250m \u001b[39m\u001b[38;5;28;01mimport\u001b[39;00m get_config\n\u001b[32m     11\u001b[39m \u001b[38;5;28;01mfrom\u001b[39;00m\u001b[38;5;250m \u001b[39m\u001b[34;01m.\u001b[39;00m\u001b[34;01m.\u001b[39;00m\u001b[34;01m_dist_metrics\u001b[39;00m\u001b[38;5;250m \u001b[39m\u001b[38;5;28;01mimport\u001b[39;00m (\n\u001b[32m     12\u001b[39m     BOOL_METRICS,\n\u001b[32m     13\u001b[39m     METRIC_MAPPING64,\n\u001b[32m     14\u001b[39m     DistanceMetric,\n\u001b[32m     15\u001b[39m )\n\u001b[32m---> \u001b[39m\u001b[32m16\u001b[39m \u001b[38;5;28;01mfrom\u001b[39;00m\u001b[38;5;250m \u001b[39m\u001b[34;01m.\u001b[39;00m\u001b[34;01m_argkmin\u001b[39;00m\u001b[38;5;250m \u001b[39m\u001b[38;5;28;01mimport\u001b[39;00m (\n\u001b[32m     17\u001b[39m     ArgKmin32,\n\u001b[32m     18\u001b[39m     ArgKmin64,\n\u001b[32m     19\u001b[39m )\n\u001b[32m     20\u001b[39m \u001b[38;5;28;01mfrom\u001b[39;00m\u001b[38;5;250m \u001b[39m\u001b[34;01m.\u001b[39;00m\u001b[34;01m_argkmin_classmode\u001b[39;00m\u001b[38;5;250m \u001b[39m\u001b[38;5;28;01mimport\u001b[39;00m (\n\u001b[32m     21\u001b[39m     ArgKminClassMode32,\n\u001b[32m     22\u001b[39m     ArgKminClassMode64,\n\u001b[32m     23\u001b[39m )\n\u001b[32m     24\u001b[39m \u001b[38;5;28;01mfrom\u001b[39;00m\u001b[38;5;250m \u001b[39m\u001b[34;01m.\u001b[39;00m\u001b[34;01m_base\u001b[39;00m\u001b[38;5;250m \u001b[39m\u001b[38;5;28;01mimport\u001b[39;00m _sqeuclidean_row_norms32, _sqeuclidean_row_norms64\n",
      "\u001b[36mFile \u001b[39m\u001b[32m<frozen importlib._bootstrap>:1360\u001b[39m, in \u001b[36m_find_and_load\u001b[39m\u001b[34m(name, import_)\u001b[39m\n",
      "\u001b[36mFile \u001b[39m\u001b[32m<frozen importlib._bootstrap>:1322\u001b[39m, in \u001b[36m_find_and_load_unlocked\u001b[39m\u001b[34m(name, import_)\u001b[39m\n",
      "\u001b[36mFile \u001b[39m\u001b[32m<frozen importlib._bootstrap>:1262\u001b[39m, in \u001b[36m_find_spec\u001b[39m\u001b[34m(name, path, target)\u001b[39m\n",
      "\u001b[36mFile \u001b[39m\u001b[32m<frozen importlib._bootstrap_external>:1528\u001b[39m, in \u001b[36mfind_spec\u001b[39m\u001b[34m(cls, fullname, path, target)\u001b[39m\n",
      "\u001b[36mFile \u001b[39m\u001b[32m<frozen importlib._bootstrap_external>:1502\u001b[39m, in \u001b[36m_get_spec\u001b[39m\u001b[34m(cls, fullname, path, target)\u001b[39m\n",
      "\u001b[36mFile \u001b[39m\u001b[32m<frozen importlib._bootstrap_external>:1601\u001b[39m, in \u001b[36mfind_spec\u001b[39m\u001b[34m(self, fullname, target)\u001b[39m\n",
      "\u001b[36mFile \u001b[39m\u001b[32m<frozen importlib._bootstrap_external>:147\u001b[39m, in \u001b[36m_path_stat\u001b[39m\u001b[34m(path)\u001b[39m\n",
      "\u001b[31mKeyboardInterrupt\u001b[39m: "
     ]
    }
   ],
   "source": [
    "from algos.algos import *"
   ]
  },
  {
   "cell_type": "code",
   "execution_count": null,
   "id": "8fe5b060",
   "metadata": {},
   "outputs": [],
   "source": [
    "all_scenarios = tp.get_scenarios()\n",
    "# print_object_attributes(all_scenarios[0])\n",
    "\n",
    "for scenario in all_scenarios:\n",
    "    print(f\"Scenario ID: {scenario.id}\")\n",
    "    "
   ]
  },
  {
   "cell_type": "code",
   "execution_count": null,
   "id": "cde30049",
   "metadata": {},
   "outputs": [],
   "source": [
    "all_scenarios[0].preprocessed_dataset.read().head()"
   ]
  },
  {
   "cell_type": "code",
   "execution_count": null,
   "id": "a464b739",
   "metadata": {},
   "outputs": [],
   "source": [
    "models = {\n",
    "    \"baseline\",\n",
    "    \"logistic_regression\",\n",
    "    \"random_forest\",\n",
    "    \"xgboost\",\n",
    "    # \"tree\": train_model_decision_tree,\n",
    "}"
   ]
  },
  {
   "cell_type": "code",
   "execution_count": null,
   "id": "d8561485",
   "metadata": {},
   "outputs": [],
   "source": [
    "# model = \"xgboost\"\n",
    "# tp_exp = \"scenario.metrics_\"+model+\".read()\"\n",
    "# metrics_xgboost = eval(tp_exp)\n",
    "# metrics_xgboost"
   ]
  },
  {
   "cell_type": "code",
   "execution_count": null,
   "id": "45afc871",
   "metadata": {},
   "outputs": [],
   "source": [
    "ftpn_df = pd.DataFrame()\n",
    "\n",
    "\n",
    "for scenario in all_scenarios:\n",
    "    for model in models:\n",
    "        metrics = eval(\"scenario.metrics_\" + model + \".read()\")\n",
    "        dict_ftpn = metrics[\"dict_ftpn\"]\n",
    "        \n",
    "        # 새로운 행을 딕셔너리로 만듭니다.\n",
    "        # 기존 dict_ftpn에 추가 정보를 더합니다.\n",
    "        new_row = {\n",
    "            'fn': dict_ftpn.get('fn'),\n",
    "            'fp': dict_ftpn.get('fp'),\n",
    "            'tn': dict_ftpn.get('tn'),\n",
    "            'tp': dict_ftpn.get('tp'),\n",
    "            'model': model,\n",
    "            'scenario_name': scenario._config_id,\n",
    "            'scenario_id': scenario.id,\n",
    "            'feature_selection_info_id': scenario.feature_selection_info.id,\n",
    "            'threshold_baseline_id': eval(\"scenario.threshold_\" + model + \".id\"),\n",
    "            'train_parameters_info_id': eval(\"scenario.train_parameters_info_\" + model + \".id\")\n",
    "        }\n",
    "\n",
    "        # ftpn_df에 새로운 행을 추가합니다.\n",
    "        # pandas.concat을 사용해 행을 추가하는 것이 일반적으로 append보다 효율적입니다.\n",
    "        ftpn_df = pd.concat([ftpn_df, pd.DataFrame([new_row])], ignore_index=True)\n",
    "\n",
    "# 'fn', 'fp', 'tn', 'tp' 컬럼을 가장 앞으로 이동시키기\n",
    "# 루프 이후에 한 번만 처리합니다.\n",
    "target_cols = ['fn', 'fp', 'tn', 'tp', 'model']\n",
    "other_cols = [col for col in ftpn_df.columns if col not in target_cols]\n",
    "ftpn_df = ftpn_df[target_cols + other_cols]\n",
    "\n",
    "# 결과 확인\n",
    "print(ftpn_df.head())"
   ]
  },
  {
   "cell_type": "code",
   "execution_count": null,
   "id": "43c671c5",
   "metadata": {},
   "outputs": [],
   "source": [
    "import os\n",
    "import pandas as pd\n",
    "\n",
    "# 저장할 파일 경로\n",
    "file_path = 'data/result/summary_metrics_ftpn_df.csv'\n",
    "\n",
    "# 저장할 DataFrame (예시 ftpn_df)\n",
    "# 실제 코드에서는 이전에 생성한 ftpn_df를 사용합니다.\n",
    "# ftpn_df = ...\n",
    "\n",
    "# 폴더가 없으면 생성\n",
    "os.makedirs(os.path.dirname(file_path), exist_ok=True)\n",
    "\n",
    "# 파일이 존재하는지 확인\n",
    "file_exists = os.path.isfile(file_path)\n",
    "\n",
    "# 파일이 이미 존재하면 헤더 없이 'a' (append) 모드로 저장\n",
    "if file_exists:\n",
    "    ftpn_df.to_csv(file_path, mode='a', header=False, index=False)\n",
    "    print(f\"Data has been appended to '{file_path}'.\")\n",
    "else:\n",
    "    # 파일이 존재하지 않으면 헤더와 함께 'w' (write) 모드로 저장\n",
    "    ftpn_df.to_csv(file_path, mode='w', header=True, index=False)\n",
    "    print(f\"A new file has been created and saved at '{file_path}'.\")"
   ]
  },
  {
   "cell_type": "code",
   "execution_count": null,
   "id": "1da4bc34",
   "metadata": {},
   "outputs": [],
   "source": [
    "import pandas as pd\n",
    "\n",
    "# Create an empty DataFrame to store the feature importance data\n",
    "feature_importance_df = pd.DataFrame()\n",
    "\n",
    "# Iterate through all scenarios and models\n",
    "for scenario in all_scenarios:\n",
    "    for model in models:\n",
    "        # Construct the string for reading the feature importance\n",
    "        feature_importance_str = f\"scenario.feature_importance_{model}.read()\"\n",
    "\n",
    "        try:\n",
    "            # Read the feature importance data for the specific model and scenario\n",
    "            importance_data = eval(feature_importance_str)\n",
    "\n",
    "            # Add columns for scenario and model identifiers\n",
    "            importance_data['model'] = model\n",
    "            importance_data['scenario_id'] = scenario.id\n",
    "            importance_data['scenario_name'] = scenario._config_id\n",
    "            \n",
    "            # Add the requested info\n",
    "            importance_data['feature_selection_info_id'] = scenario.feature_selection_info.id\n",
    "            importance_data['threshold_id'] = eval(f\"scenario.threshold_{model}.id\")\n",
    "            importance_data['train_parameters_info_id'] = eval(f\"scenario.train_parameters_info_{model}.id\")\n",
    "\n",
    "\n",
    "            # Append the data to the main DataFrame\n",
    "            feature_importance_df = pd.concat([feature_importance_df, importance_data], ignore_index=True)\n",
    "\n",
    "        except AttributeError:\n",
    "            print(f\"No feature importance data found for model '{model}' in scenario '{scenario._config_id}'. Skipping.\")\n",
    "            continue\n",
    "\n",
    "# Display the first few rows of the final DataFrame\n",
    "print(feature_importance_df.head())"
   ]
  },
  {
   "cell_type": "code",
   "execution_count": null,
   "id": "3fe3062e",
   "metadata": {},
   "outputs": [],
   "source": [
    "# feature_importance_df\n"
   ]
  },
  {
   "cell_type": "code",
   "execution_count": null,
   "id": "746637a4",
   "metadata": {},
   "outputs": [],
   "source": [
    "import os\n",
    "import pandas as pd\n",
    "\n",
    "# 저장할 파일 경로\n",
    "file_path = 'data/result/summary_feature_importance_df.csv'\n",
    "\n",
    "# 저장할 DataFrame (예시 feature_importance_df)\n",
    "# 실제 코드에서는 이전에 생성한 feature_importance_df를 사용합니다.\n",
    "# feature_importance_df = ...\n",
    "\n",
    "# 폴더가 없으면 생성\n",
    "os.makedirs(os.path.dirname(file_path), exist_ok=True)\n",
    "\n",
    "# 파일이 존재하는지 확인\n",
    "file_exists = os.path.isfile(file_path)\n",
    "\n",
    "# 파일이 이미 존재하면 헤더 없이 'a' (append) 모드로 저장\n",
    "if file_exists:\n",
    "    feature_importance_df.to_csv(file_path, mode='a', header=False, index=False)\n",
    "    print(f\"Data has been appended to '{file_path}'.\")\n",
    "else:\n",
    "    # 파일이 존재하지 않으면 헤더와 함께 'w' (write) 모드로 저장\n",
    "    feature_importance_df.to_csv(file_path, mode='w', header=True, index=False)\n",
    "    print(f\"A new file has been created and saved at '{file_path}'.\")"
   ]
  },
  {
   "cell_type": "code",
   "execution_count": null,
   "id": "0217a2a0",
   "metadata": {},
   "outputs": [],
   "source": [
    "import os\n",
    "import shutil\n",
    "\n",
    "# 원본 파일이 있는 디렉토리\n",
    "source_dir = 'user_data/jsons'\n",
    "# 복사할 대상 디렉토리\n",
    "destination_dir = 'data/result/jsons'\n",
    "\n",
    "# 대상 디렉토리가 없으면 생성\n",
    "os.makedirs(destination_dir, exist_ok=True)\n",
    "\n",
    "# 원본 디렉토리의 모든 파일에 대해 반복\n",
    "for filename in os.listdir(source_dir):\n",
    "    # JSON 파일만 선택\n",
    "    if filename.endswith('.json'):\n",
    "        source_path = os.path.join(source_dir, filename)\n",
    "        destination_path = os.path.join(destination_dir, filename)\n",
    "        \n",
    "        # 파일 복사. 대상 경로에 파일이 이미 존재하면 덮어쓰기\n",
    "        shutil.copy2(source_path, destination_path)\n",
    "        print(f\"'{source_path}' -> '{destination_path}' (파일 덮어쓰기 완료)\")\n",
    "\n",
    "print(\"모든 JSON 파일 복사가 완료되었습니다.\")"
   ]
  },
  {
   "cell_type": "code",
   "execution_count": null,
   "id": "ff6fd8ff",
   "metadata": {},
   "outputs": [],
   "source": [
    "# # print_object_attributes(all_scenarios[0])\n",
    "# scenario = all_scenarios[0]"
   ]
  },
  {
   "cell_type": "code",
   "execution_count": null,
   "id": "e7411b67",
   "metadata": {},
   "outputs": [],
   "source": [
    "# scenario.feature_importance_logistic_regression.read().head()"
   ]
  },
  {
   "cell_type": "code",
   "execution_count": null,
   "id": "090a089b",
   "metadata": {},
   "outputs": [],
   "source": [
    "# model = \"logistic_regression\"\n",
    "# eval(\"scenario.threshold_\"+model+\".id\")"
   ]
  },
  {
   "cell_type": "code",
   "execution_count": null,
   "id": "788f43d4",
   "metadata": {},
   "outputs": [],
   "source": [
    "# ftpn_list = []\n",
    "\n",
    "# metrics = eval(\"scenario.metrics_\"+model+\".read()\")"
   ]
  },
  {
   "cell_type": "code",
   "execution_count": null,
   "id": "ad386ddc",
   "metadata": {},
   "outputs": [],
   "source": [
    "# feature_selection_info = scenario.feature_selection_info.id"
   ]
  },
  {
   "cell_type": "code",
   "execution_count": null,
   "id": "01a86892",
   "metadata": {},
   "outputs": [],
   "source": [
    "# feature_selection_info_id = scenario.feature_selection_info.id\n",
    "# threshold_baseline_id = scenario.threshold_baseline.id\n",
    "# train_parameters_info_id = scenario.train_parameters_info.id\n"
   ]
  },
  {
   "cell_type": "code",
   "execution_count": null,
   "id": "35d33050",
   "metadata": {},
   "outputs": [],
   "source": [
    "# DATANODE_metrics_attr = print_object_attributes(DATANODE_metrics)"
   ]
  },
  {
   "cell_type": "code",
   "execution_count": null,
   "id": "e98b9e7e",
   "metadata": {},
   "outputs": [],
   "source": [
    "# all_scenarios[0].id"
   ]
  },
  {
   "cell_type": "code",
   "execution_count": null,
   "id": "cdc9f850",
   "metadata": {},
   "outputs": [],
   "source": [
    "# all_jobs = tp.get_jobs()\n",
    "\n",
    "# # print_object_attributes(all_jobs[0])\n",
    "# for job in all_jobs : \n",
    "#     print(f\"Job ID: {job.id}, Status: {job.status}\")"
   ]
  },
  {
   "cell_type": "code",
   "execution_count": null,
   "id": "287eb185",
   "metadata": {},
   "outputs": [],
   "source": [
    "# all_jobs_status = [(job.id, job.status) for job in all_jobs]"
   ]
  },
  {
   "cell_type": "code",
   "execution_count": null,
   "id": "40831be2",
   "metadata": {},
   "outputs": [],
   "source": [
    "# all_jobs_status"
   ]
  },
  {
   "cell_type": "code",
   "execution_count": null,
   "id": "5cfaa955",
   "metadata": {},
   "outputs": [],
   "source": [
    "# scenarios = tp.get_entities_by_config_id(tp.get_scenarios()[0])\n",
    "# print(scenarios)\n",
    "# scenario = scenarios[0]"
   ]
  },
  {
   "cell_type": "code",
   "execution_count": null,
   "id": "c3074b08",
   "metadata": {},
   "outputs": [],
   "source": [
    "# print_object_attributes(scenario)"
   ]
  },
  {
   "cell_type": "code",
   "execution_count": null,
   "id": "9c99897e",
   "metadata": {},
   "outputs": [],
   "source": [
    "# print(scenario.get_inputs())\n",
    "# print(scenario.get_outputs())"
   ]
  },
  {
   "cell_type": "code",
   "execution_count": null,
   "id": "385cfded",
   "metadata": {},
   "outputs": [],
   "source": [
    "# input_nodes = scenario.get_inputs()\n",
    "# output_nodes = scenario.get_outputs()"
   ]
  },
  {
   "cell_type": "code",
   "execution_count": null,
   "id": "6a8270ee",
   "metadata": {},
   "outputs": [],
   "source": [
    "# input_node_1 = list(input_nodes)[0]\n",
    "# output_node_1 = list(output_nodes)[0]\n",
    "# # output_node_1 = list(output_node_1)[0].read()\n"
   ]
  },
  {
   "cell_type": "code",
   "execution_count": null,
   "id": "58dd575d",
   "metadata": {},
   "outputs": [],
   "source": [
    "# list(output_nodes)[0]\n",
    "# print_object_attributes(list(output_nodes)[0])"
   ]
  },
  {
   "cell_type": "code",
   "execution_count": null,
   "id": "c014629e",
   "metadata": {},
   "outputs": [],
   "source": [
    "# for o_n in list(output_nodes):\n",
    "#     # print(o_n._config_id )\n",
    "#     if o_n._config_id.startswith('results_'): \n",
    "#         print(o_n._config_id)\n",
    "\n",
    "# # o_n_1.read()"
   ]
  },
  {
   "cell_type": "code",
   "execution_count": null,
   "id": "778c275d",
   "metadata": {},
   "outputs": [],
   "source": [
    "# print_object_attributes(output_node_1)"
   ]
  },
  {
   "cell_type": "code",
   "execution_count": null,
   "id": "11c619cb",
   "metadata": {},
   "outputs": [],
   "source": [
    "# models = {\n",
    "#     \"baseline\": train_model_baseline,\n",
    "#     \"logistic_regression\": train_model_logistic_regression,\n",
    "#     \"random_forest\": train_model_rf_cv,\n",
    "#     \"xgboost\": train_model_xgboost_cv,\n",
    "#     # \"tree\": train_model_decision_tree,\n",
    "# }"
   ]
  },
  {
   "cell_type": "code",
   "execution_count": null,
   "id": "7d1435ca",
   "metadata": {},
   "outputs": [],
   "source": [
    "# train_parameters_default_list = {}\n",
    "\n",
    "# for model_name in models:\n",
    "#     # print(models[model_name].__name__)\n",
    "#     function_name = models[model_name].__name__\n",
    "#     train_parameters = get_train_parameters_default(function_name)\n",
    "#     train_parameters_default_list[function_name] = train_parameters\n"
   ]
  },
  {
   "cell_type": "code",
   "execution_count": null,
   "id": "19b90aa6",
   "metadata": {},
   "outputs": [],
   "source": [
    "# train_parameters_default_list.get(\"train_model_baseline\")"
   ]
  },
  {
   "cell_type": "code",
   "execution_count": null,
   "id": "10b16642",
   "metadata": {},
   "outputs": [],
   "source": []
  },
  {
   "cell_type": "code",
   "execution_count": null,
   "id": "e0addfdc",
   "metadata": {},
   "outputs": [],
   "source": []
  },
  {
   "cell_type": "code",
   "execution_count": null,
   "id": "8a001295",
   "metadata": {},
   "outputs": [],
   "source": []
  },
  {
   "cell_type": "code",
   "execution_count": null,
   "id": "7b08fc25",
   "metadata": {},
   "outputs": [],
   "source": []
  },
  {
   "cell_type": "code",
   "execution_count": null,
   "id": "c868cf0f",
   "metadata": {},
   "outputs": [],
   "source": []
  },
  {
   "cell_type": "code",
   "execution_count": null,
   "id": "a660c223",
   "metadata": {},
   "outputs": [],
   "source": []
  },
  {
   "cell_type": "code",
   "execution_count": null,
   "id": "b238ee15",
   "metadata": {},
   "outputs": [],
   "source": []
  },
  {
   "cell_type": "code",
   "execution_count": null,
   "id": "23a2e646",
   "metadata": {},
   "outputs": [],
   "source": []
  },
  {
   "cell_type": "code",
   "execution_count": null,
   "id": "e0f00fff",
   "metadata": {},
   "outputs": [],
   "source": []
  },
  {
   "cell_type": "code",
   "execution_count": null,
   "id": "2977a86d",
   "metadata": {},
   "outputs": [],
   "source": []
  },
  {
   "cell_type": "code",
   "execution_count": null,
   "id": "ceb6053d",
   "metadata": {},
   "outputs": [],
   "source": []
  },
  {
   "cell_type": "code",
   "execution_count": null,
   "id": "a028037a",
   "metadata": {},
   "outputs": [],
   "source": []
  },
  {
   "cell_type": "code",
   "execution_count": null,
   "id": "a4bd142f",
   "metadata": {},
   "outputs": [],
   "source": []
  },
  {
   "cell_type": "code",
   "execution_count": null,
   "id": "0d4cb918",
   "metadata": {},
   "outputs": [],
   "source": []
  },
  {
   "cell_type": "code",
   "execution_count": null,
   "id": "d7302258",
   "metadata": {},
   "outputs": [],
   "source": []
  },
  {
   "cell_type": "code",
   "execution_count": null,
   "id": "02dc6541",
   "metadata": {},
   "outputs": [],
   "source": []
  },
  {
   "cell_type": "code",
   "execution_count": null,
   "id": "89e03ddf",
   "metadata": {},
   "outputs": [],
   "source": []
  },
  {
   "cell_type": "code",
   "execution_count": null,
   "id": "c4a70a1e",
   "metadata": {},
   "outputs": [],
   "source": []
  },
  {
   "cell_type": "code",
   "execution_count": null,
   "id": "74f5984d",
   "metadata": {},
   "outputs": [],
   "source": []
  },
  {
   "cell_type": "code",
   "execution_count": null,
   "id": "6991d54c",
   "metadata": {},
   "outputs": [],
   "source": []
  },
  {
   "cell_type": "code",
   "execution_count": null,
   "id": "c259dce6",
   "metadata": {},
   "outputs": [],
   "source": []
  },
  {
   "cell_type": "code",
   "execution_count": null,
   "id": "00e6772f",
   "metadata": {},
   "outputs": [],
   "source": []
  },
  {
   "cell_type": "code",
   "execution_count": null,
   "id": "ea4e2abd",
   "metadata": {},
   "outputs": [],
   "source": []
  },
  {
   "cell_type": "code",
   "execution_count": null,
   "id": "02c8447e",
   "metadata": {},
   "outputs": [],
   "source": []
  },
  {
   "cell_type": "code",
   "execution_count": null,
   "id": "84f21938",
   "metadata": {},
   "outputs": [],
   "source": []
  },
  {
   "cell_type": "code",
   "execution_count": null,
   "id": "3d73d66e",
   "metadata": {},
   "outputs": [],
   "source": []
  },
  {
   "cell_type": "code",
   "execution_count": null,
   "id": "b988628d",
   "metadata": {},
   "outputs": [],
   "source": []
  },
  {
   "cell_type": "code",
   "execution_count": null,
   "id": "e7d12cad",
   "metadata": {},
   "outputs": [],
   "source": []
  },
  {
   "cell_type": "code",
   "execution_count": null,
   "id": "9c0cf317",
   "metadata": {},
   "outputs": [],
   "source": []
  },
  {
   "cell_type": "code",
   "execution_count": null,
   "id": "789fd2e6",
   "metadata": {},
   "outputs": [],
   "source": []
  },
  {
   "cell_type": "code",
   "execution_count": null,
   "id": "e204dec4",
   "metadata": {},
   "outputs": [],
   "source": []
  },
  {
   "cell_type": "code",
   "execution_count": null,
   "id": "fa0c83e7",
   "metadata": {},
   "outputs": [],
   "source": []
  },
  {
   "cell_type": "code",
   "execution_count": null,
   "id": "379f57d6",
   "metadata": {},
   "outputs": [],
   "source": []
  },
  {
   "cell_type": "code",
   "execution_count": null,
   "id": "8b0f84a6",
   "metadata": {},
   "outputs": [],
   "source": []
  },
  {
   "cell_type": "code",
   "execution_count": null,
   "id": "59bec70b",
   "metadata": {},
   "outputs": [],
   "source": []
  },
  {
   "cell_type": "code",
   "execution_count": null,
   "id": "84902016",
   "metadata": {},
   "outputs": [],
   "source": []
  },
  {
   "cell_type": "code",
   "execution_count": null,
   "id": "34602716",
   "metadata": {},
   "outputs": [],
   "source": []
  },
  {
   "cell_type": "code",
   "execution_count": null,
   "id": "8bcfdb0a",
   "metadata": {},
   "outputs": [],
   "source": []
  },
  {
   "cell_type": "code",
   "execution_count": null,
   "id": "452a21d2",
   "metadata": {},
   "outputs": [],
   "source": []
  },
  {
   "cell_type": "code",
   "execution_count": null,
   "id": "692c61e5",
   "metadata": {},
   "outputs": [],
   "source": []
  },
  {
   "cell_type": "code",
   "execution_count": null,
   "id": "c3f171fa",
   "metadata": {},
   "outputs": [],
   "source": []
  },
  {
   "cell_type": "code",
   "execution_count": null,
   "id": "96ab5786",
   "metadata": {},
   "outputs": [],
   "source": []
  },
  {
   "cell_type": "code",
   "execution_count": null,
   "id": "7cb54714",
   "metadata": {},
   "outputs": [],
   "source": []
  },
  {
   "cell_type": "code",
   "execution_count": null,
   "id": "178d170e",
   "metadata": {},
   "outputs": [],
   "source": []
  },
  {
   "cell_type": "code",
   "execution_count": null,
   "id": "dfaa2b43",
   "metadata": {},
   "outputs": [],
   "source": []
  },
  {
   "cell_type": "code",
   "execution_count": null,
   "id": "92d58651",
   "metadata": {},
   "outputs": [],
   "source": []
  },
  {
   "cell_type": "code",
   "execution_count": null,
   "id": "ee624589",
   "metadata": {},
   "outputs": [],
   "source": []
  },
  {
   "cell_type": "code",
   "execution_count": null,
   "id": "a0645ebe",
   "metadata": {},
   "outputs": [],
   "source": []
  },
  {
   "cell_type": "code",
   "execution_count": null,
   "id": "ffc25aca",
   "metadata": {},
   "outputs": [],
   "source": []
  },
  {
   "cell_type": "code",
   "execution_count": null,
   "id": "958e2c09",
   "metadata": {},
   "outputs": [],
   "source": []
  },
  {
   "cell_type": "code",
   "execution_count": null,
   "id": "0a61dc4f",
   "metadata": {},
   "outputs": [],
   "source": []
  },
  {
   "cell_type": "code",
   "execution_count": null,
   "id": "2f8c8a6e",
   "metadata": {},
   "outputs": [],
   "source": []
  },
  {
   "cell_type": "code",
   "execution_count": null,
   "id": "3c4ee6b0",
   "metadata": {},
   "outputs": [],
   "source": []
  },
  {
   "cell_type": "code",
   "execution_count": null,
   "id": "a2586f1b",
   "metadata": {},
   "outputs": [],
   "source": []
  },
  {
   "cell_type": "code",
   "execution_count": null,
   "id": "0a61346d",
   "metadata": {},
   "outputs": [],
   "source": []
  }
 ],
 "metadata": {
  "kernelspec": {
   "display_name": ".venv",
   "language": "python",
   "name": "python3"
  },
  "language_info": {
   "codemirror_mode": {
    "name": "ipython",
    "version": 3
   },
   "file_extension": ".py",
   "mimetype": "text/x-python",
   "name": "python",
   "nbconvert_exporter": "python",
   "pygments_lexer": "ipython3",
   "version": "3.12.7"
  }
 },
 "nbformat": 4,
 "nbformat_minor": 5
}
