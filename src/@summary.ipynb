{
 "cells": [
  {
   "cell_type": "code",
   "execution_count": 43,
   "id": "0df38806",
   "metadata": {},
   "outputs": [],
   "source": [
    "# 데이터 처리 및 기타 작업을 위한 라이브러리들을 불러옵니다.\n",
    "import pandas as pd                                         # 데이터프레임 구조를 다루는 데 필수적인 라이브러리\n",
    "import numpy as np                                          # 숫자 연산을 위한 라이브러리\n",
    "import datetime as dt                                       # 날짜와 시간을 다루는 라이브러리\n",
    "import json                                                 # JSON 형식의 데이터를 처리하는 라이브러리\n",
    "\n",
    "import taipy as tp\n",
    "from taipy import Config, Orchestrator, Gui"
   ]
  },
  {
   "cell_type": "code",
   "execution_count": 44,
   "id": "fd50c75c",
   "metadata": {},
   "outputs": [
    {
     "data": {
      "text/plain": [
       "[churn_classification]"
      ]
     },
     "execution_count": 44,
     "metadata": {},
     "output_type": "execute_result"
    }
   ],
   "source": [
    "tp.get_scenarios()"
   ]
  },
  {
   "cell_type": "code",
   "execution_count": 45,
   "id": "b0b39e6b",
   "metadata": {},
   "outputs": [],
   "source": [
    "from algos.algos import *"
   ]
  },
  {
   "cell_type": "code",
   "execution_count": 46,
   "id": "e65a74f1",
   "metadata": {},
   "outputs": [],
   "source": [
    "# from config.config import scenario_cfg\n",
    "# scenario_1 = tp.create_scenario(scenario_cfg)\n",
    "# print_object_attributes(scenario_cfg)"
   ]
  },
  {
   "cell_type": "code",
   "execution_count": 47,
   "id": "675f0f82",
   "metadata": {},
   "outputs": [],
   "source": [
    "# print_object_attributes(scenario)"
   ]
  },
  {
   "cell_type": "code",
   "execution_count": 48,
   "id": "8fe5b060",
   "metadata": {},
   "outputs": [
    {
     "name": "stdout",
     "output_type": "stream",
     "text": [
      "Scenario ID: SCENARIO_churn_classification_b22e88bd-1cfd-4f7c-b3b6-f16218a70acf\n"
     ]
    }
   ],
   "source": [
    "all_scenarios = tp.get_scenarios()\n",
    "# print_object_attributes(all_scenarios[0])\n",
    "\n",
    "for scenario in all_scenarios:\n",
    "    print(f\"Scenario ID: {scenario.id}\")\n",
    "    "
   ]
  },
  {
   "cell_type": "code",
   "execution_count": 49,
   "id": "ea15a3b3",
   "metadata": {},
   "outputs": [
    {
     "data": {
      "text/plain": [
       "'churn_classification'"
      ]
     },
     "execution_count": 49,
     "metadata": {},
     "output_type": "execute_result"
    }
   ],
   "source": [
    "all_scenarios[0]._get_config_id()"
   ]
  },
  {
   "cell_type": "code",
   "execution_count": 50,
   "id": "cde30049",
   "metadata": {},
   "outputs": [],
   "source": [
    "# all_scenarios[0].preprocessed_dataset.read().head()"
   ]
  },
  {
   "cell_type": "code",
   "execution_count": 51,
   "id": "d8561485",
   "metadata": {},
   "outputs": [],
   "source": [
    "# model = \"xgboost\"\n",
    "# tp_exp = \"scenario.metrics_\"+model+\".read()\"\n",
    "# metrics_xgboost = eval(tp_exp)\n",
    "# metrics_xgboost"
   ]
  },
  {
   "cell_type": "code",
   "execution_count": 52,
   "id": "a837c429",
   "metadata": {},
   "outputs": [],
   "source": [
    "# scenario = all_scenarios[0]\n",
    "\n",
    "# # for task in scenario.tasks:\n",
    "\n",
    "# models = {}\n",
    "# for task_name in scenario.tasks:\n",
    "#     if \"train_model\" in task_name:\n",
    "#         model = task_name.split(\"train_model_\")[1]\n",
    "#         # print(\"model :\", model_name)\n",
    "\n",
    "#         # print(\"task :\", task_name)\n",
    "#         task = eval(\"scenario.\" + task_name)\n",
    "#         model_function_name = task.function.__name__\n",
    "#         # print(\"model function :\", model_function_name)\n",
    "                        \n",
    "#         models[model] = {\n",
    "#             \"function\": model_function_name\n",
    "#         }\n",
    "\n",
    "\n",
    "# pprint.pprint(models)"
   ]
  },
  {
   "cell_type": "code",
   "execution_count": 53,
   "id": "45afc871",
   "metadata": {},
   "outputs": [],
   "source": [
    "# models = {\n",
    "#     \"baseline\",\n",
    "#     \"logistic_regression\",\n",
    "#     \"random_forest\",\n",
    "#     \"xgboost\",\n",
    "#     # \"tree\": train_model_decision_tree,\n",
    "# }\n",
    "\n",
    "# ftpn_df = pd.DataFrame()\n",
    "\n",
    "# for scenario in all_scenarios:\n",
    "#     for model in models:\n",
    "#         metrics = eval(\"scenario.metrics_\" + model + \".read()\")\n",
    "#         dict_ftpn = metrics[\"dict_ftpn\"]\n",
    "        \n",
    "#         # 새로운 행을 딕셔너리로 만듭니다.\n",
    "#         # 기존 dict_ftpn에 추가 정보를 더합니다.\n",
    "#         new_row = {\n",
    "#             'scenario_version': scenario._version,\n",
    "#             'scenario_name': scenario._config_id,\n",
    "#             'scenario_id': scenario.id,\n",
    "#             'metrics_model_id': eval(\"scenario.metrics_\" + model + \".id\"),\n",
    "#             'model_name': model,\n",
    "#             'fn': dict_ftpn.get('fn'),\n",
    "#             'fp': dict_ftpn.get('fp'),\n",
    "#             'tn': dict_ftpn.get('tn'),\n",
    "#             'tp': dict_ftpn.get('tp'),\n",
    "#             'preprocess_dataset_id': scenario.preprocess_dataset.id,\n",
    "#             'create_train_test.split_parameter_info_id': scenario.split_parameter_info.id,\n",
    "#             'create_train_test.train_dataset_cfg_id': scenario.train_dataset_cfg.id,\n",
    "#             'create_train_test.test_dataset_cfg_id': scenario.test_dataset_cfg.id,\n",
    "#             'feature_selection_info_id': scenario.feature_selection_info.id,\n",
    "#             'train_parameters_model_id': eval(\"scenario.train_parameters_\" + model + \".id\"),\n",
    "#             'train_trained_model_id': eval(\"scenario.trained_model_\" + model + \".id\"),\n",
    "#             'train_feature_importance_model_id': eval(\"scenario.feature_importance_\" + model + \".id\"),\n",
    "#             'train_parameters_model_info_id': eval(\"scenario.train_parameters_info_\" + model + \".id\"),\n",
    "#             'train_dataset_proba_model_id': eval(\"scenario.train_dataset_proba_\" + model + \".id\"),\n",
    "#             'threshold_model_id': eval(\"scenario.threshold_\" + model + \".id\"),\n",
    "#             'train_dataset_metrics_model_id': eval(\"scenario.train_dataset_metrics_\" + model + \".id\"),\n",
    "#             'forecast_dataset_model_id': eval(\"scenario.forecast_dataset_\" + model + \".id\"),\n",
    "#             'shap_values_model_id': eval(\"scenario.shap_values_\" + model + \".id\"),\n",
    "#             'roc_data_model_id': eval(\"scenario.roc_data_\" + model + \".id\"),\n",
    "#             'auc_score_model_id': eval(\"scenario.auc_score_\" + model + \".id\"),\n",
    "#             'metrics_model_id': eval(\"scenario.metrics_\" + model + \".id\"),\n",
    "#             'metrics_results_model_id': eval(\"scenario.results_\" + model + \".id\")\n",
    "#         }\n",
    "\n",
    "#         # ftpn_df에 새로운 행을 추가합니다.\n",
    "#         # pandas.concat을 사용해 행을 추가하는 것이 일반적으로 append보다 효율적입니다.\n",
    "#         ftpn_df = pd.concat([ftpn_df, pd.DataFrame([new_row])], ignore_index=True)\n",
    "\n",
    "# # 'fn', 'fp', 'tn', 'tp' 컬럼을 가장 앞으로 이동시키기\n",
    "# # 루프 이후에 한 번만 처리합니다.\n",
    "# target_cols = ['fn', 'fp', 'tn', 'tp', 'model']\n",
    "# other_cols = [col for col in ftpn_df.columns if col not in target_cols]\n",
    "# ftpn_df = ftpn_df[target_cols + other_cols]\n",
    "\n",
    "# # 결과 확인\n",
    "# # print(ftpn_df.head())"
   ]
  },
  {
   "cell_type": "code",
   "execution_count": null,
   "id": "928eebbb",
   "metadata": {},
   "outputs": [],
   "source": [
    "ftpn_df = pd.DataFrame()\n",
    "\n",
    "for scenario in all_scenarios:\n",
    "    for task_name in scenario.tasks:\n",
    "        if \"train_model\" in task_name:\n",
    "            model = task_name.split(\"train_model_\")[1]\n",
    "            task = eval(\"scenario.\" + task_name)\n",
    "            model_function_name = task.function.__name__\n",
    "            \n",
    "            metrics = eval(\"scenario.metrics_\" + model + \".read()\")\n",
    "            dict_ftpn = metrics[\"dict_ftpn\"]\n",
    "            \n",
    "            # 새로운 행을 딕셔너리로 만듭니다.\n",
    "            # 기존 dict_ftpn에 추가 정보를 더합니다.\n",
    "            new_row = {\n",
    "                'scenario_version': scenario._version,\n",
    "                'scenario_creation_date': scenario._creation_date,\n",
    "                'scenario_name': scenario._config_id,\n",
    "                'scenario_id': scenario.id,\n",
    "                'metrics_model_id': eval(\"scenario.metrics_\" + model + \".id\"),\n",
    "                'model_name': model,\n",
    "                'model_function': model_function_name,\n",
    "                'fn': dict_ftpn.get('fn'),\n",
    "                'fp': dict_ftpn.get('fp'),\n",
    "                'tn': dict_ftpn.get('tn'),\n",
    "                'tp': dict_ftpn.get('tp'),\n",
    "                'preprocess_dataset_id': scenario.preprocess_dataset.id,\n",
    "                'create_train_test.split_parameter_info_id': scenario.split_parameter_info.id,\n",
    "                'create_train_test.train_dataset_id': scenario.train_dataset.id,\n",
    "                'create_train_test.test_dataset_id': scenario.test_dataset.id,\n",
    "                'select_feature.feature_selection_info_id': scenario.feature_selection_info.id,\n",
    "                'train_model.train_parameters_model_id': eval(\"scenario.train_parameters_\" + model + \".id\"),\n",
    "                'train_model.train_trained_model_id': eval(\"scenario.trained_model_\" + model + \".id\"),\n",
    "                'train_model.train_feature_importance_model_id': eval(\"scenario.feature_importance_\" + model + \".id\"),\n",
    "                'train_model.train_parameters_model_info_id': eval(\"scenario.train_parameters_info_\" + model + \".id\"),\n",
    "                'find_best_threshold.train_dataset_proba_model_id': eval(\"scenario.train_dataset_proba_\" + model + \".id\"),\n",
    "                'find_best_threshold.threshold_model_id': eval(\"scenario.threshold_\" + model + \".id\"),\n",
    "                'create_metrics_on_train.train_dataset_metrics_model_id': eval(\"scenario.train_dataset_metrics_\" + model + \".id\"),\n",
    "                'forecast.forecast_dataset_model_id': eval(\"scenario.forecast_dataset_\" + model + \".id\"),\n",
    "                'forecast.shap_values_model_id': eval(\"scenario.shap_values_\" + model + \".id\"),\n",
    "                'roc.roc_data_model_id': eval(\"scenario.roc_data_\" + model + \".id\"),\n",
    "                'roc.auc_score_model_id': eval(\"scenario.auc_score_\" + model + \".id\"),\n",
    "                'create_metrics.metrics_model_id': eval(\"scenario.metrics_\" + model + \".id\"),\n",
    "                'create_results.metrics_results_model_id': eval(\"scenario.results_\" + model + \".id\")\n",
    "            }\n",
    "\n",
    "            # ftpn_df에 새로운 행을 추가합니다.\n",
    "            # pandas.concat을 사용해 행을 추가하는 것이 일반적으로 append보다 효율적입니다.\n",
    "            ftpn_df = pd.concat([ftpn_df, pd.DataFrame([new_row])], ignore_index=True)\n",
    "\n",
    "# # 'fn', 'fp', 'tn', 'tp' 컬럼을 가장 앞으로 이동시키기\n",
    "# # 루프 이후에 한 번만 처리합니다.\n",
    "target_cols = ['fn', 'fp', 'tn', 'tp', 'model_name', 'model_function']\n",
    "other_cols = [col for col in ftpn_df.columns if col not in target_cols]\n",
    "ftpn_df = ftpn_df[target_cols + other_cols]\n",
    "\n",
    "# 결과 확인\n",
    "# print(ftpn_df.head())"
   ]
  },
  {
   "cell_type": "code",
   "execution_count": 55,
   "id": "e5aa49a6",
   "metadata": {},
   "outputs": [
    {
     "data": {
      "application/vnd.microsoft.datawrangler.viewer.v0+json": {
       "columns": [
        {
         "name": "index",
         "rawType": "int64",
         "type": "integer"
        },
        {
         "name": "fn",
         "rawType": "int64",
         "type": "integer"
        },
        {
         "name": "fp",
         "rawType": "int64",
         "type": "integer"
        },
        {
         "name": "tn",
         "rawType": "int64",
         "type": "integer"
        },
        {
         "name": "tp",
         "rawType": "int64",
         "type": "integer"
        },
        {
         "name": "model_name",
         "rawType": "object",
         "type": "string"
        },
        {
         "name": "model_function",
         "rawType": "object",
         "type": "string"
        },
        {
         "name": "scenario_version",
         "rawType": "object",
         "type": "string"
        },
        {
         "name": "scenario_creation_date",
         "rawType": "datetime64[ns]",
         "type": "datetime"
        },
        {
         "name": "scenario_name",
         "rawType": "object",
         "type": "string"
        },
        {
         "name": "scenario_id",
         "rawType": "object",
         "type": "string"
        },
        {
         "name": "metrics_model_id",
         "rawType": "object",
         "type": "string"
        },
        {
         "name": "preprocess_dataset_id",
         "rawType": "object",
         "type": "string"
        },
        {
         "name": "create_train_test.split_parameter_info_id",
         "rawType": "object",
         "type": "string"
        },
        {
         "name": "create_train_test.train_dataset_id",
         "rawType": "object",
         "type": "string"
        },
        {
         "name": "create_train_test.test_dataset_id",
         "rawType": "object",
         "type": "string"
        },
        {
         "name": "select_feature.feature_selection_info_id",
         "rawType": "object",
         "type": "string"
        },
        {
         "name": "train_model.train_parameters_model_id",
         "rawType": "object",
         "type": "string"
        },
        {
         "name": "train_model.train_trained_model_id",
         "rawType": "object",
         "type": "string"
        },
        {
         "name": "train_model.train_feature_importance_model_id",
         "rawType": "object",
         "type": "string"
        },
        {
         "name": "train_model.train_parameters_model_info_id",
         "rawType": "object",
         "type": "string"
        },
        {
         "name": "find_best_threshold.train_dataset_proba_model_id",
         "rawType": "object",
         "type": "string"
        },
        {
         "name": "find_best_threshold.threshold_model_id",
         "rawType": "object",
         "type": "string"
        },
        {
         "name": "create_metrics_on_train.train_dataset_metrics_model_id",
         "rawType": "object",
         "type": "string"
        },
        {
         "name": "forecast.forecast_dataset_model_id",
         "rawType": "object",
         "type": "string"
        },
        {
         "name": "forecast.shap_values_model_id",
         "rawType": "object",
         "type": "string"
        },
        {
         "name": "roc.roc_data_model_id",
         "rawType": "object",
         "type": "string"
        },
        {
         "name": "roc.auc_score_model_id",
         "rawType": "object",
         "type": "string"
        },
        {
         "name": "create_metrics.metrics_model_id",
         "rawType": "object",
         "type": "string"
        },
        {
         "name": "create_results.metrics_results_model_id",
         "rawType": "object",
         "type": "string"
        }
       ],
       "ref": "c5588abc-8d15-4f93-aaf8-f9210504aadf",
       "rows": [
        [
         "0",
         "16",
         "57",
         "830",
         "2",
         "xgboost_optuna",
         "train_model_xgboost_optuna",
         "5595b4fb-8dd0-4fbc-9fb0-42a631d5d838",
         "2025-08-21 12:16:25.506177",
         "churn_classification",
         "SCENARIO_churn_classification_b22e88bd-1cfd-4f7c-b3b6-f16218a70acf",
         "DATANODE_metrics_xgboost_optuna_e3746b9e-01e9-4512-ad6e-c587a3e087f9",
         "TASK_preprocess_dataset_3f07fa05-1aa1-415b-aa8c-70e7957f4984",
         "DATANODE_split_parameter_info_e0396165-9950-4f25-9c62-b1eb5ac108d1",
         "DATANODE_train_dataset_786bb8b9-e8f3-44bd-820f-8399abe8adf3",
         "DATANODE_test_dataset_8c4ebedb-d64a-4bac-903c-2a7f7ab39d05",
         "DATANODE_feature_selection_info_4fe5ab8e-1d1b-484c-8637-44f9b23c2768",
         "DATANODE_train_parameters_xgboost_optuna_b41b113d-39d8-40eb-8539-ad7e3eb8f455",
         "DATANODE_trained_model_xgboost_optuna_ef88bd20-ee89-4e34-85fb-d6eb2486c371",
         "DATANODE_feature_importance_xgboost_optuna_c07aa3e0-e312-43ab-9f2f-60fb1196d722",
         "DATANODE_train_parameters_info_xgboost_optuna_f3d6ea71-7903-48b8-bf67-fc52234bae26",
         "DATANODE_train_dataset_proba_xgboost_optuna_230e6874-6865-455e-b4bd-355d307304cc",
         "DATANODE_threshold_xgboost_optuna_60fb4953-ef36-45ee-a27e-cc19b831f4ce",
         "DATANODE_train_dataset_metrics_xgboost_optuna_d0426a47-0f29-4035-8a71-edce4c4c177b",
         "DATANODE_forecast_dataset_xgboost_optuna_748fadeb-7ba5-409e-aab0-bd8a01bafb6b",
         "DATANODE_shap_values_xgboost_optuna_8a2b2d7e-387b-4295-8b5b-ff279de70eda",
         "DATANODE_roc_data_xgboost_optuna_2e9badc1-b916-4e0c-b95f-2defb5009ae8",
         "DATANODE_auc_score_xgboost_optuna_a0e437a6-60ee-4519-ae2b-776fead73fd9",
         "DATANODE_metrics_xgboost_optuna_e3746b9e-01e9-4512-ad6e-c587a3e087f9",
         "DATANODE_results_xgboost_optuna_8ae7b4e7-fee1-4986-b3da-e69be75232e4"
        ],
        [
         "1",
         "6",
         "284",
         "603",
         "12",
         "rf_cv",
         "train_model_rf_cv",
         "5595b4fb-8dd0-4fbc-9fb0-42a631d5d838",
         "2025-08-21 12:16:25.506177",
         "churn_classification",
         "SCENARIO_churn_classification_b22e88bd-1cfd-4f7c-b3b6-f16218a70acf",
         "DATANODE_metrics_rf_cv_0255395e-f90c-4f2b-9332-b7293d164cd3",
         "TASK_preprocess_dataset_3f07fa05-1aa1-415b-aa8c-70e7957f4984",
         "DATANODE_split_parameter_info_e0396165-9950-4f25-9c62-b1eb5ac108d1",
         "DATANODE_train_dataset_786bb8b9-e8f3-44bd-820f-8399abe8adf3",
         "DATANODE_test_dataset_8c4ebedb-d64a-4bac-903c-2a7f7ab39d05",
         "DATANODE_feature_selection_info_4fe5ab8e-1d1b-484c-8637-44f9b23c2768",
         "DATANODE_train_parameters_rf_cv_1bcc6ce2-d7f5-4870-ade0-874f45bdb00f",
         "DATANODE_trained_model_rf_cv_90a1ac7a-e8d7-4901-b14f-f284793cb551",
         "DATANODE_feature_importance_rf_cv_4df91a5c-04b8-4f30-805e-236e9ba65352",
         "DATANODE_train_parameters_info_rf_cv_cad188dd-b37a-4145-8bcb-d9fb02245ef9",
         "DATANODE_train_dataset_proba_rf_cv_ecc806f1-9c4c-45b4-a654-4d34031fe634",
         "DATANODE_threshold_rf_cv_9747e716-9ef0-4964-a18d-4bdebca62494",
         "DATANODE_train_dataset_metrics_rf_cv_85e794b2-96a8-4abe-804d-36e0a4e920a4",
         "DATANODE_forecast_dataset_rf_cv_d7f439ac-dc37-40ca-8d42-34f7061edcbd",
         "DATANODE_shap_values_rf_cv_88f445a7-7960-456a-87d6-bb18f97e0ef3",
         "DATANODE_roc_data_rf_cv_eae1bb21-ba14-47a7-a2e5-86e9ad5b34c1",
         "DATANODE_auc_score_rf_cv_569ee0cf-cfdc-4b62-b046-e2ff77c3872c",
         "DATANODE_metrics_rf_cv_0255395e-f90c-4f2b-9332-b7293d164cd3",
         "DATANODE_results_rf_cv_688423e0-6627-444f-8082-7da7905efa87"
        ],
        [
         "2",
         "8",
         "489",
         "398",
         "10",
         "baseline",
         "train_model_baseline",
         "5595b4fb-8dd0-4fbc-9fb0-42a631d5d838",
         "2025-08-21 12:16:25.506177",
         "churn_classification",
         "SCENARIO_churn_classification_b22e88bd-1cfd-4f7c-b3b6-f16218a70acf",
         "DATANODE_metrics_baseline_b4e3ef08-24a6-4523-9566-69f6eb348b3d",
         "TASK_preprocess_dataset_3f07fa05-1aa1-415b-aa8c-70e7957f4984",
         "DATANODE_split_parameter_info_e0396165-9950-4f25-9c62-b1eb5ac108d1",
         "DATANODE_train_dataset_786bb8b9-e8f3-44bd-820f-8399abe8adf3",
         "DATANODE_test_dataset_8c4ebedb-d64a-4bac-903c-2a7f7ab39d05",
         "DATANODE_feature_selection_info_4fe5ab8e-1d1b-484c-8637-44f9b23c2768",
         "DATANODE_train_parameters_baseline_c527d054-f5de-4df5-871b-2859e0bfd5c5",
         "DATANODE_trained_model_baseline_fb7bcd24-d28e-4483-af88-b33fd4720b5e",
         "DATANODE_feature_importance_baseline_351bfaae-faf8-4315-9acb-d3e0c49987cc",
         "DATANODE_train_parameters_info_baseline_7e3e3f7a-1415-47a9-87c4-c16baab37044",
         "DATANODE_train_dataset_proba_baseline_828ee3b4-08fe-41f1-b12b-b57f729d500f",
         "DATANODE_threshold_baseline_c3cd5492-263b-45fb-9bfa-d1d48de9d688",
         "DATANODE_train_dataset_metrics_baseline_59700b2c-2ba9-45d0-9a22-b1d98d99d95c",
         "DATANODE_forecast_dataset_baseline_1582ef85-1418-40dc-b03a-667355961ddd",
         "DATANODE_shap_values_baseline_e1682e26-be44-4e7c-b200-120e1515aee4",
         "DATANODE_roc_data_baseline_2f799421-041a-4c3f-90e4-15fbbb286975",
         "DATANODE_auc_score_baseline_cdb95912-16fc-4e1e-907e-4ac917933c28",
         "DATANODE_metrics_baseline_b4e3ef08-24a6-4523-9566-69f6eb348b3d",
         "DATANODE_results_baseline_6d6002be-10ab-4088-b57f-dc6a54a7f33a"
        ],
        [
         "3",
         "14",
         "50",
         "837",
         "4",
         "rf_optuna",
         "train_model_rf_optuna",
         "5595b4fb-8dd0-4fbc-9fb0-42a631d5d838",
         "2025-08-21 12:16:25.506177",
         "churn_classification",
         "SCENARIO_churn_classification_b22e88bd-1cfd-4f7c-b3b6-f16218a70acf",
         "DATANODE_metrics_rf_optuna_53736e14-5c7b-4052-bcbc-06307a7b8678",
         "TASK_preprocess_dataset_3f07fa05-1aa1-415b-aa8c-70e7957f4984",
         "DATANODE_split_parameter_info_e0396165-9950-4f25-9c62-b1eb5ac108d1",
         "DATANODE_train_dataset_786bb8b9-e8f3-44bd-820f-8399abe8adf3",
         "DATANODE_test_dataset_8c4ebedb-d64a-4bac-903c-2a7f7ab39d05",
         "DATANODE_feature_selection_info_4fe5ab8e-1d1b-484c-8637-44f9b23c2768",
         "DATANODE_train_parameters_rf_optuna_b56a1c73-fcc5-4a2f-bc5c-f5362ea6b341",
         "DATANODE_trained_model_rf_optuna_2e328143-a00e-4d59-ba2e-1a3453e6faae",
         "DATANODE_feature_importance_rf_optuna_313d8628-7160-45d3-b826-73a62db43372",
         "DATANODE_train_parameters_info_rf_optuna_2ee3755c-ea93-46d2-bc4d-69d64276aa1d",
         "DATANODE_train_dataset_proba_rf_optuna_4b0da968-8840-49ae-a72a-3b6688e46ecc",
         "DATANODE_threshold_rf_optuna_9da21496-92dc-48a4-b1f7-0c3ae1357e78",
         "DATANODE_train_dataset_metrics_rf_optuna_aa58609d-fb34-414d-95c4-0c6a26e4f700",
         "DATANODE_forecast_dataset_rf_optuna_75e55728-c8b7-4861-a056-bc7f0fd2c500",
         "DATANODE_shap_values_rf_optuna_f2e920bf-3380-4709-a5f7-2d79defcdb82",
         "DATANODE_roc_data_rf_optuna_e53e15b5-98a2-4d5b-aa78-ffb1171ebbc3",
         "DATANODE_auc_score_rf_optuna_bf976984-cc29-45d8-99d3-56b2f69fb6d5",
         "DATANODE_metrics_rf_optuna_53736e14-5c7b-4052-bcbc-06307a7b8678",
         "DATANODE_results_rf_optuna_b0d16eda-f1c2-4122-9c12-745e32d2e8ce"
        ],
        [
         "4",
         "0",
         "722",
         "165",
         "18",
         "logistic_regression",
         "train_model_logistic_regression",
         "5595b4fb-8dd0-4fbc-9fb0-42a631d5d838",
         "2025-08-21 12:16:25.506177",
         "churn_classification",
         "SCENARIO_churn_classification_b22e88bd-1cfd-4f7c-b3b6-f16218a70acf",
         "DATANODE_metrics_logistic_regression_ddf19fea-e6ef-4cb6-b861-a49b92ff6b01",
         "TASK_preprocess_dataset_3f07fa05-1aa1-415b-aa8c-70e7957f4984",
         "DATANODE_split_parameter_info_e0396165-9950-4f25-9c62-b1eb5ac108d1",
         "DATANODE_train_dataset_786bb8b9-e8f3-44bd-820f-8399abe8adf3",
         "DATANODE_test_dataset_8c4ebedb-d64a-4bac-903c-2a7f7ab39d05",
         "DATANODE_feature_selection_info_4fe5ab8e-1d1b-484c-8637-44f9b23c2768",
         "DATANODE_train_parameters_logistic_regression_775759ca-8d0c-41aa-b7c2-8a67ff08e2e8",
         "DATANODE_trained_model_logistic_regression_5587c2eb-015c-4be8-b4e8-2325a009c0a7",
         "DATANODE_feature_importance_logistic_regression_fa798e4b-c189-411b-bdd3-5aa9255e7906",
         "DATANODE_train_parameters_info_logistic_regression_232612f0-e65d-4df1-8983-471644977606",
         "DATANODE_train_dataset_proba_logistic_regression_be6d8a7e-a7f7-46f6-87f3-156da90afb37",
         "DATANODE_threshold_logistic_regression_6a515273-6e2c-4a42-92d3-8f91df3f2d02",
         "DATANODE_train_dataset_metrics_logistic_regression_5e9e5873-c3b2-4d9d-ab25-c649bb04301e",
         "DATANODE_forecast_dataset_logistic_regression_9164232e-6c27-4394-993d-59b91fe12af6",
         "DATANODE_shap_values_logistic_regression_29b41f8c-8b07-440c-a7f4-cfdae54868aa",
         "DATANODE_roc_data_logistic_regression_87e8844b-6346-4504-8ebf-34671c33ee45",
         "DATANODE_auc_score_logistic_regression_ecea5579-0e3a-4a0e-986d-8e6d6819fc7e",
         "DATANODE_metrics_logistic_regression_ddf19fea-e6ef-4cb6-b861-a49b92ff6b01",
         "DATANODE_results_logistic_regression_1198b43a-f10e-457a-b7ad-eddcb66661df"
        ],
        [
         "5",
         "1",
         "645",
         "242",
         "17",
         "logistic_regression_cv",
         "train_model_logistic_regression_cv",
         "5595b4fb-8dd0-4fbc-9fb0-42a631d5d838",
         "2025-08-21 12:16:25.506177",
         "churn_classification",
         "SCENARIO_churn_classification_b22e88bd-1cfd-4f7c-b3b6-f16218a70acf",
         "DATANODE_metrics_logistic_regression_cv_b7fb3f36-1002-44c9-97cc-2d0437c98db5",
         "TASK_preprocess_dataset_3f07fa05-1aa1-415b-aa8c-70e7957f4984",
         "DATANODE_split_parameter_info_e0396165-9950-4f25-9c62-b1eb5ac108d1",
         "DATANODE_train_dataset_786bb8b9-e8f3-44bd-820f-8399abe8adf3",
         "DATANODE_test_dataset_8c4ebedb-d64a-4bac-903c-2a7f7ab39d05",
         "DATANODE_feature_selection_info_4fe5ab8e-1d1b-484c-8637-44f9b23c2768",
         "DATANODE_train_parameters_logistic_regression_cv_185c55fd-c80c-4da5-96a7-200e09fc141b",
         "DATANODE_trained_model_logistic_regression_cv_1292140f-5a7d-4f3e-99a9-de74b924b12a",
         "DATANODE_feature_importance_logistic_regression_cv_3feaf203-6913-402a-bbc9-50e027a9d368",
         "DATANODE_train_parameters_info_logistic_regression_cv_62125226-258e-47ac-b417-330e160d8a31",
         "DATANODE_train_dataset_proba_logistic_regression_cv_c8500fb8-f4d4-4216-bba2-195f2b03ba4f",
         "DATANODE_threshold_logistic_regression_cv_116667f1-8e90-4d4c-91e1-cfab7f70f6bf",
         "DATANODE_train_dataset_metrics_logistic_regression_cv_c4c841df-9689-4737-8305-f5c41b966885",
         "DATANODE_forecast_dataset_logistic_regression_cv_74e9d896-5af5-4e16-a49b-c1edca59d40c",
         "DATANODE_shap_values_logistic_regression_cv_6f27196a-51a9-44b5-aae2-fd3bc3feb0ee",
         "DATANODE_roc_data_logistic_regression_cv_ea304d54-b5fa-427d-911e-af7213c8545c",
         "DATANODE_auc_score_logistic_regression_cv_e8a46fec-6afe-4192-8456-c4969db68cfc",
         "DATANODE_metrics_logistic_regression_cv_b7fb3f36-1002-44c9-97cc-2d0437c98db5",
         "DATANODE_results_logistic_regression_cv_b604423e-3bf4-43d9-bbe7-3604a853dfb0"
        ],
        [
         "6",
         "0",
         "862",
         "25",
         "18",
         "logistic_regression_optuna",
         "train_model_logistic_regression_optuna",
         "5595b4fb-8dd0-4fbc-9fb0-42a631d5d838",
         "2025-08-21 12:16:25.506177",
         "churn_classification",
         "SCENARIO_churn_classification_b22e88bd-1cfd-4f7c-b3b6-f16218a70acf",
         "DATANODE_metrics_logistic_regression_optuna_c385179b-7ea9-48a1-b46c-c3aee13422d8",
         "TASK_preprocess_dataset_3f07fa05-1aa1-415b-aa8c-70e7957f4984",
         "DATANODE_split_parameter_info_e0396165-9950-4f25-9c62-b1eb5ac108d1",
         "DATANODE_train_dataset_786bb8b9-e8f3-44bd-820f-8399abe8adf3",
         "DATANODE_test_dataset_8c4ebedb-d64a-4bac-903c-2a7f7ab39d05",
         "DATANODE_feature_selection_info_4fe5ab8e-1d1b-484c-8637-44f9b23c2768",
         "DATANODE_train_parameters_logistic_regression_optuna_40399f49-4473-4068-b423-4f3b56f653ba",
         "DATANODE_trained_model_logistic_regression_optuna_20c409fd-1066-4343-98ef-cba0f1bb35f7",
         "DATANODE_feature_importance_logistic_regression_optuna_e1fd55e2-6c64-48fc-9f29-683d1dfa631e",
         "DATANODE_train_parameters_info_logistic_regression_optuna_ec276b85-7fb5-46f2-97bd-fe0add0f2e82",
         "DATANODE_train_dataset_proba_logistic_regression_optuna_49d1ce44-bdd6-4295-a3cc-7bcc9d6c0540",
         "DATANODE_threshold_logistic_regression_optuna_b398339a-fe43-4707-9485-bae5963e381a",
         "DATANODE_train_dataset_metrics_logistic_regression_optuna_04f2cdf0-519e-4a23-bf41-65999f54e0d1",
         "DATANODE_forecast_dataset_logistic_regression_optuna_316aeda2-5f1f-4734-92fb-123787d19dd2",
         "DATANODE_shap_values_logistic_regression_optuna_a6fd2474-b023-4786-ae6c-1fe359a4c3ee",
         "DATANODE_roc_data_logistic_regression_optuna_449f6786-4524-4a44-a7d4-07021f84e698",
         "DATANODE_auc_score_logistic_regression_optuna_16ca1a1a-9281-4566-a7fc-bee985906919",
         "DATANODE_metrics_logistic_regression_optuna_c385179b-7ea9-48a1-b46c-c3aee13422d8",
         "DATANODE_results_logistic_regression_optuna_c8f8f41d-01aa-4bf2-a44a-e62afc9e2421"
        ],
        [
         "7",
         "12",
         "152",
         "735",
         "6",
         "xgboost_cv",
         "train_model_xgboost_cv",
         "5595b4fb-8dd0-4fbc-9fb0-42a631d5d838",
         "2025-08-21 12:16:25.506177",
         "churn_classification",
         "SCENARIO_churn_classification_b22e88bd-1cfd-4f7c-b3b6-f16218a70acf",
         "DATANODE_metrics_xgboost_cv_6d9cdbf9-0e73-43eb-b67c-6558e9495771",
         "TASK_preprocess_dataset_3f07fa05-1aa1-415b-aa8c-70e7957f4984",
         "DATANODE_split_parameter_info_e0396165-9950-4f25-9c62-b1eb5ac108d1",
         "DATANODE_train_dataset_786bb8b9-e8f3-44bd-820f-8399abe8adf3",
         "DATANODE_test_dataset_8c4ebedb-d64a-4bac-903c-2a7f7ab39d05",
         "DATANODE_feature_selection_info_4fe5ab8e-1d1b-484c-8637-44f9b23c2768",
         "DATANODE_train_parameters_xgboost_cv_ba2056b7-9ef8-4b7d-af3d-13d830959585",
         "DATANODE_trained_model_xgboost_cv_92342bc1-023c-44a8-9d6b-519145f5505c",
         "DATANODE_feature_importance_xgboost_cv_536a4e74-0b95-45af-b384-76e965410fc3",
         "DATANODE_train_parameters_info_xgboost_cv_8960bb94-7254-49bd-baed-456cc3228f6c",
         "DATANODE_train_dataset_proba_xgboost_cv_e4c91c88-2da0-4ea8-9633-ef49b089b05b",
         "DATANODE_threshold_xgboost_cv_b34e7759-9cc7-4230-9b3e-55fe487451a9",
         "DATANODE_train_dataset_metrics_xgboost_cv_28f926b8-3641-4b4c-a926-51e135d28c4d",
         "DATANODE_forecast_dataset_xgboost_cv_34c88bf0-2247-49d0-a254-cb0535a6811d",
         "DATANODE_shap_values_xgboost_cv_0359f1d2-944a-4047-a800-488c098de215",
         "DATANODE_roc_data_xgboost_cv_a0479854-4e5a-46dd-b3f8-9fbd658a589b",
         "DATANODE_auc_score_xgboost_cv_6f561cfd-d8a9-44fc-80f1-7d4e12c1c6f3",
         "DATANODE_metrics_xgboost_cv_6d9cdbf9-0e73-43eb-b67c-6558e9495771",
         "DATANODE_results_xgboost_cv_50a85be0-4aa5-43db-9a76-9c0db4e8ea8f"
        ]
       ],
       "shape": {
        "columns": 29,
        "rows": 8
       }
      },
      "text/html": [
       "<div>\n",
       "<style scoped>\n",
       "    .dataframe tbody tr th:only-of-type {\n",
       "        vertical-align: middle;\n",
       "    }\n",
       "\n",
       "    .dataframe tbody tr th {\n",
       "        vertical-align: top;\n",
       "    }\n",
       "\n",
       "    .dataframe thead th {\n",
       "        text-align: right;\n",
       "    }\n",
       "</style>\n",
       "<table border=\"1\" class=\"dataframe\">\n",
       "  <thead>\n",
       "    <tr style=\"text-align: right;\">\n",
       "      <th></th>\n",
       "      <th>fn</th>\n",
       "      <th>fp</th>\n",
       "      <th>tn</th>\n",
       "      <th>tp</th>\n",
       "      <th>model_name</th>\n",
       "      <th>model_function</th>\n",
       "      <th>scenario_version</th>\n",
       "      <th>scenario_creation_date</th>\n",
       "      <th>scenario_name</th>\n",
       "      <th>scenario_id</th>\n",
       "      <th>...</th>\n",
       "      <th>train_model.train_parameters_model_info_id</th>\n",
       "      <th>find_best_threshold.train_dataset_proba_model_id</th>\n",
       "      <th>find_best_threshold.threshold_model_id</th>\n",
       "      <th>create_metrics_on_train.train_dataset_metrics_model_id</th>\n",
       "      <th>forecast.forecast_dataset_model_id</th>\n",
       "      <th>forecast.shap_values_model_id</th>\n",
       "      <th>roc.roc_data_model_id</th>\n",
       "      <th>roc.auc_score_model_id</th>\n",
       "      <th>create_metrics.metrics_model_id</th>\n",
       "      <th>create_results.metrics_results_model_id</th>\n",
       "    </tr>\n",
       "  </thead>\n",
       "  <tbody>\n",
       "    <tr>\n",
       "      <th>0</th>\n",
       "      <td>16</td>\n",
       "      <td>57</td>\n",
       "      <td>830</td>\n",
       "      <td>2</td>\n",
       "      <td>xgboost_optuna</td>\n",
       "      <td>train_model_xgboost_optuna</td>\n",
       "      <td>5595b4fb-8dd0-4fbc-9fb0-42a631d5d838</td>\n",
       "      <td>2025-08-21 12:16:25.506177</td>\n",
       "      <td>churn_classification</td>\n",
       "      <td>SCENARIO_churn_classification_b22e88bd-1cfd-4f...</td>\n",
       "      <td>...</td>\n",
       "      <td>DATANODE_train_parameters_info_xgboost_optuna_...</td>\n",
       "      <td>DATANODE_train_dataset_proba_xgboost_optuna_23...</td>\n",
       "      <td>DATANODE_threshold_xgboost_optuna_60fb4953-ef3...</td>\n",
       "      <td>DATANODE_train_dataset_metrics_xgboost_optuna_...</td>\n",
       "      <td>DATANODE_forecast_dataset_xgboost_optuna_748fa...</td>\n",
       "      <td>DATANODE_shap_values_xgboost_optuna_8a2b2d7e-3...</td>\n",
       "      <td>DATANODE_roc_data_xgboost_optuna_2e9badc1-b916...</td>\n",
       "      <td>DATANODE_auc_score_xgboost_optuna_a0e437a6-60e...</td>\n",
       "      <td>DATANODE_metrics_xgboost_optuna_e3746b9e-01e9-...</td>\n",
       "      <td>DATANODE_results_xgboost_optuna_8ae7b4e7-fee1-...</td>\n",
       "    </tr>\n",
       "    <tr>\n",
       "      <th>1</th>\n",
       "      <td>6</td>\n",
       "      <td>284</td>\n",
       "      <td>603</td>\n",
       "      <td>12</td>\n",
       "      <td>rf_cv</td>\n",
       "      <td>train_model_rf_cv</td>\n",
       "      <td>5595b4fb-8dd0-4fbc-9fb0-42a631d5d838</td>\n",
       "      <td>2025-08-21 12:16:25.506177</td>\n",
       "      <td>churn_classification</td>\n",
       "      <td>SCENARIO_churn_classification_b22e88bd-1cfd-4f...</td>\n",
       "      <td>...</td>\n",
       "      <td>DATANODE_train_parameters_info_rf_cv_cad188dd-...</td>\n",
       "      <td>DATANODE_train_dataset_proba_rf_cv_ecc806f1-9c...</td>\n",
       "      <td>DATANODE_threshold_rf_cv_9747e716-9ef0-4964-a1...</td>\n",
       "      <td>DATANODE_train_dataset_metrics_rf_cv_85e794b2-...</td>\n",
       "      <td>DATANODE_forecast_dataset_rf_cv_d7f439ac-dc37-...</td>\n",
       "      <td>DATANODE_shap_values_rf_cv_88f445a7-7960-456a-...</td>\n",
       "      <td>DATANODE_roc_data_rf_cv_eae1bb21-ba14-47a7-a2e...</td>\n",
       "      <td>DATANODE_auc_score_rf_cv_569ee0cf-cfdc-4b62-b0...</td>\n",
       "      <td>DATANODE_metrics_rf_cv_0255395e-f90c-4f2b-9332...</td>\n",
       "      <td>DATANODE_results_rf_cv_688423e0-6627-444f-8082...</td>\n",
       "    </tr>\n",
       "    <tr>\n",
       "      <th>2</th>\n",
       "      <td>8</td>\n",
       "      <td>489</td>\n",
       "      <td>398</td>\n",
       "      <td>10</td>\n",
       "      <td>baseline</td>\n",
       "      <td>train_model_baseline</td>\n",
       "      <td>5595b4fb-8dd0-4fbc-9fb0-42a631d5d838</td>\n",
       "      <td>2025-08-21 12:16:25.506177</td>\n",
       "      <td>churn_classification</td>\n",
       "      <td>SCENARIO_churn_classification_b22e88bd-1cfd-4f...</td>\n",
       "      <td>...</td>\n",
       "      <td>DATANODE_train_parameters_info_baseline_7e3e3f...</td>\n",
       "      <td>DATANODE_train_dataset_proba_baseline_828ee3b4...</td>\n",
       "      <td>DATANODE_threshold_baseline_c3cd5492-263b-45fb...</td>\n",
       "      <td>DATANODE_train_dataset_metrics_baseline_59700b...</td>\n",
       "      <td>DATANODE_forecast_dataset_baseline_1582ef85-14...</td>\n",
       "      <td>DATANODE_shap_values_baseline_e1682e26-be44-4e...</td>\n",
       "      <td>DATANODE_roc_data_baseline_2f799421-041a-4c3f-...</td>\n",
       "      <td>DATANODE_auc_score_baseline_cdb95912-16fc-4e1e...</td>\n",
       "      <td>DATANODE_metrics_baseline_b4e3ef08-24a6-4523-9...</td>\n",
       "      <td>DATANODE_results_baseline_6d6002be-10ab-4088-b...</td>\n",
       "    </tr>\n",
       "    <tr>\n",
       "      <th>3</th>\n",
       "      <td>14</td>\n",
       "      <td>50</td>\n",
       "      <td>837</td>\n",
       "      <td>4</td>\n",
       "      <td>rf_optuna</td>\n",
       "      <td>train_model_rf_optuna</td>\n",
       "      <td>5595b4fb-8dd0-4fbc-9fb0-42a631d5d838</td>\n",
       "      <td>2025-08-21 12:16:25.506177</td>\n",
       "      <td>churn_classification</td>\n",
       "      <td>SCENARIO_churn_classification_b22e88bd-1cfd-4f...</td>\n",
       "      <td>...</td>\n",
       "      <td>DATANODE_train_parameters_info_rf_optuna_2ee37...</td>\n",
       "      <td>DATANODE_train_dataset_proba_rf_optuna_4b0da96...</td>\n",
       "      <td>DATANODE_threshold_rf_optuna_9da21496-92dc-48a...</td>\n",
       "      <td>DATANODE_train_dataset_metrics_rf_optuna_aa586...</td>\n",
       "      <td>DATANODE_forecast_dataset_rf_optuna_75e55728-c...</td>\n",
       "      <td>DATANODE_shap_values_rf_optuna_f2e920bf-3380-4...</td>\n",
       "      <td>DATANODE_roc_data_rf_optuna_e53e15b5-98a2-4d5b...</td>\n",
       "      <td>DATANODE_auc_score_rf_optuna_bf976984-cc29-45d...</td>\n",
       "      <td>DATANODE_metrics_rf_optuna_53736e14-5c7b-4052-...</td>\n",
       "      <td>DATANODE_results_rf_optuna_b0d16eda-f1c2-4122-...</td>\n",
       "    </tr>\n",
       "    <tr>\n",
       "      <th>4</th>\n",
       "      <td>0</td>\n",
       "      <td>722</td>\n",
       "      <td>165</td>\n",
       "      <td>18</td>\n",
       "      <td>logistic_regression</td>\n",
       "      <td>train_model_logistic_regression</td>\n",
       "      <td>5595b4fb-8dd0-4fbc-9fb0-42a631d5d838</td>\n",
       "      <td>2025-08-21 12:16:25.506177</td>\n",
       "      <td>churn_classification</td>\n",
       "      <td>SCENARIO_churn_classification_b22e88bd-1cfd-4f...</td>\n",
       "      <td>...</td>\n",
       "      <td>DATANODE_train_parameters_info_logistic_regres...</td>\n",
       "      <td>DATANODE_train_dataset_proba_logistic_regressi...</td>\n",
       "      <td>DATANODE_threshold_logistic_regression_6a51527...</td>\n",
       "      <td>DATANODE_train_dataset_metrics_logistic_regres...</td>\n",
       "      <td>DATANODE_forecast_dataset_logistic_regression_...</td>\n",
       "      <td>DATANODE_shap_values_logistic_regression_29b41...</td>\n",
       "      <td>DATANODE_roc_data_logistic_regression_87e8844b...</td>\n",
       "      <td>DATANODE_auc_score_logistic_regression_ecea557...</td>\n",
       "      <td>DATANODE_metrics_logistic_regression_ddf19fea-...</td>\n",
       "      <td>DATANODE_results_logistic_regression_1198b43a-...</td>\n",
       "    </tr>\n",
       "    <tr>\n",
       "      <th>5</th>\n",
       "      <td>1</td>\n",
       "      <td>645</td>\n",
       "      <td>242</td>\n",
       "      <td>17</td>\n",
       "      <td>logistic_regression_cv</td>\n",
       "      <td>train_model_logistic_regression_cv</td>\n",
       "      <td>5595b4fb-8dd0-4fbc-9fb0-42a631d5d838</td>\n",
       "      <td>2025-08-21 12:16:25.506177</td>\n",
       "      <td>churn_classification</td>\n",
       "      <td>SCENARIO_churn_classification_b22e88bd-1cfd-4f...</td>\n",
       "      <td>...</td>\n",
       "      <td>DATANODE_train_parameters_info_logistic_regres...</td>\n",
       "      <td>DATANODE_train_dataset_proba_logistic_regressi...</td>\n",
       "      <td>DATANODE_threshold_logistic_regression_cv_1166...</td>\n",
       "      <td>DATANODE_train_dataset_metrics_logistic_regres...</td>\n",
       "      <td>DATANODE_forecast_dataset_logistic_regression_...</td>\n",
       "      <td>DATANODE_shap_values_logistic_regression_cv_6f...</td>\n",
       "      <td>DATANODE_roc_data_logistic_regression_cv_ea304...</td>\n",
       "      <td>DATANODE_auc_score_logistic_regression_cv_e8a4...</td>\n",
       "      <td>DATANODE_metrics_logistic_regression_cv_b7fb3f...</td>\n",
       "      <td>DATANODE_results_logistic_regression_cv_b60442...</td>\n",
       "    </tr>\n",
       "    <tr>\n",
       "      <th>6</th>\n",
       "      <td>0</td>\n",
       "      <td>862</td>\n",
       "      <td>25</td>\n",
       "      <td>18</td>\n",
       "      <td>logistic_regression_optuna</td>\n",
       "      <td>train_model_logistic_regression_optuna</td>\n",
       "      <td>5595b4fb-8dd0-4fbc-9fb0-42a631d5d838</td>\n",
       "      <td>2025-08-21 12:16:25.506177</td>\n",
       "      <td>churn_classification</td>\n",
       "      <td>SCENARIO_churn_classification_b22e88bd-1cfd-4f...</td>\n",
       "      <td>...</td>\n",
       "      <td>DATANODE_train_parameters_info_logistic_regres...</td>\n",
       "      <td>DATANODE_train_dataset_proba_logistic_regressi...</td>\n",
       "      <td>DATANODE_threshold_logistic_regression_optuna_...</td>\n",
       "      <td>DATANODE_train_dataset_metrics_logistic_regres...</td>\n",
       "      <td>DATANODE_forecast_dataset_logistic_regression_...</td>\n",
       "      <td>DATANODE_shap_values_logistic_regression_optun...</td>\n",
       "      <td>DATANODE_roc_data_logistic_regression_optuna_4...</td>\n",
       "      <td>DATANODE_auc_score_logistic_regression_optuna_...</td>\n",
       "      <td>DATANODE_metrics_logistic_regression_optuna_c3...</td>\n",
       "      <td>DATANODE_results_logistic_regression_optuna_c8...</td>\n",
       "    </tr>\n",
       "    <tr>\n",
       "      <th>7</th>\n",
       "      <td>12</td>\n",
       "      <td>152</td>\n",
       "      <td>735</td>\n",
       "      <td>6</td>\n",
       "      <td>xgboost_cv</td>\n",
       "      <td>train_model_xgboost_cv</td>\n",
       "      <td>5595b4fb-8dd0-4fbc-9fb0-42a631d5d838</td>\n",
       "      <td>2025-08-21 12:16:25.506177</td>\n",
       "      <td>churn_classification</td>\n",
       "      <td>SCENARIO_churn_classification_b22e88bd-1cfd-4f...</td>\n",
       "      <td>...</td>\n",
       "      <td>DATANODE_train_parameters_info_xgboost_cv_8960...</td>\n",
       "      <td>DATANODE_train_dataset_proba_xgboost_cv_e4c91c...</td>\n",
       "      <td>DATANODE_threshold_xgboost_cv_b34e7759-9cc7-42...</td>\n",
       "      <td>DATANODE_train_dataset_metrics_xgboost_cv_28f9...</td>\n",
       "      <td>DATANODE_forecast_dataset_xgboost_cv_34c88bf0-...</td>\n",
       "      <td>DATANODE_shap_values_xgboost_cv_0359f1d2-944a-...</td>\n",
       "      <td>DATANODE_roc_data_xgboost_cv_a0479854-4e5a-46d...</td>\n",
       "      <td>DATANODE_auc_score_xgboost_cv_6f561cfd-d8a9-44...</td>\n",
       "      <td>DATANODE_metrics_xgboost_cv_6d9cdbf9-0e73-43eb...</td>\n",
       "      <td>DATANODE_results_xgboost_cv_50a85be0-4aa5-43db...</td>\n",
       "    </tr>\n",
       "  </tbody>\n",
       "</table>\n",
       "<p>8 rows × 29 columns</p>\n",
       "</div>"
      ],
      "text/plain": [
       "   fn   fp   tn  tp                  model_name  \\\n",
       "0  16   57  830   2              xgboost_optuna   \n",
       "1   6  284  603  12                       rf_cv   \n",
       "2   8  489  398  10                    baseline   \n",
       "3  14   50  837   4                   rf_optuna   \n",
       "4   0  722  165  18         logistic_regression   \n",
       "5   1  645  242  17      logistic_regression_cv   \n",
       "6   0  862   25  18  logistic_regression_optuna   \n",
       "7  12  152  735   6                  xgboost_cv   \n",
       "\n",
       "                           model_function  \\\n",
       "0              train_model_xgboost_optuna   \n",
       "1                       train_model_rf_cv   \n",
       "2                    train_model_baseline   \n",
       "3                   train_model_rf_optuna   \n",
       "4         train_model_logistic_regression   \n",
       "5      train_model_logistic_regression_cv   \n",
       "6  train_model_logistic_regression_optuna   \n",
       "7                  train_model_xgboost_cv   \n",
       "\n",
       "                       scenario_version     scenario_creation_date  \\\n",
       "0  5595b4fb-8dd0-4fbc-9fb0-42a631d5d838 2025-08-21 12:16:25.506177   \n",
       "1  5595b4fb-8dd0-4fbc-9fb0-42a631d5d838 2025-08-21 12:16:25.506177   \n",
       "2  5595b4fb-8dd0-4fbc-9fb0-42a631d5d838 2025-08-21 12:16:25.506177   \n",
       "3  5595b4fb-8dd0-4fbc-9fb0-42a631d5d838 2025-08-21 12:16:25.506177   \n",
       "4  5595b4fb-8dd0-4fbc-9fb0-42a631d5d838 2025-08-21 12:16:25.506177   \n",
       "5  5595b4fb-8dd0-4fbc-9fb0-42a631d5d838 2025-08-21 12:16:25.506177   \n",
       "6  5595b4fb-8dd0-4fbc-9fb0-42a631d5d838 2025-08-21 12:16:25.506177   \n",
       "7  5595b4fb-8dd0-4fbc-9fb0-42a631d5d838 2025-08-21 12:16:25.506177   \n",
       "\n",
       "          scenario_name                                        scenario_id  \\\n",
       "0  churn_classification  SCENARIO_churn_classification_b22e88bd-1cfd-4f...   \n",
       "1  churn_classification  SCENARIO_churn_classification_b22e88bd-1cfd-4f...   \n",
       "2  churn_classification  SCENARIO_churn_classification_b22e88bd-1cfd-4f...   \n",
       "3  churn_classification  SCENARIO_churn_classification_b22e88bd-1cfd-4f...   \n",
       "4  churn_classification  SCENARIO_churn_classification_b22e88bd-1cfd-4f...   \n",
       "5  churn_classification  SCENARIO_churn_classification_b22e88bd-1cfd-4f...   \n",
       "6  churn_classification  SCENARIO_churn_classification_b22e88bd-1cfd-4f...   \n",
       "7  churn_classification  SCENARIO_churn_classification_b22e88bd-1cfd-4f...   \n",
       "\n",
       "   ...         train_model.train_parameters_model_info_id  \\\n",
       "0  ...  DATANODE_train_parameters_info_xgboost_optuna_...   \n",
       "1  ...  DATANODE_train_parameters_info_rf_cv_cad188dd-...   \n",
       "2  ...  DATANODE_train_parameters_info_baseline_7e3e3f...   \n",
       "3  ...  DATANODE_train_parameters_info_rf_optuna_2ee37...   \n",
       "4  ...  DATANODE_train_parameters_info_logistic_regres...   \n",
       "5  ...  DATANODE_train_parameters_info_logistic_regres...   \n",
       "6  ...  DATANODE_train_parameters_info_logistic_regres...   \n",
       "7  ...  DATANODE_train_parameters_info_xgboost_cv_8960...   \n",
       "\n",
       "    find_best_threshold.train_dataset_proba_model_id  \\\n",
       "0  DATANODE_train_dataset_proba_xgboost_optuna_23...   \n",
       "1  DATANODE_train_dataset_proba_rf_cv_ecc806f1-9c...   \n",
       "2  DATANODE_train_dataset_proba_baseline_828ee3b4...   \n",
       "3  DATANODE_train_dataset_proba_rf_optuna_4b0da96...   \n",
       "4  DATANODE_train_dataset_proba_logistic_regressi...   \n",
       "5  DATANODE_train_dataset_proba_logistic_regressi...   \n",
       "6  DATANODE_train_dataset_proba_logistic_regressi...   \n",
       "7  DATANODE_train_dataset_proba_xgboost_cv_e4c91c...   \n",
       "\n",
       "              find_best_threshold.threshold_model_id  \\\n",
       "0  DATANODE_threshold_xgboost_optuna_60fb4953-ef3...   \n",
       "1  DATANODE_threshold_rf_cv_9747e716-9ef0-4964-a1...   \n",
       "2  DATANODE_threshold_baseline_c3cd5492-263b-45fb...   \n",
       "3  DATANODE_threshold_rf_optuna_9da21496-92dc-48a...   \n",
       "4  DATANODE_threshold_logistic_regression_6a51527...   \n",
       "5  DATANODE_threshold_logistic_regression_cv_1166...   \n",
       "6  DATANODE_threshold_logistic_regression_optuna_...   \n",
       "7  DATANODE_threshold_xgboost_cv_b34e7759-9cc7-42...   \n",
       "\n",
       "  create_metrics_on_train.train_dataset_metrics_model_id  \\\n",
       "0  DATANODE_train_dataset_metrics_xgboost_optuna_...       \n",
       "1  DATANODE_train_dataset_metrics_rf_cv_85e794b2-...       \n",
       "2  DATANODE_train_dataset_metrics_baseline_59700b...       \n",
       "3  DATANODE_train_dataset_metrics_rf_optuna_aa586...       \n",
       "4  DATANODE_train_dataset_metrics_logistic_regres...       \n",
       "5  DATANODE_train_dataset_metrics_logistic_regres...       \n",
       "6  DATANODE_train_dataset_metrics_logistic_regres...       \n",
       "7  DATANODE_train_dataset_metrics_xgboost_cv_28f9...       \n",
       "\n",
       "                  forecast.forecast_dataset_model_id  \\\n",
       "0  DATANODE_forecast_dataset_xgboost_optuna_748fa...   \n",
       "1  DATANODE_forecast_dataset_rf_cv_d7f439ac-dc37-...   \n",
       "2  DATANODE_forecast_dataset_baseline_1582ef85-14...   \n",
       "3  DATANODE_forecast_dataset_rf_optuna_75e55728-c...   \n",
       "4  DATANODE_forecast_dataset_logistic_regression_...   \n",
       "5  DATANODE_forecast_dataset_logistic_regression_...   \n",
       "6  DATANODE_forecast_dataset_logistic_regression_...   \n",
       "7  DATANODE_forecast_dataset_xgboost_cv_34c88bf0-...   \n",
       "\n",
       "                       forecast.shap_values_model_id  \\\n",
       "0  DATANODE_shap_values_xgboost_optuna_8a2b2d7e-3...   \n",
       "1  DATANODE_shap_values_rf_cv_88f445a7-7960-456a-...   \n",
       "2  DATANODE_shap_values_baseline_e1682e26-be44-4e...   \n",
       "3  DATANODE_shap_values_rf_optuna_f2e920bf-3380-4...   \n",
       "4  DATANODE_shap_values_logistic_regression_29b41...   \n",
       "5  DATANODE_shap_values_logistic_regression_cv_6f...   \n",
       "6  DATANODE_shap_values_logistic_regression_optun...   \n",
       "7  DATANODE_shap_values_xgboost_cv_0359f1d2-944a-...   \n",
       "\n",
       "                               roc.roc_data_model_id  \\\n",
       "0  DATANODE_roc_data_xgboost_optuna_2e9badc1-b916...   \n",
       "1  DATANODE_roc_data_rf_cv_eae1bb21-ba14-47a7-a2e...   \n",
       "2  DATANODE_roc_data_baseline_2f799421-041a-4c3f-...   \n",
       "3  DATANODE_roc_data_rf_optuna_e53e15b5-98a2-4d5b...   \n",
       "4  DATANODE_roc_data_logistic_regression_87e8844b...   \n",
       "5  DATANODE_roc_data_logistic_regression_cv_ea304...   \n",
       "6  DATANODE_roc_data_logistic_regression_optuna_4...   \n",
       "7  DATANODE_roc_data_xgboost_cv_a0479854-4e5a-46d...   \n",
       "\n",
       "                              roc.auc_score_model_id  \\\n",
       "0  DATANODE_auc_score_xgboost_optuna_a0e437a6-60e...   \n",
       "1  DATANODE_auc_score_rf_cv_569ee0cf-cfdc-4b62-b0...   \n",
       "2  DATANODE_auc_score_baseline_cdb95912-16fc-4e1e...   \n",
       "3  DATANODE_auc_score_rf_optuna_bf976984-cc29-45d...   \n",
       "4  DATANODE_auc_score_logistic_regression_ecea557...   \n",
       "5  DATANODE_auc_score_logistic_regression_cv_e8a4...   \n",
       "6  DATANODE_auc_score_logistic_regression_optuna_...   \n",
       "7  DATANODE_auc_score_xgboost_cv_6f561cfd-d8a9-44...   \n",
       "\n",
       "                     create_metrics.metrics_model_id  \\\n",
       "0  DATANODE_metrics_xgboost_optuna_e3746b9e-01e9-...   \n",
       "1  DATANODE_metrics_rf_cv_0255395e-f90c-4f2b-9332...   \n",
       "2  DATANODE_metrics_baseline_b4e3ef08-24a6-4523-9...   \n",
       "3  DATANODE_metrics_rf_optuna_53736e14-5c7b-4052-...   \n",
       "4  DATANODE_metrics_logistic_regression_ddf19fea-...   \n",
       "5  DATANODE_metrics_logistic_regression_cv_b7fb3f...   \n",
       "6  DATANODE_metrics_logistic_regression_optuna_c3...   \n",
       "7  DATANODE_metrics_xgboost_cv_6d9cdbf9-0e73-43eb...   \n",
       "\n",
       "             create_results.metrics_results_model_id  \n",
       "0  DATANODE_results_xgboost_optuna_8ae7b4e7-fee1-...  \n",
       "1  DATANODE_results_rf_cv_688423e0-6627-444f-8082...  \n",
       "2  DATANODE_results_baseline_6d6002be-10ab-4088-b...  \n",
       "3  DATANODE_results_rf_optuna_b0d16eda-f1c2-4122-...  \n",
       "4  DATANODE_results_logistic_regression_1198b43a-...  \n",
       "5  DATANODE_results_logistic_regression_cv_b60442...  \n",
       "6  DATANODE_results_logistic_regression_optuna_c8...  \n",
       "7  DATANODE_results_xgboost_cv_50a85be0-4aa5-43db...  \n",
       "\n",
       "[8 rows x 29 columns]"
      ]
     },
     "execution_count": 55,
     "metadata": {},
     "output_type": "execute_result"
    }
   ],
   "source": [
    "ftpn_df"
   ]
  },
  {
   "cell_type": "code",
   "execution_count": 56,
   "id": "43c671c5",
   "metadata": {},
   "outputs": [
    {
     "name": "stdout",
     "output_type": "stream",
     "text": [
      "A new file has been created and saved at 'data/result/summary_metrics_ftpn_df.csv'.\n"
     ]
    }
   ],
   "source": [
    "import os\n",
    "import pandas as pd\n",
    "\n",
    "# 저장할 파일 경로\n",
    "file_path = 'data/result/summary_metrics_ftpn_df.csv'\n",
    "\n",
    "# 저장할 DataFrame (예시 ftpn_df)\n",
    "# 실제 코드에서는 이전에 생성한 ftpn_df를 사용합니다.\n",
    "# ftpn_df = ...\n",
    "\n",
    "# 폴더가 없으면 생성\n",
    "os.makedirs(os.path.dirname(file_path), exist_ok=True)\n",
    "\n",
    "# 파일이 존재하는지 확인\n",
    "file_exists = os.path.isfile(file_path)\n",
    "\n",
    "# 파일이 이미 존재하면 헤더 없이 'a' (append) 모드로 저장\n",
    "if file_exists:\n",
    "    ftpn_df.to_csv(file_path, mode='a', header=False, index=False)\n",
    "    print(f\"Data has been appended to '{file_path}'.\")\n",
    "else:\n",
    "    # 파일이 존재하지 않으면 헤더와 함께 'w' (write) 모드로 저장\n",
    "    ftpn_df.to_csv(file_path, mode='w', header=True, index=False)\n",
    "    print(f\"A new file has been created and saved at '{file_path}'.\")"
   ]
  },
  {
   "cell_type": "code",
   "execution_count": 57,
   "id": "1da4bc34",
   "metadata": {},
   "outputs": [],
   "source": [
    "# import pandas as pd\n",
    "\n",
    "# # Create an empty DataFrame to store the feature importance data\n",
    "# feature_importance_df = pd.DataFrame()\n",
    "\n",
    "# # Iterate through all scenarios and models\n",
    "# for scenario in all_scenarios:\n",
    "#     for model in models:\n",
    "#         # Construct the string for reading the feature importance\n",
    "#         feature_importance_str = f\"scenario.feature_importance_{model}.read()\"\n",
    "\n",
    "#         try:\n",
    "#             # Read the feature importance data for the specific model and scenario\n",
    "#             importance_data = eval(feature_importance_str)\n",
    "\n",
    "#             # Add columns for scenario and model identifiers\n",
    "#             importance_data['model'] = model\n",
    "#             importance_data['scenario_id'] = scenario.id\n",
    "#             importance_data['scenario_name'] = scenario._config_id\n",
    "            \n",
    "#             # Add the requested info\n",
    "#             importance_data['feature_selection_info_id'] = scenario.feature_selection_info.id\n",
    "#             importance_data['threshold_id'] = eval(f\"scenario.threshold_{model}.id\")\n",
    "#             importance_data['train_parameters_info_id'] = eval(f\"scenario.train_parameters_info_{model}.id\")\n",
    "\n",
    "\n",
    "#             # Append the data to the main DataFrame\n",
    "#             feature_importance_df = pd.concat([feature_importance_df, importance_data], ignore_index=True)\n",
    "\n",
    "#         except AttributeError:\n",
    "#             print(f\"No feature importance data found for model '{model}' in scenario '{scenario._config_id}'. Skipping.\")\n",
    "#             continue\n",
    "\n",
    "# # Display the first few rows of the final DataFrame\n",
    "# print(feature_importance_df.head())"
   ]
  },
  {
   "cell_type": "code",
   "execution_count": 58,
   "id": "36c973d7",
   "metadata": {},
   "outputs": [
    {
     "name": "stdout",
     "output_type": "stream",
     "text": [
      "                                            Features  Importance  \\\n",
      "0  FAILING_BINOUTS(1) of 1103959_69_1133529_cp1_c...    0.000000   \n",
      "1                      band gap dpat_ok for band gap    0.049381   \n",
      "2                               SensorOffsetHot-Cold    0.066958   \n",
      "3                                             Radius    0.089308   \n",
      "4           AC_SENSE_CRN 2 of 1103959_69_1133592_RPP    0.255221   \n",
      "\n",
      "   Importance_abs      model_name              model_function  \\\n",
      "0        0.000000  xgboost_optuna  train_model_xgboost_optuna   \n",
      "1        0.049381  xgboost_optuna  train_model_xgboost_optuna   \n",
      "2        0.066958  xgboost_optuna  train_model_xgboost_optuna   \n",
      "3        0.089308  xgboost_optuna  train_model_xgboost_optuna   \n",
      "4        0.255221  xgboost_optuna  train_model_xgboost_optuna   \n",
      "\n",
      "                                         scenario_id         scenario_name  \\\n",
      "0  SCENARIO_churn_classification_b22e88bd-1cfd-4f...  churn_classification   \n",
      "1  SCENARIO_churn_classification_b22e88bd-1cfd-4f...  churn_classification   \n",
      "2  SCENARIO_churn_classification_b22e88bd-1cfd-4f...  churn_classification   \n",
      "3  SCENARIO_churn_classification_b22e88bd-1cfd-4f...  churn_classification   \n",
      "4  SCENARIO_churn_classification_b22e88bd-1cfd-4f...  churn_classification   \n",
      "\n",
      "                           feature_selection_info_id  \\\n",
      "0  DATANODE_feature_selection_info_4fe5ab8e-1d1b-...   \n",
      "1  DATANODE_feature_selection_info_4fe5ab8e-1d1b-...   \n",
      "2  DATANODE_feature_selection_info_4fe5ab8e-1d1b-...   \n",
      "3  DATANODE_feature_selection_info_4fe5ab8e-1d1b-...   \n",
      "4  DATANODE_feature_selection_info_4fe5ab8e-1d1b-...   \n",
      "\n",
      "                                        threshold_id  \\\n",
      "0  DATANODE_threshold_xgboost_optuna_60fb4953-ef3...   \n",
      "1  DATANODE_threshold_xgboost_optuna_60fb4953-ef3...   \n",
      "2  DATANODE_threshold_xgboost_optuna_60fb4953-ef3...   \n",
      "3  DATANODE_threshold_xgboost_optuna_60fb4953-ef3...   \n",
      "4  DATANODE_threshold_xgboost_optuna_60fb4953-ef3...   \n",
      "\n",
      "                            train_parameters_info_id  \n",
      "0  DATANODE_train_parameters_info_xgboost_optuna_...  \n",
      "1  DATANODE_train_parameters_info_xgboost_optuna_...  \n",
      "2  DATANODE_train_parameters_info_xgboost_optuna_...  \n",
      "3  DATANODE_train_parameters_info_xgboost_optuna_...  \n",
      "4  DATANODE_train_parameters_info_xgboost_optuna_...  \n"
     ]
    }
   ],
   "source": [
    "import pandas as pd\n",
    "\n",
    "# Create an empty DataFrame to store the feature importance data\n",
    "feature_importance_df = pd.DataFrame()\n",
    "\n",
    "# Iterate through all scenarios and models\n",
    "for scenario in all_scenarios:\n",
    "    for task_name in scenario.tasks:\n",
    "        if \"train_model\" in task_name:\n",
    "            model = task_name.split(\"train_model_\")[1]\n",
    "            task = eval(\"scenario.\" + task_name)\n",
    "            model_function_name = task.function.__name__\n",
    "\n",
    "            # Construct the string for reading the feature importance\n",
    "            feature_importance_str = f\"scenario.feature_importance_{model}.read()\"\n",
    "\n",
    "            try:\n",
    "                # Read the feature importance data for the specific model and scenario\n",
    "                importance_data = eval(feature_importance_str)\n",
    "\n",
    "                # Add columns for scenario and model identifiers\n",
    "                importance_data['model_name'] = model\n",
    "                importance_data['model_function'] = model_function_name\n",
    "                importance_data['scenario_id'] = scenario.id\n",
    "                importance_data['scenario_name'] = scenario._config_id\n",
    "                \n",
    "                # Add the requested info\n",
    "                importance_data['feature_selection_info_id'] = scenario.feature_selection_info.id\n",
    "                importance_data['threshold_id'] = eval(f\"scenario.threshold_{model}.id\")\n",
    "                importance_data['train_parameters_info_id'] = eval(f\"scenario.train_parameters_info_{model}.id\")\n",
    "\n",
    "\n",
    "                # Append the data to the main DataFrame\n",
    "                feature_importance_df = pd.concat([feature_importance_df, importance_data], ignore_index=True)\n",
    "\n",
    "            except AttributeError:\n",
    "                print(f\"No feature importance data found for model '{model}' in scenario '{scenario._config_id}'. Skipping.\")\n",
    "                continue\n",
    "\n",
    "# Display the first few rows of the final DataFrame\n",
    "print(feature_importance_df.head())"
   ]
  },
  {
   "cell_type": "code",
   "execution_count": 59,
   "id": "3fe3062e",
   "metadata": {},
   "outputs": [],
   "source": [
    "# feature_importance_df\n"
   ]
  },
  {
   "cell_type": "code",
   "execution_count": 60,
   "id": "746637a4",
   "metadata": {},
   "outputs": [
    {
     "name": "stdout",
     "output_type": "stream",
     "text": [
      "A new file has been created and saved at 'data/result/summary_feature_importance_df.csv'.\n"
     ]
    }
   ],
   "source": [
    "import os\n",
    "import pandas as pd\n",
    "\n",
    "# 저장할 파일 경로\n",
    "file_path = 'data/result/summary_feature_importance_df.csv'\n",
    "\n",
    "# 저장할 DataFrame (예시 feature_importance_df)\n",
    "# 실제 코드에서는 이전에 생성한 feature_importance_df를 사용합니다.\n",
    "# feature_importance_df = ...\n",
    "\n",
    "# 폴더가 없으면 생성\n",
    "os.makedirs(os.path.dirname(file_path), exist_ok=True)\n",
    "\n",
    "# 파일이 존재하는지 확인\n",
    "file_exists = os.path.isfile(file_path)\n",
    "\n",
    "# 파일이 이미 존재하면 헤더 없이 'a' (append) 모드로 저장\n",
    "if file_exists:\n",
    "    feature_importance_df.to_csv(file_path, mode='a', header=False, index=False)\n",
    "    print(f\"Data has been appended to '{file_path}'.\")\n",
    "else:\n",
    "    # 파일이 존재하지 않으면 헤더와 함께 'w' (write) 모드로 저장\n",
    "    feature_importance_df.to_csv(file_path, mode='w', header=True, index=False)\n",
    "    print(f\"A new file has been created and saved at '{file_path}'.\")"
   ]
  },
  {
   "cell_type": "code",
   "execution_count": 61,
   "id": "0217a2a0",
   "metadata": {},
   "outputs": [
    {
     "name": "stdout",
     "output_type": "stream",
     "text": [
      "'user_data/jsons\\DATANODE_feature_selection_info_4fe5ab8e-1d1b-484c-8637-44f9b23c2768.json' -> 'data/result/jsons\\DATANODE_feature_selection_info_4fe5ab8e-1d1b-484c-8637-44f9b23c2768.json' (파일 덮어쓰기 완료)\n",
      "'user_data/jsons\\DATANODE_feature_selector_02663d54-68c7-459f-94d7-39db9973fe83.json' -> 'data/result/jsons\\DATANODE_feature_selector_02663d54-68c7-459f-94d7-39db9973fe83.json' (파일 덮어쓰기 완료)\n",
      "'user_data/jsons\\DATANODE_feature_selector_default_67a9e408-7fb5-45f0-a8ce-7be8240a60e7.json' -> 'data/result/jsons\\DATANODE_feature_selector_default_67a9e408-7fb5-45f0-a8ce-7be8240a60e7.json' (파일 덮어쓰기 완료)\n",
      "'user_data/jsons\\DATANODE_split_parameter_1cff809e-b7fd-4c1c-9de0-b4ed8b3aa1e1.json' -> 'data/result/jsons\\DATANODE_split_parameter_1cff809e-b7fd-4c1c-9de0-b4ed8b3aa1e1.json' (파일 덮어쓰기 완료)\n",
      "'user_data/jsons\\DATANODE_split_parameter_info_e0396165-9950-4f25-9c62-b1eb5ac108d1.json' -> 'data/result/jsons\\DATANODE_split_parameter_info_e0396165-9950-4f25-9c62-b1eb5ac108d1.json' (파일 덮어쓰기 완료)\n",
      "'user_data/jsons\\DATANODE_threshold_baseline_c3cd5492-263b-45fb-9bfa-d1d48de9d688.json' -> 'data/result/jsons\\DATANODE_threshold_baseline_c3cd5492-263b-45fb-9bfa-d1d48de9d688.json' (파일 덮어쓰기 완료)\n",
      "'user_data/jsons\\DATANODE_threshold_logistic_regression_6a515273-6e2c-4a42-92d3-8f91df3f2d02.json' -> 'data/result/jsons\\DATANODE_threshold_logistic_regression_6a515273-6e2c-4a42-92d3-8f91df3f2d02.json' (파일 덮어쓰기 완료)\n",
      "'user_data/jsons\\DATANODE_threshold_logistic_regression_cv_116667f1-8e90-4d4c-91e1-cfab7f70f6bf.json' -> 'data/result/jsons\\DATANODE_threshold_logistic_regression_cv_116667f1-8e90-4d4c-91e1-cfab7f70f6bf.json' (파일 덮어쓰기 완료)\n",
      "'user_data/jsons\\DATANODE_threshold_logistic_regression_optuna_b398339a-fe43-4707-9485-bae5963e381a.json' -> 'data/result/jsons\\DATANODE_threshold_logistic_regression_optuna_b398339a-fe43-4707-9485-bae5963e381a.json' (파일 덮어쓰기 완료)\n",
      "'user_data/jsons\\DATANODE_threshold_rf_cv_9747e716-9ef0-4964-a18d-4bdebca62494.json' -> 'data/result/jsons\\DATANODE_threshold_rf_cv_9747e716-9ef0-4964-a18d-4bdebca62494.json' (파일 덮어쓰기 완료)\n",
      "'user_data/jsons\\DATANODE_threshold_rf_optuna_9da21496-92dc-48a4-b1f7-0c3ae1357e78.json' -> 'data/result/jsons\\DATANODE_threshold_rf_optuna_9da21496-92dc-48a4-b1f7-0c3ae1357e78.json' (파일 덮어쓰기 완료)\n",
      "'user_data/jsons\\DATANODE_threshold_xgboost_cv_b34e7759-9cc7-4230-9b3e-55fe487451a9.json' -> 'data/result/jsons\\DATANODE_threshold_xgboost_cv_b34e7759-9cc7-4230-9b3e-55fe487451a9.json' (파일 덮어쓰기 완료)\n",
      "'user_data/jsons\\DATANODE_threshold_xgboost_optuna_60fb4953-ef36-45ee-a27e-cc19b831f4ce.json' -> 'data/result/jsons\\DATANODE_threshold_xgboost_optuna_60fb4953-ef36-45ee-a27e-cc19b831f4ce.json' (파일 덮어쓰기 완료)\n",
      "'user_data/jsons\\DATANODE_train_parameters_baseline_c527d054-f5de-4df5-871b-2859e0bfd5c5.json' -> 'data/result/jsons\\DATANODE_train_parameters_baseline_c527d054-f5de-4df5-871b-2859e0bfd5c5.json' (파일 덮어쓰기 완료)\n",
      "'user_data/jsons\\DATANODE_train_parameters_info_baseline_7e3e3f7a-1415-47a9-87c4-c16baab37044.json' -> 'data/result/jsons\\DATANODE_train_parameters_info_baseline_7e3e3f7a-1415-47a9-87c4-c16baab37044.json' (파일 덮어쓰기 완료)\n",
      "'user_data/jsons\\DATANODE_train_parameters_info_logistic_regression_232612f0-e65d-4df1-8983-471644977606.json' -> 'data/result/jsons\\DATANODE_train_parameters_info_logistic_regression_232612f0-e65d-4df1-8983-471644977606.json' (파일 덮어쓰기 완료)\n",
      "'user_data/jsons\\DATANODE_train_parameters_info_logistic_regression_cv_62125226-258e-47ac-b417-330e160d8a31.json' -> 'data/result/jsons\\DATANODE_train_parameters_info_logistic_regression_cv_62125226-258e-47ac-b417-330e160d8a31.json' (파일 덮어쓰기 완료)\n",
      "'user_data/jsons\\DATANODE_train_parameters_info_logistic_regression_optuna_ec276b85-7fb5-46f2-97bd-fe0add0f2e82.json' -> 'data/result/jsons\\DATANODE_train_parameters_info_logistic_regression_optuna_ec276b85-7fb5-46f2-97bd-fe0add0f2e82.json' (파일 덮어쓰기 완료)\n",
      "'user_data/jsons\\DATANODE_train_parameters_info_rf_cv_cad188dd-b37a-4145-8bcb-d9fb02245ef9.json' -> 'data/result/jsons\\DATANODE_train_parameters_info_rf_cv_cad188dd-b37a-4145-8bcb-d9fb02245ef9.json' (파일 덮어쓰기 완료)\n",
      "'user_data/jsons\\DATANODE_train_parameters_info_rf_optuna_2ee3755c-ea93-46d2-bc4d-69d64276aa1d.json' -> 'data/result/jsons\\DATANODE_train_parameters_info_rf_optuna_2ee3755c-ea93-46d2-bc4d-69d64276aa1d.json' (파일 덮어쓰기 완료)\n",
      "'user_data/jsons\\DATANODE_train_parameters_info_xgboost_cv_8960bb94-7254-49bd-baed-456cc3228f6c.json' -> 'data/result/jsons\\DATANODE_train_parameters_info_xgboost_cv_8960bb94-7254-49bd-baed-456cc3228f6c.json' (파일 덮어쓰기 완료)\n",
      "'user_data/jsons\\DATANODE_train_parameters_info_xgboost_optuna_f3d6ea71-7903-48b8-bf67-fc52234bae26.json' -> 'data/result/jsons\\DATANODE_train_parameters_info_xgboost_optuna_f3d6ea71-7903-48b8-bf67-fc52234bae26.json' (파일 덮어쓰기 완료)\n",
      "'user_data/jsons\\DATANODE_train_parameters_list_default_fb5e1fa0-da99-403d-87b8-54df4265417c.json' -> 'data/result/jsons\\DATANODE_train_parameters_list_default_fb5e1fa0-da99-403d-87b8-54df4265417c.json' (파일 덮어쓰기 완료)\n",
      "'user_data/jsons\\DATANODE_train_parameters_logistic_regression_775759ca-8d0c-41aa-b7c2-8a67ff08e2e8.json' -> 'data/result/jsons\\DATANODE_train_parameters_logistic_regression_775759ca-8d0c-41aa-b7c2-8a67ff08e2e8.json' (파일 덮어쓰기 완료)\n",
      "'user_data/jsons\\DATANODE_train_parameters_logistic_regression_cv_185c55fd-c80c-4da5-96a7-200e09fc141b.json' -> 'data/result/jsons\\DATANODE_train_parameters_logistic_regression_cv_185c55fd-c80c-4da5-96a7-200e09fc141b.json' (파일 덮어쓰기 완료)\n",
      "'user_data/jsons\\DATANODE_train_parameters_logistic_regression_optuna_40399f49-4473-4068-b423-4f3b56f653ba.json' -> 'data/result/jsons\\DATANODE_train_parameters_logistic_regression_optuna_40399f49-4473-4068-b423-4f3b56f653ba.json' (파일 덮어쓰기 완료)\n",
      "'user_data/jsons\\DATANODE_train_parameters_rf_cv_1bcc6ce2-d7f5-4870-ade0-874f45bdb00f.json' -> 'data/result/jsons\\DATANODE_train_parameters_rf_cv_1bcc6ce2-d7f5-4870-ade0-874f45bdb00f.json' (파일 덮어쓰기 완료)\n",
      "'user_data/jsons\\DATANODE_train_parameters_rf_optuna_b56a1c73-fcc5-4a2f-bc5c-f5362ea6b341.json' -> 'data/result/jsons\\DATANODE_train_parameters_rf_optuna_b56a1c73-fcc5-4a2f-bc5c-f5362ea6b341.json' (파일 덮어쓰기 완료)\n",
      "'user_data/jsons\\DATANODE_train_parameters_xgboost_cv_ba2056b7-9ef8-4b7d-af3d-13d830959585.json' -> 'data/result/jsons\\DATANODE_train_parameters_xgboost_cv_ba2056b7-9ef8-4b7d-af3d-13d830959585.json' (파일 덮어쓰기 완료)\n",
      "'user_data/jsons\\DATANODE_train_parameters_xgboost_optuna_b41b113d-39d8-40eb-8539-ad7e3eb8f455.json' -> 'data/result/jsons\\DATANODE_train_parameters_xgboost_optuna_b41b113d-39d8-40eb-8539-ad7e3eb8f455.json' (파일 덮어쓰기 완료)\n",
      "모든 JSON 파일 복사가 완료되었습니다.\n"
     ]
    }
   ],
   "source": [
    "import os\n",
    "import shutil\n",
    "\n",
    "# 원본 파일이 있는 디렉토리\n",
    "source_dir = 'user_data/jsons'\n",
    "# 복사할 대상 디렉토리\n",
    "destination_dir = 'data/result/jsons'\n",
    "\n",
    "# 대상 디렉토리가 없으면 생성\n",
    "os.makedirs(destination_dir, exist_ok=True)\n",
    "\n",
    "# 원본 디렉토리의 모든 파일에 대해 반복\n",
    "for filename in os.listdir(source_dir):\n",
    "    # JSON 파일만 선택\n",
    "    if filename.endswith('.json'):\n",
    "        source_path = os.path.join(source_dir, filename)\n",
    "        destination_path = os.path.join(destination_dir, filename)\n",
    "        \n",
    "        # 파일 복사. 대상 경로에 파일이 이미 존재하면 덮어쓰기\n",
    "        shutil.copy2(source_path, destination_path)\n",
    "        print(f\"'{source_path}' -> '{destination_path}' (파일 덮어쓰기 완료)\")\n",
    "\n",
    "print(\"모든 JSON 파일 복사가 완료되었습니다.\")"
   ]
  },
  {
   "cell_type": "code",
   "execution_count": 62,
   "id": "ebc19361",
   "metadata": {},
   "outputs": [
    {
     "name": "stdout",
     "output_type": "stream",
     "text": [
      "경로가 성공적으로 변경되었습니다: data/result -> data/result_202508211233_ee6ba41b\n"
     ]
    }
   ],
   "source": [
    "# 'data/result'\n",
    "# 위 경로명을 기존 경로명 _yyyymmddhhmm_uid 형식으로 변경합니다. 여기서 uid 는 유일한 값을 생성하여 중복되지 않도록 합니다. 기존 경로가 없으면 수행하지 않습니다.\n",
    "\n",
    "import os\n",
    "import uuid\n",
    "from datetime import datetime\n",
    "\n",
    "# 기존 경로\n",
    "old_path = 'data/result'\n",
    "\n",
    "# 기존 경로가 존재하는지 확인\n",
    "if os.path.exists(old_path):\n",
    "    # 현재 날짜와 시간 가져오기\n",
    "    now = datetime.now()\n",
    "    timestamp = now.strftime('%Y%m%d%H%M')\n",
    "\n",
    "    # 고유한 값(UID) 생성\n",
    "    uid = str(uuid.uuid4())[:8]  # UUID의 일부를 사용해 짧게 만듭니다.\n",
    "\n",
    "    # 새 경로명 생성\n",
    "    new_path = f\"{old_path}_{timestamp}_{uid}\"\n",
    "\n",
    "    # 경로명 변경\n",
    "    os.rename(old_path, new_path)\n",
    "    print(f\"경로가 성공적으로 변경되었습니다: {old_path} -> {new_path}\")\n",
    "else:\n",
    "    print(f\"경로가 존재하지 않아 작업을 수행할 수 없습니다: {old_path}\")\n"
   ]
  },
  {
   "cell_type": "code",
   "execution_count": 63,
   "id": "ff6fd8ff",
   "metadata": {},
   "outputs": [],
   "source": [
    "# # print_object_attributes(all_scenarios[0])\n",
    "# scenario = all_scenarios[0]"
   ]
  },
  {
   "cell_type": "code",
   "execution_count": 64,
   "id": "e7411b67",
   "metadata": {},
   "outputs": [],
   "source": [
    "# scenario.feature_importance_logistic_regression.read().head()"
   ]
  },
  {
   "cell_type": "code",
   "execution_count": 65,
   "id": "090a089b",
   "metadata": {},
   "outputs": [],
   "source": [
    "# model = \"logistic_regression\"\n",
    "# eval(\"scenario.threshold_\"+model+\".id\")"
   ]
  },
  {
   "cell_type": "code",
   "execution_count": 66,
   "id": "788f43d4",
   "metadata": {},
   "outputs": [],
   "source": [
    "# ftpn_list = []\n",
    "\n",
    "# metrics = eval(\"scenario.metrics_\"+model+\".read()\")"
   ]
  },
  {
   "cell_type": "code",
   "execution_count": 67,
   "id": "ad386ddc",
   "metadata": {},
   "outputs": [],
   "source": [
    "# feature_selection_info = scenario.feature_selection_info.id"
   ]
  },
  {
   "cell_type": "code",
   "execution_count": 68,
   "id": "01a86892",
   "metadata": {},
   "outputs": [],
   "source": [
    "# feature_selection_info_id = scenario.feature_selection_info.id\n",
    "# threshold_baseline_id = scenario.threshold_baseline.id\n",
    "# train_parameters_info_id = scenario.train_parameters_info.id\n"
   ]
  },
  {
   "cell_type": "code",
   "execution_count": 69,
   "id": "35d33050",
   "metadata": {},
   "outputs": [],
   "source": [
    "# DATANODE_metrics_attr = print_object_attributes(DATANODE_metrics)"
   ]
  },
  {
   "cell_type": "code",
   "execution_count": 70,
   "id": "e98b9e7e",
   "metadata": {},
   "outputs": [],
   "source": [
    "# all_scenarios[0].id"
   ]
  },
  {
   "cell_type": "code",
   "execution_count": 71,
   "id": "cdc9f850",
   "metadata": {},
   "outputs": [],
   "source": [
    "# all_jobs = tp.get_jobs()\n",
    "\n",
    "# # print_object_attributes(all_jobs[0])\n",
    "# for job in all_jobs : \n",
    "#     print(f\"Job ID: {job.id}, Status: {job.status}\")"
   ]
  },
  {
   "cell_type": "code",
   "execution_count": 72,
   "id": "287eb185",
   "metadata": {},
   "outputs": [],
   "source": [
    "# all_jobs_status = [(job.id, job.status) for job in all_jobs]"
   ]
  },
  {
   "cell_type": "code",
   "execution_count": null,
   "id": "52bce564",
   "metadata": {},
   "outputs": [],
   "source": []
  },
  {
   "cell_type": "code",
   "execution_count": 73,
   "id": "40831be2",
   "metadata": {},
   "outputs": [],
   "source": [
    "# all_jobs_status"
   ]
  },
  {
   "cell_type": "code",
   "execution_count": 74,
   "id": "5cfaa955",
   "metadata": {},
   "outputs": [],
   "source": [
    "# scenarios = tp.get_entities_by_config_id(tp.get_scenarios()[0])\n",
    "# print(scenarios)\n",
    "# scenario = scenarios[0]"
   ]
  },
  {
   "cell_type": "code",
   "execution_count": 75,
   "id": "c3074b08",
   "metadata": {},
   "outputs": [],
   "source": [
    "# print_object_attributes(scenario)"
   ]
  },
  {
   "cell_type": "code",
   "execution_count": 76,
   "id": "9c99897e",
   "metadata": {},
   "outputs": [],
   "source": [
    "# print(scenario.get_inputs())\n",
    "# print(scenario.get_outputs())"
   ]
  },
  {
   "cell_type": "code",
   "execution_count": null,
   "id": "710f6c43",
   "metadata": {},
   "outputs": [],
   "source": [
    "# all_scenarios = tp.get_scenarios()\n",
    "# scenario = all_scenarios[0]"
   ]
  },
  {
   "cell_type": "code",
   "execution_count": null,
   "id": "385cfded",
   "metadata": {},
   "outputs": [
    {
     "data": {
      "text/plain": [
       "{churn_classification > feature_selector,\n",
       " churn_classification > initial_dataset,\n",
       " churn_classification > split_parameter,\n",
       " churn_classification > train_parameters_baseline,\n",
       " churn_classification > train_parameters_logistic_regression,\n",
       " churn_classification > train_parameters_logistic_regression_cv,\n",
       " churn_classification > train_parameters_logistic_regression_optuna,\n",
       " churn_classification > train_parameters_rf_cv,\n",
       " churn_classification > train_parameters_rf_optuna,\n",
       " churn_classification > train_parameters_xgboost_cv,\n",
       " churn_classification > train_parameters_xgboost_optuna}"
      ]
     },
     "execution_count": 92,
     "metadata": {},
     "output_type": "execute_result"
    }
   ],
   "source": [
    "# input_nodes = scenario.get_inputs()\n",
    "# # output_nodes = scenario.get_outputs()\n",
    "# input_nodes"
   ]
  },
  {
   "cell_type": "code",
   "execution_count": null,
   "id": "0fa08a59",
   "metadata": {},
   "outputs": [
    {
     "data": {
      "text/plain": [
       "{'class_weight_multiplier': 'len(y) - n_pos',\n",
       " 'function_name': 'train_model_logistic_regression',\n",
       " 'max_iter': 10,\n",
       " 'solver': 'lbfgs'}"
      ]
     },
     "execution_count": 95,
     "metadata": {},
     "output_type": "execute_result"
    }
   ],
   "source": [
    "# scenario.train_parameters_logistic_regression.read()"
   ]
  },
  {
   "cell_type": "code",
   "execution_count": 78,
   "id": "6a8270ee",
   "metadata": {},
   "outputs": [],
   "source": [
    "# input_node_1 = list(input_nodes)[0]\n",
    "# output_node_1 = list(output_nodes)[0]\n",
    "# # output_node_1 = list(output_node_1)[0].read()\n"
   ]
  },
  {
   "cell_type": "code",
   "execution_count": 79,
   "id": "58dd575d",
   "metadata": {},
   "outputs": [],
   "source": [
    "# list(output_nodes)[0]\n",
    "# print_object_attributes(list(output_nodes)[0])"
   ]
  },
  {
   "cell_type": "code",
   "execution_count": 80,
   "id": "c014629e",
   "metadata": {},
   "outputs": [],
   "source": [
    "# for o_n in list(output_nodes):\n",
    "#     # print(o_n._config_id )\n",
    "#     if o_n._config_id.startswith('results_'): \n",
    "#         print(o_n._config_id)\n",
    "\n",
    "# # o_n_1.read()"
   ]
  },
  {
   "cell_type": "code",
   "execution_count": 81,
   "id": "778c275d",
   "metadata": {},
   "outputs": [],
   "source": [
    "# print_object_attributes(output_node_1)"
   ]
  },
  {
   "cell_type": "code",
   "execution_count": 82,
   "id": "11c619cb",
   "metadata": {},
   "outputs": [],
   "source": [
    "# models = {\n",
    "#     \"baseline\": train_model_baseline,\n",
    "#     \"logistic_regression\": train_model_logistic_regression,\n",
    "#     \"random_forest\": train_model_rf_cv,\n",
    "#     \"xgboost\": train_model_xgboost_cv,\n",
    "#     # \"tree\": train_model_decision_tree,\n",
    "# }"
   ]
  },
  {
   "cell_type": "code",
   "execution_count": 83,
   "id": "7d1435ca",
   "metadata": {},
   "outputs": [],
   "source": [
    "# train_parameters_default_list = {}\n",
    "\n",
    "# for model_name in models:\n",
    "#     # print(models[model_name].__name__)\n",
    "#     function_name = models[model_name].__name__\n",
    "#     train_parameters = get_train_parameters_default(function_name)\n",
    "#     train_parameters_default_list[function_name] = train_parameters\n"
   ]
  },
  {
   "cell_type": "code",
   "execution_count": 84,
   "id": "19b90aa6",
   "metadata": {},
   "outputs": [],
   "source": [
    "# train_parameters_default_list.get(\"train_model_baseline\")"
   ]
  },
  {
   "cell_type": "code",
   "execution_count": null,
   "id": "10b16642",
   "metadata": {},
   "outputs": [],
   "source": []
  },
  {
   "cell_type": "code",
   "execution_count": null,
   "id": "e0addfdc",
   "metadata": {},
   "outputs": [],
   "source": []
  },
  {
   "cell_type": "code",
   "execution_count": null,
   "id": "8a001295",
   "metadata": {},
   "outputs": [],
   "source": []
  },
  {
   "cell_type": "code",
   "execution_count": null,
   "id": "7b08fc25",
   "metadata": {},
   "outputs": [],
   "source": []
  },
  {
   "cell_type": "code",
   "execution_count": null,
   "id": "c868cf0f",
   "metadata": {},
   "outputs": [],
   "source": []
  },
  {
   "cell_type": "code",
   "execution_count": null,
   "id": "a660c223",
   "metadata": {},
   "outputs": [],
   "source": []
  },
  {
   "cell_type": "code",
   "execution_count": null,
   "id": "b238ee15",
   "metadata": {},
   "outputs": [],
   "source": []
  },
  {
   "cell_type": "code",
   "execution_count": null,
   "id": "23a2e646",
   "metadata": {},
   "outputs": [],
   "source": []
  },
  {
   "cell_type": "code",
   "execution_count": null,
   "id": "e0f00fff",
   "metadata": {},
   "outputs": [],
   "source": []
  },
  {
   "cell_type": "code",
   "execution_count": null,
   "id": "2977a86d",
   "metadata": {},
   "outputs": [],
   "source": []
  },
  {
   "cell_type": "code",
   "execution_count": null,
   "id": "ceb6053d",
   "metadata": {},
   "outputs": [],
   "source": []
  },
  {
   "cell_type": "code",
   "execution_count": null,
   "id": "a028037a",
   "metadata": {},
   "outputs": [],
   "source": []
  },
  {
   "cell_type": "code",
   "execution_count": null,
   "id": "a4bd142f",
   "metadata": {},
   "outputs": [],
   "source": []
  },
  {
   "cell_type": "code",
   "execution_count": null,
   "id": "0d4cb918",
   "metadata": {},
   "outputs": [],
   "source": []
  },
  {
   "cell_type": "code",
   "execution_count": null,
   "id": "d7302258",
   "metadata": {},
   "outputs": [],
   "source": []
  },
  {
   "cell_type": "code",
   "execution_count": null,
   "id": "02dc6541",
   "metadata": {},
   "outputs": [],
   "source": []
  },
  {
   "cell_type": "code",
   "execution_count": null,
   "id": "89e03ddf",
   "metadata": {},
   "outputs": [],
   "source": []
  },
  {
   "cell_type": "code",
   "execution_count": null,
   "id": "c4a70a1e",
   "metadata": {},
   "outputs": [],
   "source": []
  },
  {
   "cell_type": "code",
   "execution_count": null,
   "id": "74f5984d",
   "metadata": {},
   "outputs": [],
   "source": []
  },
  {
   "cell_type": "code",
   "execution_count": null,
   "id": "6991d54c",
   "metadata": {},
   "outputs": [],
   "source": []
  },
  {
   "cell_type": "code",
   "execution_count": null,
   "id": "c259dce6",
   "metadata": {},
   "outputs": [],
   "source": []
  },
  {
   "cell_type": "code",
   "execution_count": null,
   "id": "00e6772f",
   "metadata": {},
   "outputs": [],
   "source": []
  },
  {
   "cell_type": "code",
   "execution_count": null,
   "id": "ea4e2abd",
   "metadata": {},
   "outputs": [],
   "source": []
  },
  {
   "cell_type": "code",
   "execution_count": null,
   "id": "02c8447e",
   "metadata": {},
   "outputs": [],
   "source": []
  },
  {
   "cell_type": "code",
   "execution_count": null,
   "id": "84f21938",
   "metadata": {},
   "outputs": [],
   "source": []
  },
  {
   "cell_type": "code",
   "execution_count": null,
   "id": "3d73d66e",
   "metadata": {},
   "outputs": [],
   "source": []
  },
  {
   "cell_type": "code",
   "execution_count": null,
   "id": "b988628d",
   "metadata": {},
   "outputs": [],
   "source": []
  },
  {
   "cell_type": "code",
   "execution_count": null,
   "id": "e7d12cad",
   "metadata": {},
   "outputs": [],
   "source": []
  },
  {
   "cell_type": "code",
   "execution_count": null,
   "id": "9c0cf317",
   "metadata": {},
   "outputs": [],
   "source": []
  },
  {
   "cell_type": "code",
   "execution_count": null,
   "id": "789fd2e6",
   "metadata": {},
   "outputs": [],
   "source": []
  },
  {
   "cell_type": "code",
   "execution_count": null,
   "id": "e204dec4",
   "metadata": {},
   "outputs": [],
   "source": []
  },
  {
   "cell_type": "code",
   "execution_count": null,
   "id": "fa0c83e7",
   "metadata": {},
   "outputs": [],
   "source": []
  },
  {
   "cell_type": "code",
   "execution_count": null,
   "id": "379f57d6",
   "metadata": {},
   "outputs": [],
   "source": []
  },
  {
   "cell_type": "code",
   "execution_count": null,
   "id": "8b0f84a6",
   "metadata": {},
   "outputs": [],
   "source": []
  },
  {
   "cell_type": "code",
   "execution_count": null,
   "id": "59bec70b",
   "metadata": {},
   "outputs": [],
   "source": []
  },
  {
   "cell_type": "code",
   "execution_count": null,
   "id": "84902016",
   "metadata": {},
   "outputs": [],
   "source": []
  },
  {
   "cell_type": "code",
   "execution_count": null,
   "id": "34602716",
   "metadata": {},
   "outputs": [],
   "source": []
  },
  {
   "cell_type": "code",
   "execution_count": null,
   "id": "8bcfdb0a",
   "metadata": {},
   "outputs": [],
   "source": []
  },
  {
   "cell_type": "code",
   "execution_count": null,
   "id": "452a21d2",
   "metadata": {},
   "outputs": [],
   "source": []
  },
  {
   "cell_type": "code",
   "execution_count": null,
   "id": "692c61e5",
   "metadata": {},
   "outputs": [],
   "source": []
  },
  {
   "cell_type": "code",
   "execution_count": null,
   "id": "c3f171fa",
   "metadata": {},
   "outputs": [],
   "source": []
  },
  {
   "cell_type": "code",
   "execution_count": null,
   "id": "96ab5786",
   "metadata": {},
   "outputs": [],
   "source": []
  },
  {
   "cell_type": "code",
   "execution_count": null,
   "id": "7cb54714",
   "metadata": {},
   "outputs": [],
   "source": []
  },
  {
   "cell_type": "code",
   "execution_count": null,
   "id": "178d170e",
   "metadata": {},
   "outputs": [],
   "source": []
  },
  {
   "cell_type": "code",
   "execution_count": null,
   "id": "dfaa2b43",
   "metadata": {},
   "outputs": [],
   "source": []
  },
  {
   "cell_type": "code",
   "execution_count": null,
   "id": "92d58651",
   "metadata": {},
   "outputs": [],
   "source": []
  },
  {
   "cell_type": "code",
   "execution_count": null,
   "id": "ee624589",
   "metadata": {},
   "outputs": [],
   "source": []
  },
  {
   "cell_type": "code",
   "execution_count": null,
   "id": "a0645ebe",
   "metadata": {},
   "outputs": [],
   "source": []
  },
  {
   "cell_type": "code",
   "execution_count": null,
   "id": "ffc25aca",
   "metadata": {},
   "outputs": [],
   "source": []
  },
  {
   "cell_type": "code",
   "execution_count": null,
   "id": "958e2c09",
   "metadata": {},
   "outputs": [],
   "source": []
  },
  {
   "cell_type": "code",
   "execution_count": null,
   "id": "0a61dc4f",
   "metadata": {},
   "outputs": [],
   "source": []
  },
  {
   "cell_type": "code",
   "execution_count": null,
   "id": "2f8c8a6e",
   "metadata": {},
   "outputs": [],
   "source": []
  },
  {
   "cell_type": "code",
   "execution_count": null,
   "id": "3c4ee6b0",
   "metadata": {},
   "outputs": [],
   "source": []
  },
  {
   "cell_type": "code",
   "execution_count": null,
   "id": "a2586f1b",
   "metadata": {},
   "outputs": [],
   "source": []
  },
  {
   "cell_type": "code",
   "execution_count": null,
   "id": "0a61346d",
   "metadata": {},
   "outputs": [],
   "source": []
  }
 ],
 "metadata": {
  "kernelspec": {
   "display_name": ".venv",
   "language": "python",
   "name": "python3"
  },
  "language_info": {
   "codemirror_mode": {
    "name": "ipython",
    "version": 3
   },
   "file_extension": ".py",
   "mimetype": "text/x-python",
   "name": "python",
   "nbconvert_exporter": "python",
   "pygments_lexer": "ipython3",
   "version": "3.12.7"
  }
 },
 "nbformat": 4,
 "nbformat_minor": 5
}
