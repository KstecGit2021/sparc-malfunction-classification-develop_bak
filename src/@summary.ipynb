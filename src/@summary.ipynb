{
 "cells": [
  {
   "cell_type": "code",
   "execution_count": 1,
   "id": "0df38806",
   "metadata": {},
   "outputs": [],
   "source": [
    "# 데이터 처리 및 기타 작업을 위한 라이브러리들을 불러옵니다.\n",
    "import pandas as pd                                         # 데이터프레임 구조를 다루는 데 필수적인 라이브러리\n",
    "import numpy as np                                          # 숫자 연산을 위한 라이브러리\n",
    "import datetime as dt                                       # 날짜와 시간을 다루는 라이브러리\n",
    "import json                                                 # JSON 형식의 데이터를 처리하는 라이브러리\n",
    "\n",
    "import taipy as tp\n",
    "from taipy import Config, Orchestrator, Gui"
   ]
  },
  {
   "cell_type": "code",
   "execution_count": 2,
   "id": "fd50c75c",
   "metadata": {},
   "outputs": [
    {
     "data": {
      "text/plain": [
       "[]"
      ]
     },
     "execution_count": 2,
     "metadata": {},
     "output_type": "execute_result"
    }
   ],
   "source": [
    "tp.get_scenarios()"
   ]
  },
  {
   "cell_type": "code",
   "execution_count": 3,
   "id": "b0b39e6b",
   "metadata": {},
   "outputs": [],
   "source": [
    "from algos.algos import *"
   ]
  },
  {
   "cell_type": "code",
   "execution_count": 4,
   "id": "e65a74f1",
   "metadata": {},
   "outputs": [],
   "source": [
    "# from config.config import scenario_cfg\n",
    "# scenario_1 = tp.create_scenario(scenario_cfg)\n",
    "# print_object_attributes(scenario_cfg)"
   ]
  },
  {
   "cell_type": "code",
   "execution_count": 5,
   "id": "675f0f82",
   "metadata": {},
   "outputs": [],
   "source": [
    "# print_object_attributes(scenario)"
   ]
  },
  {
   "cell_type": "code",
   "execution_count": 6,
   "id": "8fe5b060",
   "metadata": {},
   "outputs": [],
   "source": [
    "all_scenarios = tp.get_scenarios()\n",
    "# print_object_attributes(all_scenarios[0])\n",
    "\n",
    "for scenario in all_scenarios:\n",
    "    print(f\"Scenario ID: {scenario.id}\")\n",
    "    "
   ]
  },
  {
   "cell_type": "code",
   "execution_count": 7,
   "id": "ea15a3b3",
   "metadata": {},
   "outputs": [
    {
     "ename": "IndexError",
     "evalue": "list index out of range",
     "output_type": "error",
     "traceback": [
      "\u001b[31m---------------------------------------------------------------------------\u001b[39m",
      "\u001b[31mIndexError\u001b[39m                                Traceback (most recent call last)",
      "\u001b[36mCell\u001b[39m\u001b[36m \u001b[39m\u001b[32mIn[7]\u001b[39m\u001b[32m, line 1\u001b[39m\n\u001b[32m----> \u001b[39m\u001b[32m1\u001b[39m \u001b[43mall_scenarios\u001b[49m\u001b[43m[\u001b[49m\u001b[32;43m0\u001b[39;49m\u001b[43m]\u001b[49m._get_config_id()\n",
      "\u001b[31mIndexError\u001b[39m: list index out of range"
     ]
    }
   ],
   "source": [
    "all_scenarios[0]._get_config_id()"
   ]
  },
  {
   "cell_type": "code",
   "execution_count": null,
   "id": "cde30049",
   "metadata": {},
   "outputs": [],
   "source": [
    "# all_scenarios[0].preprocessed_dataset.read().head()"
   ]
  },
  {
   "cell_type": "code",
   "execution_count": 9,
   "id": "d8561485",
   "metadata": {},
   "outputs": [],
   "source": [
    "# model = \"xgboost\"\n",
    "# tp_exp = \"scenario.metrics_\"+model+\".read()\"\n",
    "# metrics_xgboost = eval(tp_exp)\n",
    "# metrics_xgboost"
   ]
  },
  {
   "cell_type": "code",
   "execution_count": 10,
   "id": "a837c429",
   "metadata": {},
   "outputs": [],
   "source": [
    "# scenario = all_scenarios[0]\n",
    "\n",
    "# # for task in scenario.tasks:\n",
    "\n",
    "# models = {}\n",
    "# for task_name in scenario.tasks:\n",
    "#     if \"train_model\" in task_name:\n",
    "#         model = task_name.split(\"train_model_\")[1]\n",
    "#         # print(\"model :\", model_name)\n",
    "\n",
    "#         # print(\"task :\", task_name)\n",
    "#         task = eval(\"scenario.\" + task_name)\n",
    "#         model_function_name = task.function.__name__\n",
    "#         # print(\"model function :\", model_function_name)\n",
    "                        \n",
    "#         models[model] = {\n",
    "#             \"function\": model_function_name\n",
    "#         }\n",
    "\n",
    "\n",
    "# pprint.pprint(models)"
   ]
  },
  {
   "cell_type": "code",
   "execution_count": 11,
   "id": "45afc871",
   "metadata": {},
   "outputs": [],
   "source": [
    "# models = {\n",
    "#     \"baseline\",\n",
    "#     \"logistic_regression\",\n",
    "#     \"random_forest\",\n",
    "#     \"xgboost\",\n",
    "#     # \"tree\": train_model_decision_tree,\n",
    "# }\n",
    "\n",
    "# ftpn_df = pd.DataFrame()\n",
    "\n",
    "# for scenario in all_scenarios:\n",
    "#     for model in models:\n",
    "#         metrics = eval(\"scenario.metrics_\" + model + \".read()\")\n",
    "#         dict_ftpn = metrics[\"dict_ftpn\"]\n",
    "        \n",
    "#         # 새로운 행을 딕셔너리로 만듭니다.\n",
    "#         # 기존 dict_ftpn에 추가 정보를 더합니다.\n",
    "#         new_row = {\n",
    "#             'scenario_version': scenario._version,\n",
    "#             'scenario_name': scenario._config_id,\n",
    "#             'scenario_id': scenario.id,\n",
    "#             'metrics_model_id': eval(\"scenario.metrics_\" + model + \".id\"),\n",
    "#             'model_name': model,\n",
    "#             'fn': dict_ftpn.get('fn'),\n",
    "#             'fp': dict_ftpn.get('fp'),\n",
    "#             'tn': dict_ftpn.get('tn'),\n",
    "#             'tp': dict_ftpn.get('tp'),\n",
    "#             'preprocess_dataset_id': scenario.preprocess_dataset.id,\n",
    "#             'create_train_test.split_parameter_info_id': scenario.split_parameter_info.id,\n",
    "#             'create_train_test.train_dataset_cfg_id': scenario.train_dataset_cfg.id,\n",
    "#             'create_train_test.test_dataset_cfg_id': scenario.test_dataset_cfg.id,\n",
    "#             'feature_selection_info_id': scenario.feature_selection_info.id,\n",
    "#             'train_parameters_model_id': eval(\"scenario.train_parameters_\" + model + \".id\"),\n",
    "#             'train_trained_model_id': eval(\"scenario.trained_model_\" + model + \".id\"),\n",
    "#             'train_feature_importance_model_id': eval(\"scenario.feature_importance_\" + model + \".id\"),\n",
    "#             'train_parameters_model_info_id': eval(\"scenario.train_parameters_info_\" + model + \".id\"),\n",
    "#             'train_dataset_proba_model_id': eval(\"scenario.train_dataset_proba_\" + model + \".id\"),\n",
    "#             'threshold_model_id': eval(\"scenario.threshold_\" + model + \".id\"),\n",
    "#             'train_dataset_metrics_model_id': eval(\"scenario.train_dataset_metrics_\" + model + \".id\"),\n",
    "#             'forecast_dataset_model_id': eval(\"scenario.forecast_dataset_\" + model + \".id\"),\n",
    "#             'shap_values_model_id': eval(\"scenario.shap_values_\" + model + \".id\"),\n",
    "#             'roc_data_model_id': eval(\"scenario.roc_data_\" + model + \".id\"),\n",
    "#             'auc_score_model_id': eval(\"scenario.auc_score_\" + model + \".id\"),\n",
    "#             'metrics_model_id': eval(\"scenario.metrics_\" + model + \".id\"),\n",
    "#             'metrics_results_model_id': eval(\"scenario.results_\" + model + \".id\")\n",
    "#         }\n",
    "\n",
    "#         # ftpn_df에 새로운 행을 추가합니다.\n",
    "#         # pandas.concat을 사용해 행을 추가하는 것이 일반적으로 append보다 효율적입니다.\n",
    "#         ftpn_df = pd.concat([ftpn_df, pd.DataFrame([new_row])], ignore_index=True)\n",
    "\n",
    "# # 'fn', 'fp', 'tn', 'tp' 컬럼을 가장 앞으로 이동시키기\n",
    "# # 루프 이후에 한 번만 처리합니다.\n",
    "# target_cols = ['fn', 'fp', 'tn', 'tp', 'model']\n",
    "# other_cols = [col for col in ftpn_df.columns if col not in target_cols]\n",
    "# ftpn_df = ftpn_df[target_cols + other_cols]\n",
    "\n",
    "# # 결과 확인\n",
    "# # print(ftpn_df.head())"
   ]
  },
  {
   "cell_type": "code",
   "execution_count": 12,
   "id": "928eebbb",
   "metadata": {},
   "outputs": [],
   "source": [
    "ftpn_df = pd.DataFrame()\n",
    "\n",
    "for scenario in all_scenarios:\n",
    "    for task_name in scenario.tasks:\n",
    "        if \"train_model\" in task_name:\n",
    "            model = task_name.split(\"train_model_\")[1]\n",
    "            task = eval(\"scenario.\" + task_name)\n",
    "            model_function_name = task.function.__name__\n",
    "            \n",
    "            metrics = eval(\"scenario.metrics_\" + model + \".read()\")\n",
    "            dict_ftpn = metrics[\"dict_ftpn\"]\n",
    "            \n",
    "            # 새로운 행을 딕셔너리로 만듭니다.\n",
    "            # 기존 dict_ftpn에 추가 정보를 더합니다.\n",
    "            new_row = {\n",
    "                'scenario_version': scenario._version,\n",
    "                'scenario_creation_date': scenario._creation_date,\n",
    "                'scenario_name': scenario._config_id,\n",
    "                'scenario_id': scenario.id,\n",
    "                'metrics_model_id': eval(\"scenario.metrics_\" + model + \".id\"),\n",
    "                'model_name': model,\n",
    "                'model_function': model_function_name,\n",
    "                'fn': dict_ftpn.get('fn'),\n",
    "                'fp': dict_ftpn.get('fp'),\n",
    "                'tn': dict_ftpn.get('tn'),\n",
    "                'tp': dict_ftpn.get('tp'),\n",
    "                'preprocess_dataset_id': scenario.preprocess_dataset.id,\n",
    "                'create_train_test.split_parameter_info_id': scenario.split_parameter_info.id,\n",
    "                'create_train_test.train_dataset_id': scenario.train_dataset.id,\n",
    "                'create_train_test.test_dataset_id': scenario.test_dataset.id,\n",
    "                'select_feature.feature_selection_info_id': scenario.feature_selection_info.id,\n",
    "                'train_model.train_parameters_model_id': eval(\"scenario.train_parameters_\" + model + \".id\"),\n",
    "                'train_model.train_trained_model_id': eval(\"scenario.trained_model_\" + model + \".id\"),\n",
    "                'train_model.train_feature_importance_model_id': eval(\"scenario.feature_importance_\" + model + \".id\"),\n",
    "                'train_model.train_parameters_model_info_id': eval(\"scenario.train_parameters_info_\" + model + \".id\"),\n",
    "                'find_best_threshold.train_dataset_proba_model_id': eval(\"scenario.train_dataset_proba_\" + model + \".id\"),\n",
    "                'find_best_threshold.threshold_model_id': eval(\"scenario.threshold_\" + model + \".id\"),\n",
    "                'create_metrics_on_train.train_dataset_metrics_model_id': eval(\"scenario.train_dataset_metrics_\" + model + \".id\"),\n",
    "                'forecast.forecast_dataset_model_id': eval(\"scenario.forecast_dataset_\" + model + \".id\"),\n",
    "                'forecast.shap_values_model_id': eval(\"scenario.shap_values_\" + model + \".id\"),\n",
    "                'roc.roc_data_model_id': eval(\"scenario.roc_data_\" + model + \".id\"),\n",
    "                'roc.auc_score_model_id': eval(\"scenario.auc_score_\" + model + \".id\"),\n",
    "                'create_metrics.metrics_model_id': eval(\"scenario.metrics_\" + model + \".id\"),\n",
    "                'create_results.metrics_results_model_id': eval(\"scenario.results_\" + model + \".id\")\n",
    "            }\n",
    "\n",
    "            # ftpn_df에 새로운 행을 추가합니다.\n",
    "            # pandas.concat을 사용해 행을 추가하는 것이 일반적으로 append보다 효율적입니다.\n",
    "            ftpn_df = pd.concat([ftpn_df, pd.DataFrame([new_row])], ignore_index=True)\n",
    "\n",
    "# # 'fn', 'fp', 'tn', 'tp' 컬럼을 가장 앞으로 이동시키기\n",
    "# # 루프 이후에 한 번만 처리합니다.\n",
    "target_cols = ['fn', 'fp', 'tn', 'tp', 'model_name', 'model_function']\n",
    "other_cols = [col for col in ftpn_df.columns if col not in target_cols]\n",
    "ftpn_df = ftpn_df[target_cols + other_cols]\n",
    "\n",
    "# 결과 확인\n",
    "# print(ftpn_df.head())"
   ]
  },
  {
   "cell_type": "code",
   "execution_count": 13,
   "id": "e5aa49a6",
   "metadata": {},
   "outputs": [
    {
     "data": {
      "application/vnd.microsoft.datawrangler.viewer.v0+json": {
       "columns": [
        {
         "name": "index",
         "rawType": "int64",
         "type": "integer"
        },
        {
         "name": "fn",
         "rawType": "int64",
         "type": "integer"
        },
        {
         "name": "fp",
         "rawType": "int64",
         "type": "integer"
        },
        {
         "name": "tn",
         "rawType": "int64",
         "type": "integer"
        },
        {
         "name": "tp",
         "rawType": "int64",
         "type": "integer"
        },
        {
         "name": "model_name",
         "rawType": "object",
         "type": "string"
        },
        {
         "name": "model_function",
         "rawType": "object",
         "type": "string"
        },
        {
         "name": "scenario_version",
         "rawType": "object",
         "type": "string"
        },
        {
         "name": "scenario_creation_date",
         "rawType": "datetime64[ns]",
         "type": "datetime"
        },
        {
         "name": "scenario_name",
         "rawType": "object",
         "type": "string"
        },
        {
         "name": "scenario_id",
         "rawType": "object",
         "type": "string"
        },
        {
         "name": "metrics_model_id",
         "rawType": "object",
         "type": "string"
        },
        {
         "name": "preprocess_dataset_id",
         "rawType": "object",
         "type": "string"
        },
        {
         "name": "create_train_test.split_parameter_info_id",
         "rawType": "object",
         "type": "string"
        },
        {
         "name": "create_train_test.train_dataset_id",
         "rawType": "object",
         "type": "string"
        },
        {
         "name": "create_train_test.test_dataset_id",
         "rawType": "object",
         "type": "string"
        },
        {
         "name": "select_feature.feature_selection_info_id",
         "rawType": "object",
         "type": "string"
        },
        {
         "name": "train_model.train_parameters_model_id",
         "rawType": "object",
         "type": "string"
        },
        {
         "name": "train_model.train_trained_model_id",
         "rawType": "object",
         "type": "string"
        },
        {
         "name": "train_model.train_feature_importance_model_id",
         "rawType": "object",
         "type": "string"
        },
        {
         "name": "train_model.train_parameters_model_info_id",
         "rawType": "object",
         "type": "string"
        },
        {
         "name": "find_best_threshold.train_dataset_proba_model_id",
         "rawType": "object",
         "type": "string"
        },
        {
         "name": "find_best_threshold.threshold_model_id",
         "rawType": "object",
         "type": "string"
        },
        {
         "name": "create_metrics_on_train.train_dataset_metrics_model_id",
         "rawType": "object",
         "type": "string"
        },
        {
         "name": "forecast.forecast_dataset_model_id",
         "rawType": "object",
         "type": "string"
        },
        {
         "name": "forecast.shap_values_model_id",
         "rawType": "object",
         "type": "string"
        },
        {
         "name": "roc.roc_data_model_id",
         "rawType": "object",
         "type": "string"
        },
        {
         "name": "roc.auc_score_model_id",
         "rawType": "object",
         "type": "string"
        },
        {
         "name": "create_metrics.metrics_model_id",
         "rawType": "object",
         "type": "string"
        },
        {
         "name": "create_results.metrics_results_model_id",
         "rawType": "object",
         "type": "string"
        }
       ],
       "ref": "6fa3243f-fa12-4b4a-b606-60e1100f1b1e",
       "rows": [
        [
         "0",
         "1",
         "645",
         "242",
         "17",
         "logistic_regression",
         "train_model_logistic_regression_cv",
         "0fcb2fd2-858e-482c-9296-e71880143fac",
         "2025-08-20 10:46:03.972436",
         "churn_classification",
         "SCENARIO_churn_classification_686bd5fc-abdd-437f-a4b2-dfd0048c333c",
         "DATANODE_metrics_logistic_regression_dfe0f65f-3755-4d78-857e-aa6246132c25",
         "TASK_preprocess_dataset_6541683d-ef42-4054-9501-22d64991ff75",
         "DATANODE_split_parameter_info_1620cb53-ecd7-469d-9d7d-be5a387dc188",
         "DATANODE_train_dataset_5642f926-32ae-417d-b0b1-8620840d74e7",
         "DATANODE_test_dataset_449e7028-6eea-4862-942d-75f820aab43f",
         "DATANODE_feature_selection_info_2d89ab86-4a87-450e-87eb-3ee96de197d0",
         "DATANODE_train_parameters_logistic_regression_c880bd9f-a542-4fee-8b87-2d8c217b8b37",
         "DATANODE_trained_model_logistic_regression_8a034df3-953e-4777-8421-d8e11f27e15a",
         "DATANODE_feature_importance_logistic_regression_44936725-57cb-470e-8878-91165e4fc0e5",
         "DATANODE_train_parameters_info_logistic_regression_dd5ed220-b137-4477-9aed-951a76094760",
         "DATANODE_train_dataset_proba_logistic_regression_defbec82-529a-4dda-89d7-7789c7158be0",
         "DATANODE_threshold_logistic_regression_e82c941b-1a58-43a4-8087-56c5d358b1e4",
         "DATANODE_train_dataset_metrics_logistic_regression_05bd7a9a-a19c-4e04-a38d-1f569fb8f92f",
         "DATANODE_forecast_dataset_logistic_regression_be6121cf-44e3-4893-870a-424eaea4fe2f",
         "DATANODE_shap_values_logistic_regression_bbfa5875-81be-465c-85cb-6ddf74f35741",
         "DATANODE_roc_data_logistic_regression_22a31cbb-5375-49a6-ad23-2b7d6298eed1",
         "DATANODE_auc_score_logistic_regression_285f2a79-14d0-4716-abba-f441633fc5e8",
         "DATANODE_metrics_logistic_regression_dfe0f65f-3755-4d78-857e-aa6246132c25",
         "DATANODE_results_logistic_regression_aae0993d-0029-4d45-8b28-674c496b6256"
        ],
        [
         "1",
         "8",
         "489",
         "398",
         "10",
         "baseline",
         "train_model_baseline",
         "0fcb2fd2-858e-482c-9296-e71880143fac",
         "2025-08-20 10:46:03.972436",
         "churn_classification",
         "SCENARIO_churn_classification_686bd5fc-abdd-437f-a4b2-dfd0048c333c",
         "DATANODE_metrics_baseline_79da278d-b8a4-4617-bef8-71c1da71c3b1",
         "TASK_preprocess_dataset_6541683d-ef42-4054-9501-22d64991ff75",
         "DATANODE_split_parameter_info_1620cb53-ecd7-469d-9d7d-be5a387dc188",
         "DATANODE_train_dataset_5642f926-32ae-417d-b0b1-8620840d74e7",
         "DATANODE_test_dataset_449e7028-6eea-4862-942d-75f820aab43f",
         "DATANODE_feature_selection_info_2d89ab86-4a87-450e-87eb-3ee96de197d0",
         "DATANODE_train_parameters_baseline_0cb2242c-628a-4705-9526-01fa6f68d333",
         "DATANODE_trained_model_baseline_44e43913-1d82-43d4-8efd-afe32481e3ca",
         "DATANODE_feature_importance_baseline_d94da229-cfa3-4cac-9f34-4282ca0c93ef",
         "DATANODE_train_parameters_info_baseline_80d9c4e1-ce80-40c7-8a6a-93262ba9c358",
         "DATANODE_train_dataset_proba_baseline_35dd35f8-67ac-4796-b838-12cd79b6cb22",
         "DATANODE_threshold_baseline_90e83c4d-fa7b-4e7a-8e18-bdb5263e8eeb",
         "DATANODE_train_dataset_metrics_baseline_3d1f2459-0f2a-470c-8687-1c0fbfbc4a72",
         "DATANODE_forecast_dataset_baseline_de9ff561-8273-4f2e-9e21-25bd14df1462",
         "DATANODE_shap_values_baseline_e09fe233-31e6-4204-a60c-30f20b65e14e",
         "DATANODE_roc_data_baseline_e00d3d82-87d1-4c23-9d76-349405a7e621",
         "DATANODE_auc_score_baseline_812c5dfb-8bc6-4e5f-b5fd-daedc6e9978e",
         "DATANODE_metrics_baseline_79da278d-b8a4-4617-bef8-71c1da71c3b1",
         "DATANODE_results_baseline_ca00de2f-d9e1-4721-9e73-aeab6ee7918f"
        ],
        [
         "2",
         "15",
         "88",
         "799",
         "3",
         "xgboost",
         "train_model_xgboost_optuna",
         "0fcb2fd2-858e-482c-9296-e71880143fac",
         "2025-08-20 10:46:03.972436",
         "churn_classification",
         "SCENARIO_churn_classification_686bd5fc-abdd-437f-a4b2-dfd0048c333c",
         "DATANODE_metrics_xgboost_9a0f4052-c209-45d7-836b-9ad5290c90a7",
         "TASK_preprocess_dataset_6541683d-ef42-4054-9501-22d64991ff75",
         "DATANODE_split_parameter_info_1620cb53-ecd7-469d-9d7d-be5a387dc188",
         "DATANODE_train_dataset_5642f926-32ae-417d-b0b1-8620840d74e7",
         "DATANODE_test_dataset_449e7028-6eea-4862-942d-75f820aab43f",
         "DATANODE_feature_selection_info_2d89ab86-4a87-450e-87eb-3ee96de197d0",
         "DATANODE_train_parameters_xgboost_fbac9523-9872-495a-b1a7-e2a8a331f688",
         "DATANODE_trained_model_xgboost_338361b3-7e43-4118-b117-869c95f27513",
         "DATANODE_feature_importance_xgboost_23fba2b8-61e9-4ff0-9b12-0ac3c91135eb",
         "DATANODE_train_parameters_info_xgboost_e1003833-939e-4cf4-b6a2-71a6545d0cde",
         "DATANODE_train_dataset_proba_xgboost_4d2bed97-a4d8-4bab-8c42-05daa4fbec21",
         "DATANODE_threshold_xgboost_29d03053-a422-4a2f-9118-558404cc4fc5",
         "DATANODE_train_dataset_metrics_xgboost_dcea56f1-3ec4-4d35-8fac-fe8d8ca3111a",
         "DATANODE_forecast_dataset_xgboost_c358bc02-3312-4241-bff4-a66cda4bb933",
         "DATANODE_shap_values_xgboost_cb8285a2-3568-482b-9f89-b57cd759baed",
         "DATANODE_roc_data_xgboost_82a4f74c-0015-4ea6-a6bb-1788c4d839c1",
         "DATANODE_auc_score_xgboost_8324d6a8-301b-436b-998b-22a894876c6e",
         "DATANODE_metrics_xgboost_9a0f4052-c209-45d7-836b-9ad5290c90a7",
         "DATANODE_results_xgboost_e7012fb1-7418-4026-89ca-8d4c357636f9"
        ],
        [
         "3",
         "8",
         "127",
         "760",
         "10",
         "random_forest",
         "train_model_rf_optuna",
         "0fcb2fd2-858e-482c-9296-e71880143fac",
         "2025-08-20 10:46:03.972436",
         "churn_classification",
         "SCENARIO_churn_classification_686bd5fc-abdd-437f-a4b2-dfd0048c333c",
         "DATANODE_metrics_random_forest_26db27b8-b5d4-4535-a1f9-3f4ff4a6ffce",
         "TASK_preprocess_dataset_6541683d-ef42-4054-9501-22d64991ff75",
         "DATANODE_split_parameter_info_1620cb53-ecd7-469d-9d7d-be5a387dc188",
         "DATANODE_train_dataset_5642f926-32ae-417d-b0b1-8620840d74e7",
         "DATANODE_test_dataset_449e7028-6eea-4862-942d-75f820aab43f",
         "DATANODE_feature_selection_info_2d89ab86-4a87-450e-87eb-3ee96de197d0",
         "DATANODE_train_parameters_random_forest_d717ca60-90d5-47b5-8f75-108b51a0bfae",
         "DATANODE_trained_model_random_forest_a472fe97-241a-4869-ae91-14b42c12ff97",
         "DATANODE_feature_importance_random_forest_25e1e231-e06b-4f2e-b940-06ad1fc7b869",
         "DATANODE_train_parameters_info_random_forest_4116dbee-469a-4c62-a46f-ee2210792366",
         "DATANODE_train_dataset_proba_random_forest_382aec80-a8a7-44b5-b18d-6cec2608a551",
         "DATANODE_threshold_random_forest_58be76e1-2f7e-4603-87c4-41e9281230c4",
         "DATANODE_train_dataset_metrics_random_forest_440c5515-82df-4d01-8bae-741ff512e33c",
         "DATANODE_forecast_dataset_random_forest_26f311d1-34ca-41a7-9907-ed4e87222994",
         "DATANODE_shap_values_random_forest_98a3bec6-ee9b-4072-b212-37ae9e3060ad",
         "DATANODE_roc_data_random_forest_ca33b359-38ff-4c22-bf42-30dec38644b0",
         "DATANODE_auc_score_random_forest_d70e0e62-7de8-47d3-accd-c573ae854dc9",
         "DATANODE_metrics_random_forest_26db27b8-b5d4-4535-a1f9-3f4ff4a6ffce",
         "DATANODE_results_random_forest_c01739f6-c154-4698-a052-6c1c4653f235"
        ]
       ],
       "shape": {
        "columns": 29,
        "rows": 4
       }
      },
      "text/html": [
       "<div>\n",
       "<style scoped>\n",
       "    .dataframe tbody tr th:only-of-type {\n",
       "        vertical-align: middle;\n",
       "    }\n",
       "\n",
       "    .dataframe tbody tr th {\n",
       "        vertical-align: top;\n",
       "    }\n",
       "\n",
       "    .dataframe thead th {\n",
       "        text-align: right;\n",
       "    }\n",
       "</style>\n",
       "<table border=\"1\" class=\"dataframe\">\n",
       "  <thead>\n",
       "    <tr style=\"text-align: right;\">\n",
       "      <th></th>\n",
       "      <th>fn</th>\n",
       "      <th>fp</th>\n",
       "      <th>tn</th>\n",
       "      <th>tp</th>\n",
       "      <th>model_name</th>\n",
       "      <th>model_function</th>\n",
       "      <th>scenario_version</th>\n",
       "      <th>scenario_creation_date</th>\n",
       "      <th>scenario_name</th>\n",
       "      <th>scenario_id</th>\n",
       "      <th>...</th>\n",
       "      <th>train_model.train_parameters_model_info_id</th>\n",
       "      <th>find_best_threshold.train_dataset_proba_model_id</th>\n",
       "      <th>find_best_threshold.threshold_model_id</th>\n",
       "      <th>create_metrics_on_train.train_dataset_metrics_model_id</th>\n",
       "      <th>forecast.forecast_dataset_model_id</th>\n",
       "      <th>forecast.shap_values_model_id</th>\n",
       "      <th>roc.roc_data_model_id</th>\n",
       "      <th>roc.auc_score_model_id</th>\n",
       "      <th>create_metrics.metrics_model_id</th>\n",
       "      <th>create_results.metrics_results_model_id</th>\n",
       "    </tr>\n",
       "  </thead>\n",
       "  <tbody>\n",
       "    <tr>\n",
       "      <th>0</th>\n",
       "      <td>1</td>\n",
       "      <td>645</td>\n",
       "      <td>242</td>\n",
       "      <td>17</td>\n",
       "      <td>logistic_regression</td>\n",
       "      <td>train_model_logistic_regression_cv</td>\n",
       "      <td>0fcb2fd2-858e-482c-9296-e71880143fac</td>\n",
       "      <td>2025-08-20 10:46:03.972436</td>\n",
       "      <td>churn_classification</td>\n",
       "      <td>SCENARIO_churn_classification_686bd5fc-abdd-43...</td>\n",
       "      <td>...</td>\n",
       "      <td>DATANODE_train_parameters_info_logistic_regres...</td>\n",
       "      <td>DATANODE_train_dataset_proba_logistic_regressi...</td>\n",
       "      <td>DATANODE_threshold_logistic_regression_e82c941...</td>\n",
       "      <td>DATANODE_train_dataset_metrics_logistic_regres...</td>\n",
       "      <td>DATANODE_forecast_dataset_logistic_regression_...</td>\n",
       "      <td>DATANODE_shap_values_logistic_regression_bbfa5...</td>\n",
       "      <td>DATANODE_roc_data_logistic_regression_22a31cbb...</td>\n",
       "      <td>DATANODE_auc_score_logistic_regression_285f2a7...</td>\n",
       "      <td>DATANODE_metrics_logistic_regression_dfe0f65f-...</td>\n",
       "      <td>DATANODE_results_logistic_regression_aae0993d-...</td>\n",
       "    </tr>\n",
       "    <tr>\n",
       "      <th>1</th>\n",
       "      <td>8</td>\n",
       "      <td>489</td>\n",
       "      <td>398</td>\n",
       "      <td>10</td>\n",
       "      <td>baseline</td>\n",
       "      <td>train_model_baseline</td>\n",
       "      <td>0fcb2fd2-858e-482c-9296-e71880143fac</td>\n",
       "      <td>2025-08-20 10:46:03.972436</td>\n",
       "      <td>churn_classification</td>\n",
       "      <td>SCENARIO_churn_classification_686bd5fc-abdd-43...</td>\n",
       "      <td>...</td>\n",
       "      <td>DATANODE_train_parameters_info_baseline_80d9c4...</td>\n",
       "      <td>DATANODE_train_dataset_proba_baseline_35dd35f8...</td>\n",
       "      <td>DATANODE_threshold_baseline_90e83c4d-fa7b-4e7a...</td>\n",
       "      <td>DATANODE_train_dataset_metrics_baseline_3d1f24...</td>\n",
       "      <td>DATANODE_forecast_dataset_baseline_de9ff561-82...</td>\n",
       "      <td>DATANODE_shap_values_baseline_e09fe233-31e6-42...</td>\n",
       "      <td>DATANODE_roc_data_baseline_e00d3d82-87d1-4c23-...</td>\n",
       "      <td>DATANODE_auc_score_baseline_812c5dfb-8bc6-4e5f...</td>\n",
       "      <td>DATANODE_metrics_baseline_79da278d-b8a4-4617-b...</td>\n",
       "      <td>DATANODE_results_baseline_ca00de2f-d9e1-4721-9...</td>\n",
       "    </tr>\n",
       "    <tr>\n",
       "      <th>2</th>\n",
       "      <td>15</td>\n",
       "      <td>88</td>\n",
       "      <td>799</td>\n",
       "      <td>3</td>\n",
       "      <td>xgboost</td>\n",
       "      <td>train_model_xgboost_optuna</td>\n",
       "      <td>0fcb2fd2-858e-482c-9296-e71880143fac</td>\n",
       "      <td>2025-08-20 10:46:03.972436</td>\n",
       "      <td>churn_classification</td>\n",
       "      <td>SCENARIO_churn_classification_686bd5fc-abdd-43...</td>\n",
       "      <td>...</td>\n",
       "      <td>DATANODE_train_parameters_info_xgboost_e100383...</td>\n",
       "      <td>DATANODE_train_dataset_proba_xgboost_4d2bed97-...</td>\n",
       "      <td>DATANODE_threshold_xgboost_29d03053-a422-4a2f-...</td>\n",
       "      <td>DATANODE_train_dataset_metrics_xgboost_dcea56f...</td>\n",
       "      <td>DATANODE_forecast_dataset_xgboost_c358bc02-331...</td>\n",
       "      <td>DATANODE_shap_values_xgboost_cb8285a2-3568-482...</td>\n",
       "      <td>DATANODE_roc_data_xgboost_82a4f74c-0015-4ea6-a...</td>\n",
       "      <td>DATANODE_auc_score_xgboost_8324d6a8-301b-436b-...</td>\n",
       "      <td>DATANODE_metrics_xgboost_9a0f4052-c209-45d7-83...</td>\n",
       "      <td>DATANODE_results_xgboost_e7012fb1-7418-4026-89...</td>\n",
       "    </tr>\n",
       "    <tr>\n",
       "      <th>3</th>\n",
       "      <td>8</td>\n",
       "      <td>127</td>\n",
       "      <td>760</td>\n",
       "      <td>10</td>\n",
       "      <td>random_forest</td>\n",
       "      <td>train_model_rf_optuna</td>\n",
       "      <td>0fcb2fd2-858e-482c-9296-e71880143fac</td>\n",
       "      <td>2025-08-20 10:46:03.972436</td>\n",
       "      <td>churn_classification</td>\n",
       "      <td>SCENARIO_churn_classification_686bd5fc-abdd-43...</td>\n",
       "      <td>...</td>\n",
       "      <td>DATANODE_train_parameters_info_random_forest_4...</td>\n",
       "      <td>DATANODE_train_dataset_proba_random_forest_382...</td>\n",
       "      <td>DATANODE_threshold_random_forest_58be76e1-2f7e...</td>\n",
       "      <td>DATANODE_train_dataset_metrics_random_forest_4...</td>\n",
       "      <td>DATANODE_forecast_dataset_random_forest_26f311...</td>\n",
       "      <td>DATANODE_shap_values_random_forest_98a3bec6-ee...</td>\n",
       "      <td>DATANODE_roc_data_random_forest_ca33b359-38ff-...</td>\n",
       "      <td>DATANODE_auc_score_random_forest_d70e0e62-7de8...</td>\n",
       "      <td>DATANODE_metrics_random_forest_26db27b8-b5d4-4...</td>\n",
       "      <td>DATANODE_results_random_forest_c01739f6-c154-4...</td>\n",
       "    </tr>\n",
       "  </tbody>\n",
       "</table>\n",
       "<p>4 rows × 29 columns</p>\n",
       "</div>"
      ],
      "text/plain": [
       "   fn   fp   tn  tp           model_name                      model_function  \\\n",
       "0   1  645  242  17  logistic_regression  train_model_logistic_regression_cv   \n",
       "1   8  489  398  10             baseline                train_model_baseline   \n",
       "2  15   88  799   3              xgboost          train_model_xgboost_optuna   \n",
       "3   8  127  760  10        random_forest               train_model_rf_optuna   \n",
       "\n",
       "                       scenario_version     scenario_creation_date  \\\n",
       "0  0fcb2fd2-858e-482c-9296-e71880143fac 2025-08-20 10:46:03.972436   \n",
       "1  0fcb2fd2-858e-482c-9296-e71880143fac 2025-08-20 10:46:03.972436   \n",
       "2  0fcb2fd2-858e-482c-9296-e71880143fac 2025-08-20 10:46:03.972436   \n",
       "3  0fcb2fd2-858e-482c-9296-e71880143fac 2025-08-20 10:46:03.972436   \n",
       "\n",
       "          scenario_name                                        scenario_id  \\\n",
       "0  churn_classification  SCENARIO_churn_classification_686bd5fc-abdd-43...   \n",
       "1  churn_classification  SCENARIO_churn_classification_686bd5fc-abdd-43...   \n",
       "2  churn_classification  SCENARIO_churn_classification_686bd5fc-abdd-43...   \n",
       "3  churn_classification  SCENARIO_churn_classification_686bd5fc-abdd-43...   \n",
       "\n",
       "   ...         train_model.train_parameters_model_info_id  \\\n",
       "0  ...  DATANODE_train_parameters_info_logistic_regres...   \n",
       "1  ...  DATANODE_train_parameters_info_baseline_80d9c4...   \n",
       "2  ...  DATANODE_train_parameters_info_xgboost_e100383...   \n",
       "3  ...  DATANODE_train_parameters_info_random_forest_4...   \n",
       "\n",
       "    find_best_threshold.train_dataset_proba_model_id  \\\n",
       "0  DATANODE_train_dataset_proba_logistic_regressi...   \n",
       "1  DATANODE_train_dataset_proba_baseline_35dd35f8...   \n",
       "2  DATANODE_train_dataset_proba_xgboost_4d2bed97-...   \n",
       "3  DATANODE_train_dataset_proba_random_forest_382...   \n",
       "\n",
       "              find_best_threshold.threshold_model_id  \\\n",
       "0  DATANODE_threshold_logistic_regression_e82c941...   \n",
       "1  DATANODE_threshold_baseline_90e83c4d-fa7b-4e7a...   \n",
       "2  DATANODE_threshold_xgboost_29d03053-a422-4a2f-...   \n",
       "3  DATANODE_threshold_random_forest_58be76e1-2f7e...   \n",
       "\n",
       "  create_metrics_on_train.train_dataset_metrics_model_id  \\\n",
       "0  DATANODE_train_dataset_metrics_logistic_regres...       \n",
       "1  DATANODE_train_dataset_metrics_baseline_3d1f24...       \n",
       "2  DATANODE_train_dataset_metrics_xgboost_dcea56f...       \n",
       "3  DATANODE_train_dataset_metrics_random_forest_4...       \n",
       "\n",
       "                  forecast.forecast_dataset_model_id  \\\n",
       "0  DATANODE_forecast_dataset_logistic_regression_...   \n",
       "1  DATANODE_forecast_dataset_baseline_de9ff561-82...   \n",
       "2  DATANODE_forecast_dataset_xgboost_c358bc02-331...   \n",
       "3  DATANODE_forecast_dataset_random_forest_26f311...   \n",
       "\n",
       "                       forecast.shap_values_model_id  \\\n",
       "0  DATANODE_shap_values_logistic_regression_bbfa5...   \n",
       "1  DATANODE_shap_values_baseline_e09fe233-31e6-42...   \n",
       "2  DATANODE_shap_values_xgboost_cb8285a2-3568-482...   \n",
       "3  DATANODE_shap_values_random_forest_98a3bec6-ee...   \n",
       "\n",
       "                               roc.roc_data_model_id  \\\n",
       "0  DATANODE_roc_data_logistic_regression_22a31cbb...   \n",
       "1  DATANODE_roc_data_baseline_e00d3d82-87d1-4c23-...   \n",
       "2  DATANODE_roc_data_xgboost_82a4f74c-0015-4ea6-a...   \n",
       "3  DATANODE_roc_data_random_forest_ca33b359-38ff-...   \n",
       "\n",
       "                              roc.auc_score_model_id  \\\n",
       "0  DATANODE_auc_score_logistic_regression_285f2a7...   \n",
       "1  DATANODE_auc_score_baseline_812c5dfb-8bc6-4e5f...   \n",
       "2  DATANODE_auc_score_xgboost_8324d6a8-301b-436b-...   \n",
       "3  DATANODE_auc_score_random_forest_d70e0e62-7de8...   \n",
       "\n",
       "                     create_metrics.metrics_model_id  \\\n",
       "0  DATANODE_metrics_logistic_regression_dfe0f65f-...   \n",
       "1  DATANODE_metrics_baseline_79da278d-b8a4-4617-b...   \n",
       "2  DATANODE_metrics_xgboost_9a0f4052-c209-45d7-83...   \n",
       "3  DATANODE_metrics_random_forest_26db27b8-b5d4-4...   \n",
       "\n",
       "             create_results.metrics_results_model_id  \n",
       "0  DATANODE_results_logistic_regression_aae0993d-...  \n",
       "1  DATANODE_results_baseline_ca00de2f-d9e1-4721-9...  \n",
       "2  DATANODE_results_xgboost_e7012fb1-7418-4026-89...  \n",
       "3  DATANODE_results_random_forest_c01739f6-c154-4...  \n",
       "\n",
       "[4 rows x 29 columns]"
      ]
     },
     "execution_count": 13,
     "metadata": {},
     "output_type": "execute_result"
    }
   ],
   "source": [
    "ftpn_df"
   ]
  },
  {
   "cell_type": "code",
   "execution_count": 14,
   "id": "43c671c5",
   "metadata": {},
   "outputs": [
    {
     "name": "stdout",
     "output_type": "stream",
     "text": [
      "A new file has been created and saved at 'data/result/summary_metrics_ftpn_df.csv'.\n"
     ]
    }
   ],
   "source": [
    "import os\n",
    "import pandas as pd\n",
    "\n",
    "# 저장할 파일 경로\n",
    "file_path = 'data/result/summary_metrics_ftpn_df.csv'\n",
    "\n",
    "# 저장할 DataFrame (예시 ftpn_df)\n",
    "# 실제 코드에서는 이전에 생성한 ftpn_df를 사용합니다.\n",
    "# ftpn_df = ...\n",
    "\n",
    "# 폴더가 없으면 생성\n",
    "os.makedirs(os.path.dirname(file_path), exist_ok=True)\n",
    "\n",
    "# 파일이 존재하는지 확인\n",
    "file_exists = os.path.isfile(file_path)\n",
    "\n",
    "# 파일이 이미 존재하면 헤더 없이 'a' (append) 모드로 저장\n",
    "if file_exists:\n",
    "    ftpn_df.to_csv(file_path, mode='a', header=False, index=False)\n",
    "    print(f\"Data has been appended to '{file_path}'.\")\n",
    "else:\n",
    "    # 파일이 존재하지 않으면 헤더와 함께 'w' (write) 모드로 저장\n",
    "    ftpn_df.to_csv(file_path, mode='w', header=True, index=False)\n",
    "    print(f\"A new file has been created and saved at '{file_path}'.\")"
   ]
  },
  {
   "cell_type": "code",
   "execution_count": 15,
   "id": "1da4bc34",
   "metadata": {},
   "outputs": [],
   "source": [
    "# import pandas as pd\n",
    "\n",
    "# # Create an empty DataFrame to store the feature importance data\n",
    "# feature_importance_df = pd.DataFrame()\n",
    "\n",
    "# # Iterate through all scenarios and models\n",
    "# for scenario in all_scenarios:\n",
    "#     for model in models:\n",
    "#         # Construct the string for reading the feature importance\n",
    "#         feature_importance_str = f\"scenario.feature_importance_{model}.read()\"\n",
    "\n",
    "#         try:\n",
    "#             # Read the feature importance data for the specific model and scenario\n",
    "#             importance_data = eval(feature_importance_str)\n",
    "\n",
    "#             # Add columns for scenario and model identifiers\n",
    "#             importance_data['model'] = model\n",
    "#             importance_data['scenario_id'] = scenario.id\n",
    "#             importance_data['scenario_name'] = scenario._config_id\n",
    "            \n",
    "#             # Add the requested info\n",
    "#             importance_data['feature_selection_info_id'] = scenario.feature_selection_info.id\n",
    "#             importance_data['threshold_id'] = eval(f\"scenario.threshold_{model}.id\")\n",
    "#             importance_data['train_parameters_info_id'] = eval(f\"scenario.train_parameters_info_{model}.id\")\n",
    "\n",
    "\n",
    "#             # Append the data to the main DataFrame\n",
    "#             feature_importance_df = pd.concat([feature_importance_df, importance_data], ignore_index=True)\n",
    "\n",
    "#         except AttributeError:\n",
    "#             print(f\"No feature importance data found for model '{model}' in scenario '{scenario._config_id}'. Skipping.\")\n",
    "#             continue\n",
    "\n",
    "# # Display the first few rows of the final DataFrame\n",
    "# print(feature_importance_df.head())"
   ]
  },
  {
   "cell_type": "code",
   "execution_count": 16,
   "id": "36c973d7",
   "metadata": {},
   "outputs": [
    {
     "name": "stdout",
     "output_type": "stream",
     "text": [
      "                                            Features  Importance  \\\n",
      "0                      band gap dpat_ok for band gap   -0.022379   \n",
      "1  FAILING_BINOUTS(1) of 1103959_69_1133529_cp1_c...   -0.000100   \n",
      "2           AC_SENSE_CRN 2 of 1103959_69_1133592_RPP    0.000010   \n",
      "3  AC_V_AFE_CRN_5_8_8_P_F 2 of 1103959_69_1133592...    0.000058   \n",
      "4                               SensorOffsetHot-Cold    0.001917   \n",
      "\n",
      "   Importance_abs           model_name                      model_function  \\\n",
      "0        0.022379  logistic_regression  train_model_logistic_regression_cv   \n",
      "1        0.000100  logistic_regression  train_model_logistic_regression_cv   \n",
      "2        0.000010  logistic_regression  train_model_logistic_regression_cv   \n",
      "3        0.000058  logistic_regression  train_model_logistic_regression_cv   \n",
      "4        0.001917  logistic_regression  train_model_logistic_regression_cv   \n",
      "\n",
      "                                         scenario_id         scenario_name  \\\n",
      "0  SCENARIO_churn_classification_686bd5fc-abdd-43...  churn_classification   \n",
      "1  SCENARIO_churn_classification_686bd5fc-abdd-43...  churn_classification   \n",
      "2  SCENARIO_churn_classification_686bd5fc-abdd-43...  churn_classification   \n",
      "3  SCENARIO_churn_classification_686bd5fc-abdd-43...  churn_classification   \n",
      "4  SCENARIO_churn_classification_686bd5fc-abdd-43...  churn_classification   \n",
      "\n",
      "                           feature_selection_info_id  \\\n",
      "0  DATANODE_feature_selection_info_2d89ab86-4a87-...   \n",
      "1  DATANODE_feature_selection_info_2d89ab86-4a87-...   \n",
      "2  DATANODE_feature_selection_info_2d89ab86-4a87-...   \n",
      "3  DATANODE_feature_selection_info_2d89ab86-4a87-...   \n",
      "4  DATANODE_feature_selection_info_2d89ab86-4a87-...   \n",
      "\n",
      "                                        threshold_id  \\\n",
      "0  DATANODE_threshold_logistic_regression_e82c941...   \n",
      "1  DATANODE_threshold_logistic_regression_e82c941...   \n",
      "2  DATANODE_threshold_logistic_regression_e82c941...   \n",
      "3  DATANODE_threshold_logistic_regression_e82c941...   \n",
      "4  DATANODE_threshold_logistic_regression_e82c941...   \n",
      "\n",
      "                            train_parameters_info_id  \n",
      "0  DATANODE_train_parameters_info_logistic_regres...  \n",
      "1  DATANODE_train_parameters_info_logistic_regres...  \n",
      "2  DATANODE_train_parameters_info_logistic_regres...  \n",
      "3  DATANODE_train_parameters_info_logistic_regres...  \n",
      "4  DATANODE_train_parameters_info_logistic_regres...  \n"
     ]
    }
   ],
   "source": [
    "import pandas as pd\n",
    "\n",
    "# Create an empty DataFrame to store the feature importance data\n",
    "feature_importance_df = pd.DataFrame()\n",
    "\n",
    "# Iterate through all scenarios and models\n",
    "for scenario in all_scenarios:\n",
    "    for task_name in scenario.tasks:\n",
    "        if \"train_model\" in task_name:\n",
    "            model = task_name.split(\"train_model_\")[1]\n",
    "            task = eval(\"scenario.\" + task_name)\n",
    "            model_function_name = task.function.__name__\n",
    "\n",
    "            # Construct the string for reading the feature importance\n",
    "            feature_importance_str = f\"scenario.feature_importance_{model}.read()\"\n",
    "\n",
    "            try:\n",
    "                # Read the feature importance data for the specific model and scenario\n",
    "                importance_data = eval(feature_importance_str)\n",
    "\n",
    "                # Add columns for scenario and model identifiers\n",
    "                importance_data['model_name'] = model\n",
    "                importance_data['model_function'] = model_function_name\n",
    "                importance_data['scenario_id'] = scenario.id\n",
    "                importance_data['scenario_name'] = scenario._config_id\n",
    "                \n",
    "                # Add the requested info\n",
    "                importance_data['feature_selection_info_id'] = scenario.feature_selection_info.id\n",
    "                importance_data['threshold_id'] = eval(f\"scenario.threshold_{model}.id\")\n",
    "                importance_data['train_parameters_info_id'] = eval(f\"scenario.train_parameters_info_{model}.id\")\n",
    "\n",
    "\n",
    "                # Append the data to the main DataFrame\n",
    "                feature_importance_df = pd.concat([feature_importance_df, importance_data], ignore_index=True)\n",
    "\n",
    "            except AttributeError:\n",
    "                print(f\"No feature importance data found for model '{model}' in scenario '{scenario._config_id}'. Skipping.\")\n",
    "                continue\n",
    "\n",
    "# Display the first few rows of the final DataFrame\n",
    "print(feature_importance_df.head())"
   ]
  },
  {
   "cell_type": "code",
   "execution_count": 17,
   "id": "3fe3062e",
   "metadata": {},
   "outputs": [],
   "source": [
    "# feature_importance_df\n"
   ]
  },
  {
   "cell_type": "code",
   "execution_count": 18,
   "id": "746637a4",
   "metadata": {},
   "outputs": [
    {
     "name": "stdout",
     "output_type": "stream",
     "text": [
      "A new file has been created and saved at 'data/result/summary_feature_importance_df.csv'.\n"
     ]
    }
   ],
   "source": [
    "import os\n",
    "import pandas as pd\n",
    "\n",
    "# 저장할 파일 경로\n",
    "file_path = 'data/result/summary_feature_importance_df.csv'\n",
    "\n",
    "# 저장할 DataFrame (예시 feature_importance_df)\n",
    "# 실제 코드에서는 이전에 생성한 feature_importance_df를 사용합니다.\n",
    "# feature_importance_df = ...\n",
    "\n",
    "# 폴더가 없으면 생성\n",
    "os.makedirs(os.path.dirname(file_path), exist_ok=True)\n",
    "\n",
    "# 파일이 존재하는지 확인\n",
    "file_exists = os.path.isfile(file_path)\n",
    "\n",
    "# 파일이 이미 존재하면 헤더 없이 'a' (append) 모드로 저장\n",
    "if file_exists:\n",
    "    feature_importance_df.to_csv(file_path, mode='a', header=False, index=False)\n",
    "    print(f\"Data has been appended to '{file_path}'.\")\n",
    "else:\n",
    "    # 파일이 존재하지 않으면 헤더와 함께 'w' (write) 모드로 저장\n",
    "    feature_importance_df.to_csv(file_path, mode='w', header=True, index=False)\n",
    "    print(f\"A new file has been created and saved at '{file_path}'.\")"
   ]
  },
  {
   "cell_type": "code",
   "execution_count": 19,
   "id": "0217a2a0",
   "metadata": {},
   "outputs": [
    {
     "name": "stdout",
     "output_type": "stream",
     "text": [
      "'user_data/jsons\\DATANODE_feature_selection_info_2d89ab86-4a87-450e-87eb-3ee96de197d0.json' -> 'data/result/jsons\\DATANODE_feature_selection_info_2d89ab86-4a87-450e-87eb-3ee96de197d0.json' (파일 덮어쓰기 완료)\n",
      "'user_data/jsons\\DATANODE_feature_selector_b0910644-ee90-4d42-9aab-0ab2e6e63c29.json' -> 'data/result/jsons\\DATANODE_feature_selector_b0910644-ee90-4d42-9aab-0ab2e6e63c29.json' (파일 덮어쓰기 완료)\n",
      "'user_data/jsons\\DATANODE_feature_selector_default_6837e5bc-43e7-406f-a5a7-a560f98ef32b.json' -> 'data/result/jsons\\DATANODE_feature_selector_default_6837e5bc-43e7-406f-a5a7-a560f98ef32b.json' (파일 덮어쓰기 완료)\n",
      "'user_data/jsons\\DATANODE_split_parameter_5703ee2d-10a2-40c6-954e-9048a55c4f00.json' -> 'data/result/jsons\\DATANODE_split_parameter_5703ee2d-10a2-40c6-954e-9048a55c4f00.json' (파일 덮어쓰기 완료)\n",
      "'user_data/jsons\\DATANODE_split_parameter_info_1620cb53-ecd7-469d-9d7d-be5a387dc188.json' -> 'data/result/jsons\\DATANODE_split_parameter_info_1620cb53-ecd7-469d-9d7d-be5a387dc188.json' (파일 덮어쓰기 완료)\n",
      "'user_data/jsons\\DATANODE_threshold_baseline_90e83c4d-fa7b-4e7a-8e18-bdb5263e8eeb.json' -> 'data/result/jsons\\DATANODE_threshold_baseline_90e83c4d-fa7b-4e7a-8e18-bdb5263e8eeb.json' (파일 덮어쓰기 완료)\n",
      "'user_data/jsons\\DATANODE_threshold_logistic_regression_e82c941b-1a58-43a4-8087-56c5d358b1e4.json' -> 'data/result/jsons\\DATANODE_threshold_logistic_regression_e82c941b-1a58-43a4-8087-56c5d358b1e4.json' (파일 덮어쓰기 완료)\n",
      "'user_data/jsons\\DATANODE_threshold_random_forest_58be76e1-2f7e-4603-87c4-41e9281230c4.json' -> 'data/result/jsons\\DATANODE_threshold_random_forest_58be76e1-2f7e-4603-87c4-41e9281230c4.json' (파일 덮어쓰기 완료)\n",
      "'user_data/jsons\\DATANODE_threshold_xgboost_29d03053-a422-4a2f-9118-558404cc4fc5.json' -> 'data/result/jsons\\DATANODE_threshold_xgboost_29d03053-a422-4a2f-9118-558404cc4fc5.json' (파일 덮어쓰기 완료)\n",
      "'user_data/jsons\\DATANODE_train_parameters_baseline_0cb2242c-628a-4705-9526-01fa6f68d333.json' -> 'data/result/jsons\\DATANODE_train_parameters_baseline_0cb2242c-628a-4705-9526-01fa6f68d333.json' (파일 덮어쓰기 완료)\n",
      "'user_data/jsons\\DATANODE_train_parameters_info_baseline_80d9c4e1-ce80-40c7-8a6a-93262ba9c358.json' -> 'data/result/jsons\\DATANODE_train_parameters_info_baseline_80d9c4e1-ce80-40c7-8a6a-93262ba9c358.json' (파일 덮어쓰기 완료)\n",
      "'user_data/jsons\\DATANODE_train_parameters_info_logistic_regression_dd5ed220-b137-4477-9aed-951a76094760.json' -> 'data/result/jsons\\DATANODE_train_parameters_info_logistic_regression_dd5ed220-b137-4477-9aed-951a76094760.json' (파일 덮어쓰기 완료)\n",
      "'user_data/jsons\\DATANODE_train_parameters_info_random_forest_4116dbee-469a-4c62-a46f-ee2210792366.json' -> 'data/result/jsons\\DATANODE_train_parameters_info_random_forest_4116dbee-469a-4c62-a46f-ee2210792366.json' (파일 덮어쓰기 완료)\n",
      "'user_data/jsons\\DATANODE_train_parameters_info_xgboost_e1003833-939e-4cf4-b6a2-71a6545d0cde.json' -> 'data/result/jsons\\DATANODE_train_parameters_info_xgboost_e1003833-939e-4cf4-b6a2-71a6545d0cde.json' (파일 덮어쓰기 완료)\n",
      "'user_data/jsons\\DATANODE_train_parameters_list_default_e45814e0-0cce-4b11-be59-6ff46c146792.json' -> 'data/result/jsons\\DATANODE_train_parameters_list_default_e45814e0-0cce-4b11-be59-6ff46c146792.json' (파일 덮어쓰기 완료)\n",
      "'user_data/jsons\\DATANODE_train_parameters_logistic_regression_c880bd9f-a542-4fee-8b87-2d8c217b8b37.json' -> 'data/result/jsons\\DATANODE_train_parameters_logistic_regression_c880bd9f-a542-4fee-8b87-2d8c217b8b37.json' (파일 덮어쓰기 완료)\n",
      "'user_data/jsons\\DATANODE_train_parameters_random_forest_d717ca60-90d5-47b5-8f75-108b51a0bfae.json' -> 'data/result/jsons\\DATANODE_train_parameters_random_forest_d717ca60-90d5-47b5-8f75-108b51a0bfae.json' (파일 덮어쓰기 완료)\n",
      "'user_data/jsons\\DATANODE_train_parameters_xgboost_fbac9523-9872-495a-b1a7-e2a8a331f688.json' -> 'data/result/jsons\\DATANODE_train_parameters_xgboost_fbac9523-9872-495a-b1a7-e2a8a331f688.json' (파일 덮어쓰기 완료)\n",
      "모든 JSON 파일 복사가 완료되었습니다.\n"
     ]
    }
   ],
   "source": [
    "import os\n",
    "import shutil\n",
    "\n",
    "# 원본 파일이 있는 디렉토리\n",
    "source_dir = 'user_data/jsons'\n",
    "# 복사할 대상 디렉토리\n",
    "destination_dir = 'data/result/jsons'\n",
    "\n",
    "# 대상 디렉토리가 없으면 생성\n",
    "os.makedirs(destination_dir, exist_ok=True)\n",
    "\n",
    "# 원본 디렉토리의 모든 파일에 대해 반복\n",
    "for filename in os.listdir(source_dir):\n",
    "    # JSON 파일만 선택\n",
    "    if filename.endswith('.json'):\n",
    "        source_path = os.path.join(source_dir, filename)\n",
    "        destination_path = os.path.join(destination_dir, filename)\n",
    "        \n",
    "        # 파일 복사. 대상 경로에 파일이 이미 존재하면 덮어쓰기\n",
    "        shutil.copy2(source_path, destination_path)\n",
    "        print(f\"'{source_path}' -> '{destination_path}' (파일 덮어쓰기 완료)\")\n",
    "\n",
    "print(\"모든 JSON 파일 복사가 완료되었습니다.\")"
   ]
  },
  {
   "cell_type": "code",
   "execution_count": 20,
   "id": "ff6fd8ff",
   "metadata": {},
   "outputs": [],
   "source": [
    "# # print_object_attributes(all_scenarios[0])\n",
    "# scenario = all_scenarios[0]"
   ]
  },
  {
   "cell_type": "code",
   "execution_count": 21,
   "id": "e7411b67",
   "metadata": {},
   "outputs": [],
   "source": [
    "# scenario.feature_importance_logistic_regression.read().head()"
   ]
  },
  {
   "cell_type": "code",
   "execution_count": 22,
   "id": "090a089b",
   "metadata": {},
   "outputs": [],
   "source": [
    "# model = \"logistic_regression\"\n",
    "# eval(\"scenario.threshold_\"+model+\".id\")"
   ]
  },
  {
   "cell_type": "code",
   "execution_count": 23,
   "id": "788f43d4",
   "metadata": {},
   "outputs": [],
   "source": [
    "# ftpn_list = []\n",
    "\n",
    "# metrics = eval(\"scenario.metrics_\"+model+\".read()\")"
   ]
  },
  {
   "cell_type": "code",
   "execution_count": 24,
   "id": "ad386ddc",
   "metadata": {},
   "outputs": [],
   "source": [
    "# feature_selection_info = scenario.feature_selection_info.id"
   ]
  },
  {
   "cell_type": "code",
   "execution_count": 25,
   "id": "01a86892",
   "metadata": {},
   "outputs": [],
   "source": [
    "# feature_selection_info_id = scenario.feature_selection_info.id\n",
    "# threshold_baseline_id = scenario.threshold_baseline.id\n",
    "# train_parameters_info_id = scenario.train_parameters_info.id\n"
   ]
  },
  {
   "cell_type": "code",
   "execution_count": 26,
   "id": "35d33050",
   "metadata": {},
   "outputs": [],
   "source": [
    "# DATANODE_metrics_attr = print_object_attributes(DATANODE_metrics)"
   ]
  },
  {
   "cell_type": "code",
   "execution_count": 27,
   "id": "e98b9e7e",
   "metadata": {},
   "outputs": [],
   "source": [
    "# all_scenarios[0].id"
   ]
  },
  {
   "cell_type": "code",
   "execution_count": 28,
   "id": "cdc9f850",
   "metadata": {},
   "outputs": [],
   "source": [
    "# all_jobs = tp.get_jobs()\n",
    "\n",
    "# # print_object_attributes(all_jobs[0])\n",
    "# for job in all_jobs : \n",
    "#     print(f\"Job ID: {job.id}, Status: {job.status}\")"
   ]
  },
  {
   "cell_type": "code",
   "execution_count": 29,
   "id": "287eb185",
   "metadata": {},
   "outputs": [],
   "source": [
    "# all_jobs_status = [(job.id, job.status) for job in all_jobs]"
   ]
  },
  {
   "cell_type": "code",
   "execution_count": null,
   "id": "52bce564",
   "metadata": {},
   "outputs": [],
   "source": []
  },
  {
   "cell_type": "code",
   "execution_count": 30,
   "id": "40831be2",
   "metadata": {},
   "outputs": [],
   "source": [
    "# all_jobs_status"
   ]
  },
  {
   "cell_type": "code",
   "execution_count": 31,
   "id": "5cfaa955",
   "metadata": {},
   "outputs": [],
   "source": [
    "# scenarios = tp.get_entities_by_config_id(tp.get_scenarios()[0])\n",
    "# print(scenarios)\n",
    "# scenario = scenarios[0]"
   ]
  },
  {
   "cell_type": "code",
   "execution_count": 32,
   "id": "c3074b08",
   "metadata": {},
   "outputs": [],
   "source": [
    "# print_object_attributes(scenario)"
   ]
  },
  {
   "cell_type": "code",
   "execution_count": 33,
   "id": "9c99897e",
   "metadata": {},
   "outputs": [],
   "source": [
    "# print(scenario.get_inputs())\n",
    "# print(scenario.get_outputs())"
   ]
  },
  {
   "cell_type": "code",
   "execution_count": 34,
   "id": "385cfded",
   "metadata": {},
   "outputs": [],
   "source": [
    "# input_nodes = scenario.get_inputs()\n",
    "# output_nodes = scenario.get_outputs()"
   ]
  },
  {
   "cell_type": "code",
   "execution_count": 35,
   "id": "6a8270ee",
   "metadata": {},
   "outputs": [],
   "source": [
    "# input_node_1 = list(input_nodes)[0]\n",
    "# output_node_1 = list(output_nodes)[0]\n",
    "# # output_node_1 = list(output_node_1)[0].read()\n"
   ]
  },
  {
   "cell_type": "code",
   "execution_count": 36,
   "id": "58dd575d",
   "metadata": {},
   "outputs": [],
   "source": [
    "# list(output_nodes)[0]\n",
    "# print_object_attributes(list(output_nodes)[0])"
   ]
  },
  {
   "cell_type": "code",
   "execution_count": 37,
   "id": "c014629e",
   "metadata": {},
   "outputs": [],
   "source": [
    "# for o_n in list(output_nodes):\n",
    "#     # print(o_n._config_id )\n",
    "#     if o_n._config_id.startswith('results_'): \n",
    "#         print(o_n._config_id)\n",
    "\n",
    "# # o_n_1.read()"
   ]
  },
  {
   "cell_type": "code",
   "execution_count": 38,
   "id": "778c275d",
   "metadata": {},
   "outputs": [],
   "source": [
    "# print_object_attributes(output_node_1)"
   ]
  },
  {
   "cell_type": "code",
   "execution_count": 39,
   "id": "11c619cb",
   "metadata": {},
   "outputs": [],
   "source": [
    "# models = {\n",
    "#     \"baseline\": train_model_baseline,\n",
    "#     \"logistic_regression\": train_model_logistic_regression,\n",
    "#     \"random_forest\": train_model_rf_cv,\n",
    "#     \"xgboost\": train_model_xgboost_cv,\n",
    "#     # \"tree\": train_model_decision_tree,\n",
    "# }"
   ]
  },
  {
   "cell_type": "code",
   "execution_count": 40,
   "id": "7d1435ca",
   "metadata": {},
   "outputs": [],
   "source": [
    "# train_parameters_default_list = {}\n",
    "\n",
    "# for model_name in models:\n",
    "#     # print(models[model_name].__name__)\n",
    "#     function_name = models[model_name].__name__\n",
    "#     train_parameters = get_train_parameters_default(function_name)\n",
    "#     train_parameters_default_list[function_name] = train_parameters\n"
   ]
  },
  {
   "cell_type": "code",
   "execution_count": 41,
   "id": "19b90aa6",
   "metadata": {},
   "outputs": [],
   "source": [
    "# train_parameters_default_list.get(\"train_model_baseline\")"
   ]
  },
  {
   "cell_type": "code",
   "execution_count": null,
   "id": "10b16642",
   "metadata": {},
   "outputs": [],
   "source": []
  },
  {
   "cell_type": "code",
   "execution_count": null,
   "id": "e0addfdc",
   "metadata": {},
   "outputs": [],
   "source": []
  },
  {
   "cell_type": "code",
   "execution_count": null,
   "id": "8a001295",
   "metadata": {},
   "outputs": [],
   "source": []
  },
  {
   "cell_type": "code",
   "execution_count": null,
   "id": "7b08fc25",
   "metadata": {},
   "outputs": [],
   "source": []
  },
  {
   "cell_type": "code",
   "execution_count": null,
   "id": "c868cf0f",
   "metadata": {},
   "outputs": [],
   "source": []
  },
  {
   "cell_type": "code",
   "execution_count": null,
   "id": "a660c223",
   "metadata": {},
   "outputs": [],
   "source": []
  },
  {
   "cell_type": "code",
   "execution_count": null,
   "id": "b238ee15",
   "metadata": {},
   "outputs": [],
   "source": []
  },
  {
   "cell_type": "code",
   "execution_count": null,
   "id": "23a2e646",
   "metadata": {},
   "outputs": [],
   "source": []
  },
  {
   "cell_type": "code",
   "execution_count": null,
   "id": "e0f00fff",
   "metadata": {},
   "outputs": [],
   "source": []
  },
  {
   "cell_type": "code",
   "execution_count": null,
   "id": "2977a86d",
   "metadata": {},
   "outputs": [],
   "source": []
  },
  {
   "cell_type": "code",
   "execution_count": null,
   "id": "ceb6053d",
   "metadata": {},
   "outputs": [],
   "source": []
  },
  {
   "cell_type": "code",
   "execution_count": null,
   "id": "a028037a",
   "metadata": {},
   "outputs": [],
   "source": []
  },
  {
   "cell_type": "code",
   "execution_count": null,
   "id": "a4bd142f",
   "metadata": {},
   "outputs": [],
   "source": []
  },
  {
   "cell_type": "code",
   "execution_count": null,
   "id": "0d4cb918",
   "metadata": {},
   "outputs": [],
   "source": []
  },
  {
   "cell_type": "code",
   "execution_count": null,
   "id": "d7302258",
   "metadata": {},
   "outputs": [],
   "source": []
  },
  {
   "cell_type": "code",
   "execution_count": null,
   "id": "02dc6541",
   "metadata": {},
   "outputs": [],
   "source": []
  },
  {
   "cell_type": "code",
   "execution_count": null,
   "id": "89e03ddf",
   "metadata": {},
   "outputs": [],
   "source": []
  },
  {
   "cell_type": "code",
   "execution_count": null,
   "id": "c4a70a1e",
   "metadata": {},
   "outputs": [],
   "source": []
  },
  {
   "cell_type": "code",
   "execution_count": null,
   "id": "74f5984d",
   "metadata": {},
   "outputs": [],
   "source": []
  },
  {
   "cell_type": "code",
   "execution_count": null,
   "id": "6991d54c",
   "metadata": {},
   "outputs": [],
   "source": []
  },
  {
   "cell_type": "code",
   "execution_count": null,
   "id": "c259dce6",
   "metadata": {},
   "outputs": [],
   "source": []
  },
  {
   "cell_type": "code",
   "execution_count": null,
   "id": "00e6772f",
   "metadata": {},
   "outputs": [],
   "source": []
  },
  {
   "cell_type": "code",
   "execution_count": null,
   "id": "ea4e2abd",
   "metadata": {},
   "outputs": [],
   "source": []
  },
  {
   "cell_type": "code",
   "execution_count": null,
   "id": "02c8447e",
   "metadata": {},
   "outputs": [],
   "source": []
  },
  {
   "cell_type": "code",
   "execution_count": null,
   "id": "84f21938",
   "metadata": {},
   "outputs": [],
   "source": []
  },
  {
   "cell_type": "code",
   "execution_count": null,
   "id": "3d73d66e",
   "metadata": {},
   "outputs": [],
   "source": []
  },
  {
   "cell_type": "code",
   "execution_count": null,
   "id": "b988628d",
   "metadata": {},
   "outputs": [],
   "source": []
  },
  {
   "cell_type": "code",
   "execution_count": null,
   "id": "e7d12cad",
   "metadata": {},
   "outputs": [],
   "source": []
  },
  {
   "cell_type": "code",
   "execution_count": null,
   "id": "9c0cf317",
   "metadata": {},
   "outputs": [],
   "source": []
  },
  {
   "cell_type": "code",
   "execution_count": null,
   "id": "789fd2e6",
   "metadata": {},
   "outputs": [],
   "source": []
  },
  {
   "cell_type": "code",
   "execution_count": null,
   "id": "e204dec4",
   "metadata": {},
   "outputs": [],
   "source": []
  },
  {
   "cell_type": "code",
   "execution_count": null,
   "id": "fa0c83e7",
   "metadata": {},
   "outputs": [],
   "source": []
  },
  {
   "cell_type": "code",
   "execution_count": null,
   "id": "379f57d6",
   "metadata": {},
   "outputs": [],
   "source": []
  },
  {
   "cell_type": "code",
   "execution_count": null,
   "id": "8b0f84a6",
   "metadata": {},
   "outputs": [],
   "source": []
  },
  {
   "cell_type": "code",
   "execution_count": null,
   "id": "59bec70b",
   "metadata": {},
   "outputs": [],
   "source": []
  },
  {
   "cell_type": "code",
   "execution_count": null,
   "id": "84902016",
   "metadata": {},
   "outputs": [],
   "source": []
  },
  {
   "cell_type": "code",
   "execution_count": null,
   "id": "34602716",
   "metadata": {},
   "outputs": [],
   "source": []
  },
  {
   "cell_type": "code",
   "execution_count": null,
   "id": "8bcfdb0a",
   "metadata": {},
   "outputs": [],
   "source": []
  },
  {
   "cell_type": "code",
   "execution_count": null,
   "id": "452a21d2",
   "metadata": {},
   "outputs": [],
   "source": []
  },
  {
   "cell_type": "code",
   "execution_count": null,
   "id": "692c61e5",
   "metadata": {},
   "outputs": [],
   "source": []
  },
  {
   "cell_type": "code",
   "execution_count": null,
   "id": "c3f171fa",
   "metadata": {},
   "outputs": [],
   "source": []
  },
  {
   "cell_type": "code",
   "execution_count": null,
   "id": "96ab5786",
   "metadata": {},
   "outputs": [],
   "source": []
  },
  {
   "cell_type": "code",
   "execution_count": null,
   "id": "7cb54714",
   "metadata": {},
   "outputs": [],
   "source": []
  },
  {
   "cell_type": "code",
   "execution_count": null,
   "id": "178d170e",
   "metadata": {},
   "outputs": [],
   "source": []
  },
  {
   "cell_type": "code",
   "execution_count": null,
   "id": "dfaa2b43",
   "metadata": {},
   "outputs": [],
   "source": []
  },
  {
   "cell_type": "code",
   "execution_count": null,
   "id": "92d58651",
   "metadata": {},
   "outputs": [],
   "source": []
  },
  {
   "cell_type": "code",
   "execution_count": null,
   "id": "ee624589",
   "metadata": {},
   "outputs": [],
   "source": []
  },
  {
   "cell_type": "code",
   "execution_count": null,
   "id": "a0645ebe",
   "metadata": {},
   "outputs": [],
   "source": []
  },
  {
   "cell_type": "code",
   "execution_count": null,
   "id": "ffc25aca",
   "metadata": {},
   "outputs": [],
   "source": []
  },
  {
   "cell_type": "code",
   "execution_count": null,
   "id": "958e2c09",
   "metadata": {},
   "outputs": [],
   "source": []
  },
  {
   "cell_type": "code",
   "execution_count": null,
   "id": "0a61dc4f",
   "metadata": {},
   "outputs": [],
   "source": []
  },
  {
   "cell_type": "code",
   "execution_count": null,
   "id": "2f8c8a6e",
   "metadata": {},
   "outputs": [],
   "source": []
  },
  {
   "cell_type": "code",
   "execution_count": null,
   "id": "3c4ee6b0",
   "metadata": {},
   "outputs": [],
   "source": []
  },
  {
   "cell_type": "code",
   "execution_count": null,
   "id": "a2586f1b",
   "metadata": {},
   "outputs": [],
   "source": []
  },
  {
   "cell_type": "code",
   "execution_count": null,
   "id": "0a61346d",
   "metadata": {},
   "outputs": [],
   "source": []
  }
 ],
 "metadata": {
  "kernelspec": {
   "display_name": ".venv",
   "language": "python",
   "name": "python3"
  },
  "language_info": {
   "codemirror_mode": {
    "name": "ipython",
    "version": 3
   },
   "file_extension": ".py",
   "mimetype": "text/x-python",
   "name": "python",
   "nbconvert_exporter": "python",
   "pygments_lexer": "ipython3",
   "version": "3.12.7"
  }
 },
 "nbformat": 4,
 "nbformat_minor": 5
}
