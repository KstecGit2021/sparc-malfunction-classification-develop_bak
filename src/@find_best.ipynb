{
 "cells": [
  {
   "cell_type": "code",
   "execution_count": 1,
   "id": "dc5cb688",
   "metadata": {},
   "outputs": [],
   "source": [
    "# 데이터 처리 및 기타 작업을 위한 라이브러리들을 불러옵니다.\n",
    "import pandas as pd                                         # 데이터프레임 구조를 다루는 데 필수적인 라이브러리\n",
    "import numpy as np                                          # 숫자 연산을 위한 라이브러리\n",
    "import datetime as dt                                       # 날짜와 시간을 다루는 라이브러리\n",
    "import json                                                 # JSON 형식의 데이터를 처리하는 라이브러리\n",
    "\n",
    "import taipy as tp\n",
    "\n",
    "from taipy import Config, Orchestrator, Gui\n",
    "# Ensure the orchestrator is stopped before modifying the configuration\n",
    "import pprint"
   ]
  },
  {
   "cell_type": "code",
   "execution_count": 2,
   "id": "610321a9",
   "metadata": {},
   "outputs": [
    {
     "name": "stdout",
     "output_type": "stream",
     "text": [
      "[2025-08-19 10:53:27.243][Taipy][INFO] Unblocking configuration update...\n",
      "[2025-08-19 10:53:27.243][Taipy][INFO] Stopping job dispatcher...\n",
      "[2025-08-19 10:53:27.244][Taipy][INFO] Orchestrator service has been stopped.\n"
     ]
    },
    {
     "data": {
      "text/plain": [
       "<taipy.core.config.job_config.JobConfig at 0x2929e9b5250>"
      ]
     },
     "execution_count": 2,
     "metadata": {},
     "output_type": "execute_result"
    }
   ],
   "source": [
    "tp.Orchestrator().stop()\n",
    "Config.configure_job_executions(mode=\"standalone\", max_nb_of_workers=2)"
   ]
  },
  {
   "cell_type": "code",
   "execution_count": null,
   "id": "1186d081",
   "metadata": {},
   "outputs": [
    {
     "name": "stdout",
     "output_type": "stream",
     "text": [
      "폴더 'C:\\Users\\ohbok\\Taipy\\sparc-malfunction-classification-develop\\src\\.taipy'가 존재하지 않거나 디렉토리가 아닙니다.\n",
      "폴더 'C:\\Users\\ohbok\\Taipy\\sparc-malfunction-classification-develop\\src\\user_data'가 존재하지 않거나 디렉토리가 아닙니다.\n"
     ]
    }
   ],
   "source": [
    "# import shutil\n",
    "# import os\n",
    "\n",
    "# # 삭제할 폴더 경로\n",
    "# folder_paths = [\n",
    "#     # '/usr01/automl/sparc-malfunction-classification-develop/src/.taipy',\n",
    "#     'C:\\\\Users\\\\ohbok\\\\Taipy\\\\sparc-malfunction-classification-develop\\\\src\\\\.taipy',\n",
    "#     # '/usr01/automl/sparc-malfunction-classification-develop/src/user_data'\n",
    "#     'C:\\\\Users\\\\ohbok\\\\Taipy\\\\sparc-malfunction-classification-develop\\\\src\\\\user_data'\n",
    "# ]\n",
    "\n",
    "# for path in folder_paths:\n",
    "#     # 폴더가 존재하는지 확인\n",
    "#     if os.path.exists(path) and os.path.isdir(path):\n",
    "#         try:\n",
    "#             # 폴더 및 그 안의 모든 내용을 강제로 삭제\n",
    "#             shutil.rmtree(path)\n",
    "#             print(f\"폴더 '{path}'가 성공적으로 삭제되었습니다.\")\n",
    "#         except OSError as e:\n",
    "#             print(f\"폴더 '{path}' 삭제 중 오류가 발생했습니다: {e}\")\n",
    "#     else:\n",
    "#         print(f\"폴더 '{path}'가 존재하지 않거나 디렉토리가 아닙니다.\")\n",
    "        \n",
    "import os\n",
    "import shutil\n",
    "\n",
    "# 정리할 폴더 경로\n",
    "folder_paths = [\n",
    "    'C:\\\\Users\\\\ohbok\\\\Taipy\\\\sparc-malfunction-classification-develop\\\\src\\\\.taipy',\n",
    "    'C:\\\\Users\\\\ohbok\\\\Taipy\\\\sparc-malfunction-classification-develop\\\\src\\\\user_data'\n",
    "]\n",
    "\n",
    "for path in folder_paths:\n",
    "    # 폴더가 존재하는지 확인\n",
    "    if os.path.exists(path) and os.path.isdir(path):\n",
    "        try:\n",
    "            # 폴더 하위의 모든 항목을 순회하며 삭제\n",
    "            for item in os.listdir(path):\n",
    "                item_path = os.path.join(path, item)\n",
    "                if os.path.isdir(item_path):\n",
    "                    # 하위 폴더인 경우 shutil.rmtree로 삭제\n",
    "                    shutil.rmtree(item_path)\n",
    "                else:\n",
    "                    # 파일인 경우 os.remove로 삭제\n",
    "                    os.remove(item_path)\n",
    "            print(f\"폴더 '{path}'의 하위 내용이 성공적으로 삭제되었습니다.\")\n",
    "        except OSError as e:\n",
    "            print(f\"폴더 '{path}'의 하위 내용 삭제 중 오류가 발생했습니다: {e}\")\n",
    "    else:\n",
    "        print(f\"폴더 '{path}'가 존재하지 않거나 디렉토리가 아닙니다.\")"
   ]
  },
  {
   "cell_type": "code",
   "execution_count": 4,
   "id": "9ba1b5b3",
   "metadata": {},
   "outputs": [],
   "source": [
    "from config.config import scenario_cfg\n",
    "\n",
    "# Config.load(r\"/usr01/automl/sparc-malfunction-classification-develop/src/config/config.toml\")\n",
    "# scenario_cfg = Config.scenarios[\"churn_classification\"]\n",
    "\n",
    "# scenario_1 = tp.create_scenario(scenario_cfg)\n",
    "# Config.export(\"config/config.toml\")"
   ]
  },
  {
   "cell_type": "code",
   "execution_count": 5,
   "id": "ef7f7c85",
   "metadata": {},
   "outputs": [
    {
     "name": "stdout",
     "output_type": "stream",
     "text": [
      "[2025-08-19 10:53:32.600][Taipy][INFO] Updating configuration with command-line arguments...\n",
      "[2025-08-19 10:53:32.602][Taipy][INFO] Managing application's version...\n",
      "[2025-08-19 10:53:32.611][Taipy][INFO] Development mode: Clean all entities of version 8ac05f3c-eee4-4dd6-a493-11213e1ffbf3\n",
      "[2025-08-19 10:53:32.640][Taipy][INFO] Checking application's version...\n",
      "[2025-08-19 10:53:32.645][Taipy][INFO] Blocking configuration update...\n",
      "[2025-08-19 10:53:32.645][Taipy][INFO] Starting job dispatcher...\n",
      "[2025-08-19 10:53:32.648][Taipy][INFO] Orchestrator service has been started.\n"
     ]
    }
   ],
   "source": [
    "tp.Orchestrator().run()"
   ]
  },
  {
   "cell_type": "code",
   "execution_count": null,
   "id": "b324c4f0",
   "metadata": {},
   "outputs": [],
   "source": [
    "# tp.submit(scenario_1, wait=True)"
   ]
  },
  {
   "cell_type": "code",
   "execution_count": 6,
   "id": "9f058543",
   "metadata": {},
   "outputs": [],
   "source": [
    "from algos.algos import *"
   ]
  },
  {
   "cell_type": "markdown",
   "id": "4e142003",
   "metadata": {},
   "source": [
    "설정 - 입력"
   ]
  },
  {
   "cell_type": "code",
   "execution_count": 7,
   "id": "2a29a225",
   "metadata": {},
   "outputs": [],
   "source": [
    "feature_selector_default = \\\n",
    "{\n",
    "    \"feature_selector_name\": \"CorrelationsClassifier\",\n",
    "    \"f2_scorer\": {\n",
    "        \"name\": \"fbeta_score\",\n",
    "        \"beta\": 4,\n",
    "        \"pos_label\": 1\n",
    "    },\n",
    "    \"variance_threshold_filter\": {\n",
    "        \"threshold\": 0\n",
    "    },\n",
    "    \"correlation_filter\": {\n",
    "        \"threshold\": 0.03\n",
    "    }\n",
    "}"
   ]
  },
  {
   "cell_type": "code",
   "execution_count": 8,
   "id": "66068bbd",
   "metadata": {},
   "outputs": [],
   "source": [
    "# feature_selector = feature_selector_default"
   ]
  },
  {
   "cell_type": "code",
   "execution_count": 9,
   "id": "6045263d",
   "metadata": {},
   "outputs": [],
   "source": [
    "# print(feature_selector[\"feature_selector_name\"])\n",
    "# print(feature_selector[\"f2_scorer\"][\"name\"])\n",
    "# print(feature_selector[\"f2_scorer\"][\"beta\"])\n",
    "# print(feature_selector[\"f2_scorer\"][\"pos_label\"])\n",
    "# print(feature_selector[\"variance_threshold_filter\"][\"threshold\"])"
   ]
  },
  {
   "cell_type": "code",
   "execution_count": 10,
   "id": "e19079ad",
   "metadata": {},
   "outputs": [],
   "source": [
    "# feature_selector_all = \\\n",
    "# {\n",
    "#     \"feature_selector_name\": \"all\"\n",
    "# }"
   ]
  },
  {
   "cell_type": "code",
   "execution_count": 11,
   "id": "3045d2ad",
   "metadata": {},
   "outputs": [],
   "source": [
    "# feature_selector_corr = feature_selector_default"
   ]
  },
  {
   "cell_type": "code",
   "execution_count": 12,
   "id": "9a885c30",
   "metadata": {},
   "outputs": [],
   "source": [
    "# feature_selectors = [\n",
    "#     feature_selector_corr,\n",
    "#     feature_selector_all\n",
    "# ]\n",
    "\n",
    "# feature_selectors = []"
   ]
  },
  {
   "cell_type": "code",
   "execution_count": null,
   "id": "807c2726",
   "metadata": {},
   "outputs": [
    {
     "name": "stdout",
     "output_type": "stream",
     "text": [
      "{'feature_selector_name': 'CorrelationsClassifier', 'f2_scorer': {'name': 'fbeta_score', 'beta': 4, 'pos_label': 1}, 'variance_threshold_filter': {'threshold': 0}, 'correlation_filter': {'threshold': 0.01}}\n",
      "{'feature_selector_name': 'CorrelationsClassifier', 'f2_scorer': {'name': 'fbeta_score', 'beta': 4, 'pos_label': 1}, 'variance_threshold_filter': {'threshold': 0}, 'correlation_filter': {'threshold': 0.02}}\n",
      "{'feature_selector_name': 'CorrelationsClassifier', 'f2_scorer': {'name': 'fbeta_score', 'beta': 4, 'pos_label': 1}, 'variance_threshold_filter': {'threshold': 0}, 'correlation_filter': {'threshold': 0.03}}\n",
      "{'feature_selector_name': 'CorrelationsClassifier', 'f2_scorer': {'name': 'fbeta_score', 'beta': 4, 'pos_label': 1}, 'variance_threshold_filter': {'threshold': 0}, 'correlation_filter': {'threshold': 0.04}}\n",
      "{'feature_selector_name': 'CorrelationsClassifier', 'f2_scorer': {'name': 'fbeta_score', 'beta': 4, 'pos_label': 1}, 'variance_threshold_filter': {'threshold': 0}, 'correlation_filter': {'threshold': 0.05}}\n",
      "{'feature_selector_name': 'CorrelationsClassifier', 'f2_scorer': {'name': 'fbeta_score', 'beta': 4, 'pos_label': 1}, 'variance_threshold_filter': {'threshold': 0}, 'correlation_filter': {'threshold': 0.06}}\n",
      "{'feature_selector_name': 'CorrelationsClassifier', 'f2_scorer': {'name': 'fbeta_score', 'beta': 4, 'pos_label': 1}, 'variance_threshold_filter': {'threshold': 0}, 'correlation_filter': {'threshold': 0.07}}\n",
      "{'feature_selector_name': 'CorrelationsClassifier', 'f2_scorer': {'name': 'fbeta_score', 'beta': 4, 'pos_label': 1}, 'variance_threshold_filter': {'threshold': 0}, 'correlation_filter': {'threshold': 0.08}}\n",
      "{'feature_selector_name': 'CorrelationsClassifier', 'f2_scorer': {'name': 'fbeta_score', 'beta': 4, 'pos_label': 1}, 'variance_threshold_filter': {'threshold': 0}, 'correlation_filter': {'threshold': 0.09}}\n"
     ]
    }
   ],
   "source": [
    "feature_selectors = []\n",
    "\n",
    "# for i in range(1,10):\n",
    "for i in range(1):\n",
    "    # Create a deep copy to avoid modifying the original dictionary in the loop\n",
    "    new_selector = feature_selector_default.copy()\n",
    "    new_selector[\"correlation_filter\"] = feature_selector_default[\"correlation_filter\"].copy()\n",
    "    \n",
    "    # Calculate the new threshold value\n",
    "    new_threshold = i * 0.01\n",
    "    \n",
    "    # Update the threshold\n",
    "    new_selector[\"correlation_filter\"][\"threshold\"] = new_threshold\n",
    "    \n",
    "    # Append the new dictionary to the list\n",
    "    feature_selectors.append(new_selector)\n",
    "    \n",
    "# You can now print the list to verify the result\n",
    "for selector in feature_selectors:\n",
    "    print(selector)"
   ]
  },
  {
   "cell_type": "code",
   "execution_count": 14,
   "id": "72908b4c",
   "metadata": {},
   "outputs": [
    {
     "data": {
      "text/plain": [
       "[{'feature_selector_name': 'CorrelationsClassifier',\n",
       "  'f2_scorer': {'name': 'fbeta_score', 'beta': 4, 'pos_label': 1},\n",
       "  'variance_threshold_filter': {'threshold': 0},\n",
       "  'correlation_filter': {'threshold': 0.01}},\n",
       " {'feature_selector_name': 'CorrelationsClassifier',\n",
       "  'f2_scorer': {'name': 'fbeta_score', 'beta': 4, 'pos_label': 1},\n",
       "  'variance_threshold_filter': {'threshold': 0},\n",
       "  'correlation_filter': {'threshold': 0.02}},\n",
       " {'feature_selector_name': 'CorrelationsClassifier',\n",
       "  'f2_scorer': {'name': 'fbeta_score', 'beta': 4, 'pos_label': 1},\n",
       "  'variance_threshold_filter': {'threshold': 0},\n",
       "  'correlation_filter': {'threshold': 0.03}},\n",
       " {'feature_selector_name': 'CorrelationsClassifier',\n",
       "  'f2_scorer': {'name': 'fbeta_score', 'beta': 4, 'pos_label': 1},\n",
       "  'variance_threshold_filter': {'threshold': 0},\n",
       "  'correlation_filter': {'threshold': 0.04}},\n",
       " {'feature_selector_name': 'CorrelationsClassifier',\n",
       "  'f2_scorer': {'name': 'fbeta_score', 'beta': 4, 'pos_label': 1},\n",
       "  'variance_threshold_filter': {'threshold': 0},\n",
       "  'correlation_filter': {'threshold': 0.05}},\n",
       " {'feature_selector_name': 'CorrelationsClassifier',\n",
       "  'f2_scorer': {'name': 'fbeta_score', 'beta': 4, 'pos_label': 1},\n",
       "  'variance_threshold_filter': {'threshold': 0},\n",
       "  'correlation_filter': {'threshold': 0.06}},\n",
       " {'feature_selector_name': 'CorrelationsClassifier',\n",
       "  'f2_scorer': {'name': 'fbeta_score', 'beta': 4, 'pos_label': 1},\n",
       "  'variance_threshold_filter': {'threshold': 0},\n",
       "  'correlation_filter': {'threshold': 0.07}},\n",
       " {'feature_selector_name': 'CorrelationsClassifier',\n",
       "  'f2_scorer': {'name': 'fbeta_score', 'beta': 4, 'pos_label': 1},\n",
       "  'variance_threshold_filter': {'threshold': 0},\n",
       "  'correlation_filter': {'threshold': 0.08}},\n",
       " {'feature_selector_name': 'CorrelationsClassifier',\n",
       "  'f2_scorer': {'name': 'fbeta_score', 'beta': 4, 'pos_label': 1},\n",
       "  'variance_threshold_filter': {'threshold': 0},\n",
       "  'correlation_filter': {'threshold': 0.09}}]"
      ]
     },
     "execution_count": 14,
     "metadata": {},
     "output_type": "execute_result"
    }
   ],
   "source": [
    "feature_selectors"
   ]
  },
  {
   "cell_type": "code",
   "execution_count": 15,
   "id": "4cb3b485",
   "metadata": {},
   "outputs": [],
   "source": [
    "# def create_train_parameters_default():\n",
    "\n",
    "#     # Define models and their corresponding functions\n",
    "#     models = {\n",
    "#         \"baseline\": train_model_baseline,\n",
    "#         \"logistic_regression\": train_model_logistic_regression,\n",
    "#         \"random_forest\": train_model_rf_cv,\n",
    "#         \"xgboost\": train_model_xgboost_cv,\n",
    "#         # \"tree\": train_model_decision_tree,\n",
    "#     }\n",
    "\n",
    "#     train_parameters = {}\n",
    "\n",
    "#     for model in models:\n",
    "#         function_name = models[model].__name__\n",
    "#         train_parameters_default = get_train_parameters_default(function_name)\n",
    "#         train_parameters[model] = {\n",
    "#             \"Parameters\": train_parameters_default\n",
    "#             }\n",
    "\n",
    "#     return train_parameters\n",
    "\n",
    "\n",
    "\n"
   ]
  },
  {
   "cell_type": "code",
   "execution_count": 16,
   "id": "d7f75244",
   "metadata": {},
   "outputs": [],
   "source": [
    "# scenario = tp.create_scenario(scenario_cfg)\n",
    "# train_parameters_list_default = scenario.train_parameters_list_default.read()\n",
    "# # train_parameters_list_default.get(\"logistic_regression\", {}).get(\"Parameters\", {})\n",
    "# pprint.pprint(train_parameters_list_default)"
   ]
  },
  {
   "cell_type": "code",
   "execution_count": 17,
   "id": "0d6f4241",
   "metadata": {},
   "outputs": [],
   "source": [
    "# # Random Forest 모델 훈련 로직의 파라미터를 효과적으로 탐색하기 위한 조합을 추천해 드릴게요. 기존 `param_grid`는 좋은 출발점이지만, 모델의 성능을 더 세밀하게 조정하고 희귀 클래스에 대한 예측 정확도를 높이기 위해 다음과 같은 조합을 제안합니다.\n",
    "\n",
    "# ### 제안 파라미터 조합\n",
    "\n",
    "# param_grid = {\n",
    "#     # 트리의 개수를 200개 이상으로 늘려 모델의 안정성 및 예측력을 향상\n",
    "#     \"n_estimators\": [100, 200, 300], \n",
    "    \n",
    "#     # 트리의 최대 깊이를 조절하여 과적합을 방지하고 일반화 성능을 높입니다.\n",
    "#     # None은 트리가 노드에 모든 샘플이 포함되거나 min_samples_split 조건이 만족될 때까지 확장되도록 합니다.\n",
    "#     \"max_depth\": [3, 5, 8, 10, None],\n",
    "    \n",
    "#     # 노드를 분할하기 위한 최소 샘플 수를 지정하여 과적합을 제어합니다.\n",
    "#     \"min_samples_split\": [2, 5, 10], \n",
    "    \n",
    "#     # 리프 노드가 되기 위한 최소 샘플 수를 지정합니다. \n",
    "#     # 이는 min_samples_split과 유사하게 과적합을 제어하는 또 다른 방법입니다.\n",
    "#     \"min_samples_leaf\": [1, 2, 4], \n",
    "    \n",
    "#     # 각 노드에서 최적의 분할을 찾기 위해 고려할 특성(feature)의 수를 지정합니다.\n",
    "#     # 'sqrt'는 전체 특성 수의 제곱근, 'log2'는 로그2를 의미하며, 이는 일반적으로 좋은 성능을 보여줍니다.\n",
    "#     \"max_features\": ['sqrt', 'log2', 0.8], # 0.8은 전체 특성의 80%를 사용\n",
    "# }\n",
    "\n",
    "# ### 파라미터별 추천 이유\n",
    "\n",
    "# #### 1\\. `n_estimators`: `[100, 200, 300]`\n",
    "\n",
    "#   * **기존**: `[20, 50, 100, 200]`\n",
    "#   * **추천 이유**: `n_estimators`는 생성할 트리의 개수로, 값이 클수록 모델의 안정성이 높아지고 예측 성능이 향상됩니다. 하지만 계산 비용이 증가하므로 100개부터 시작하여 300개까지 탐색하는 것이 효율적입니다.\n",
    "\n",
    "# #### 2\\. `max_depth`: `[3, 5, 8, 10, None]`\n",
    "\n",
    "#   * **기존**: `[2, 5, None]`\n",
    "#   * **추천 이유**: `max_depth`가 너무 낮으면 모델이 단순해져 과소적합(underfitting)될 수 있습니다. `2`는 너무 제한적일 수 있으므로, **`3`과 `10` 사이의 값을 추가하여** 모델이 더 복잡한 패턴을 학습할 수 있도록 하는 것이 좋습니다.\n",
    "\n",
    "# #### 3\\. `min_samples_split`: `[2, 5, 10]`\n",
    "\n",
    "#   * **기존**: `[2, 5]`\n",
    "#   * **추천 이유**: 노드를 분할하기 위한 최소 샘플 수입니다. 값이 작을수록 과적합될 가능성이 높아지므로, **`10`을 추가하여** 더 보수적인 모델을 탐색하는 것이 유효합니다.\n",
    "\n",
    "# #### 4\\. `min_samples_leaf`: `[1, 2, 4]` (새로운 파라미터)\n",
    "\n",
    "#   * **추천 이유**: 이 파라미터는 `min_samples_split`과 함께 과적합을 제어하는 중요한 하이퍼파라미터입니다. 리프 노드가 가지는 최소 샘플 수를 지정함으로써, 너무 작은 노드 생성을 방지합니다. **`min_samples_split`과 함께 사용하면** 모델의 일반화 성능을 높이는 데 도움이 됩니다.\n",
    "\n",
    "# #### 5\\. `max_features`: `['sqrt', 'log2', 0.8]` (새로운 파라미터)\n",
    "\n",
    "#   * **추천 이유**: 각 트리를 생성할 때 고려할 최대 특성 수를 지정합니다. `RandomForestClassifier`의 기본값은 `sqrt`이지만, `log2`나 전체 특성의 비율(예: `0.8`)을 탐색하여 더 나은 성능을 찾을 수 있습니다.\n",
    "\n",
    "# **결론적으로, 위 파라미터 조합은 기존 `param_grid`보다 더 넓은 범위와 세밀한 옵션을 제공하여 Random Forest 모델의 성능을 최적화하는 데 도움이 될 것입니다.** GridSearchCV를 통해 이 조합을 탐색하면, F2 스코어를 극대화하는 최적의 파라미터를 찾을 수 있을 거예요."
   ]
  },
  {
   "cell_type": "code",
   "execution_count": 2,
   "id": "f416fd5c",
   "metadata": {},
   "outputs": [
    {
     "name": "stdout",
     "output_type": "stream",
     "text": [
      "{'baseline': {'train_model_baseline': {'function_name': 'train_model_baseline',\n",
      "                                       'importance_data': {'Features': ['SensorOffsetHot-Cold',\n",
      "                                                                        'band '\n",
      "                                                                        'gap '\n",
      "                                                                        'dpat_ok '\n",
      "                                                                        'for '\n",
      "                                                                        'band '\n",
      "                                                                        'gap',\n",
      "                                                                        'Radius'],\n",
      "                                                           'Importance': [56.6,\n",
      "                                                                          4.65,\n",
      "                                                                          96.9]}}},\n",
      " 'logistic_regression': {'train_model_logistic_regression': {'class_weight_multiplier': 'len(y) '\n",
      "                                                                                        '- '\n",
      "                                                                                        'n_pos',\n",
      "                                                             'function_name': 'train_model_logistic_regression',\n",
      "                                                             'max_iter': 10,\n",
      "                                                             'solver': 'lbfgs'},\n",
      "                         'train_parameters_optuna': {'f2_rare_scorer': {'beta': 2,\n",
      "                                                                        'name': 'fbeta_score',\n",
      "                                                                        'pos_label': 1},\n",
      "                                                     'function_name': 'train_model_logistic_regression_optuna',\n",
      "                                                     'n_trials': 50,\n",
      "                                                     'param_ranges': {'C': [0.0001,\n",
      "                                                                            20],\n",
      "                                                                      'class_weight_multiplier': [1,\n",
      "                                                                                                  20],\n",
      "                                                                      'max_iter': 10,\n",
      "                                                                      'solver': ['liblinear',\n",
      "                                                                                 'saga']}}},\n",
      " 'random_forest': {'train_model_rf_cv': {'class_weight_multiplier': 'len(y) - '\n",
      "                                                                    'sum(y)',\n",
      "                                         'cv': 3,\n",
      "                                         'f2_rare_scorer': {'beta': 2,\n",
      "                                                            'name': 'fbeta_score',\n",
      "                                                            'pos_label': 1},\n",
      "                                         'function_name': 'train_model_rf_cv',\n",
      "                                         'param_grid': {'max_depth': [2,\n",
      "                                                                      5,\n",
      "                                                                      None],\n",
      "                                                        'min_samples_split': [2,\n",
      "                                                                              5],\n",
      "                                                        'n_estimators': [20,\n",
      "                                                                         50,\n",
      "                                                                         100]},\n",
      "                                         'verbose': 1},\n",
      "                   'train_model_rf_optuna': {'cv': 5,\n",
      "                                             'f2_rare_scorer': {'beta': 2,\n",
      "                                                                'name': 'fbeta_score',\n",
      "                                                                'pos_label': 1},\n",
      "                                             'function_name': 'train_model_rf_optuna',\n",
      "                                             'n_trials': 50,\n",
      "                                             'param_ranges': {'max_depth': {'high': 30,\n",
      "                                                                            'low': 10},\n",
      "                                                              'max_features': {'choices': ['sqrt',\n",
      "                                                                                           0.5,\n",
      "                                                                                           0.8]},\n",
      "                                                              'min_samples_leaf': {'high': 10,\n",
      "                                                                                   'low': 1},\n",
      "                                                              'min_samples_split': {'high': 20,\n",
      "                                                                                    'low': 2},\n",
      "                                                              'n_estimators': {'high': 300,\n",
      "                                                                               'low': 100}}},\n",
      "                   'train_model_rf_optuna_old': {'cv': 5,\n",
      "                                                 'function_name': 'train_model_rf_optuna',\n",
      "                                                 'n_trials': 50,\n",
      "                                                 'param_ranges': {'max_depth': {'high': 30,\n",
      "                                                                                'low': 10},\n",
      "                                                                  'max_features': {'choices': ['sqrt',\n",
      "                                                                                               0.5,\n",
      "                                                                                               0.8]},\n",
      "                                                                  'min_samples_leaf': {'high': 10,\n",
      "                                                                                       'low': 1},\n",
      "                                                                  'min_samples_split': {'high': 20,\n",
      "                                                                                        'low': 2},\n",
      "                                                                  'n_estimators': {'high': 300,\n",
      "                                                                                   'low': 100}}}},\n",
      " 'xgboost': {'train_model_xgboost_cv': {'cv': 3,\n",
      "                                        'f2_rare_scorer': {'beta': 2,\n",
      "                                                           'name': 'fbeta_score',\n",
      "                                                           'pos_label': 1},\n",
      "                                        'function_name': 'train_model_xgboost_cv',\n",
      "                                        'param_grid': {'learning_rate': [0.01,\n",
      "                                                                         0.1,\n",
      "                                                                         0.2],\n",
      "                                                       'max_depth': [2, 5],\n",
      "                                                       'n_estimators': [30,\n",
      "                                                                        50,\n",
      "                                                                        100]},\n",
      "                                        'scale_pos_weight_multiplier': 2,\n",
      "                                        'verbose': 1},\n",
      "             'train_model_xgboost_optuna': {'cv': 5,\n",
      "                                            'function_name': 'train_model_xgboost_optuna',\n",
      "                                            'n_trials': 50,\n",
      "                                            'param_ranges': {'colsample_bytree': {'high': 1.0,\n",
      "                                                                                  'low': 0.7},\n",
      "                                                             'gamma': {'high': 0.5,\n",
      "                                                                       'low': 0.1},\n",
      "                                                             'learning_rate': {'high': 0.2,\n",
      "                                                                               'low': 0.01},\n",
      "                                                             'max_depth': {'high': 20,\n",
      "                                                                           'low': 5},\n",
      "                                                             'n_estimators': {'high': 300,\n",
      "                                                                              'low': 100},\n",
      "                                                             'reg_alpha': {'high': 0.1,\n",
      "                                                                           'low': 1e-06},\n",
      "                                                             'reg_lambda': {'high': 0.1,\n",
      "                                                                            'low': 1e-06},\n",
      "                                                             'subsample': {'high': 1.0,\n",
      "                                                                           'low': 0.7}},\n",
      "                                            'ratio_multiplier_range': {'high': 1.2,\n",
      "                                                                       'low': 0.8}}}}\n"
     ]
    }
   ],
   "source": [
    "train_parameters_list = \\\n",
    "{'baseline': {'train_model_baseline': {'function_name': 'train_model_baseline',\n",
    "                                       'importance_data': {'Features': ['SensorOffsetHot-Cold',\n",
    "                                                                        'band '\n",
    "                                                                        'gap '\n",
    "                                                                        'dpat_ok '\n",
    "                                                                        'for '\n",
    "                                                                        'band '\n",
    "                                                                        'gap',\n",
    "                                                                        'Radius'],\n",
    "                                                           'Importance': [56.6,\n",
    "                                                                          4.65,\n",
    "                                                                          96.9]}}},\n",
    " 'logistic_regression': {'train_model_logistic_regression': {'class_weight_multiplier': 'len(y) '\n",
    "                                                                                        '- '\n",
    "                                                                                        'n_pos',\n",
    "                                                             'function_name': 'train_model_logistic_regression',\n",
    "                                                            #  'max_iter': 1000,\n",
    "                                                             'max_iter': 10,\n",
    "                                                             'solver': 'lbfgs'},\n",
    "                         'train_parameters_optuna': {'f2_rare_scorer': {'beta': 2,\n",
    "                                                                        'name': 'fbeta_score',\n",
    "                                                                        'pos_label': 1},\n",
    "                                                     'function_name': 'train_model_logistic_regression_optuna',\n",
    "                                                     'n_trials': 50,\n",
    "                                                     'param_ranges': {'C': [0.0001,\n",
    "                                                                            20],\n",
    "                                                                      'class_weight_multiplier': [1,\n",
    "                                                                                                  20],\n",
    "                                                                    #   'max_iter': 1000,\n",
    "                                                                      'max_iter': 10,\n",
    "                                                                      'solver': ['liblinear',\n",
    "                                                                                 'saga']}}},\n",
    " 'random_forest': {'train_model_rf_cv': {'class_weight_multiplier': 'len(y) - '\n",
    "                                                                    'sum(y)',\n",
    "                                         'cv': 3,\n",
    "                                         'f2_rare_scorer': {'beta': 2,\n",
    "                                                            'name': 'fbeta_score',\n",
    "                                                            'pos_label': 1},\n",
    "                                         'function_name': 'train_model_rf_cv',\n",
    "                                         'param_grid': {'max_depth': [2,\n",
    "                                                                      5,\n",
    "                                                                      None],\n",
    "                                                        'min_samples_split': [2,\n",
    "                                                                              5],\n",
    "                                                        'n_estimators': [20,\n",
    "                                                                         50,\n",
    "                                                                         100]},\n",
    "                                         'verbose': 1},\n",
    "                   'train_model_rf_optuna_old': {'cv': 5,\n",
    "                                             'function_name': 'train_model_rf_optuna',\n",
    "                                             'n_trials': 50,\n",
    "                                             'param_ranges': {'max_depth': {'high': 30,\n",
    "                                                                            'low': 10},\n",
    "                                                              'max_features': {'choices': ['sqrt',\n",
    "                                                                                           0.5,\n",
    "                                                                                           0.8]},\n",
    "                                                              'min_samples_leaf': {'high': 10,\n",
    "                                                                                   'low': 1},\n",
    "                                                              'min_samples_split': {'high': 20,\n",
    "                                                                                    'low': 2},\n",
    "                                                              'n_estimators': {'high': 300,\n",
    "                                                                               'low': 100}}},\n",
    "                    'train_model_rf_optuna': {\n",
    "                        'cv': 5,\n",
    "                        'function_name': 'train_model_rf_optuna',\n",
    "                        'n_trials': 50,\n",
    "                        # f2_rare_scorer 정보 추가\n",
    "                        'f2_rare_scorer': {'beta': 2, 'name': 'fbeta_score', 'pos_label': 1},\n",
    "                        'param_ranges': {'max_depth': {'high': 30, 'low': 10},\n",
    "                                        'max_features': {'choices': ['sqrt', 0.5, 0.8]},\n",
    "                                        'min_samples_leaf': {'high': 10, 'low': 1},\n",
    "                                        'min_samples_split': {'high': 20, 'low': 2},\n",
    "                                        'n_estimators': {'high': 300, 'low': 100}\n",
    "                                        # 'class_weight_multiplier'는 objective 함수 내에서 동적으로 추가되므로 여기에 명시할 필요 없음\n",
    "                                        }}\n",
    "                   },\n",
    " 'xgboost': {'train_model_xgboost_cv': {'cv': 3,\n",
    "                                        'f2_rare_scorer': {'beta': 2,\n",
    "                                                           'name': 'fbeta_score',\n",
    "                                                           'pos_label': 1},\n",
    "                                        'function_name': 'train_model_xgboost_cv',\n",
    "                                        'param_grid': {'learning_rate': [0.01,\n",
    "                                                                         0.1,\n",
    "                                                                         0.2],\n",
    "                                                       'max_depth': [2, 5],\n",
    "                                                       'n_estimators': [30,\n",
    "                                                                        50,\n",
    "                                                                        100]},\n",
    "                                        'scale_pos_weight_multiplier': 2,\n",
    "                                        'verbose': 1},\n",
    "             'train_model_xgboost_optuna': {'cv': 5,\n",
    "                                            'function_name': 'train_model_xgboost_optuna',\n",
    "                                            'n_trials': 50,\n",
    "                                            'param_ranges': {'colsample_bytree': {'high': 1.0,\n",
    "                                                                                  'low': 0.7},\n",
    "                                                             'gamma': {'high': 0.5,\n",
    "                                                                       'low': 0.1},\n",
    "                                                             'learning_rate': {'high': 0.2,\n",
    "                                                                               'low': 0.01},\n",
    "                                                             'max_depth': {'high': 20,\n",
    "                                                                           'low': 5},\n",
    "                                                             'n_estimators': {'high': 300,\n",
    "                                                                              'low': 100},\n",
    "                                                             'reg_alpha': {'high': 0.1,\n",
    "                                                                           'low': 1e-06},\n",
    "                                                             'reg_lambda': {'high': 0.1,\n",
    "                                                                            'low': 1e-06},\n",
    "                                                             'subsample': {'high': 1.0,\n",
    "                                                                           'low': 0.7}},\n",
    "                                            'ratio_multiplier_range': {'high': 1.2,\n",
    "                                                                       'low': 0.8}}}}\n",
    "import pprint\n",
    "pprint.pprint(train_parameters_list)"
   ]
  },
  {
   "cell_type": "code",
   "execution_count": 19,
   "id": "8a241a48",
   "metadata": {},
   "outputs": [],
   "source": [
    "# models = {\n",
    "#     \"baseline\": train_model_baseline,\n",
    "#     \"logistic_regression\": train_model_logistic_regression,\n",
    "#     \"random_forest\": train_model_rf_cv,\n",
    "#     \"xgboost\": train_model_xgboost_cv,\n",
    "#     # \"tree\": train_model_decision_tree,\n",
    "# }\n",
    "\n",
    "# for model in models:\n",
    "#     print(f\"Model: {model}\")\n",
    "#     getattr(scenario, f\"train_parameters_{model}\").write(train_parameters_list.get(model, {}).get(\"Parameters\", {}))"
   ]
  },
  {
   "cell_type": "code",
   "execution_count": 20,
   "id": "ed92d469",
   "metadata": {},
   "outputs": [],
   "source": [
    "# scenario.train_parameters_random_forest.read()"
   ]
  },
  {
   "cell_type": "markdown",
   "id": "f63bca4c",
   "metadata": {},
   "source": [
    "실행\n"
   ]
  },
  {
   "cell_type": "code",
   "execution_count": 21,
   "id": "6734b0de",
   "metadata": {},
   "outputs": [],
   "source": [
    "# i = 0\n",
    "# for feature_selector in feature_selectors:\n",
    "#     scenario_cfg.id = f\"feature_selector_{i}\"\n",
    "#     print(f\"Submitting scenario with feature selector: {feature_selector['feature_selector_name']}\")\n",
    "#     print(f\"Scenario ID: {scenario_cfg.id}\")\n",
    "#     scenario = tp.create_scenario(scenario_cfg)\n",
    "#     scenario.feature_selector.write(feature_selector)\n",
    "#     scenario.submit()\n",
    "#     i += 1\n"
   ]
  },
  {
   "cell_type": "code",
   "execution_count": null,
   "id": "63c0ad11",
   "metadata": {},
   "outputs": [],
   "source": [
    "for i in tp.get_scenarios():\n",
    "    tp.delete(i)"
   ]
  },
  {
   "cell_type": "code",
   "execution_count": null,
   "id": "8d637c46",
   "metadata": {},
   "outputs": [],
   "source": [
    "import datetime\n",
    "import uuid\n",
    "\n",
    "for feature_selector in feature_selectors:\n",
    "\n",
    "    timestamp = datetime.datetime.now().strftime(\"%Y%m\")\n",
    "    unique_id = uuid.uuid4().hex[:4]  # Using first 4 characters of a UUID for brevity\n",
    "\n",
    "    # Create the scenario ID with the desired format\n",
    "    scenario_name = f\"scenario_{timestamp}_{unique_id}\"\n",
    "    scenario_cfg.id = scenario_name\n",
    "\n",
    "    print(f\"Submitting scenario with feature selector: {feature_selector['feature_selector_name']}\")\n",
    "    print(f\"Scenario ID: {scenario_cfg.id}\")\n",
    "    scenario = tp.create_scenario(scenario_cfg)\n",
    "    scenario.feature_selector.write(feature_selector)\n",
    "\n",
    "    scenario.feature_selector.write(feature_selector)\n",
    "\n",
    "    # for model in models:\n",
    "    #     print(f\"Model: {model}\")\n",
    "    #     getattr(scenario, f\"train_parameters_{model}\").write(train_parameters_list.get(model, {}).get(\"Parameters\", {}))\n"
   ]
  },
  {
   "cell_type": "code",
   "execution_count": null,
   "id": "631c89e2",
   "metadata": {},
   "outputs": [],
   "source": [
    "tp.get_scenarios()"
   ]
  },
  {
   "cell_type": "code",
   "execution_count": null,
   "id": "dad6bf83",
   "metadata": {},
   "outputs": [],
   "source": [
    "for scenario in tp.get_scenarios():\n",
    "    scenario.submit()"
   ]
  },
  {
   "cell_type": "code",
   "execution_count": null,
   "id": "a8f21c97",
   "metadata": {},
   "outputs": [],
   "source": [
    "print(\"\\n모든 시나리오가 제출되었습니다. 모든 작업이 완료될 때까지 기다립니다...\")"
   ]
  },
  {
   "cell_type": "code",
   "execution_count": null,
   "id": "1cdca72b",
   "metadata": {},
   "outputs": [],
   "source": [
    "all_jobs = tp.get_jobs()\n",
    "\n",
    "# print_object_attributes(all_jobs[0])\n",
    "for job in all_jobs : \n",
    "    if \"COMPLETED\" not in str(job.status):\n",
    "        print(f\"Job ID: {job.id}, Status: {job.status}\")\n",
    "    else: pass\n"
   ]
  },
  {
   "cell_type": "code",
   "execution_count": null,
   "id": "d6940d9c",
   "metadata": {},
   "outputs": [],
   "source": [
    "# all_jobs_status = [(job.id, job.status) for job in all_jobs]"
   ]
  },
  {
   "cell_type": "code",
   "execution_count": null,
   "id": "da38b42f",
   "metadata": {},
   "outputs": [],
   "source": [
    "# all_jobs_status"
   ]
  },
  {
   "cell_type": "code",
   "execution_count": null,
   "id": "2f153242",
   "metadata": {},
   "outputs": [],
   "source": []
  },
  {
   "cell_type": "code",
   "execution_count": null,
   "id": "7bf41d6a",
   "metadata": {},
   "outputs": [],
   "source": []
  },
  {
   "cell_type": "code",
   "execution_count": null,
   "id": "3e6aa6c8",
   "metadata": {},
   "outputs": [],
   "source": []
  },
  {
   "cell_type": "code",
   "execution_count": null,
   "id": "fb4a2444",
   "metadata": {},
   "outputs": [],
   "source": []
  },
  {
   "cell_type": "code",
   "execution_count": null,
   "id": "72f67051",
   "metadata": {},
   "outputs": [],
   "source": []
  },
  {
   "cell_type": "code",
   "execution_count": null,
   "id": "ba5f9d31",
   "metadata": {},
   "outputs": [],
   "source": []
  },
  {
   "cell_type": "code",
   "execution_count": null,
   "id": "93eb4340",
   "metadata": {},
   "outputs": [],
   "source": []
  },
  {
   "cell_type": "code",
   "execution_count": null,
   "id": "5f6b4182",
   "metadata": {},
   "outputs": [],
   "source": []
  },
  {
   "cell_type": "code",
   "execution_count": null,
   "id": "17603b8b",
   "metadata": {},
   "outputs": [],
   "source": []
  },
  {
   "cell_type": "code",
   "execution_count": null,
   "id": "c1fc52a5",
   "metadata": {},
   "outputs": [],
   "source": []
  },
  {
   "cell_type": "code",
   "execution_count": null,
   "id": "336c6a64",
   "metadata": {},
   "outputs": [],
   "source": []
  },
  {
   "cell_type": "code",
   "execution_count": null,
   "id": "f49ec395",
   "metadata": {},
   "outputs": [],
   "source": []
  },
  {
   "cell_type": "code",
   "execution_count": null,
   "id": "9912e8dc",
   "metadata": {},
   "outputs": [],
   "source": []
  },
  {
   "cell_type": "code",
   "execution_count": null,
   "id": "ae3b80bd",
   "metadata": {},
   "outputs": [],
   "source": []
  },
  {
   "cell_type": "code",
   "execution_count": null,
   "id": "3c134e39",
   "metadata": {},
   "outputs": [],
   "source": []
  },
  {
   "cell_type": "code",
   "execution_count": null,
   "id": "0d8fd8a8",
   "metadata": {},
   "outputs": [],
   "source": []
  },
  {
   "cell_type": "code",
   "execution_count": null,
   "id": "7d03b7cc",
   "metadata": {},
   "outputs": [],
   "source": []
  },
  {
   "cell_type": "code",
   "execution_count": null,
   "id": "4095de4f",
   "metadata": {},
   "outputs": [],
   "source": []
  },
  {
   "cell_type": "code",
   "execution_count": null,
   "id": "cdd55852",
   "metadata": {},
   "outputs": [],
   "source": []
  },
  {
   "cell_type": "code",
   "execution_count": null,
   "id": "a849379a",
   "metadata": {},
   "outputs": [],
   "source": []
  },
  {
   "cell_type": "code",
   "execution_count": null,
   "id": "5d7a53b4",
   "metadata": {},
   "outputs": [],
   "source": []
  },
  {
   "cell_type": "code",
   "execution_count": null,
   "id": "5455fc02",
   "metadata": {},
   "outputs": [],
   "source": []
  },
  {
   "cell_type": "code",
   "execution_count": null,
   "id": "d00424f5",
   "metadata": {},
   "outputs": [],
   "source": []
  },
  {
   "cell_type": "code",
   "execution_count": null,
   "id": "ae04dffc",
   "metadata": {},
   "outputs": [],
   "source": []
  },
  {
   "cell_type": "code",
   "execution_count": null,
   "id": "dda9f5dd",
   "metadata": {},
   "outputs": [],
   "source": []
  },
  {
   "cell_type": "code",
   "execution_count": null,
   "id": "0bae169c",
   "metadata": {},
   "outputs": [],
   "source": []
  },
  {
   "cell_type": "code",
   "execution_count": null,
   "id": "fc82521c",
   "metadata": {},
   "outputs": [],
   "source": []
  },
  {
   "cell_type": "code",
   "execution_count": null,
   "id": "6df6c108",
   "metadata": {},
   "outputs": [],
   "source": []
  },
  {
   "cell_type": "code",
   "execution_count": null,
   "id": "1ea03c1b",
   "metadata": {},
   "outputs": [],
   "source": []
  },
  {
   "cell_type": "code",
   "execution_count": null,
   "id": "aa84a6ab",
   "metadata": {},
   "outputs": [],
   "source": []
  },
  {
   "cell_type": "code",
   "execution_count": null,
   "id": "f36f5e2f",
   "metadata": {},
   "outputs": [],
   "source": []
  },
  {
   "cell_type": "code",
   "execution_count": null,
   "id": "570e4eeb",
   "metadata": {},
   "outputs": [],
   "source": []
  },
  {
   "cell_type": "code",
   "execution_count": null,
   "id": "320990c5",
   "metadata": {},
   "outputs": [],
   "source": []
  },
  {
   "cell_type": "code",
   "execution_count": null,
   "id": "e6cb9162",
   "metadata": {},
   "outputs": [],
   "source": []
  },
  {
   "cell_type": "code",
   "execution_count": null,
   "id": "51594379",
   "metadata": {},
   "outputs": [],
   "source": []
  },
  {
   "cell_type": "code",
   "execution_count": null,
   "id": "c6a7f329",
   "metadata": {},
   "outputs": [],
   "source": []
  },
  {
   "cell_type": "code",
   "execution_count": null,
   "id": "839a14e2",
   "metadata": {},
   "outputs": [],
   "source": []
  },
  {
   "cell_type": "code",
   "execution_count": null,
   "id": "e76885ce",
   "metadata": {},
   "outputs": [],
   "source": []
  },
  {
   "cell_type": "code",
   "execution_count": null,
   "id": "848d8aad",
   "metadata": {},
   "outputs": [],
   "source": []
  },
  {
   "cell_type": "code",
   "execution_count": null,
   "id": "bcb2ec07",
   "metadata": {},
   "outputs": [],
   "source": []
  },
  {
   "cell_type": "code",
   "execution_count": null,
   "id": "1bb8cfc0",
   "metadata": {},
   "outputs": [],
   "source": []
  },
  {
   "cell_type": "code",
   "execution_count": null,
   "id": "985a93fb",
   "metadata": {},
   "outputs": [],
   "source": []
  },
  {
   "cell_type": "code",
   "execution_count": null,
   "id": "d02829b8",
   "metadata": {},
   "outputs": [],
   "source": []
  },
  {
   "cell_type": "code",
   "execution_count": null,
   "id": "20c7370c",
   "metadata": {},
   "outputs": [],
   "source": []
  },
  {
   "cell_type": "code",
   "execution_count": null,
   "id": "4942bd28",
   "metadata": {},
   "outputs": [],
   "source": []
  },
  {
   "cell_type": "code",
   "execution_count": null,
   "id": "0dee5dca",
   "metadata": {},
   "outputs": [],
   "source": []
  },
  {
   "cell_type": "code",
   "execution_count": null,
   "id": "05178d2e",
   "metadata": {},
   "outputs": [],
   "source": []
  },
  {
   "cell_type": "code",
   "execution_count": null,
   "id": "8767470c",
   "metadata": {},
   "outputs": [],
   "source": []
  },
  {
   "cell_type": "code",
   "execution_count": null,
   "id": "ba12b96e",
   "metadata": {},
   "outputs": [],
   "source": []
  },
  {
   "cell_type": "code",
   "execution_count": null,
   "id": "2856315a",
   "metadata": {},
   "outputs": [],
   "source": []
  },
  {
   "cell_type": "code",
   "execution_count": null,
   "id": "5309a3d3",
   "metadata": {},
   "outputs": [],
   "source": []
  },
  {
   "cell_type": "code",
   "execution_count": null,
   "id": "751e2146",
   "metadata": {},
   "outputs": [],
   "source": []
  },
  {
   "cell_type": "code",
   "execution_count": null,
   "id": "df6cf3b4",
   "metadata": {},
   "outputs": [],
   "source": []
  },
  {
   "cell_type": "code",
   "execution_count": null,
   "id": "e967643a",
   "metadata": {},
   "outputs": [],
   "source": []
  },
  {
   "cell_type": "code",
   "execution_count": null,
   "id": "e2a647a9",
   "metadata": {},
   "outputs": [],
   "source": []
  },
  {
   "cell_type": "code",
   "execution_count": null,
   "id": "dd838ae1",
   "metadata": {},
   "outputs": [],
   "source": []
  },
  {
   "cell_type": "code",
   "execution_count": null,
   "id": "dc1fed6f",
   "metadata": {},
   "outputs": [],
   "source": []
  },
  {
   "cell_type": "code",
   "execution_count": null,
   "id": "a3adb460",
   "metadata": {},
   "outputs": [],
   "source": []
  },
  {
   "cell_type": "code",
   "execution_count": null,
   "id": "7565c5a2",
   "metadata": {},
   "outputs": [],
   "source": []
  },
  {
   "cell_type": "code",
   "execution_count": null,
   "id": "21751b3f",
   "metadata": {},
   "outputs": [],
   "source": []
  },
  {
   "cell_type": "code",
   "execution_count": null,
   "id": "5be1b6b8",
   "metadata": {},
   "outputs": [],
   "source": []
  },
  {
   "cell_type": "code",
   "execution_count": null,
   "id": "00f79558",
   "metadata": {},
   "outputs": [],
   "source": []
  },
  {
   "cell_type": "code",
   "execution_count": null,
   "id": "34e02c6c",
   "metadata": {},
   "outputs": [],
   "source": []
  },
  {
   "cell_type": "code",
   "execution_count": null,
   "id": "29597f79",
   "metadata": {},
   "outputs": [],
   "source": []
  },
  {
   "cell_type": "code",
   "execution_count": null,
   "id": "10a60c51",
   "metadata": {},
   "outputs": [],
   "source": []
  },
  {
   "cell_type": "code",
   "execution_count": null,
   "id": "55263c41",
   "metadata": {},
   "outputs": [],
   "source": []
  },
  {
   "cell_type": "code",
   "execution_count": null,
   "id": "05f3f799",
   "metadata": {},
   "outputs": [],
   "source": []
  },
  {
   "cell_type": "code",
   "execution_count": null,
   "id": "283cd3d6",
   "metadata": {},
   "outputs": [],
   "source": []
  },
  {
   "cell_type": "code",
   "execution_count": null,
   "id": "8c6fa5ba",
   "metadata": {},
   "outputs": [],
   "source": []
  },
  {
   "cell_type": "code",
   "execution_count": null,
   "id": "00eded01",
   "metadata": {},
   "outputs": [],
   "source": []
  },
  {
   "cell_type": "code",
   "execution_count": null,
   "id": "40a4ae0b",
   "metadata": {},
   "outputs": [],
   "source": []
  },
  {
   "cell_type": "code",
   "execution_count": null,
   "id": "60271778",
   "metadata": {},
   "outputs": [],
   "source": []
  },
  {
   "cell_type": "code",
   "execution_count": null,
   "id": "56dcb64c",
   "metadata": {},
   "outputs": [],
   "source": []
  },
  {
   "cell_type": "code",
   "execution_count": null,
   "id": "979ed966",
   "metadata": {},
   "outputs": [],
   "source": []
  },
  {
   "cell_type": "code",
   "execution_count": null,
   "id": "86a93557",
   "metadata": {},
   "outputs": [],
   "source": []
  },
  {
   "cell_type": "code",
   "execution_count": null,
   "id": "edc7543b",
   "metadata": {},
   "outputs": [],
   "source": []
  },
  {
   "cell_type": "code",
   "execution_count": null,
   "id": "9050c71a",
   "metadata": {},
   "outputs": [],
   "source": []
  },
  {
   "cell_type": "code",
   "execution_count": null,
   "id": "16f2c1f9",
   "metadata": {},
   "outputs": [],
   "source": []
  },
  {
   "cell_type": "code",
   "execution_count": null,
   "id": "63fb41d0",
   "metadata": {},
   "outputs": [],
   "source": []
  },
  {
   "cell_type": "code",
   "execution_count": null,
   "id": "6f96e415",
   "metadata": {},
   "outputs": [],
   "source": []
  }
 ],
 "metadata": {
  "kernelspec": {
   "display_name": ".venv",
   "language": "python",
   "name": "python3"
  },
  "language_info": {
   "codemirror_mode": {
    "name": "ipython",
    "version": 3
   },
   "file_extension": ".py",
   "mimetype": "text/x-python",
   "name": "python",
   "nbconvert_exporter": "python",
   "pygments_lexer": "ipython3",
   "version": "3.12.7"
  }
 },
 "nbformat": 4,
 "nbformat_minor": 5
}
