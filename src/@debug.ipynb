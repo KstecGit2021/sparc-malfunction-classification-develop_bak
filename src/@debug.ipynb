{
 "cells": [
  {
   "cell_type": "code",
   "execution_count": 1,
   "id": "cc1a065a",
   "metadata": {},
   "outputs": [
    {
     "name": "stdout",
     "output_type": "stream",
     "text": [
      "폴더 'C:\\Users\\ohbok\\Taipy\\sparc-malfunction-classification-develop\\src\\.taipy'의 하위 내용이 성공적으로 삭제되었습니다.\n",
      "폴더 'C:\\Users\\ohbok\\Taipy\\sparc-malfunction-classification-develop\\src\\user_data'의 하위 내용이 성공적으로 삭제되었습니다.\n"
     ]
    }
   ],
   "source": [
    "import os\n",
    "import shutil\n",
    "\n",
    "# 정리할 폴더 경로\n",
    "folder_paths = [\n",
    "    'C:\\\\Users\\\\ohbok\\\\Taipy\\\\sparc-malfunction-classification-develop\\\\src\\\\.taipy',\n",
    "    'C:\\\\Users\\\\ohbok\\\\Taipy\\\\sparc-malfunction-classification-develop\\\\src\\\\user_data'\n",
    "]\n",
    "\n",
    "for path in folder_paths:\n",
    "    # 폴더가 존재하는지 확인\n",
    "    if os.path.exists(path) and os.path.isdir(path):\n",
    "        try:\n",
    "            # 폴더 하위의 모든 항목을 순회하며 삭제\n",
    "            for item in os.listdir(path):\n",
    "                item_path = os.path.join(path, item)\n",
    "                if os.path.isdir(item_path):\n",
    "                    # 하위 폴더인 경우 shutil.rmtree로 삭제\n",
    "                    shutil.rmtree(item_path)\n",
    "                else:\n",
    "                    # 파일인 경우 os.remove로 삭제\n",
    "                    os.remove(item_path)\n",
    "            print(f\"폴더 '{path}'의 하위 내용이 성공적으로 삭제되었습니다.\")\n",
    "        except OSError as e:\n",
    "            print(f\"폴더 '{path}'의 하위 내용 삭제 중 오류가 발생했습니다: {e}\")\n",
    "    else:\n",
    "        print(f\"폴더 '{path}'가 존재하지 않거나 디렉토리가 아닙니다.\")"
   ]
  },
  {
   "cell_type": "code",
   "execution_count": 2,
   "id": "11f31a90",
   "metadata": {},
   "outputs": [],
   "source": [
    "# 데이터 처리 및 기타 작업을 위한 라이브러리들을 불러옵니다.\n",
    "import pandas as pd                                         # 데이터프레임 구조를 다루는 데 필수적인 라이브러리\n",
    "import numpy as np                                          # 숫자 연산을 위한 라이브러리\n",
    "import datetime as dt                                       # 날짜와 시간을 다루는 라이브러리\n",
    "import json                                                 # JSON 형식의 데이터를 처리하는 라이브러리\n",
    "\n",
    "import optuna\n",
    "import pprint\n",
    "\n",
    "import taipy as tp\n",
    "from taipy import Config, Orchestrator, Gui"
   ]
  },
  {
   "cell_type": "code",
   "execution_count": 3,
   "id": "75af6e3c",
   "metadata": {},
   "outputs": [
    {
     "name": "stdout",
     "output_type": "stream",
     "text": [
      "[2025-08-25 14:54:52.186][Taipy][INFO] Unblocking configuration update...\n",
      "[2025-08-25 14:54:52.186][Taipy][INFO] Stopping job dispatcher...\n",
      "[2025-08-25 14:54:52.187][Taipy][INFO] Orchestrator service has been stopped.\n"
     ]
    }
   ],
   "source": [
    "# # Ensure the orchestrator is stopped before modifying the configuration\n",
    "tp.Orchestrator().stop()"
   ]
  },
  {
   "cell_type": "code",
   "execution_count": 4,
   "id": "3cc71eee",
   "metadata": {},
   "outputs": [],
   "source": [
    "\n",
    "from config.config import scenario_cfg"
   ]
  },
  {
   "cell_type": "code",
   "execution_count": 5,
   "id": "f5ba9717",
   "metadata": {},
   "outputs": [
    {
     "name": "stdout",
     "output_type": "stream",
     "text": [
      "[2025-08-25 14:54:55.638][Taipy][INFO] Updating configuration with command-line arguments...\n",
      "[2025-08-25 14:54:55.639][Taipy][INFO] Managing application's version...\n",
      "[2025-08-25 14:54:55.648][Taipy][INFO] Development mode: Clean all entities of version 449c2e84-2416-44eb-9b2e-ec4783a66dc4\n",
      "[2025-08-25 14:54:55.666][Taipy][INFO] Checking application's version...\n",
      "[2025-08-25 14:54:55.669][Taipy][INFO] Blocking configuration update...\n",
      "[2025-08-25 14:54:55.670][Taipy][INFO] Starting job dispatcher...\n",
      "[2025-08-25 14:54:55.673][Taipy][INFO] Orchestrator service has been started.\n"
     ]
    }
   ],
   "source": [
    "Config.configure_job_executions(mode=\"standalone\", max_nb_of_workers=2)\n",
    "tp.Orchestrator().run()\n"
   ]
  },
  {
   "cell_type": "code",
   "execution_count": 6,
   "id": "9a5f85d2",
   "metadata": {},
   "outputs": [],
   "source": [
    "from algos.algos import *"
   ]
  },
  {
   "cell_type": "code",
   "execution_count": 7,
   "id": "91cf651b",
   "metadata": {},
   "outputs": [],
   "source": [
    "# Config.load(r\"/usr01/automl/sparc-malfunction-classification-develop/src/config/config.toml\")\n",
    "# scenario_cfg = Config.scenarios[\"churn_classification\"]\n",
    "\n",
    "scenario_1 = tp.create_scenario(scenario_cfg)"
   ]
  },
  {
   "cell_type": "markdown",
   "id": "879213c2",
   "metadata": {},
   "source": [
    "SCENARIO"
   ]
  },
  {
   "cell_type": "code",
   "execution_count": 8,
   "id": "3134c2ff",
   "metadata": {},
   "outputs": [],
   "source": [
    "# # scenario_1.submit(wait=True, timeout=300)\n",
    "# scenario_1.submit(wait=True)"
   ]
  },
  {
   "cell_type": "code",
   "execution_count": 9,
   "id": "4ef157f2",
   "metadata": {},
   "outputs": [],
   "source": [
    "# train_dataset = scenario_1.train_dataset.read()\n",
    "# feature_selection_info = scenario_1.feature_selection_info.read()\n",
    "# train_parameters = scenario_1.train_parameters_random_forest_optuna.read()"
   ]
  },
  {
   "cell_type": "markdown",
   "id": "5338e0be",
   "metadata": {},
   "source": [
    "SEQUENCE"
   ]
  },
  {
   "cell_type": "code",
   "execution_count": null,
   "id": "292af3d6",
   "metadata": {},
   "outputs": [],
   "source": []
  },
  {
   "cell_type": "markdown",
   "id": "cf7ac5f4",
   "metadata": {},
   "source": [
    "TASK"
   ]
  },
  {
   "cell_type": "code",
   "execution_count": 10,
   "id": "16696064",
   "metadata": {},
   "outputs": [],
   "source": [
    "# train_parameters_default = scenario_1.train_parameters_list_default.read()\n",
    "# pprint.pprint(train_parameters_default)"
   ]
  },
  {
   "cell_type": "code",
   "execution_count": 11,
   "id": "e715cdc8",
   "metadata": {},
   "outputs": [],
   "source": [
    "initial_dataset = scenario_1.initial_dataset.read()"
   ]
  },
  {
   "cell_type": "code",
   "execution_count": 12,
   "id": "3b90282e",
   "metadata": {},
   "outputs": [
    {
     "name": "stdout",
     "output_type": "stream",
     "text": [
      "(4536, 1625)\n"
     ]
    }
   ],
   "source": [
    "print(initial_dataset.shape)\n",
    "# initial_dataset"
   ]
  },
  {
   "cell_type": "code",
   "execution_count": 13,
   "id": "84dc4d09",
   "metadata": {},
   "outputs": [
    {
     "name": "stdout",
     "output_type": "stream",
     "text": [
      "[2025-08-25 14:55:08.135][Taipy][INFO] job JOB_preprocess_dataset_0d6b5232-9a37-4774-a62c-0fa379a159fd is completed.\n"
     ]
    },
    {
     "data": {
      "text/plain": [
       "<taipy.core.submission.submission.Submission at 0x196a6adffb0>"
      ]
     },
     "execution_count": 13,
     "metadata": {},
     "output_type": "execute_result"
    }
   ],
   "source": [
    "task = scenario_1.preprocess_dataset\n",
    "# task.submit(wait=True, timeout=50)\n",
    "task.submit(wait=True)"
   ]
  },
  {
   "cell_type": "code",
   "execution_count": 14,
   "id": "ea87dfa4",
   "metadata": {},
   "outputs": [
    {
     "name": "stdout",
     "output_type": "stream",
     "text": [
      "(4536, 1400)\n"
     ]
    }
   ],
   "source": [
    "preprocessed_dataset = scenario_1.preprocessed_dataset.read()\n",
    "print(preprocessed_dataset.shape)"
   ]
  },
  {
   "cell_type": "code",
   "execution_count": 15,
   "id": "11617127",
   "metadata": {},
   "outputs": [
    {
     "name": "stdout",
     "output_type": "stream",
     "text": [
      "[2025-08-25 14:55:13.648][Taipy][INFO] job JOB_create_train_and_test_data_cd6d5d11-33cd-4eaf-b5ff-736b3abb38ce is completed.\n"
     ]
    },
    {
     "data": {
      "text/plain": [
       "<taipy.core.submission.submission.Submission at 0x196a62fd490>"
      ]
     },
     "execution_count": 15,
     "metadata": {},
     "output_type": "execute_result"
    }
   ],
   "source": [
    "task = scenario_1.create_train_and_test_data\n",
    "# task.submit(wait=True, timeout=300)\n",
    "task.submit(wait=True)"
   ]
  },
  {
   "cell_type": "code",
   "execution_count": 16,
   "id": "5fcd7c04",
   "metadata": {},
   "outputs": [],
   "source": [
    "split_parameter_info = scenario_1.split_parameter_info.read()\n",
    "# pprint.pprint(split_parameter_info)"
   ]
  },
  {
   "cell_type": "code",
   "execution_count": 17,
   "id": "08107e64",
   "metadata": {},
   "outputs": [
    {
     "name": "stdout",
     "output_type": "stream",
     "text": [
      "(3617, 1400)\n",
      "(905, 1400)\n"
     ]
    }
   ],
   "source": [
    "train_dataset = scenario_1.train_dataset.read()\n",
    "print(train_dataset.shape)\n",
    "test_dataset = scenario_1.test_dataset.read()\n",
    "print(test_dataset.shape)"
   ]
  },
  {
   "cell_type": "code",
   "execution_count": 18,
   "id": "4a539049",
   "metadata": {},
   "outputs": [],
   "source": [
    "# train_dataset"
   ]
  },
  {
   "cell_type": "code",
   "execution_count": 19,
   "id": "1a1c4cf8",
   "metadata": {},
   "outputs": [],
   "source": [
    "# test_dataset"
   ]
  },
  {
   "cell_type": "markdown",
   "id": "b20cd967",
   "metadata": {},
   "source": [
    "variance_filter\n",
    "start"
   ]
  },
  {
   "cell_type": "code",
   "execution_count": 20,
   "id": "0f10ff9d",
   "metadata": {},
   "outputs": [],
   "source": [
    "# variance_filter = \\\n",
    "# {\n",
    "#     \"feature_selector_name\": \"FeatureFilter\",\n",
    "#     \"filter_methods\": {\n",
    "#         \"apply_variance_filter\": True,\n",
    "#         \"var_threshold\": 0.00,\n",
    "#         \"apply_target_linear_corr_filter\": False,\n",
    "#         \"target_linear_corr_threshold\": 0.5,\n",
    "#         \"apply_target_xicor_filter\": False,\n",
    "#         \"target_xicor_threshold\": 0.5,\n",
    "#         \"apply_feature_linear_corr_filter\": False,\n",
    "#         \"feature_linear_corr_threshold\": 0.95,\n",
    "#         \"apply_feature_xicor_filter\": False,\n",
    "#         \"feature_xicor_threshold\": 0.9\n",
    "#     }\n",
    "# }"
   ]
  },
  {
   "cell_type": "code",
   "execution_count": 21,
   "id": "b885eb30",
   "metadata": {},
   "outputs": [],
   "source": [
    "feature_selector = scenario_1.feature_selector_params_FeatureFilter_default.read()\n",
    "# feature_selector = scenario_1.feature_selector_params_SelectFromModel_default.read()\n",
    "\n",
    "feature_selector[\"filter_methods\"][\"apply_variance_filter\"] = True\n",
    "feature_selector[\"filter_methods\"][\"var_threshold\"] = 0.00\n",
    "# pprint.pprint(feature_selector)"
   ]
  },
  {
   "cell_type": "code",
   "execution_count": 22,
   "id": "0e61261b",
   "metadata": {},
   "outputs": [
    {
     "name": "stdout",
     "output_type": "stream",
     "text": [
      "{'feature_selector_name': 'FeatureFilter',\n",
      " 'filter_methods': {'apply_feature_linear_corr_filter': False,\n",
      "                    'apply_feature_xicor_filter': False,\n",
      "                    'apply_target_linear_corr_filter': False,\n",
      "                    'apply_target_xicor_filter': False,\n",
      "                    'apply_variance_filter': True,\n",
      "                    'feature_linear_corr_threshold': 0.95,\n",
      "                    'feature_xicor_threshold': 0.9,\n",
      "                    'target_linear_corr_threshold': 0.05,\n",
      "                    'target_xicor_threshold': 0.1,\n",
      "                    'var_threshold': 0.0}}\n",
      "[2025-08-25 14:55:17.395][Taipy][INFO] job JOB_select_feature_aa175904-6b55-46de-89db-7193e025b876 is completed.\n"
     ]
    },
    {
     "data": {
      "text/plain": [
       "<taipy.core.submission.submission.Submission at 0x196a63b4260>"
      ]
     },
     "execution_count": 22,
     "metadata": {},
     "output_type": "execute_result"
    }
   ],
   "source": [
    "scenario_1.feature_selector.write(feature_selector)\n",
    "pprint.pprint(scenario_1.feature_selector.read())\n",
    "\n",
    "task = scenario_1.select_feature\n",
    "task.submit(wait=True)"
   ]
  },
  {
   "cell_type": "code",
   "execution_count": 23,
   "id": "d2878e5e",
   "metadata": {},
   "outputs": [],
   "source": [
    "feature_selection_info = scenario_1.feature_selection_info.read()\n",
    "feature_selection_info[\"final_feature_count\"]\n",
    "# pprint.pprint(feature_selection_info)\n",
    "feature_selection_variance = feature_selection_info"
   ]
  },
  {
   "cell_type": "code",
   "execution_count": 24,
   "id": "2d55d087",
   "metadata": {},
   "outputs": [
    {
     "name": "stdout",
     "output_type": "stream",
     "text": [
      "(3617, 1398)\n"
     ]
    }
   ],
   "source": [
    "# 'final_features' 리스트와 마지막 컬럼 이름을 포함하는 리스트 생성\n",
    "columns_to_keep = feature_selection_info[\"final_features\"] + [train_dataset.columns[-1]]\n",
    "# 새로운 리스트에 있는 컬럼들만 남겨 DataFrame 업데이트\n",
    "train_dataset_filtered_variance = train_dataset[columns_to_keep]\n",
    "\n",
    "print(train_dataset_filtered_variance.shape)"
   ]
  },
  {
   "cell_type": "markdown",
   "id": "818b89bf",
   "metadata": {},
   "source": [
    "variance_filter\n",
    "end"
   ]
  },
  {
   "cell_type": "markdown",
   "id": "4fef5ff9",
   "metadata": {},
   "source": [
    "target_linear_corr_filter\n",
    "start"
   ]
  },
  {
   "cell_type": "code",
   "execution_count": 25,
   "id": "5bf4bb29",
   "metadata": {},
   "outputs": [],
   "source": [
    "# target_linear_corr_filter = \\\n",
    "# {\n",
    "#     \"feature_selector_name\": \"FeatureFilter\",\n",
    "#     \"filter_methods\": {\n",
    "#         \"apply_variance_filter\": False,\n",
    "#         \"var_threshold\": 0.01,\n",
    "#         \"apply_target_linear_corr_filter\": True,\n",
    "#         \"target_linear_corr_threshold\": 0.00,\n",
    "#         \"apply_target_xicor_filter\": False,\n",
    "#         \"target_xicor_threshold\": 0.5,\n",
    "#         \"apply_feature_linear_corr_filter\": False,\n",
    "#         \"feature_linear_corr_threshold\": 0.95,\n",
    "#         \"apply_feature_xicor_filter\": False,\n",
    "#         \"feature_xicor_threshold\": 0.9\n",
    "#     }\n",
    "# }"
   ]
  },
  {
   "cell_type": "code",
   "execution_count": 26,
   "id": "9848286b",
   "metadata": {},
   "outputs": [],
   "source": [
    "feature_selector = scenario_1.feature_selector_params_FeatureFilter_default.read()\n",
    "# feature_selector = scenario_1.feature_selector_params_SelectFromModel_default.read()\n",
    "\n",
    "feature_selector[\"filter_methods\"][\"apply_target_linear_corr_filter\"] = True\n",
    "feature_selector[\"filter_methods\"][\"target_linear_corr_threshold\"] = 0.00\n",
    "# pprint.pprint(feature_selector)"
   ]
  },
  {
   "cell_type": "code",
   "execution_count": 27,
   "id": "ae08de2a",
   "metadata": {},
   "outputs": [
    {
     "name": "stdout",
     "output_type": "stream",
     "text": [
      "{'feature_selector_name': 'FeatureFilter',\n",
      " 'filter_methods': {'apply_feature_linear_corr_filter': False,\n",
      "                    'apply_feature_xicor_filter': False,\n",
      "                    'apply_target_linear_corr_filter': True,\n",
      "                    'apply_target_xicor_filter': False,\n",
      "                    'apply_variance_filter': False,\n",
      "                    'feature_linear_corr_threshold': 0.95,\n",
      "                    'feature_xicor_threshold': 0.9,\n",
      "                    'target_linear_corr_threshold': 0.0,\n",
      "                    'target_xicor_threshold': 0.1,\n",
      "                    'var_threshold': 0.01}}\n",
      "[2025-08-25 14:55:20.877][Taipy][INFO] job JOB_select_feature_1d76005e-cfd2-4e12-bd93-8644420861ed is completed.\n"
     ]
    },
    {
     "data": {
      "text/plain": [
       "<taipy.core.submission.submission.Submission at 0x196ad0fd850>"
      ]
     },
     "execution_count": 27,
     "metadata": {},
     "output_type": "execute_result"
    }
   ],
   "source": [
    "scenario_1.feature_selector.write(feature_selector)\n",
    "pprint.pprint(scenario_1.feature_selector.read())\n",
    "\n",
    "task = scenario_1.select_feature\n",
    "task.submit(wait=True)"
   ]
  },
  {
   "cell_type": "code",
   "execution_count": 28,
   "id": "1031173c",
   "metadata": {},
   "outputs": [],
   "source": [
    "feature_selection_info = scenario_1.feature_selection_info.read()\n",
    "feature_selection_info[\"final_feature_count\"]\n",
    "# pprint.pprint(feature_selection_info)\n",
    "feature_selection_target_linear_corr = feature_selection_info"
   ]
  },
  {
   "cell_type": "code",
   "execution_count": 29,
   "id": "9eacde9c",
   "metadata": {},
   "outputs": [
    {
     "name": "stdout",
     "output_type": "stream",
     "text": [
      "(3617, 1400)\n"
     ]
    }
   ],
   "source": [
    "# 'final_features' 리스트와 마지막 컬럼 이름을 포함하는 리스트 생성\n",
    "columns_to_keep = feature_selection_info[\"final_features\"] + [train_dataset.columns[-1]]\n",
    "# 새로운 리스트에 있는 컬럼들만 남겨 DataFrame 업데이트\n",
    "train_dataset_target_linear_corr_filter = train_dataset[columns_to_keep]\n",
    "\n",
    "print(train_dataset_target_linear_corr_filter.shape)"
   ]
  },
  {
   "cell_type": "markdown",
   "id": "35dd8912",
   "metadata": {},
   "source": [
    "target_linear_corr_filter\n",
    "end"
   ]
  },
  {
   "cell_type": "markdown",
   "id": "67c16c8b",
   "metadata": {},
   "source": [
    "target_xicor_filter\n",
    "start"
   ]
  },
  {
   "cell_type": "code",
   "execution_count": 30,
   "id": "312030f0",
   "metadata": {},
   "outputs": [],
   "source": [
    "# apply_target_xicor_filter = \\\n",
    "# {\n",
    "#     \"feature_selector_name\": \"FeatureFilter\",\n",
    "#     \"filter_methods\": {\n",
    "#         \"apply_variance_filter\": False,\n",
    "#         \"var_threshold\": 0.01,\n",
    "#         \"apply_target_linear_corr_filter\": False,\n",
    "#         \"target_linear_corr_threshold\": 0.01,\n",
    "#         \"apply_target_xicor_filter\": True,\n",
    "#         \"target_xicor_threshold\": 0.0,\n",
    "#         \"apply_feature_linear_corr_filter\": False,\n",
    "#         \"feature_linear_corr_threshold\": 0.95,\n",
    "#         \"apply_feature_xicor_filter\": False,\n",
    "#         \"feature_xicor_threshold\": 0.9\n",
    "#     }\n",
    "# }"
   ]
  },
  {
   "cell_type": "code",
   "execution_count": 31,
   "id": "69096056",
   "metadata": {},
   "outputs": [],
   "source": [
    "train_dataset_part = train_dataset.iloc[:, -5:]\n",
    "scenario_1.train_dataset.write(train_dataset_part)"
   ]
  },
  {
   "cell_type": "code",
   "execution_count": 32,
   "id": "c7353060",
   "metadata": {},
   "outputs": [],
   "source": [
    "feature_selector = scenario_1.feature_selector_params_FeatureFilter_default.read()\n",
    "# feature_selector = scenario_1.feature_selector_params_SelectFromModel_default.read()\n",
    "\n",
    "feature_selector[\"filter_methods\"][\"apply_target_xicor_filter\"] = True\n",
    "feature_selector[\"filter_methods\"][\"target_xicor_threshold\"] = 0.00\n",
    "# pprint.pprint(feature_selector)"
   ]
  },
  {
   "cell_type": "code",
   "execution_count": 33,
   "id": "99711823",
   "metadata": {},
   "outputs": [
    {
     "name": "stdout",
     "output_type": "stream",
     "text": [
      "{'feature_selector_name': 'FeatureFilter',\n",
      " 'filter_methods': {'apply_feature_linear_corr_filter': False,\n",
      "                    'apply_feature_xicor_filter': False,\n",
      "                    'apply_target_linear_corr_filter': False,\n",
      "                    'apply_target_xicor_filter': True,\n",
      "                    'apply_variance_filter': False,\n",
      "                    'feature_linear_corr_threshold': 0.95,\n",
      "                    'feature_xicor_threshold': 0.9,\n",
      "                    'target_linear_corr_threshold': 0.05,\n",
      "                    'target_xicor_threshold': 0.0,\n",
      "                    'var_threshold': 0.01}}\n",
      "[2025-08-25 14:55:36.552][Taipy][INFO] job JOB_select_feature_c6fbe5d6-537b-40a0-aeb6-921c474c311e is completed.\n"
     ]
    },
    {
     "data": {
      "text/plain": [
       "<taipy.core.submission.submission.Submission at 0x196b4f2f560>"
      ]
     },
     "execution_count": 33,
     "metadata": {},
     "output_type": "execute_result"
    }
   ],
   "source": [
    "scenario_1.feature_selector.write(feature_selector)\n",
    "pprint.pprint(scenario_1.feature_selector.read())\n",
    "\n",
    "task = scenario_1.select_feature\n",
    "task.submit(wait=True)"
   ]
  },
  {
   "cell_type": "code",
   "execution_count": 34,
   "id": "b45ec6b4",
   "metadata": {},
   "outputs": [],
   "source": [
    "feature_selection_info = scenario_1.feature_selection_info.read()\n",
    "feature_selection_info[\"final_feature_count\"]\n",
    "# pprint.pprint(feature_selection_info)\n",
    "feature_selection_target_xicor = feature_selection_info"
   ]
  },
  {
   "cell_type": "code",
   "execution_count": 35,
   "id": "dd26b5d4",
   "metadata": {},
   "outputs": [
    {
     "name": "stdout",
     "output_type": "stream",
     "text": [
      "(3617, 5)\n"
     ]
    }
   ],
   "source": [
    "# 'final_features' 리스트와 마지막 컬럼 이름을 포함하는 리스트 생성\n",
    "columns_to_keep = feature_selection_info[\"final_features\"] + [train_dataset.columns[-1]]\n",
    "# 새로운 리스트에 있는 컬럼들만 남겨 DataFrame 업데이트\n",
    "train_dataset_target_xicor_filter = train_dataset[columns_to_keep]\n",
    "\n",
    "print(train_dataset_target_xicor_filter.shape)"
   ]
  },
  {
   "cell_type": "markdown",
   "id": "3ab88766",
   "metadata": {},
   "source": [
    "target_xicor_filter\n",
    "end"
   ]
  },
  {
   "cell_type": "markdown",
   "id": "e8f38cf1",
   "metadata": {},
   "source": [
    "feature_linear_corr_filter\n",
    "start"
   ]
  },
  {
   "cell_type": "code",
   "execution_count": 36,
   "id": "7364fd3b",
   "metadata": {},
   "outputs": [],
   "source": [
    "# feature_linear_corr_filter = \\\n",
    "# {\n",
    "#     \"feature_selector_name\": \"FeatureFilter\",\n",
    "#     \"filter_methods\": {\n",
    "#         \"apply_variance_filter\": False,\n",
    "#         \"var_threshold\": 0.01,\n",
    "#         \"apply_target_linear_corr_filter\": False,\n",
    "#         \"target_linear_corr_threshold\": 0.00,\n",
    "#         \"apply_target_xicor_filter\": False,\n",
    "#         \"target_xicor_threshold\": 0.5,\n",
    "#         \"apply_feature_linear_corr_filter\": True,\n",
    "#         \"feature_linear_corr_threshold\": 0.95,\n",
    "#         \"apply_feature_xicor_filter\": False,\n",
    "#         \"feature_xicor_threshold\": 0.9\n",
    "#     }\n",
    "# }"
   ]
  },
  {
   "cell_type": "code",
   "execution_count": 37,
   "id": "ff1d531c",
   "metadata": {},
   "outputs": [],
   "source": [
    "scenario_1.train_dataset.write(train_dataset)"
   ]
  },
  {
   "cell_type": "code",
   "execution_count": 38,
   "id": "1507b707",
   "metadata": {},
   "outputs": [],
   "source": [
    "feature_selector = scenario_1.feature_selector_params_FeatureFilter_default.read()\n",
    "# feature_selector = scenario_1.feature_selector_params_SelectFromModel_default.read()\n",
    "\n",
    "feature_selector[\"filter_methods\"][\"apply_feature_linear_corr_filter\"] = True\n",
    "feature_selector[\"filter_methods\"][\"feature_linear_corr_threshold\"] = 0.95\n",
    "# pprint.pprint(feature_selector)"
   ]
  },
  {
   "cell_type": "code",
   "execution_count": null,
   "id": "dae8dee2",
   "metadata": {},
   "outputs": [
    {
     "name": "stdout",
     "output_type": "stream",
     "text": [
      "{'feature_selector_name': 'FeatureFilter',\n",
      " 'filter_methods': {'apply_feature_linear_corr_filter': True,\n",
      "                    'apply_feature_xicor_filter': False,\n",
      "                    'apply_target_linear_corr_filter': False,\n",
      "                    'apply_target_xicor_filter': False,\n",
      "                    'apply_variance_filter': False,\n",
      "                    'feature_linear_corr_threshold': 0.95,\n",
      "                    'feature_xicor_threshold': 0.9,\n",
      "                    'target_linear_corr_threshold': 0.05,\n",
      "                    'target_xicor_threshold': 0.1,\n",
      "                    'var_threshold': 0.01}}\n"
     ]
    }
   ],
   "source": [
    "scenario_1.feature_selector.write(feature_selector)\n",
    "pprint.pprint(scenario_1.feature_selector.read())\n",
    "\n",
    "task = scenario_1.select_feature\n",
    "task.submit(wait=True)"
   ]
  },
  {
   "cell_type": "code",
   "execution_count": null,
   "id": "2124171e",
   "metadata": {},
   "outputs": [],
   "source": [
    "feature_selection_info = scenario_1.feature_selection_info.read()\n",
    "feature_selection_info[\"final_feature_count\"]\n",
    "# pprint.pprint(feature_selection_info)\n",
    "feature_selection_feature_linear_corr = feature_selection_info"
   ]
  },
  {
   "cell_type": "code",
   "execution_count": null,
   "id": "8cbdee3e",
   "metadata": {},
   "outputs": [
    {
     "name": "stdout",
     "output_type": "stream",
     "text": [
      "(3617, 607)\n"
     ]
    }
   ],
   "source": [
    "# 'final_features' 리스트와 마지막 컬럼 이름을 포함하는 리스트 생성\n",
    "columns_to_keep = feature_selection_info[\"final_features\"] + [train_dataset.columns[-1]]\n",
    "# 새로운 리스트에 있는 컬럼들만 남겨 DataFrame 업데이트\n",
    "feature_linear_corr_filter = train_dataset[columns_to_keep]\n",
    "\n",
    "print(feature_linear_corr_filter.shape)\n",
    "# feature_linear_corr_filter"
   ]
  },
  {
   "cell_type": "markdown",
   "id": "7dafd14a",
   "metadata": {},
   "source": [
    "feature_linear_corr_filter\n",
    "end"
   ]
  },
  {
   "cell_type": "markdown",
   "id": "8e871a4d",
   "metadata": {},
   "source": [
    "feature_xicor_filter\n",
    "start"
   ]
  },
  {
   "cell_type": "code",
   "execution_count": null,
   "id": "cbfea61c",
   "metadata": {},
   "outputs": [],
   "source": [
    "# feature_xicor_filter = \\\n",
    "# {\n",
    "#     \"feature_selector_name\": \"FeatureFilter\",\n",
    "#     \"filter_methods\": {\n",
    "#         \"apply_variance_filter\": False,\n",
    "#         \"var_threshold\": 0.01,\n",
    "#         \"apply_target_linear_corr_filter\": False,\n",
    "#         \"target_linear_corr_threshold\": 0.00,\n",
    "#         \"apply_target_xicor_filter\": False,\n",
    "#         \"target_xicor_threshold\": 0.5,\n",
    "#         \"apply_feature_linear_corr_filter\": False,\n",
    "#         \"feature_linear_corr_threshold\": 0.95,\n",
    "#         \"apply_feature_xicor_filter\": True,\n",
    "#         \"feature_xicor_threshold\": 0.9\n",
    "#     }\n",
    "# }"
   ]
  },
  {
   "cell_type": "code",
   "execution_count": null,
   "id": "903bc627",
   "metadata": {},
   "outputs": [],
   "source": [
    "train_dataset_part = train_dataset.iloc[:, -7:]\n",
    "scenario_1.train_dataset.write(train_dataset_part)"
   ]
  },
  {
   "cell_type": "code",
   "execution_count": null,
   "id": "688b0a1c",
   "metadata": {},
   "outputs": [],
   "source": [
    "feature_selector = scenario_1.feature_selector_params_FeatureFilter_default.read()\n",
    "# feature_selector = scenario_1.feature_selector_params_SelectFromModel_default.read()\n",
    "\n",
    "feature_selector[\"filter_methods\"][\"apply_feature_xicor_filter\"] = True\n",
    "feature_selector[\"filter_methods\"][\"feature_xicor_threshold\"] = 0.9\n",
    "# pprint.pprint(feature_selector)"
   ]
  },
  {
   "cell_type": "code",
   "execution_count": null,
   "id": "b1e9a21d",
   "metadata": {},
   "outputs": [
    {
     "name": "stdout",
     "output_type": "stream",
     "text": [
      "{'feature_selector_name': 'FeatureFilter',\n",
      " 'filter_methods': {'apply_feature_linear_corr_filter': False,\n",
      "                    'apply_feature_xicor_filter': True,\n",
      "                    'apply_target_linear_corr_filter': False,\n",
      "                    'apply_target_xicor_filter': False,\n",
      "                    'apply_variance_filter': False,\n",
      "                    'feature_linear_corr_threshold': 0.95,\n",
      "                    'feature_xicor_threshold': 0.9,\n",
      "                    'target_linear_corr_threshold': 0.05,\n",
      "                    'target_xicor_threshold': 0.1,\n",
      "                    'var_threshold': 0.01}}\n",
      "[2025-08-25 14:03:43.576][Taipy][INFO] job JOB_select_feature_d0bb6ef6-9d8c-4c74-a56d-b2ba9c8ac59a is completed.\n"
     ]
    },
    {
     "data": {
      "text/plain": [
       "<taipy.core.submission.submission.Submission at 0x152c93f3260>"
      ]
     },
     "execution_count": 46,
     "metadata": {},
     "output_type": "execute_result"
    }
   ],
   "source": [
    "scenario_1.feature_selector.write(feature_selector)\n",
    "pprint.pprint(scenario_1.feature_selector.read())\n",
    "\n",
    "task = scenario_1.select_feature\n",
    "task.submit(wait=True)"
   ]
  },
  {
   "cell_type": "code",
   "execution_count": null,
   "id": "c34983a8",
   "metadata": {},
   "outputs": [],
   "source": [
    "feature_selection_info = scenario_1.feature_selection_info.read()\n",
    "feature_selection_info[\"final_feature_count\"]\n",
    "# pprint.pprint(feature_selection_info)\n",
    "feature_selection_feature_xicor = feature_selection_info"
   ]
  },
  {
   "cell_type": "code",
   "execution_count": null,
   "id": "9a679d06",
   "metadata": {},
   "outputs": [
    {
     "name": "stdout",
     "output_type": "stream",
     "text": [
      "(3617, 7)\n"
     ]
    }
   ],
   "source": [
    "# 'final_features' 리스트와 마지막 컬럼 이름을 포함하는 리스트 생성\n",
    "columns_to_keep = feature_selection_info[\"final_features\"] + [train_dataset.columns[-1]]\n",
    "# 새로운 리스트에 있는 컬럼들만 남겨 DataFrame 업데이트\n",
    "train_dataset_feature_xicor_filter = train_dataset[columns_to_keep]\n",
    "\n",
    "print(train_dataset_feature_xicor_filter.shape)"
   ]
  },
  {
   "cell_type": "markdown",
   "id": "d6ef7169",
   "metadata": {},
   "source": [
    "feature_xicor_filter\n",
    "end"
   ]
  },
  {
   "cell_type": "markdown",
   "id": "baa944a3",
   "metadata": {},
   "source": [
    "feature_SelectFromModel\n",
    "start"
   ]
  },
  {
   "cell_type": "code",
   "execution_count": null,
   "id": "66b399ef",
   "metadata": {},
   "outputs": [],
   "source": [
    "scenario_1.train_dataset.write(train_dataset)"
   ]
  },
  {
   "cell_type": "code",
   "execution_count": null,
   "id": "8c14b19c",
   "metadata": {},
   "outputs": [],
   "source": [
    "# # train_dataset_filtered_variance df의 앞 10개와 맨 뒤 1개 컬럼을 선택\n",
    "# cols_to_keep = train_dataset_filtered_variance.columns[:100].tolist()\n",
    "# cols_to_keep.append(train_dataset_filtered_variance.columns[-1])\n",
    "\n",
    "# # 선택된 컬럼들로 새로운 데이터프레임 생성\n",
    "# train_dataset_filtered_variance_part = train_dataset_filtered_variance[cols_to_keep]\n",
    "\n",
    "# # 결과를 확인하기 위해 새로운 데이터프레임의 컬럼 출력\n",
    "# print(\"선택된 컬럼:\")\n",
    "# print(train_dataset_filtered_variance_part.columns)\n",
    "\n",
    "# scenario_1.train_dataset.write(train_dataset_filtered_variance_part)"
   ]
  },
  {
   "cell_type": "code",
   "execution_count": null,
   "id": "0264c237",
   "metadata": {},
   "outputs": [],
   "source": [
    "# Embedded Method (SelectFromModel)를 적용하는 경우\n",
    "feature_selector_params_SelectFromModel = \\\n",
    "{\n",
    "    \"feature_selector_name\": \"EmbeddedMethod\",\n",
    "    \"model_based\": {\n",
    "        \"threshold\": \"median\",\n",
    "        # \"threshold\": \"1.25*median\",\n",
    "        # \"threshold\": \"mean\",\n",
    "        # \"threshold\": \"1.25*mean\",\n",
    "        \"random_forest\": {\n",
    "            \"n_estimators\": 250,\n",
    "            \"max_depth\": 12\n",
    "        }\n",
    "    }\n",
    "}"
   ]
  },
  {
   "cell_type": "code",
   "execution_count": null,
   "id": "3baaad48",
   "metadata": {},
   "outputs": [
    {
     "name": "stdout",
     "output_type": "stream",
     "text": [
      "{'feature_selector_name': 'EmbeddedMethod',\n",
      " 'model_based': {'random_forest': {'max_depth': 12, 'n_estimators': 250},\n",
      "                 'threshold': 'median'}}\n"
     ]
    }
   ],
   "source": [
    "scenario_1.feature_selector.write(feature_selector_params_SelectFromModel)\n",
    "feature_selector = scenario_1.feature_selector.read()\n",
    "pprint.pprint(feature_selector)"
   ]
  },
  {
   "cell_type": "code",
   "execution_count": null,
   "id": "0cf5a837",
   "metadata": {},
   "outputs": [
    {
     "name": "stdout",
     "output_type": "stream",
     "text": [
      "[2025-08-25 14:05:06.228][Taipy][INFO] job JOB_select_feature_96f53aea-582c-4422-bfc2-85c0efe1141b is completed.\n"
     ]
    },
    {
     "data": {
      "text/plain": [
       "<taipy.core.submission.submission.Submission at 0x152d7d12f00>"
      ]
     },
     "execution_count": 57,
     "metadata": {},
     "output_type": "execute_result"
    }
   ],
   "source": [
    "task = scenario_1.select_feature\n",
    "task.submit(wait=True)"
   ]
  },
  {
   "cell_type": "code",
   "execution_count": null,
   "id": "cf0b1fc1",
   "metadata": {},
   "outputs": [],
   "source": [
    "feature_selection_info = scenario_1.feature_selection_info.read()\n",
    "# pprint.pprint(feature_selection_info)\n",
    "# feature_selection_info\n",
    "feature_selection_FromModel = feature_selection_info"
   ]
  },
  {
   "cell_type": "code",
   "execution_count": null,
   "id": "61d58ba9",
   "metadata": {},
   "outputs": [
    {
     "data": {
      "text/plain": [
       "700"
      ]
     },
     "execution_count": 60,
     "metadata": {},
     "output_type": "execute_result"
    }
   ],
   "source": [
    "feature_selection_info[\"final_feature_count\"]"
   ]
  },
  {
   "cell_type": "code",
   "execution_count": null,
   "id": "3797fa70",
   "metadata": {},
   "outputs": [
    {
     "data": {
      "text/plain": [
       "1399"
      ]
     },
     "execution_count": 61,
     "metadata": {},
     "output_type": "execute_result"
    }
   ],
   "source": [
    "len(feature_selection_info[\"filter_details\"][\"feature_importances\"])"
   ]
  },
  {
   "cell_type": "code",
   "execution_count": null,
   "id": "8c884564",
   "metadata": {},
   "outputs": [
    {
     "name": "stdout",
     "output_type": "stream",
     "text": [
      "(3617, 701)\n"
     ]
    }
   ],
   "source": [
    "# 'final_features' 리스트와 마지막 컬럼 이름을 포함하는 리스트 생성\n",
    "columns_to_keep = feature_selection_info[\"final_features\"] + [train_dataset.columns[-1]]\n",
    "# 새로운 리스트에 있는 컬럼들만 남겨 DataFrame 업데이트\n",
    "train_dataset_feature_SelectFromModel = train_dataset[columns_to_keep]\n",
    "\n",
    "print(train_dataset_feature_SelectFromModel.shape)"
   ]
  },
  {
   "cell_type": "markdown",
   "id": "e4c8a1d6",
   "metadata": {},
   "source": [
    "feature_SelectFromModel\n",
    "end"
   ]
  },
  {
   "cell_type": "markdown",
   "id": "ca665e96",
   "metadata": {},
   "source": [
    "summary feature info\n",
    "start"
   ]
  },
  {
   "cell_type": "code",
   "execution_count": null,
   "id": "cccdb758",
   "metadata": {},
   "outputs": [],
   "source": [
    "# feature_selection_variance[\"filter_details\"][\"variance\"][\"features_values_checked\"]"
   ]
  },
  {
   "cell_type": "code",
   "execution_count": null,
   "id": "c2995b98",
   "metadata": {},
   "outputs": [],
   "source": [
    "value_type = \"variance\"\n",
    "\n",
    "features_values_checked = feature_selection_variance[\"filter_details\"][value_type][\"features_values_checked\"]\n",
    "feature_selection_variance_df = pd.DataFrame(\n",
    "    list(features_values_checked.items()), \n",
    "    columns=['feature_name', value_type]\n",
    ")\n",
    "feature_selection_variance_df.set_index('feature_name', inplace=True)\n",
    "feature_selection_variance_df"
   ]
  },
  {
   "cell_type": "code",
   "execution_count": null,
   "id": "17975a07",
   "metadata": {},
   "outputs": [],
   "source": [
    "# feature_selection_target_linear_corr[\"filter_details\"]"
   ]
  },
  {
   "cell_type": "code",
   "execution_count": null,
   "id": "aefa2ae4",
   "metadata": {},
   "outputs": [],
   "source": [
    "value_type = \"target_linear_correlation\"\n",
    "\n",
    "features_values_checked = feature_selection_target_linear_corr[\"filter_details\"][value_type][\"features_values_checked\"]\n",
    "feature_selection_target_linear_corr_df = pd.DataFrame(\n",
    "    list(features_values_checked.items()), \n",
    "    columns=['feature_name', value_type]\n",
    ")\n",
    "feature_selection_target_linear_corr_df.set_index('feature_name', inplace=True)\n",
    "feature_selection_target_linear_corr_df"
   ]
  },
  {
   "cell_type": "code",
   "execution_count": null,
   "id": "87bdf003",
   "metadata": {},
   "outputs": [
    {
     "data": {
      "text/plain": [
       "{'target_xicor_correlation': {'start_time': '2025-08-25 14:01:01',\n",
       "  'end_time': '2025-08-25 14:01:13',\n",
       "  'duration': '0:00:11',\n",
       "  'threshold_value': 0.0,\n",
       "  'original_count': 4,\n",
       "  'remaining_count': 4,\n",
       "  'features_dropped_yn': {'FAILING_BINOUTS(1) of 1103959_69_JPP_GbPoPo': 'False',\n",
       "   'FAILING_BINOUTS(1) of 1103959_69_JPP_PoPo': 'False',\n",
       "   'FAILING_BINOUTS(1) of 1103959_69_JPP_SbPoPo': 'False',\n",
       "   'band gap dpat_ok for band gap': 'False'},\n",
       "  'features_values_checked': {'FAILING_BINOUTS(1) of 1103959_69_JPP_GbPoPo': -7.717543328636047,\n",
       "   'FAILING_BINOUTS(1) of 1103959_69_JPP_PoPo': -7.749440557093635,\n",
       "   'FAILING_BINOUTS(1) of 1103959_69_JPP_SbPoPo': -7.7435821305282,\n",
       "   'band gap dpat_ok for band gap': -7.7218459904704115}}}"
      ]
     },
     "execution_count": 76,
     "metadata": {},
     "output_type": "execute_result"
    }
   ],
   "source": [
    "# feature_selection_target_xicor[\"filter_details\"]"
   ]
  },
  {
   "cell_type": "code",
   "execution_count": null,
   "id": "71170cf0",
   "metadata": {},
   "outputs": [],
   "source": [
    "value_type = \"target_xicor_correlation\"\n",
    "\n",
    "features_values_checked = feature_selection_target_xicor[\"filter_details\"][value_type][\"features_values_checked\"]\n",
    "feature_selection_target_xicor_df = pd.DataFrame(\n",
    "    list(features_values_checked.items()), \n",
    "    columns=['feature_name', value_type]\n",
    ")\n",
    "feature_selection_target_xicor_df.set_index('feature_name', inplace=True)\n",
    "feature_selection_target_xicor_df"
   ]
  },
  {
   "cell_type": "code",
   "execution_count": null,
   "id": "896637cc",
   "metadata": {},
   "outputs": [],
   "source": [
    "# feature_selection_FromModel[\"filter_details\"]\n",
    "\n",
    "# value_type = \"feature_importances\"\n",
    "# feature_selection_FromModel[\"filter_details\"][value_type]"
   ]
  },
  {
   "cell_type": "code",
   "execution_count": null,
   "id": "7944a01c",
   "metadata": {},
   "outputs": [],
   "source": [
    "value_type = \"feature_importances\"\n",
    "\n",
    "features_values_checked = feature_selection_FromModel[\"filter_details\"][value_type]\n",
    "feature_selection_FromModel_df = pd.DataFrame(\n",
    "    list(features_values_checked.items()), \n",
    "    columns=['feature_name', value_type]\n",
    ")\n",
    "feature_selection_FromModel_df.set_index('feature_name', inplace=True)\n",
    "# feature_selection_FromModel_df"
   ]
  },
  {
   "cell_type": "code",
   "execution_count": null,
   "id": "f42b4f91",
   "metadata": {},
   "outputs": [
    {
     "data": {
      "application/vnd.microsoft.datawrangler.viewer.v0+json": {
       "columns": [
        {
         "name": "feature_name",
         "rawType": "object",
         "type": "string"
        },
        {
         "name": "variance",
         "rawType": "float64",
         "type": "float"
        },
        {
         "name": "target_linear_correlation",
         "rawType": "float64",
         "type": "float"
        },
        {
         "name": "feature_importances",
         "rawType": "float64",
         "type": "float"
        }
       ],
       "ref": "c96738f6-9976-450d-aba7-6ddebc15fedf",
       "rows": [
        [
         "AC_GAIN_32 of 1103959_69_1133529_cp1_cp1p5_YPP",
         "8.620563905451396",
         "0.11481779331279013",
         "0.0"
        ],
        [
         "AC_GAIN_32 of 1103959_69_1133529_cp1_cp1p5_YPP_QPP_RPP",
         "8.620563905451396",
         "0.11481779331279013",
         "0.0"
        ],
        [
         "AC_GAIN_32 of 1103959_69_1133529_cp1p5",
         "8.620563905451396",
         "0.11481779331279013",
         "0.0"
        ],
        [
         "AC_GAIN_32 of 1103959_69_1133592_QPP",
         "8.620563905451396",
         "0.11481779331279013",
         "0.0"
        ],
        [
         "AC_OFFCALRES of 1103959_69_1133529_cp1",
         "0.36736376628528505",
         "0.0010544937531157235",
         "0.0011894308037042267"
        ],
        [
         "AC_OFFCALRES of 1103959_69_1133529_cp1_cp1p5_YPP",
         "0.6602039095025564",
         "0.010239751100557673",
         "0.0007986414615059026"
        ],
        [
         "AC_OFFCALRES of 1103959_69_1133529_cp1_cp1p5_YPP_QPP_RPP",
         "0.6198206038773041",
         "0.00036835696040999103",
         "0.0022072810346402206"
        ],
        [
         "AC_OFFCALRES of 1103959_69_1133529_cp1p5",
         "0.6890570391485467",
         "0.0007351413097708711",
         "0.00022680654875282603"
        ],
        [
         "AC_OFFCALRES of 1103959_69_1133592_QPP",
         "0.8627569369569736",
         "0.00788840701549666",
         "0.00042620680198447654"
        ],
        [
         "AC_OFFCALRES of 1103959_69_JPP",
         "0.22336498321408887",
         "0.019196128033413345",
         "0.0005561714468427949"
        ],
        [
         "AC_OFFCALRES_PRE of 1103959_69_1133529_cp1",
         "0.3436020867785064",
         "0.021430213079077963",
         "0.0014054283676760222"
        ],
        [
         "AC_OFFCALRES_PRE of 1103959_69_1133529_cp1_cp1p5_YPP",
         "18.256934568858895",
         "0.0012682034725542322",
         "0.00014905907630151114"
        ],
        [
         "AC_OFFCALRES_PRE of 1103959_69_1133529_cp1_cp1p5_YPP_QPP_RPP",
         "1.17298465446647",
         "0.009267938569447501",
         "0.0003937290693543074"
        ],
        [
         "AC_OFFCALRES_PRE of 1103959_69_1133529_cp1p5",
         "1.5647003662384706",
         "0.0058222125207682595",
         "0.00019784136592485702"
        ],
        [
         "AC_OFFCALRES_PRE of 1103959_69_1133592_QPP",
         "30.475556013500388",
         "0.0019372125587069915",
         "0.0006655391770708529"
        ],
        [
         "AC_OFFCALRES_PRE of 1103959_69_JPP",
         "1.093470481126442",
         "0.10452618410930029",
         "0.004695377541177459"
        ],
        [
         "AC_SENSETGT of 1103959_69_1133529_cp1_cp1p5_YPP",
         "3166.8599347109644",
         "0.11481779331279",
         "0.0"
        ],
        [
         "AC_SENSETGT of 1103959_69_1133529_cp1_cp1p5_YPP_QPP_RPP",
         "3166.8599347109644",
         "0.11481779331279",
         "0.0"
        ],
        [
         "AC_SENSETGT of 1103959_69_1133529_cp1p5",
         "3166.8599347109644",
         "0.11481779331279",
         "0.0"
        ],
        [
         "AC_SENSETGT of 1103959_69_1133592_QPP",
         "3166.8599347109644",
         "0.11481779331279",
         "0.0"
        ],
        [
         "AC_SENSE_CAL of 1103959_69_1133529_cp1",
         "725.6620220116998",
         "0.06298534443346009",
         "0.00223591151715714"
        ],
        [
         "AC_SENSE_CAL of 1103959_69_1133529_cp1_cp1p5_YPP",
         "9625.914302788457",
         "0.021962650515150686",
         "0.0006877174736350775"
        ],
        [
         "AC_SENSE_CAL of 1103959_69_1133529_cp1_cp1p5_YPP_QPP_RPP",
         "738.2148467414202",
         "0.03222549412275416",
         "0.0003153230640397303"
        ],
        [
         "AC_SENSE_CAL of 1103959_69_1133529_cp1p5",
         "9661.368778151844",
         "0.07016257214557331",
         "0.0007084621828793777"
        ],
        [
         "AC_SENSE_CAL of 1103959_69_1133592_QPP",
         "507.0576259538903",
         "0.0003585760223767772",
         "0.0008671426985208596"
        ],
        [
         "AC_SENSE_CAL of 1103959_69_JPP",
         "2604.423596259326",
         "0.02925243022367547",
         "0.0006615408760357502"
        ],
        [
         "AC_SENSE_CLN 2 of 1103959_69_1133529_YPP",
         "0.0004424948279984904",
         "3.610417293684293e-05",
         "0.0"
        ],
        [
         "AC_SENSE_CLN 2 of 1103959_69_1133529_cp1_cp1p5",
         "0.00029147215032144624",
         "0.0010080141863260715",
         "0.0"
        ],
        [
         "AC_SENSE_CLN 2 of 1103959_69_1133529_cp1_cp1p5_YPP_QPP",
         "3.6277286506312305e-05",
         "6.052127989120616e-05",
         "6.078922620164707e-05"
        ],
        [
         "AC_SENSE_CLN 2 of 1103959_69_1133592_RPP",
         "3.810691457488611e-05",
         "0.0041337218365670595",
         "0.0"
        ],
        [
         "AC_SENSE_CLN of 1103959_69_1133529_cp1",
         "0.0028209809723319817",
         "0.12423664184645329",
         "0.001753915794584855"
        ],
        [
         "AC_SENSE_CLN of 1103959_69_1133529_cp1_cp1p5_YPP",
         "0.00515522305416317",
         "0.1027509466437346",
         "0.000296459959292581"
        ],
        [
         "AC_SENSE_CLN of 1103959_69_1133529_cp1_cp1p5_YPP_QPP_RPP",
         "0.0026330127961372188",
         "0.12091871379259177",
         "0.0011856360688976258"
        ],
        [
         "AC_SENSE_CLN of 1103959_69_1133529_cp1p5",
         "0.005203351567557698",
         "0.10976856753168782",
         "0.0005347129796697453"
        ],
        [
         "AC_SENSE_CLN of 1103959_69_1133592_QPP",
         "0.0029865287609457305",
         "0.11702856091201633",
         "0.0004406604031232518"
        ],
        [
         "AC_SENSE_CLN of 1103959_69_JPP",
         "6.399233061496116e-05",
         "0.04824483568042255",
         "0.0007402648510780169"
        ],
        [
         "AC_SENSE_CLP of 1103959_69_1133529_cp1_cp1p5_YPP_QPP",
         "2.3515907050880187e-05",
         "0.09323844804254637",
         "0.0009968054341444193"
        ],
        [
         "AC_SENSE_CLP of 1103959_69_1133592_RPP",
         "1.842055431847706e-05",
         "0.0782225054677354",
         "0.0013607148501501318"
        ],
        [
         "AC_SENSE_CN_FG_SA of 1103959_69_1133529_cp1",
         "1.4479800100545265e-05",
         "0.04667041245393942",
         "0.0012930706207592924"
        ],
        [
         "AC_SENSE_CN_FG_SA of 1103959_69_1133529_cp1_cp1p5_YPP",
         "0.0004427467230901398",
         "0.09871484319111137",
         "0.0005771905021307895"
        ],
        [
         "AC_SENSE_CN_FG_SA of 1103959_69_1133529_cp1_cp1p5_YPP_QPP_RPP",
         "0.00029408834215607953",
         "0.09863165720931372",
         "0.0005514776278578575"
        ],
        [
         "AC_SENSE_CN_FG_SA of 1103959_69_1133529_cp1p5",
         "0.000587466455173578",
         "0.12134521072054322",
         "0.0009164106317306416"
        ],
        [
         "AC_SENSE_CN_FG_SA of 1103959_69_1133592_QPP",
         "0.0002520822469147658",
         "0.11262756130165384",
         "0.0004705340064555477"
        ],
        [
         "AC_SENSE_CN_FG_SA of 1103959_69_JPP",
         "9.087730028767227e-05",
         "0.0801569413146026",
         "8.07339026567216e-05"
        ],
        [
         "AC_SENSE_CRN 2 of 1103959_69_1133529_YPP",
         "1.857304636159026e-05",
         "0.0009448796117300018",
         "0.0"
        ],
        [
         "AC_SENSE_CRN 2 of 1103959_69_1133529_cp1_cp1p5",
         "1.9134429239134423e-05",
         "0.00043027129989223255",
         "0.0"
        ],
        [
         "AC_SENSE_CRN 2 of 1103959_69_1133529_cp1_cp1p5_YPP_QPP",
         "3.4900226385863975e-05",
         "0.0006216126328117129",
         "0.0"
        ],
        [
         "AC_SENSE_CRN 2 of 1103959_69_1133592_RPP",
         "0.00015343952613327928",
         "0.0010536860869376139",
         "0.0"
        ],
        [
         "AC_SENSE_CRN of 1103959_69_1133529_cp1",
         "0.0027924808120056224",
         "0.12059111144900055",
         "0.0009111073819962973"
        ],
        [
         "AC_SENSE_CRN of 1103959_69_1133529_cp1_cp1p5_YPP",
         "0.002116637292428698",
         "0.12665505384587197",
         "0.003061201487447927"
        ]
       ],
       "shape": {
        "columns": 3,
        "rows": 1399
       }
      },
      "text/html": [
       "<div>\n",
       "<style scoped>\n",
       "    .dataframe tbody tr th:only-of-type {\n",
       "        vertical-align: middle;\n",
       "    }\n",
       "\n",
       "    .dataframe tbody tr th {\n",
       "        vertical-align: top;\n",
       "    }\n",
       "\n",
       "    .dataframe thead th {\n",
       "        text-align: right;\n",
       "    }\n",
       "</style>\n",
       "<table border=\"1\" class=\"dataframe\">\n",
       "  <thead>\n",
       "    <tr style=\"text-align: right;\">\n",
       "      <th></th>\n",
       "      <th>variance</th>\n",
       "      <th>target_linear_correlation</th>\n",
       "      <th>feature_importances</th>\n",
       "    </tr>\n",
       "    <tr>\n",
       "      <th>feature_name</th>\n",
       "      <th></th>\n",
       "      <th></th>\n",
       "      <th></th>\n",
       "    </tr>\n",
       "  </thead>\n",
       "  <tbody>\n",
       "    <tr>\n",
       "      <th>AC_GAIN_32 of 1103959_69_1133529_cp1_cp1p5_YPP</th>\n",
       "      <td>8.620564</td>\n",
       "      <td>0.114818</td>\n",
       "      <td>0.000000</td>\n",
       "    </tr>\n",
       "    <tr>\n",
       "      <th>AC_GAIN_32 of 1103959_69_1133529_cp1_cp1p5_YPP_QPP_RPP</th>\n",
       "      <td>8.620564</td>\n",
       "      <td>0.114818</td>\n",
       "      <td>0.000000</td>\n",
       "    </tr>\n",
       "    <tr>\n",
       "      <th>AC_GAIN_32 of 1103959_69_1133529_cp1p5</th>\n",
       "      <td>8.620564</td>\n",
       "      <td>0.114818</td>\n",
       "      <td>0.000000</td>\n",
       "    </tr>\n",
       "    <tr>\n",
       "      <th>AC_GAIN_32 of 1103959_69_1133592_QPP</th>\n",
       "      <td>8.620564</td>\n",
       "      <td>0.114818</td>\n",
       "      <td>0.000000</td>\n",
       "    </tr>\n",
       "    <tr>\n",
       "      <th>AC_OFFCALRES of 1103959_69_1133529_cp1</th>\n",
       "      <td>0.367364</td>\n",
       "      <td>0.001054</td>\n",
       "      <td>0.001189</td>\n",
       "    </tr>\n",
       "    <tr>\n",
       "      <th>...</th>\n",
       "      <td>...</td>\n",
       "      <td>...</td>\n",
       "      <td>...</td>\n",
       "    </tr>\n",
       "    <tr>\n",
       "      <th>Zb_V_OBVOL_VSS_L of 1103959_69_1133529_cp1_cp1p5_YPP_QPP_RPP</th>\n",
       "      <td>0.000030</td>\n",
       "      <td>0.017764</td>\n",
       "      <td>0.000161</td>\n",
       "    </tr>\n",
       "    <tr>\n",
       "      <th>Zb_V_OBVOL_VSS_L of 1103959_69_1133529_cp1p5</th>\n",
       "      <td>0.000047</td>\n",
       "      <td>0.026030</td>\n",
       "      <td>0.000903</td>\n",
       "    </tr>\n",
       "    <tr>\n",
       "      <th>Zb_V_OBVOL_VSS_L of 1103959_69_1133592_QPP</th>\n",
       "      <td>0.000037</td>\n",
       "      <td>0.001384</td>\n",
       "      <td>0.000263</td>\n",
       "    </tr>\n",
       "    <tr>\n",
       "      <th>Zb_V_OBVOL_VSS_L of 1103959_69_JPP</th>\n",
       "      <td>0.000025</td>\n",
       "      <td>0.067453</td>\n",
       "      <td>0.000115</td>\n",
       "    </tr>\n",
       "    <tr>\n",
       "      <th>band gap dpat_ok for band gap</th>\n",
       "      <td>0.209825</td>\n",
       "      <td>0.016280</td>\n",
       "      <td>0.000000</td>\n",
       "    </tr>\n",
       "  </tbody>\n",
       "</table>\n",
       "<p>1399 rows × 3 columns</p>\n",
       "</div>"
      ],
      "text/plain": [
       "                                                    variance  \\\n",
       "feature_name                                                   \n",
       "AC_GAIN_32 of 1103959_69_1133529_cp1_cp1p5_YPP      8.620564   \n",
       "AC_GAIN_32 of 1103959_69_1133529_cp1_cp1p5_YPP_...  8.620564   \n",
       "AC_GAIN_32 of 1103959_69_1133529_cp1p5              8.620564   \n",
       "AC_GAIN_32 of 1103959_69_1133592_QPP                8.620564   \n",
       "AC_OFFCALRES of 1103959_69_1133529_cp1              0.367364   \n",
       "...                                                      ...   \n",
       "Zb_V_OBVOL_VSS_L of 1103959_69_1133529_cp1_cp1p...  0.000030   \n",
       "Zb_V_OBVOL_VSS_L of 1103959_69_1133529_cp1p5        0.000047   \n",
       "Zb_V_OBVOL_VSS_L of 1103959_69_1133592_QPP          0.000037   \n",
       "Zb_V_OBVOL_VSS_L of 1103959_69_JPP                  0.000025   \n",
       "band gap dpat_ok for band gap                       0.209825   \n",
       "\n",
       "                                                    target_linear_correlation  \\\n",
       "feature_name                                                                    \n",
       "AC_GAIN_32 of 1103959_69_1133529_cp1_cp1p5_YPP                       0.114818   \n",
       "AC_GAIN_32 of 1103959_69_1133529_cp1_cp1p5_YPP_...                   0.114818   \n",
       "AC_GAIN_32 of 1103959_69_1133529_cp1p5                               0.114818   \n",
       "AC_GAIN_32 of 1103959_69_1133592_QPP                                 0.114818   \n",
       "AC_OFFCALRES of 1103959_69_1133529_cp1                               0.001054   \n",
       "...                                                                       ...   \n",
       "Zb_V_OBVOL_VSS_L of 1103959_69_1133529_cp1_cp1p...                   0.017764   \n",
       "Zb_V_OBVOL_VSS_L of 1103959_69_1133529_cp1p5                         0.026030   \n",
       "Zb_V_OBVOL_VSS_L of 1103959_69_1133592_QPP                           0.001384   \n",
       "Zb_V_OBVOL_VSS_L of 1103959_69_JPP                                   0.067453   \n",
       "band gap dpat_ok for band gap                                        0.016280   \n",
       "\n",
       "                                                    feature_importances  \n",
       "feature_name                                                             \n",
       "AC_GAIN_32 of 1103959_69_1133529_cp1_cp1p5_YPP                 0.000000  \n",
       "AC_GAIN_32 of 1103959_69_1133529_cp1_cp1p5_YPP_...             0.000000  \n",
       "AC_GAIN_32 of 1103959_69_1133529_cp1p5                         0.000000  \n",
       "AC_GAIN_32 of 1103959_69_1133592_QPP                           0.000000  \n",
       "AC_OFFCALRES of 1103959_69_1133529_cp1                         0.001189  \n",
       "...                                                                 ...  \n",
       "Zb_V_OBVOL_VSS_L of 1103959_69_1133529_cp1_cp1p...             0.000161  \n",
       "Zb_V_OBVOL_VSS_L of 1103959_69_1133529_cp1p5                   0.000903  \n",
       "Zb_V_OBVOL_VSS_L of 1103959_69_1133592_QPP                     0.000263  \n",
       "Zb_V_OBVOL_VSS_L of 1103959_69_JPP                             0.000115  \n",
       "band gap dpat_ok for band gap                                  0.000000  \n",
       "\n",
       "[1399 rows x 3 columns]"
      ]
     },
     "execution_count": 87,
     "metadata": {},
     "output_type": "execute_result"
    }
   ],
   "source": [
    "\n",
    "# 첫 번째와 두 번째 데이터프레임을 병합\n",
    "feature_selection_XY_sum_df = pd.merge(\n",
    "    feature_selection_variance_df,\n",
    "    feature_selection_target_linear_corr_df,\n",
    "    how='outer',\n",
    "    left_index=True,\n",
    "    right_index=True\n",
    ")\n",
    "\n",
    "# 세 번째 데이터프레임을 병합된 결과에 추가 병합\n",
    "feature_selection_XY_sum_df = pd.merge(\n",
    "    feature_selection_XY_sum_df,\n",
    "    feature_selection_FromModel_df,\n",
    "    how='outer',\n",
    "    left_index=True,\n",
    "    right_index=True\n",
    ")\n",
    "\n",
    "\n",
    "# 결과 출력\n",
    "# print(feature_selection_XY_sum_df)\n",
    "\n",
    "# feature_selection_XY_sum_df"
   ]
  },
  {
   "cell_type": "code",
   "execution_count": null,
   "id": "01a5b97c",
   "metadata": {},
   "outputs": [],
   "source": []
  },
  {
   "cell_type": "code",
   "execution_count": null,
   "id": "f98f6db3",
   "metadata": {},
   "outputs": [],
   "source": []
  },
  {
   "cell_type": "code",
   "execution_count": null,
   "id": "7ecd7b6f",
   "metadata": {},
   "outputs": [],
   "source": [
    "#@@@@"
   ]
  },
  {
   "cell_type": "code",
   "execution_count": null,
   "id": "ebd64e96",
   "metadata": {},
   "outputs": [],
   "source": []
  },
  {
   "cell_type": "code",
   "execution_count": null,
   "id": "43d6337e",
   "metadata": {},
   "outputs": [],
   "source": []
  },
  {
   "cell_type": "code",
   "execution_count": null,
   "id": "f4b9d8a2",
   "metadata": {},
   "outputs": [],
   "source": []
  },
  {
   "cell_type": "code",
   "execution_count": null,
   "id": "afaedc80",
   "metadata": {},
   "outputs": [],
   "source": []
  },
  {
   "cell_type": "code",
   "execution_count": null,
   "id": "387845d7",
   "metadata": {},
   "outputs": [],
   "source": []
  },
  {
   "cell_type": "code",
   "execution_count": null,
   "id": "b91df598",
   "metadata": {},
   "outputs": [],
   "source": []
  },
  {
   "cell_type": "code",
   "execution_count": null,
   "id": "7ff61313",
   "metadata": {},
   "outputs": [],
   "source": [
    "task = scenario_1.select_feature\n",
    "task.submit(wait=True)"
   ]
  },
  {
   "cell_type": "code",
   "execution_count": null,
   "id": "25eabcfc",
   "metadata": {},
   "outputs": [],
   "source": [
    "feature_selection_info = scenario_1.feature_selection_info.read()"
   ]
  },
  {
   "cell_type": "code",
   "execution_count": null,
   "id": "395f2c16",
   "metadata": {},
   "outputs": [],
   "source": [
    "feature_selection_info"
   ]
  },
  {
   "cell_type": "code",
   "execution_count": null,
   "id": "4b6ad2d9",
   "metadata": {},
   "outputs": [],
   "source": [
    "feature_selection_info = scenario_1.feature_selection_info.read()\n",
    "# pprint.pprint(feature_selection_info)\n",
    "pprint.pprint(feature_selection_info.get('final_feature_count'))"
   ]
  },
  {
   "cell_type": "code",
   "execution_count": null,
   "id": "70ca51bf",
   "metadata": {},
   "outputs": [],
   "source": []
  },
  {
   "cell_type": "markdown",
   "id": "47204ed1",
   "metadata": {},
   "source": [
    "### TASKS train_model"
   ]
  },
  {
   "cell_type": "code",
   "execution_count": null,
   "id": "a5182996",
   "metadata": {},
   "outputs": [],
   "source": [
    "# Iterate through all scenarios and models\n",
    "for scenario in tp.get_scenarios():\n",
    "    for task_name in scenario.tasks:\n",
    "        if \"train_model\" in task_name:\n",
    "            model = task_name.split(\"train_model_\")[1]\n",
    "            print(f\"Model: {model}\")\n",
    "            task = eval(\"scenario.\" + task_name)\n",
    "            task.submit(wait=True)"
   ]
  },
  {
   "cell_type": "code",
   "execution_count": null,
   "id": "ade74fd9",
   "metadata": {},
   "outputs": [],
   "source": []
  },
  {
   "cell_type": "code",
   "execution_count": null,
   "id": "80b5ef47",
   "metadata": {},
   "outputs": [],
   "source": [
    "task = scenario_1.train_model_baseline\n",
    "# task.submit(wait=True, timeout=50)\n",
    "task.submit(wait=True)\n",
    "trained_model_baseline = scenario_1.trained_model_baseline.read()\n",
    "print(trained_model_baseline)\n",
    "feature_importance_baseline = scenario_1.feature_importance_baseline.read()\n",
    "print(feature_importance_baseline.shape)"
   ]
  },
  {
   "cell_type": "code",
   "execution_count": null,
   "id": "afa1a899",
   "metadata": {},
   "outputs": [],
   "source": [
    "# train_parameters_logistic_regression = scenario_1.train_parameters_logistic_regression.read()\n",
    "# train_parameters_logistic_regression"
   ]
  },
  {
   "cell_type": "code",
   "execution_count": null,
   "id": "8724ac57",
   "metadata": {},
   "outputs": [],
   "source": [
    "task = scenario_1.train_model_logistic_regression\n",
    "# task.submit(wait=True, timeout=50)\n",
    "task.submit(wait=True)\n",
    "trained_model_logistic_regression = scenario_1.trained_model_logistic_regression.read()\n",
    "print(trained_model_logistic_regression)\n",
    "feature_importance_logistic_regression = scenario_1.feature_importance_logistic_regression.read()\n",
    "print(feature_importance_logistic_regression.shape)"
   ]
  },
  {
   "cell_type": "code",
   "execution_count": null,
   "id": "7837f108",
   "metadata": {},
   "outputs": [],
   "source": [
    "# train_parameters_info_logistic_regression = scenario_1.train_parameters_info_logistic_regression.read()\n",
    "# pprint.pprint(train_parameters_info_logistic_regression)"
   ]
  },
  {
   "cell_type": "code",
   "execution_count": null,
   "id": "914c71bd",
   "metadata": {},
   "outputs": [],
   "source": [
    "# trained_model_logistic_regression\n",
    "# feature_importance_logistic_regression\n",
    "# train_parameters_info_logistic_regression"
   ]
  },
  {
   "cell_type": "markdown",
   "id": "c85e7feb",
   "metadata": {},
   "source": [
    "테스트 "
   ]
  },
  {
   "cell_type": "code",
   "execution_count": null,
   "id": "e6823a3c",
   "metadata": {},
   "outputs": [],
   "source": [
    "train_dataset = scenario_1.train_dataset.read()\n",
    "# train_dataset"
   ]
  },
  {
   "cell_type": "code",
   "execution_count": null,
   "id": "5c9ab068",
   "metadata": {},
   "outputs": [],
   "source": [
    "feature_selection_info = scenario_1.feature_selection_info.read()\n"
   ]
  },
  {
   "cell_type": "code",
   "execution_count": null,
   "id": "16672e74",
   "metadata": {},
   "outputs": [],
   "source": [
    "# train_parameters_logistic_regression = scenario_1.train_parameters_logistic_regression.read()\n",
    "# train_parameters = train_parameters_logistic_regression\n",
    "# train_parameters"
   ]
  },
  {
   "cell_type": "code",
   "execution_count": null,
   "id": "d7075ca3",
   "metadata": {},
   "outputs": [],
   "source": [
    "# train_parameters_random_forest = scenario_1.train_parameters_random_forest.read()\n",
    "# train_parameters = train_parameters_random_forest\n",
    "# train_parameters"
   ]
  },
  {
   "cell_type": "code",
   "execution_count": null,
   "id": "26f8724a",
   "metadata": {},
   "outputs": [],
   "source": [
    "task = scenario_1.train_model_random_forest\n",
    "# task.submit(wait=True, timeout=50)\n",
    "task.submit(wait=True)\n",
    "trained_model_random_forest = scenario_1.trained_model_random_forest.read()\n",
    "print(trained_model_random_forest)\n",
    "feature_importance_random_forest = scenario_1.feature_importance_random_forest.read()\n",
    "print(feature_importance_random_forest.shape)"
   ]
  },
  {
   "cell_type": "code",
   "execution_count": null,
   "id": "622b938d",
   "metadata": {},
   "outputs": [],
   "source": [
    "task = scenario_1.train_model_xgboost\n",
    "# task.submit(wait=True, timeout=50)\n",
    "task.submit(wait=True)\n",
    "trained_model_xgboost = scenario_1.trained_model_xgboost.read()\n",
    "print(trained_model_xgboost)\n",
    "feature_importance_xgboost = scenario_1.feature_importance_xgboost.read()\n",
    "print(feature_importance_xgboost.shape)"
   ]
  },
  {
   "cell_type": "markdown",
   "id": "bcc2b486",
   "metadata": {},
   "source": [
    "### TASKS predict_the_test_data"
   ]
  },
  {
   "cell_type": "code",
   "execution_count": null,
   "id": "3d594091",
   "metadata": {},
   "outputs": [],
   "source": [
    "task = scenario_1.predict_the_test_data_baseline\n",
    "# task.submit(wait=True, timeout=50)\n",
    "task.submit(wait=True, timeout=1)\n",
    "forecast_dataset_baseline = scenario_1.forecast_dataset_baseline.read()\n",
    "print(forecast_dataset_baseline)\n",
    "shap_values_baseline = scenario_1.shap_values_baseline.read()\n"
   ]
  },
  {
   "cell_type": "code",
   "execution_count": null,
   "id": "9b48cd2a",
   "metadata": {},
   "outputs": [],
   "source": [
    "# forecast_dataset_baseline"
   ]
  },
  {
   "cell_type": "code",
   "execution_count": null,
   "id": "7f9a3091",
   "metadata": {},
   "outputs": [],
   "source": [
    "# shap_values_baseline이 NoneType인 경우를 테스트하기 위한 예시\n",
    "# 아래 코드를 주석 처리하고 실제 shap_values_baseline을 사용하세요.\n",
    "# shap_values_baseline = (None, np.random.rand(100, 5))\n",
    "# 조건문\n",
    "if isinstance(shap_values_baseline[0], type(None)):\n",
    "    print(type(shap_values_baseline[0]))\n",
    "    print(shap_values_baseline[1].shape)\n",
    "else:\n",
    "    shap.summary_plot(shap_values_baseline[0], shap_values_baseline[1])"
   ]
  },
  {
   "cell_type": "code",
   "execution_count": null,
   "id": "ca252321",
   "metadata": {},
   "outputs": [],
   "source": [
    "task = scenario_1.predict_the_test_data_logistic_regression\n",
    "# task.submit(wait=True, timeout=50)\n",
    "task.submit(wait=True)\n",
    "forecast_dataset_logistic_regression = scenario_1.forecast_dataset_logistic_regression.read()"
   ]
  },
  {
   "cell_type": "code",
   "execution_count": null,
   "id": "02f230c0",
   "metadata": {},
   "outputs": [],
   "source": [
    "print(forecast_dataset_logistic_regression)\n",
    "shap_values_logistic_regression = scenario_1.shap_values_logistic_regression.read()\n"
   ]
  },
  {
   "cell_type": "code",
   "execution_count": null,
   "id": "a476f117",
   "metadata": {},
   "outputs": [],
   "source": [
    "\n",
    "# shap_values_logistic_regression이 NoneType인 경우를 테스트하기 위한 예시\n",
    "# 아래 코드를 주석 처리하고 실제 shap_values_logistic_regression을 사용하세요.\n",
    "# shap_values_logistic_regression = (None, np.random.rand(100, 5))\n",
    "# 조건문\n",
    "if isinstance(shap_values_logistic_regression[0], type(None)):\n",
    "    print(type(shap_values_logistic_regression[0]))\n",
    "    print(shap_values_logistic_regression[1].shape)\n",
    "else:\n",
    "    shap.summary_plot(shap_values_logistic_regression[0], shap_values_logistic_regression[1])"
   ]
  },
  {
   "cell_type": "code",
   "execution_count": null,
   "id": "b5a17fa5",
   "metadata": {},
   "outputs": [],
   "source": [
    "task = scenario_1.predict_the_test_data_random_forest\n",
    "task.submit(wait=True, timeout=50)\n",
    "forecast_dataset_random_forest = scenario_1.forecast_dataset_random_forest.read()\n",
    "print(forecast_dataset_random_forest)\n",
    "shap_values_random_forest = scenario_1.shap_values_random_forest.read()\n",
    "\n",
    "# shap_values_random_forest이 NoneType인 경우를 테스트하기 위한 예시\n",
    "# 아래 코드를 주석 처리하고 실제 shap_values_random_forest을 사용하세요.\n",
    "# shap_values_random_forest = (None, np.random.rand(100, 5))\n",
    "# 조건문\n",
    "if isinstance(shap_values_random_forest[0], type(None)):\n",
    "    print(type(shap_values_random_forest[0]))\n",
    "    print(shap_values_random_forest[1].shape)\n",
    "else:\n",
    "    shap.summary_plot(shap_values_random_forest[0], shap_values_random_forest[1])"
   ]
  },
  {
   "cell_type": "code",
   "execution_count": null,
   "id": "47094e67",
   "metadata": {},
   "outputs": [],
   "source": [
    "task = scenario_1.predict_the_test_data_xgboost\n",
    "task.submit(wait=True, timeout=50)\n",
    "forecast_dataset_xgboost = scenario_1.forecast_dataset_xgboost.read()\n",
    "print(forecast_dataset_xgboost)\n",
    "shap_values_xgboost = scenario_1.shap_values_xgboost.read()\n",
    "\n",
    "# shap_values_xgboost이 NoneType인 경우를 테스트하기 위한 예시\n",
    "# 아래 코드를 주석 처리하고 실제 shap_values_xgboost을 사용하세요.\n",
    "# shap_values_xgboost = (None, np.random.rand(100, 5))\n",
    "# 조건문\n",
    "if isinstance(shap_values_xgboost[0], type(None)):\n",
    "    print(type(shap_values_xgboost[0]))\n",
    "    print(shap_values_xgboost[1].shape)\n",
    "else:\n",
    "    shap.summary_plot(shap_values_xgboost[0], shap_values_xgboost[1])"
   ]
  },
  {
   "cell_type": "markdown",
   "id": "f0819cb5",
   "metadata": {},
   "source": [
    "### TASKS find_best_threshold"
   ]
  },
  {
   "cell_type": "code",
   "execution_count": null,
   "id": "72b6a005",
   "metadata": {},
   "outputs": [],
   "source": [
    "task = scenario_1.find_best_threshold_baseline\n",
    "task.submit(wait=True, timeout=50)\n",
    "train_dataset_proba_baseline = scenario_1.train_dataset_proba_baseline.read()\n",
    "print(train_dataset_proba_baseline.shape)\n",
    "threshold_baseline = scenario_1.threshold_baseline.read()\n",
    "print(threshold_baseline)"
   ]
  },
  {
   "cell_type": "code",
   "execution_count": null,
   "id": "f156f1af",
   "metadata": {},
   "outputs": [],
   "source": [
    "task = scenario_1.find_best_threshold_logistic_regression\n",
    "task.submit(wait=True, timeout=50)\n",
    "train_dataset_proba_logistic_regression = scenario_1.train_dataset_proba_logistic_regression.read()\n",
    "print(train_dataset_proba_logistic_regression.shape)\n",
    "threshold_logistic_regression = scenario_1.threshold_logistic_regression.read()\n",
    "print(threshold_logistic_regression)"
   ]
  },
  {
   "cell_type": "code",
   "execution_count": null,
   "id": "4e97bd3e",
   "metadata": {},
   "outputs": [],
   "source": [
    "task = scenario_1.find_best_threshold_random_forest\n",
    "task.submit(wait=True, timeout=50)\n",
    "train_dataset_proba_random_forest = scenario_1.train_dataset_proba_random_forest.read()\n",
    "print(train_dataset_proba_random_forest.shape)\n",
    "threshold_random_forest = scenario_1.threshold_random_forest.read()\n",
    "print(threshold_random_forest)"
   ]
  },
  {
   "cell_type": "code",
   "execution_count": null,
   "id": "b4cee4a4",
   "metadata": {},
   "outputs": [],
   "source": [
    "task = scenario_1.find_best_threshold_xgboost\n",
    "task.submit(wait=True, timeout=50)\n",
    "train_dataset_proba_xgboost = scenario_1.train_dataset_proba_xgboost.read()\n",
    "print(train_dataset_proba_xgboost.shape)\n",
    "threshold_xgboost = scenario_1.threshold_xgboost.read()\n",
    "print(threshold_xgboost)"
   ]
  },
  {
   "cell_type": "markdown",
   "id": "2ce948ec",
   "metadata": {},
   "source": [
    "### TASKS roc"
   ]
  },
  {
   "cell_type": "code",
   "execution_count": null,
   "id": "668159aa",
   "metadata": {},
   "outputs": [],
   "source": [
    "task = scenario_1.task_roc_baseline\n",
    "task.submit(wait=True, timeout=50)\n",
    "roc_data_baseline = scenario_1.roc_data_baseline.read()\n",
    "print(roc_data_baseline.shape)\n",
    "auc_score_baseline = scenario_1.auc_score_baseline.read()\n",
    "print(auc_score_baseline)"
   ]
  },
  {
   "cell_type": "code",
   "execution_count": null,
   "id": "e06ee34c",
   "metadata": {},
   "outputs": [],
   "source": [
    "task = scenario_1.task_roc_logistic_regression\n",
    "task.submit(wait=True, timeout=50)\n",
    "roc_data_logistic_regression = scenario_1.roc_data_logistic_regression.read()\n",
    "print(roc_data_logistic_regression.shape)\n",
    "auc_score_logistic_regression = scenario_1.auc_score_logistic_regression.read()\n",
    "print(auc_score_logistic_regression)"
   ]
  },
  {
   "cell_type": "code",
   "execution_count": null,
   "id": "d6f1a13e",
   "metadata": {},
   "outputs": [],
   "source": [
    "task = scenario_1.task_roc_random_forest\n",
    "task.submit(wait=True, timeout=50)\n",
    "roc_data_random_forest = scenario_1.roc_data_random_forest.read()\n",
    "print(roc_data_random_forest.shape)\n",
    "auc_score_random_forest = scenario_1.auc_score_random_forest.read()\n",
    "print(auc_score_random_forest)"
   ]
  },
  {
   "cell_type": "code",
   "execution_count": null,
   "id": "685da54c",
   "metadata": {},
   "outputs": [],
   "source": [
    "task = scenario_1.task_roc_xgboost\n",
    "task.submit(wait=True, timeout=50)\n",
    "roc_data_xgboost = scenario_1.roc_data_xgboost.read()\n",
    "print(roc_data_xgboost.shape)\n",
    "auc_score_xgboost = scenario_1.auc_score_xgboost.read()\n",
    "print(auc_score_xgboost)"
   ]
  },
  {
   "cell_type": "markdown",
   "id": "deae4b5e",
   "metadata": {},
   "source": [
    "### TASKS create_metrics_on_train"
   ]
  },
  {
   "cell_type": "code",
   "execution_count": null,
   "id": "48361aed",
   "metadata": {},
   "outputs": [],
   "source": [
    "task = scenario_1.create_metrics_on_train_baseline\n",
    "task.submit(wait=True, timeout=50)\n",
    "train_dataset_metrics_baseline = scenario_1.train_dataset_metrics_baseline.read()\n",
    "print(train_dataset_metrics_baseline.shape)"
   ]
  },
  {
   "cell_type": "code",
   "execution_count": null,
   "id": "79b55ad0",
   "metadata": {},
   "outputs": [],
   "source": [
    "task = scenario_1.create_metrics_on_train_logistic_regression\n",
    "task.submit(wait=True, timeout=50)\n",
    "train_dataset_metrics_logistic_regression = scenario_1.train_dataset_metrics_logistic_regression.read()\n",
    "print(train_dataset_metrics_logistic_regression.shape)"
   ]
  },
  {
   "cell_type": "code",
   "execution_count": null,
   "id": "caa9364d",
   "metadata": {},
   "outputs": [],
   "source": [
    "task = scenario_1.create_metrics_on_train_random_forest\n",
    "task.submit(wait=True, timeout=50)\n",
    "train_dataset_metrics_random_forest = scenario_1.train_dataset_metrics_random_forest.read()\n",
    "print(train_dataset_metrics_random_forest.shape)\n"
   ]
  },
  {
   "cell_type": "code",
   "execution_count": null,
   "id": "8c58e774",
   "metadata": {},
   "outputs": [],
   "source": [
    "task = scenario_1.create_metrics_on_train_xgboost\n",
    "task.submit(wait=True, timeout=50)\n",
    "train_dataset_metrics_xgboost = scenario_1.train_dataset_metrics_xgboost.read()\n",
    "print(train_dataset_metrics_xgboost.shape)"
   ]
  },
  {
   "cell_type": "markdown",
   "id": "6c17eb65",
   "metadata": {},
   "source": [
    "### TASKS task_create_metrics"
   ]
  },
  {
   "cell_type": "code",
   "execution_count": null,
   "id": "376ecbe5",
   "metadata": {},
   "outputs": [],
   "source": [
    "task = scenario_1.task_create_metrics_baseline\n",
    "task.submit(wait=True, timeout=1)\n",
    "metrics_baseline = scenario_1.metrics_baseline.read()\n",
    "for key, value in metrics_baseline.items(): print(f'{key}: {value}')"
   ]
  },
  {
   "cell_type": "code",
   "execution_count": null,
   "id": "e2c0f248",
   "metadata": {},
   "outputs": [],
   "source": [
    "task = scenario_1.task_create_metrics_logistic_regression\n",
    "task.submit(wait=True, timeout=1)\n",
    "metrics_logistic_regression = scenario_1.metrics_logistic_regression.read()\n",
    "for key, value in metrics_logistic_regression.items(): print(f'{key}: {value}')"
   ]
  },
  {
   "cell_type": "code",
   "execution_count": null,
   "id": "5f33e3b5",
   "metadata": {},
   "outputs": [],
   "source": [
    "task = scenario_1.task_create_metrics_random_forest\n",
    "task.submit(wait=True, timeout=1)\n",
    "metrics_random_forest = scenario_1.metrics_random_forest.read()\n",
    "for key, value in metrics_random_forest.items(): print(f'{key}: {value}')"
   ]
  },
  {
   "cell_type": "code",
   "execution_count": null,
   "id": "36f28d39",
   "metadata": {},
   "outputs": [],
   "source": [
    "task = scenario_1.task_create_metrics_xgboost\n",
    "task.submit(wait=True, timeout=1)\n",
    "metrics_xgboost = scenario_1.metrics_xgboost.read()\n",
    "for key, value in metrics_xgboost.items(): print(f'{key}: {value}')"
   ]
  },
  {
   "cell_type": "markdown",
   "id": "6f6944dc",
   "metadata": {},
   "source": [
    "### TASKS task_create_results"
   ]
  },
  {
   "cell_type": "code",
   "execution_count": null,
   "id": "0c3c9e4d",
   "metadata": {},
   "outputs": [],
   "source": [
    "task = scenario_1.task_create_results_baseline\n",
    "task.submit(wait=True, timeout=1)\n",
    "results_baseline = scenario_1.results_baseline.read()\n",
    "print(results_baseline.shape)"
   ]
  },
  {
   "cell_type": "code",
   "execution_count": null,
   "id": "4b672ef3",
   "metadata": {},
   "outputs": [],
   "source": [
    "task = scenario_1.task_create_results_logistic_regression\n",
    "task.submit(wait=True, timeout=1)\n",
    "results_logistic_regression = scenario_1.results_logistic_regression.read()\n",
    "print(results_logistic_regression.shape)"
   ]
  },
  {
   "cell_type": "code",
   "execution_count": null,
   "id": "d2a55a3f",
   "metadata": {},
   "outputs": [],
   "source": [
    "results_logistic_regression"
   ]
  },
  {
   "cell_type": "code",
   "execution_count": null,
   "id": "a389cf7d",
   "metadata": {},
   "outputs": [],
   "source": [
    "task = scenario_1.task_create_results_random_forest\n",
    "task.submit(wait=True, timeout=1)\n",
    "results_random_forest = scenario_1.results_random_forest.read()\n",
    "print(results_random_forest.shape)"
   ]
  },
  {
   "cell_type": "code",
   "execution_count": null,
   "id": "8cbae84d",
   "metadata": {},
   "outputs": [],
   "source": [
    "task = scenario_1.task_create_results_xgboost\n",
    "task.submit(wait=True, timeout=1)\n",
    "results_xgboost = scenario_1.results_xgboost.read()\n",
    "print(results_xgboost.shape)"
   ]
  },
  {
   "cell_type": "code",
   "execution_count": null,
   "id": "cc259f6f",
   "metadata": {},
   "outputs": [],
   "source": [
    "# scenarios = tp.get_entities_by_config_id(tp.get_scenarios()[0])\n",
    "# print(scenarios)\n",
    "# scenario = scenarios[0]"
   ]
  },
  {
   "cell_type": "code",
   "execution_count": null,
   "id": "0c766c3f",
   "metadata": {},
   "outputs": [],
   "source": [
    "# print_object_attributes(scenario)"
   ]
  },
  {
   "cell_type": "code",
   "execution_count": null,
   "id": "71958c5c",
   "metadata": {},
   "outputs": [],
   "source": [
    "# print(scenario.get_inputs())\n",
    "# print(scenario.get_outputs())"
   ]
  },
  {
   "cell_type": "code",
   "execution_count": null,
   "id": "16894e06",
   "metadata": {},
   "outputs": [],
   "source": [
    "# input_nodes = scenario.get_inputs()\n",
    "# output_nodes = scenario.get_outputs()"
   ]
  },
  {
   "cell_type": "code",
   "execution_count": null,
   "id": "551fd8cc",
   "metadata": {},
   "outputs": [],
   "source": [
    "# input_node_1 = list(input_nodes)[0]\n",
    "# output_node_1 = list(output_nodes)[0]\n",
    "# # output_node_1 = list(output_node_1)[0].read()\n"
   ]
  },
  {
   "cell_type": "code",
   "execution_count": null,
   "id": "a4de8a17",
   "metadata": {},
   "outputs": [],
   "source": [
    "# list(output_nodes)[0]\n",
    "# print_object_attributes(list(output_nodes)[0])"
   ]
  },
  {
   "cell_type": "code",
   "execution_count": null,
   "id": "3fee0fd4",
   "metadata": {},
   "outputs": [],
   "source": [
    "# for o_n in list(output_nodes):\n",
    "#     # print(o_n._config_id )\n",
    "#     if o_n._config_id.startswith('results_'): \n",
    "#         print(o_n._config_id)\n",
    "\n",
    "# # o_n_1.read()"
   ]
  },
  {
   "cell_type": "code",
   "execution_count": null,
   "id": "0d20b581",
   "metadata": {},
   "outputs": [],
   "source": []
  },
  {
   "cell_type": "code",
   "execution_count": null,
   "id": "9fc60ce8",
   "metadata": {},
   "outputs": [],
   "source": [
    "# print_object_attributes(input_node_1)"
   ]
  },
  {
   "cell_type": "code",
   "execution_count": null,
   "id": "2bdac8b1",
   "metadata": {},
   "outputs": [],
   "source": [
    "# print_object_attributes(output_node_1)"
   ]
  },
  {
   "cell_type": "code",
   "execution_count": null,
   "id": "5c71c9f6",
   "metadata": {},
   "outputs": [],
   "source": [
    "# for i in list(outputs):\n",
    "#     a=i.read()\n",
    "#     print(type(a))\n",
    "    "
   ]
  },
  {
   "cell_type": "code",
   "execution_count": null,
   "id": "280fde0a",
   "metadata": {},
   "outputs": [],
   "source": [
    "# a = tp.get_entities_by_config_id(list(scenario_1.data_nodes)[0])"
   ]
  },
  {
   "cell_type": "code",
   "execution_count": null,
   "id": "e9ee840f",
   "metadata": {},
   "outputs": [],
   "source": [
    "# a[0].read()"
   ]
  },
  {
   "cell_type": "code",
   "execution_count": null,
   "id": "91713390",
   "metadata": {},
   "outputs": [],
   "source": [
    "# for i in scenario_1.get_outputs(): print(i)"
   ]
  },
  {
   "cell_type": "code",
   "execution_count": null,
   "id": "6878ded0",
   "metadata": {},
   "outputs": [],
   "source": [
    "# list(scenario_1.data_nodes.keys())"
   ]
  },
  {
   "cell_type": "code",
   "execution_count": null,
   "id": "dc289573",
   "metadata": {},
   "outputs": [],
   "source": [
    "# print([(s.name, s.get_outputs().read()) for s in tp.get_scenarios()])"
   ]
  },
  {
   "cell_type": "code",
   "execution_count": null,
   "id": "dfb64509",
   "metadata": {},
   "outputs": [],
   "source": []
  }
 ],
 "metadata": {
  "kernelspec": {
   "display_name": ".venv",
   "language": "python",
   "name": "python3"
  },
  "language_info": {
   "codemirror_mode": {
    "name": "ipython",
    "version": 3
   },
   "file_extension": ".py",
   "mimetype": "text/x-python",
   "name": "python",
   "nbconvert_exporter": "python",
   "pygments_lexer": "ipython3",
   "version": "3.12.7"
  }
 },
 "nbformat": 4,
 "nbformat_minor": 5
}
