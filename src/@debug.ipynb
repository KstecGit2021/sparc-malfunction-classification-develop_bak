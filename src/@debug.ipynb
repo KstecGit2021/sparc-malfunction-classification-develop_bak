{
 "cells": [
  {
   "cell_type": "code",
   "execution_count": 1,
   "id": "cc1a065a",
   "metadata": {},
   "outputs": [
    {
     "name": "stdout",
     "output_type": "stream",
     "text": [
      "폴더 'C:\\Users\\ohbok\\Taipy\\sparc-malfunction-classification-develop\\src\\.taipy'의 하위 내용이 성공적으로 삭제되었습니다.\n",
      "폴더 'C:\\Users\\ohbok\\Taipy\\sparc-malfunction-classification-develop\\src\\user_data'의 하위 내용이 성공적으로 삭제되었습니다.\n"
     ]
    }
   ],
   "source": [
    "import os\n",
    "import shutil\n",
    "\n",
    "# 정리할 폴더 경로\n",
    "folder_paths = [\n",
    "    'C:\\\\Users\\\\ohbok\\\\Taipy\\\\sparc-malfunction-classification-develop\\\\src\\\\.taipy',\n",
    "    'C:\\\\Users\\\\ohbok\\\\Taipy\\\\sparc-malfunction-classification-develop\\\\src\\\\user_data'\n",
    "]\n",
    "\n",
    "for path in folder_paths:\n",
    "    # 폴더가 존재하는지 확인\n",
    "    if os.path.exists(path) and os.path.isdir(path):\n",
    "        try:\n",
    "            # 폴더 하위의 모든 항목을 순회하며 삭제\n",
    "            for item in os.listdir(path):\n",
    "                item_path = os.path.join(path, item)\n",
    "                if os.path.isdir(item_path):\n",
    "                    # 하위 폴더인 경우 shutil.rmtree로 삭제\n",
    "                    shutil.rmtree(item_path)\n",
    "                else:\n",
    "                    # 파일인 경우 os.remove로 삭제\n",
    "                    os.remove(item_path)\n",
    "            print(f\"폴더 '{path}'의 하위 내용이 성공적으로 삭제되었습니다.\")\n",
    "        except OSError as e:\n",
    "            print(f\"폴더 '{path}'의 하위 내용 삭제 중 오류가 발생했습니다: {e}\")\n",
    "    else:\n",
    "        print(f\"폴더 '{path}'가 존재하지 않거나 디렉토리가 아닙니다.\")"
   ]
  },
  {
   "cell_type": "code",
   "execution_count": 2,
   "id": "11f31a90",
   "metadata": {},
   "outputs": [],
   "source": [
    "# 데이터 처리 및 기타 작업을 위한 라이브러리들을 불러옵니다.\n",
    "import pandas as pd                                         # 데이터프레임 구조를 다루는 데 필수적인 라이브러리\n",
    "import numpy as np                                          # 숫자 연산을 위한 라이브러리\n",
    "import datetime as dt                                       # 날짜와 시간을 다루는 라이브러리\n",
    "import json                                                 # JSON 형식의 데이터를 처리하는 라이브러리\n",
    "\n",
    "import optuna\n",
    "import pprint\n",
    "\n",
    "import taipy as tp\n",
    "from taipy import Config, Orchestrator, Gui"
   ]
  },
  {
   "cell_type": "code",
   "execution_count": 3,
   "id": "b0f7175c",
   "metadata": {},
   "outputs": [],
   "source": [
    "# # Ensure the orchestrator is stopped before modifying the configuration\n",
    "# tp.Orchestrator().stop()\n",
    "# Config.configure_job_executions(mode=\"standalone\", max_nb_of_workers=2)"
   ]
  },
  {
   "cell_type": "code",
   "execution_count": 4,
   "id": "75af6e3c",
   "metadata": {},
   "outputs": [],
   "source": [
    "from config.config import scenario_cfg"
   ]
  },
  {
   "cell_type": "code",
   "execution_count": 5,
   "id": "d9c967d1",
   "metadata": {},
   "outputs": [
    {
     "name": "stdout",
     "output_type": "stream",
     "text": [
      "[2025-08-22 16:26:26.454][Taipy][INFO] Unblocking configuration update...\n",
      "[2025-08-22 16:26:26.455][Taipy][INFO] Stopping job dispatcher...\n",
      "[2025-08-22 16:26:26.455][Taipy][INFO] Orchestrator service has been stopped.\n",
      "[2025-08-22 16:26:26.456][Taipy][INFO] Updating configuration with command-line arguments...\n",
      "[2025-08-22 16:26:26.457][Taipy][INFO] Managing application's version...\n",
      "[2025-08-22 16:26:26.464][Taipy][INFO] Development mode: Clean all entities of version e5d162c2-8b22-41d3-a563-08487738a926\n",
      "[2025-08-22 16:26:26.484][Taipy][INFO] Checking application's version...\n",
      "[2025-08-22 16:26:26.487][Taipy][INFO] Blocking configuration update...\n",
      "[2025-08-22 16:26:26.487][Taipy][INFO] Starting job dispatcher...\n",
      "[2025-08-22 16:26:26.492][Taipy][INFO] Orchestrator service has been started.\n"
     ]
    }
   ],
   "source": [
    "tp.Orchestrator().stop()\n",
    "tp.Orchestrator().run()"
   ]
  },
  {
   "cell_type": "code",
   "execution_count": 6,
   "id": "9a5f85d2",
   "metadata": {},
   "outputs": [],
   "source": [
    "from algos.algos import *"
   ]
  },
  {
   "cell_type": "code",
   "execution_count": 7,
   "id": "e05b53c3",
   "metadata": {},
   "outputs": [],
   "source": [
    "# 디렉토리 변경\n",
    "# import os\n",
    "# import subprocess\n",
    "\n",
    "# # # 파일이 위치한 디렉토리로 이동\n",
    "# # # 'c:\\\\my_project'와 같은 경로를 자신의 파일 경로로 바꿔주세요.\n",
    "# # os.chdir('/usr01/automl/sparc-malfunction-classification-develop/src/config')\n",
    "# os.chdir('/usr01/automl/sparc-malfunction-classification-develop/src')\n"
   ]
  },
  {
   "cell_type": "code",
   "execution_count": 8,
   "id": "1f0afba7",
   "metadata": {},
   "outputs": [],
   "source": [
    "# # 'my_script.py' 파일 실행\n",
    "# # 이 명령어는 Windows의 경우입니다.\n",
    "# # MacOS나 Linux에서는 'python my_script.py'로 실행할 수 있습니다.\n",
    "# subprocess.run(['python', 'config.py'])\n",
    "\n",
    "# # # 특정 경로를 직접 지정하여 실행\n",
    "# # # 이 방법은 현재 작업 디렉토리를 바꾸지 않고 파일을 실행할 수 있습니다.\n",
    "# # subprocess.run(['python', 'C:\\\\Users\\\\your_name\\\\Documents\\\\my_project\\\\my_script.py'])"
   ]
  },
  {
   "cell_type": "code",
   "execution_count": 9,
   "id": "91cf651b",
   "metadata": {},
   "outputs": [],
   "source": [
    "# Config.load(r\"/usr01/automl/sparc-malfunction-classification-develop/src/config/config.toml\")\n",
    "# scenario_cfg = Config.scenarios[\"churn_classification\"]\n",
    "\n",
    "scenario_1 = tp.create_scenario(scenario_cfg)"
   ]
  },
  {
   "cell_type": "markdown",
   "id": "879213c2",
   "metadata": {},
   "source": [
    "SCENARIO"
   ]
  },
  {
   "cell_type": "code",
   "execution_count": 10,
   "id": "3134c2ff",
   "metadata": {},
   "outputs": [],
   "source": [
    "# # scenario_1.submit(wait=True, timeout=300)\n",
    "# scenario_1.submit(wait=True)"
   ]
  },
  {
   "cell_type": "code",
   "execution_count": 11,
   "id": "4ef157f2",
   "metadata": {},
   "outputs": [],
   "source": [
    "# train_dataset = scenario_1.train_dataset.read()\n",
    "# feature_selection_info = scenario_1.feature_selection_info.read()\n",
    "# train_parameters = scenario_1.train_parameters_random_forest_optuna.read()"
   ]
  },
  {
   "cell_type": "markdown",
   "id": "5338e0be",
   "metadata": {},
   "source": [
    "SEQUENCE"
   ]
  },
  {
   "cell_type": "code",
   "execution_count": null,
   "id": "292af3d6",
   "metadata": {},
   "outputs": [],
   "source": []
  },
  {
   "cell_type": "markdown",
   "id": "cf7ac5f4",
   "metadata": {},
   "source": [
    "TASK"
   ]
  },
  {
   "cell_type": "code",
   "execution_count": 12,
   "id": "16696064",
   "metadata": {},
   "outputs": [],
   "source": [
    "# train_parameters_default = scenario_1.train_parameters_list_default.read()\n",
    "# pprint.pprint(train_parameters_default)"
   ]
  },
  {
   "cell_type": "code",
   "execution_count": 13,
   "id": "e715cdc8",
   "metadata": {},
   "outputs": [],
   "source": [
    "initial_dataset = scenario_1.initial_dataset.read()"
   ]
  },
  {
   "cell_type": "code",
   "execution_count": 14,
   "id": "3b90282e",
   "metadata": {},
   "outputs": [
    {
     "name": "stdout",
     "output_type": "stream",
     "text": [
      "(4536, 1625)\n"
     ]
    }
   ],
   "source": [
    "print(initial_dataset.shape)\n",
    "# initial_dataset"
   ]
  },
  {
   "cell_type": "code",
   "execution_count": 15,
   "id": "84dc4d09",
   "metadata": {},
   "outputs": [
    {
     "name": "stdout",
     "output_type": "stream",
     "text": [
      "[2025-08-22 16:26:39.486][Taipy][INFO] job JOB_preprocess_dataset_1410236c-3d4b-45ac-9ca8-19aa96578c17 is completed.\n"
     ]
    },
    {
     "data": {
      "text/plain": [
       "<taipy.core.submission.submission.Submission at 0x1922ca7fce0>"
      ]
     },
     "execution_count": 15,
     "metadata": {},
     "output_type": "execute_result"
    }
   ],
   "source": [
    "task = scenario_1.preprocess_dataset\n",
    "# task.submit(wait=True, timeout=50)\n",
    "task.submit(wait=True)"
   ]
  },
  {
   "cell_type": "code",
   "execution_count": 16,
   "id": "ea87dfa4",
   "metadata": {},
   "outputs": [],
   "source": [
    "preprocessed_dataset = scenario_1.preprocessed_dataset.read()"
   ]
  },
  {
   "cell_type": "code",
   "execution_count": 17,
   "id": "95a28f08",
   "metadata": {},
   "outputs": [
    {
     "name": "stdout",
     "output_type": "stream",
     "text": [
      "(4536, 1400)\n"
     ]
    }
   ],
   "source": [
    "print(preprocessed_dataset.shape)\n",
    "# preprocessed_dataset"
   ]
  },
  {
   "cell_type": "code",
   "execution_count": 18,
   "id": "11617127",
   "metadata": {},
   "outputs": [
    {
     "name": "stdout",
     "output_type": "stream",
     "text": [
      "[2025-08-22 16:26:46.622][Taipy][INFO] job JOB_create_train_and_test_data_3a31a04f-8c32-4d70-885a-0cba5fd0180c is completed.\n"
     ]
    },
    {
     "data": {
      "text/plain": [
       "<taipy.core.submission.submission.Submission at 0x19230583c80>"
      ]
     },
     "execution_count": 18,
     "metadata": {},
     "output_type": "execute_result"
    }
   ],
   "source": [
    "task = scenario_1.create_train_and_test_data\n",
    "# task.submit(wait=True, timeout=300)\n",
    "task.submit(wait=True)"
   ]
  },
  {
   "cell_type": "code",
   "execution_count": 19,
   "id": "5fcd7c04",
   "metadata": {},
   "outputs": [
    {
     "name": "stdout",
     "output_type": "stream",
     "text": [
      "{'apply_feature_generation': False,\n",
      " 'apply_filter_gen': False,\n",
      " 'apply_filter_split': False,\n",
      " 'class_distribution_before_sampling': {'0': 3546, '1': 71},\n",
      " 'corr_threshold_gen': 0.1,\n",
      " 'corr_threshold_split': 0.98,\n",
      " 'diff_features': True,\n",
      " 'features_after_generation': 1399,\n",
      " 'features_after_split_filter': 1399,\n",
      " 'features_before_split_filter': 1399,\n",
      " 'features_dropped_by_correlation_split': 0,\n",
      " 'features_dropped_by_variance_split': 0,\n",
      " 'final_train_feature_count': 1399,\n",
      " 'generated_feature_counts': {'diff': 0, 'poly': 0, 'sum': 0},\n",
      " 'original_feature_count': 1399,\n",
      " 'poly_degree': 2,\n",
      " 'poly_features': True,\n",
      " 'random_state': 42,\n",
      " 'rows_after_outlier_removal': 4522,\n",
      " 'sampling_applied': 'None',\n",
      " 'sampling_ratio': None,\n",
      " 'sum_features': True,\n",
      " 'test_samples': 905,\n",
      " 'test_size': 0.2,\n",
      " 'total_generated_features': 0,\n",
      " 'train_samples_after_sampling': 3617,\n",
      " 'train_samples_before_sampling': 3617,\n",
      " 'var_threshold_gen': 0.0,\n",
      " 'var_threshold_split': 0.0}\n"
     ]
    }
   ],
   "source": [
    "split_parameter_info = scenario_1.split_parameter_info.read()\n",
    "pprint.pprint(split_parameter_info)"
   ]
  },
  {
   "cell_type": "code",
   "execution_count": 20,
   "id": "08107e64",
   "metadata": {},
   "outputs": [
    {
     "name": "stdout",
     "output_type": "stream",
     "text": [
      "(3617, 1400)\n",
      "(905, 1400)\n"
     ]
    }
   ],
   "source": [
    "train_dataset = scenario_1.train_dataset.read()\n",
    "print(train_dataset.shape)\n",
    "test_dataset = scenario_1.test_dataset.read()\n",
    "print(test_dataset.shape)"
   ]
  },
  {
   "cell_type": "code",
   "execution_count": 21,
   "id": "4a539049",
   "metadata": {},
   "outputs": [],
   "source": [
    "# train_dataset"
   ]
  },
  {
   "cell_type": "code",
   "execution_count": 22,
   "id": "1a1c4cf8",
   "metadata": {},
   "outputs": [],
   "source": [
    "# test_dataset"
   ]
  },
  {
   "cell_type": "code",
   "execution_count": 23,
   "id": "6768b601",
   "metadata": {},
   "outputs": [
    {
     "name": "stdout",
     "output_type": "stream",
     "text": [
      "{'feature_selector_name': 'CorrelationsClassifier_New',\n",
      " 'filter_methods': {'feature_correlation_filter': {'threshold': 0.98},\n",
      "                    'target_correlation_filter': {'threshold': 0.01},\n",
      "                    'target_xicor_filter': {'threshold': 0.05},\n",
      "                    'variance_threshold': {'threshold': 0.0},\n",
      "                    'xicor_correlation_filter': {'threshold': 0.9}}}\n"
     ]
    }
   ],
   "source": [
    "feature_selector = scenario_1.feature_selector.read()\n",
    "pprint.pprint(feature_selector)"
   ]
  },
  {
   "cell_type": "code",
   "execution_count": 24,
   "id": "9b2ce9de",
   "metadata": {},
   "outputs": [],
   "source": [
    "# feature_selector_old = \\\n",
    "# {\n",
    "#     \"feature_selector_name\": \"CorrelationsClassifier\",\n",
    "#     \"f2_scorer\": {\n",
    "#         \"name\": \"fbeta_score\",\n",
    "#         \"beta\": 4,\n",
    "#         \"pos_label\": 1\n",
    "#     },\n",
    "#     \"variance_threshold_filter\": {\n",
    "#         \"threshold\": 0\n",
    "#     },\n",
    "#     \"correlation_filter\": {\n",
    "#         # \"threshold\": 0.01\n",
    "#         # \"threshold\": 0.02\n",
    "#         # \"threshold\": 0.08\n",
    "#         \"threshold\": 0.09\n",
    "#     }\n",
    "# }\n"
   ]
  },
  {
   "cell_type": "code",
   "execution_count": 25,
   "id": "02eebb9f",
   "metadata": {},
   "outputs": [],
   "source": [
    "# feature_selector_new = \\\n",
    "# {\n",
    "#     \"feature_selector_name\": \"CorrelationsClassifier_New\",  # 피처 선택기 이름 정의 (식별용)\n",
    "#     \"filter_methods\": {  # 모든 필터링 기법과 파라미터를 포함\n",
    "#         \"variance_threshold\": {  # 분산 필터링 설정\n",
    "#             \"threshold\": 0.0  # 분산이 이 값 이하인 피처 제거 (모든 값이 동일한 피처 포함)\n",
    "#         },\n",
    "#         \"target_correlation_filter\": {  # 타겟과의 선형 상관관계 필터링 설정\n",
    "#             \"threshold\": 0.01  # 타겟과의 절대 상관관계가 이 값 미만인 피처 제거\n",
    "#         },\n",
    "#         \"target_xicor_filter\": {  # 타겟과의 비선형 상관관계 필터링 설정\n",
    "#             \"threshold\": 0.05  # 타겟과의 Xi Cor 값이 이 값 미만인 피처 제거\n",
    "#         },\n",
    "#         \"feature_correlation_filter\": {  # 피처 간 선형 상관관계 필터링 설정\n",
    "#             \"threshold\": 0.98  # 피처 간 절대 상관관계가 이 값 초과 시, 둘 중 하나 제거\n",
    "#         },\n",
    "#         \"xicor_correlation_filter\": {  # 피처 간 비선형 상관관계 필터링 설정\n",
    "#             \"threshold\": 0.9  # 피처 간 Xi Cor 값이 이 값 초과 시, 둘 중 하나 제거\n",
    "#         }\n",
    "#     }\n",
    "# }"
   ]
  },
  {
   "cell_type": "code",
   "execution_count": 26,
   "id": "b885eb30",
   "metadata": {},
   "outputs": [],
   "source": [
    "feature_selector = scenario_1.feature_selector.read()"
   ]
  },
  {
   "cell_type": "code",
   "execution_count": 27,
   "id": "bd2f15a7",
   "metadata": {},
   "outputs": [
    {
     "data": {
      "text/plain": [
       "{'feature_selector_name': 'CorrelationsClassifier_New',\n",
       " 'filter_methods': {'variance_threshold': {'threshold': 0.0},\n",
       "  'target_correlation_filter': {'threshold': 0.01},\n",
       "  'target_xicor_filter': {'threshold': 0.05},\n",
       "  'feature_correlation_filter': {'threshold': 0.98},\n",
       "  'xicor_correlation_filter': {'threshold': 0.9}}}"
      ]
     },
     "execution_count": 27,
     "metadata": {},
     "output_type": "execute_result"
    }
   ],
   "source": [
    "feature_selector"
   ]
  },
  {
   "cell_type": "code",
   "execution_count": 28,
   "id": "3481754b",
   "metadata": {},
   "outputs": [],
   "source": [
    "feature_selector_params = feature_selector"
   ]
  },
  {
   "cell_type": "code",
   "execution_count": 29,
   "id": "caf01adc",
   "metadata": {},
   "outputs": [],
   "source": [
    "train_data = train_dataset"
   ]
  },
  {
   "cell_type": "code",
   "execution_count": 30,
   "id": "184ae82f",
   "metadata": {},
   "outputs": [],
   "source": [
    "# X_train = train_data.iloc[:, :-1]\n",
    "# y_train = train_data.iloc[:, -1]\n",
    "\n",
    "# feature_selection_info = feature_selector_params.copy()\n",
    "\n",
    "# if 'CorrelationsClassifier' in feature_selector_params.get(\"feature_selector_name\", ''):\n",
    "#     print(\"피처 선택기:\", feature_selector_params[\"feature_selector_name\"])\n",
    "    \n",
    "#     filter_params = feature_selector_params['filter_methods']\n",
    "#     X_train_filtered_df, final_features, stats = variance_correlation_filter(\n",
    "#         X=X_train,\n",
    "#         y=y_train,\n",
    "#         var_threshold=filter_params['variance_threshold']['threshold'],\n",
    "#         target_linear_corr_threshold=filter_params['target_correlation_filter']['threshold'],\n",
    "#         target_xicor_threshold=filter_params['target_xicor_filter']['threshold'],\n",
    "#         feature_linear_corr_threshold=filter_params['feature_correlation_filter']['threshold'],\n",
    "#         feature_xicor_threshold=filter_params['xicor_correlation_filter']['threshold']\n",
    "#     )\n",
    "    \n",
    "#     final_feature_count = len(final_features)\n",
    "#     print(\"- 최종 피처 수:\", final_feature_count)\n",
    "\n",
    "#     feature_selection_info['initial_feature_count'] = stats['initial_count']\n",
    "#     feature_selection_info['final_feature_count'] = final_feature_count\n",
    "#     feature_selection_info['final_features'] = final_features\n",
    "#     feature_selection_info['dropped_counts'] = stats['dropped_counts']\n",
    "#     feature_selection_info['dropped_features'] = stats['dropped_features']\n",
    "\n",
    "# else:\n",
    "#     print(\"피처 선택기:\", feature_selector_params.get(\"feature_selector_name\", ''))\n",
    "#     initial_feature_count = X_train.shape[1]\n",
    "#     final_features = list(X_train.columns)\n",
    "#     final_feature_count = len(final_features)\n",
    "\n",
    "#     print(\"- 초기 피처 수:\", initial_feature_count)\n",
    "#     print(\"- 최종 피처 수:\", final_feature_count)\n",
    "\n",
    "#     feature_selection_info['initial_feature_count'] = initial_feature_count\n",
    "#     feature_selection_info['final_feature_count'] = final_feature_count\n",
    "#     feature_selection_info['final_features'] = final_features\n",
    "#     feature_selection_info['dropped_counts'] = {key: 0 for key in ['by_variance', 'by_target_linear_correlation', 'by_target_xicor_correlation', 'by_feature_linear_correlation', 'by_feature_xicor_correlation']}\n",
    "#     feature_selection_info['dropped_features'] = {key: [] for key in ['by_variance', 'by_target_linear_correlation', 'by_target_xicor_correlation', 'by_feature_linear_correlation', 'by_feature_xicor_correlation']}\n"
   ]
  },
  {
   "cell_type": "code",
   "execution_count": null,
   "id": "8b980564",
   "metadata": {},
   "outputs": [],
   "source": []
  },
  {
   "cell_type": "code",
   "execution_count": null,
   "id": "b91df598",
   "metadata": {},
   "outputs": [],
   "source": []
  },
  {
   "cell_type": "code",
   "execution_count": 31,
   "id": "7ff61313",
   "metadata": {},
   "outputs": [
    {
     "ename": "KeyboardInterrupt",
     "evalue": "",
     "output_type": "error",
     "traceback": [
      "\u001b[31m---------------------------------------------------------------------------\u001b[39m",
      "\u001b[31mKeyboardInterrupt\u001b[39m                         Traceback (most recent call last)",
      "\u001b[36mCell\u001b[39m\u001b[36m \u001b[39m\u001b[32mIn[31]\u001b[39m\u001b[32m, line 2\u001b[39m\n\u001b[32m      1\u001b[39m task = scenario_1.select_feature\n\u001b[32m----> \u001b[39m\u001b[32m2\u001b[39m \u001b[43mtask\u001b[49m\u001b[43m.\u001b[49m\u001b[43msubmit\u001b[49m\u001b[43m(\u001b[49m\u001b[43mwait\u001b[49m\u001b[43m=\u001b[49m\u001b[38;5;28;43;01mTrue\u001b[39;49;00m\u001b[43m)\u001b[49m\n",
      "\u001b[36mFile \u001b[39m\u001b[32mc:\\Users\\ohbok\\Taipy\\sparc-malfunction-classification-develop\\.venv\\Lib\\site-packages\\taipy\\core\\task\\task.py:264\u001b[39m, in \u001b[36mTask.submit\u001b[39m\u001b[34m(self, callbacks, force, wait, timeout, **properties)\u001b[39m\n\u001b[32m    246\u001b[39m \u001b[38;5;250m\u001b[39m\u001b[33;03m\"\"\"Submit the task for execution.\u001b[39;00m\n\u001b[32m    247\u001b[39m \n\u001b[32m    248\u001b[39m \u001b[33;03mParameters:\u001b[39;00m\n\u001b[32m   (...)\u001b[39m\u001b[32m    260\u001b[39m \u001b[33;03m    A `Submission^` containing the information of the submission.\u001b[39;00m\n\u001b[32m    261\u001b[39m \u001b[33;03m\"\"\"\u001b[39;00m\n\u001b[32m    262\u001b[39m \u001b[38;5;28;01mfrom\u001b[39;00m\u001b[38;5;250m \u001b[39m\u001b[34;01m.\u001b[39;00m\u001b[34;01m_task_manager_factory\u001b[39;00m\u001b[38;5;250m \u001b[39m\u001b[38;5;28;01mimport\u001b[39;00m _TaskManagerFactory\n\u001b[32m--> \u001b[39m\u001b[32m264\u001b[39m \u001b[38;5;28;01mreturn\u001b[39;00m \u001b[43m_TaskManagerFactory\u001b[49m\u001b[43m.\u001b[49m\u001b[43m_build_manager\u001b[49m\u001b[43m(\u001b[49m\u001b[43m)\u001b[49m\u001b[43m.\u001b[49m\u001b[43m_submit\u001b[49m\u001b[43m(\u001b[49m\u001b[38;5;28;43mself\u001b[39;49m\u001b[43m,\u001b[49m\u001b[43m \u001b[49m\u001b[43mcallbacks\u001b[49m\u001b[43m,\u001b[49m\u001b[43m \u001b[49m\u001b[43mforce\u001b[49m\u001b[43m,\u001b[49m\u001b[43m \u001b[49m\u001b[43mwait\u001b[49m\u001b[43m,\u001b[49m\u001b[43m \u001b[49m\u001b[43mtimeout\u001b[49m\u001b[43m,\u001b[49m\u001b[43m \u001b[49m\u001b[43m*\u001b[49m\u001b[43m*\u001b[49m\u001b[43mproperties\u001b[49m\u001b[43m)\u001b[49m\n",
      "\u001b[36mFile \u001b[39m\u001b[32mc:\\Users\\ohbok\\Taipy\\sparc-malfunction-classification-develop\\.venv\\Lib\\site-packages\\taipy\\core\\task\\_task_manager.py:212\u001b[39m, in \u001b[36m_TaskManager._submit\u001b[39m\u001b[34m(cls, task, callbacks, force, wait, timeout, check_inputs_are_ready, **properties)\u001b[39m\n\u001b[32m    210\u001b[39m \u001b[38;5;28;01mif\u001b[39;00m check_inputs_are_ready:\n\u001b[32m    211\u001b[39m     _warn_if_inputs_not_ready(task.input.values())\n\u001b[32m--> \u001b[39m\u001b[32m212\u001b[39m submission = \u001b[38;5;28;43mcls\u001b[39;49m\u001b[43m.\u001b[49m\u001b[43m_orchestrator\u001b[49m\u001b[43m(\u001b[49m\u001b[43m)\u001b[49m\u001b[43m.\u001b[49m\u001b[43msubmit_task\u001b[49m\u001b[43m(\u001b[49m\n\u001b[32m    213\u001b[39m \u001b[43m    \u001b[49m\u001b[43mtask\u001b[49m\u001b[43m,\u001b[49m\u001b[43m \u001b[49m\u001b[43mcallbacks\u001b[49m\u001b[43m=\u001b[49m\u001b[43mcallbacks\u001b[49m\u001b[43m,\u001b[49m\u001b[43m \u001b[49m\u001b[43mforce\u001b[49m\u001b[43m=\u001b[49m\u001b[43mforce\u001b[49m\u001b[43m,\u001b[49m\u001b[43m \u001b[49m\u001b[43mwait\u001b[49m\u001b[43m=\u001b[49m\u001b[43mwait\u001b[49m\u001b[43m,\u001b[49m\u001b[43m \u001b[49m\u001b[43mtimeout\u001b[49m\u001b[43m=\u001b[49m\u001b[43mtimeout\u001b[49m\u001b[43m,\u001b[49m\u001b[43m \u001b[49m\u001b[43m*\u001b[49m\u001b[43m*\u001b[49m\u001b[43mproperties\u001b[49m\n\u001b[32m    214\u001b[39m \u001b[43m\u001b[49m\u001b[43m)\u001b[49m\n\u001b[32m    215\u001b[39m Notifier.publish(_make_event(task, EventOperation.SUBMISSION))\n\u001b[32m    216\u001b[39m \u001b[38;5;28;01mreturn\u001b[39;00m submission\n",
      "\u001b[36mFile \u001b[39m\u001b[32mc:\\Users\\ohbok\\Taipy\\sparc-malfunction-classification-develop\\.venv\\Lib\\site-packages\\taipy\\core\\_orchestrator\\_orchestrator.py:152\u001b[39m, in \u001b[36m_Orchestrator.submit_task\u001b[39m\u001b[34m(cls, task, callbacks, force, wait, timeout, **properties)\u001b[39m\n\u001b[32m    150\u001b[39m \u001b[38;5;28;01melse\u001b[39;00m:\n\u001b[32m    151\u001b[39m     \u001b[38;5;28;01mif\u001b[39;00m wait:\n\u001b[32m--> \u001b[39m\u001b[32m152\u001b[39m         \u001b[38;5;28;43mcls\u001b[39;49m\u001b[43m.\u001b[49m\u001b[43m_wait_until_job_finished\u001b[49m\u001b[43m(\u001b[49m\u001b[43mjob\u001b[49m\u001b[43m,\u001b[49m\u001b[43m \u001b[49m\u001b[43mtimeout\u001b[49m\u001b[43m)\u001b[49m\n\u001b[32m    153\u001b[39m \u001b[38;5;28;01mreturn\u001b[39;00m submission\n",
      "\u001b[36mFile \u001b[39m\u001b[32mc:\\Users\\ohbok\\Taipy\\sparc-malfunction-classification-develop\\.venv\\Lib\\site-packages\\taipy\\core\\_orchestrator\\_orchestrator.py:221\u001b[39m, in \u001b[36m_Orchestrator._wait_until_job_finished\u001b[39m\u001b[34m(cls, jobs, timeout)\u001b[39m\n\u001b[32m    219\u001b[39m         index += \u001b[32m1\u001b[39m\n\u001b[32m    220\u001b[39m     \u001b[38;5;28;01melse\u001b[39;00m:\n\u001b[32m--> \u001b[39m\u001b[32m221\u001b[39m         \u001b[43msleep\u001b[49m\u001b[43m(\u001b[49m\u001b[32;43m0.5\u001b[39;49m\u001b[43m)\u001b[49m  \u001b[38;5;66;03m# Limit CPU usage\u001b[39;00m\n\u001b[32m    222\u001b[39m \u001b[38;5;28;01mexcept\u001b[39;00m \u001b[38;5;167;01mException\u001b[39;00m:\n\u001b[32m    223\u001b[39m     \u001b[38;5;28;01mpass\u001b[39;00m\n",
      "\u001b[31mKeyboardInterrupt\u001b[39m: "
     ]
    }
   ],
   "source": [
    "task = scenario_1.select_feature\n",
    "task.submit(wait=True)"
   ]
  },
  {
   "cell_type": "code",
   "execution_count": null,
   "id": "7ecd7b6f",
   "metadata": {},
   "outputs": [],
   "source": [
    "#@@@@"
   ]
  },
  {
   "cell_type": "code",
   "execution_count": null,
   "id": "4b6ad2d9",
   "metadata": {},
   "outputs": [],
   "source": [
    "feature_selection_info = scenario_1.feature_selection_info.read()\n",
    "# pprint.pprint(feature_selection_info)\n",
    "pprint.pprint(feature_selection_info.get('final_feature_count'))"
   ]
  },
  {
   "cell_type": "code",
   "execution_count": null,
   "id": "70ca51bf",
   "metadata": {},
   "outputs": [],
   "source": []
  },
  {
   "cell_type": "markdown",
   "id": "47204ed1",
   "metadata": {},
   "source": [
    "### TASKS train_model"
   ]
  },
  {
   "cell_type": "code",
   "execution_count": null,
   "id": "a5182996",
   "metadata": {},
   "outputs": [],
   "source": [
    "# Iterate through all scenarios and models\n",
    "for scenario in tp.get_scenarios():\n",
    "    for task_name in scenario.tasks:\n",
    "        if \"train_model\" in task_name:\n",
    "            model = task_name.split(\"train_model_\")[1]\n",
    "            print(f\"Model: {model}\")\n",
    "            task = eval(\"scenario.\" + task_name)\n",
    "            task.submit(wait=True)"
   ]
  },
  {
   "cell_type": "code",
   "execution_count": null,
   "id": "ade74fd9",
   "metadata": {},
   "outputs": [],
   "source": []
  },
  {
   "cell_type": "code",
   "execution_count": null,
   "id": "80b5ef47",
   "metadata": {},
   "outputs": [],
   "source": [
    "task = scenario_1.train_model_baseline\n",
    "# task.submit(wait=True, timeout=50)\n",
    "task.submit(wait=True)\n",
    "trained_model_baseline = scenario_1.trained_model_baseline.read()\n",
    "print(trained_model_baseline)\n",
    "feature_importance_baseline = scenario_1.feature_importance_baseline.read()\n",
    "print(feature_importance_baseline.shape)"
   ]
  },
  {
   "cell_type": "code",
   "execution_count": null,
   "id": "afa1a899",
   "metadata": {},
   "outputs": [],
   "source": [
    "# train_parameters_logistic_regression = scenario_1.train_parameters_logistic_regression.read()\n",
    "# train_parameters_logistic_regression"
   ]
  },
  {
   "cell_type": "code",
   "execution_count": null,
   "id": "8724ac57",
   "metadata": {},
   "outputs": [],
   "source": [
    "task = scenario_1.train_model_logistic_regression\n",
    "# task.submit(wait=True, timeout=50)\n",
    "task.submit(wait=True)\n",
    "trained_model_logistic_regression = scenario_1.trained_model_logistic_regression.read()\n",
    "print(trained_model_logistic_regression)\n",
    "feature_importance_logistic_regression = scenario_1.feature_importance_logistic_regression.read()\n",
    "print(feature_importance_logistic_regression.shape)"
   ]
  },
  {
   "cell_type": "code",
   "execution_count": null,
   "id": "7837f108",
   "metadata": {},
   "outputs": [],
   "source": [
    "# train_parameters_info_logistic_regression = scenario_1.train_parameters_info_logistic_regression.read()\n",
    "# pprint.pprint(train_parameters_info_logistic_regression)"
   ]
  },
  {
   "cell_type": "code",
   "execution_count": null,
   "id": "914c71bd",
   "metadata": {},
   "outputs": [],
   "source": [
    "# trained_model_logistic_regression\n",
    "# feature_importance_logistic_regression\n",
    "# train_parameters_info_logistic_regression"
   ]
  },
  {
   "cell_type": "markdown",
   "id": "c85e7feb",
   "metadata": {},
   "source": [
    "테스트 "
   ]
  },
  {
   "cell_type": "code",
   "execution_count": null,
   "id": "e6823a3c",
   "metadata": {},
   "outputs": [],
   "source": [
    "train_dataset = scenario_1.train_dataset.read()\n",
    "# train_dataset"
   ]
  },
  {
   "cell_type": "code",
   "execution_count": null,
   "id": "5c9ab068",
   "metadata": {},
   "outputs": [],
   "source": [
    "feature_selection_info = scenario_1.feature_selection_info.read()\n"
   ]
  },
  {
   "cell_type": "code",
   "execution_count": null,
   "id": "16672e74",
   "metadata": {},
   "outputs": [],
   "source": [
    "# train_parameters_logistic_regression = scenario_1.train_parameters_logistic_regression.read()\n",
    "# train_parameters = train_parameters_logistic_regression\n",
    "# train_parameters"
   ]
  },
  {
   "cell_type": "code",
   "execution_count": null,
   "id": "d7075ca3",
   "metadata": {},
   "outputs": [],
   "source": [
    "# train_parameters_random_forest = scenario_1.train_parameters_random_forest.read()\n",
    "# train_parameters = train_parameters_random_forest\n",
    "# train_parameters"
   ]
  },
  {
   "cell_type": "code",
   "execution_count": null,
   "id": "26f8724a",
   "metadata": {},
   "outputs": [],
   "source": [
    "task = scenario_1.train_model_random_forest\n",
    "# task.submit(wait=True, timeout=50)\n",
    "task.submit(wait=True)\n",
    "trained_model_random_forest = scenario_1.trained_model_random_forest.read()\n",
    "print(trained_model_random_forest)\n",
    "feature_importance_random_forest = scenario_1.feature_importance_random_forest.read()\n",
    "print(feature_importance_random_forest.shape)"
   ]
  },
  {
   "cell_type": "code",
   "execution_count": null,
   "id": "622b938d",
   "metadata": {},
   "outputs": [],
   "source": [
    "task = scenario_1.train_model_xgboost\n",
    "# task.submit(wait=True, timeout=50)\n",
    "task.submit(wait=True)\n",
    "trained_model_xgboost = scenario_1.trained_model_xgboost.read()\n",
    "print(trained_model_xgboost)\n",
    "feature_importance_xgboost = scenario_1.feature_importance_xgboost.read()\n",
    "print(feature_importance_xgboost.shape)"
   ]
  },
  {
   "cell_type": "markdown",
   "id": "bcc2b486",
   "metadata": {},
   "source": [
    "### TASKS predict_the_test_data"
   ]
  },
  {
   "cell_type": "code",
   "execution_count": null,
   "id": "3d594091",
   "metadata": {},
   "outputs": [],
   "source": [
    "task = scenario_1.predict_the_test_data_baseline\n",
    "# task.submit(wait=True, timeout=50)\n",
    "task.submit(wait=True, timeout=1)\n",
    "forecast_dataset_baseline = scenario_1.forecast_dataset_baseline.read()\n",
    "print(forecast_dataset_baseline)\n",
    "shap_values_baseline = scenario_1.shap_values_baseline.read()\n"
   ]
  },
  {
   "cell_type": "code",
   "execution_count": null,
   "id": "9b48cd2a",
   "metadata": {},
   "outputs": [],
   "source": [
    "# forecast_dataset_baseline"
   ]
  },
  {
   "cell_type": "code",
   "execution_count": null,
   "id": "7f9a3091",
   "metadata": {},
   "outputs": [],
   "source": [
    "# shap_values_baseline이 NoneType인 경우를 테스트하기 위한 예시\n",
    "# 아래 코드를 주석 처리하고 실제 shap_values_baseline을 사용하세요.\n",
    "# shap_values_baseline = (None, np.random.rand(100, 5))\n",
    "# 조건문\n",
    "if isinstance(shap_values_baseline[0], type(None)):\n",
    "    print(type(shap_values_baseline[0]))\n",
    "    print(shap_values_baseline[1].shape)\n",
    "else:\n",
    "    shap.summary_plot(shap_values_baseline[0], shap_values_baseline[1])"
   ]
  },
  {
   "cell_type": "code",
   "execution_count": null,
   "id": "ca252321",
   "metadata": {},
   "outputs": [],
   "source": [
    "task = scenario_1.predict_the_test_data_logistic_regression\n",
    "# task.submit(wait=True, timeout=50)\n",
    "task.submit(wait=True)\n",
    "forecast_dataset_logistic_regression = scenario_1.forecast_dataset_logistic_regression.read()"
   ]
  },
  {
   "cell_type": "code",
   "execution_count": null,
   "id": "02f230c0",
   "metadata": {},
   "outputs": [],
   "source": [
    "print(forecast_dataset_logistic_regression)\n",
    "shap_values_logistic_regression = scenario_1.shap_values_logistic_regression.read()\n"
   ]
  },
  {
   "cell_type": "code",
   "execution_count": null,
   "id": "a476f117",
   "metadata": {},
   "outputs": [],
   "source": [
    "\n",
    "# shap_values_logistic_regression이 NoneType인 경우를 테스트하기 위한 예시\n",
    "# 아래 코드를 주석 처리하고 실제 shap_values_logistic_regression을 사용하세요.\n",
    "# shap_values_logistic_regression = (None, np.random.rand(100, 5))\n",
    "# 조건문\n",
    "if isinstance(shap_values_logistic_regression[0], type(None)):\n",
    "    print(type(shap_values_logistic_regression[0]))\n",
    "    print(shap_values_logistic_regression[1].shape)\n",
    "else:\n",
    "    shap.summary_plot(shap_values_logistic_regression[0], shap_values_logistic_regression[1])"
   ]
  },
  {
   "cell_type": "code",
   "execution_count": null,
   "id": "b5a17fa5",
   "metadata": {},
   "outputs": [],
   "source": [
    "task = scenario_1.predict_the_test_data_random_forest\n",
    "task.submit(wait=True, timeout=50)\n",
    "forecast_dataset_random_forest = scenario_1.forecast_dataset_random_forest.read()\n",
    "print(forecast_dataset_random_forest)\n",
    "shap_values_random_forest = scenario_1.shap_values_random_forest.read()\n",
    "\n",
    "# shap_values_random_forest이 NoneType인 경우를 테스트하기 위한 예시\n",
    "# 아래 코드를 주석 처리하고 실제 shap_values_random_forest을 사용하세요.\n",
    "# shap_values_random_forest = (None, np.random.rand(100, 5))\n",
    "# 조건문\n",
    "if isinstance(shap_values_random_forest[0], type(None)):\n",
    "    print(type(shap_values_random_forest[0]))\n",
    "    print(shap_values_random_forest[1].shape)\n",
    "else:\n",
    "    shap.summary_plot(shap_values_random_forest[0], shap_values_random_forest[1])"
   ]
  },
  {
   "cell_type": "code",
   "execution_count": null,
   "id": "47094e67",
   "metadata": {},
   "outputs": [],
   "source": [
    "task = scenario_1.predict_the_test_data_xgboost\n",
    "task.submit(wait=True, timeout=50)\n",
    "forecast_dataset_xgboost = scenario_1.forecast_dataset_xgboost.read()\n",
    "print(forecast_dataset_xgboost)\n",
    "shap_values_xgboost = scenario_1.shap_values_xgboost.read()\n",
    "\n",
    "# shap_values_xgboost이 NoneType인 경우를 테스트하기 위한 예시\n",
    "# 아래 코드를 주석 처리하고 실제 shap_values_xgboost을 사용하세요.\n",
    "# shap_values_xgboost = (None, np.random.rand(100, 5))\n",
    "# 조건문\n",
    "if isinstance(shap_values_xgboost[0], type(None)):\n",
    "    print(type(shap_values_xgboost[0]))\n",
    "    print(shap_values_xgboost[1].shape)\n",
    "else:\n",
    "    shap.summary_plot(shap_values_xgboost[0], shap_values_xgboost[1])"
   ]
  },
  {
   "cell_type": "markdown",
   "id": "f0819cb5",
   "metadata": {},
   "source": [
    "### TASKS find_best_threshold"
   ]
  },
  {
   "cell_type": "code",
   "execution_count": null,
   "id": "72b6a005",
   "metadata": {},
   "outputs": [],
   "source": [
    "task = scenario_1.find_best_threshold_baseline\n",
    "task.submit(wait=True, timeout=50)\n",
    "train_dataset_proba_baseline = scenario_1.train_dataset_proba_baseline.read()\n",
    "print(train_dataset_proba_baseline.shape)\n",
    "threshold_baseline = scenario_1.threshold_baseline.read()\n",
    "print(threshold_baseline)"
   ]
  },
  {
   "cell_type": "code",
   "execution_count": null,
   "id": "f156f1af",
   "metadata": {},
   "outputs": [],
   "source": [
    "task = scenario_1.find_best_threshold_logistic_regression\n",
    "task.submit(wait=True, timeout=50)\n",
    "train_dataset_proba_logistic_regression = scenario_1.train_dataset_proba_logistic_regression.read()\n",
    "print(train_dataset_proba_logistic_regression.shape)\n",
    "threshold_logistic_regression = scenario_1.threshold_logistic_regression.read()\n",
    "print(threshold_logistic_regression)"
   ]
  },
  {
   "cell_type": "code",
   "execution_count": null,
   "id": "4e97bd3e",
   "metadata": {},
   "outputs": [],
   "source": [
    "task = scenario_1.find_best_threshold_random_forest\n",
    "task.submit(wait=True, timeout=50)\n",
    "train_dataset_proba_random_forest = scenario_1.train_dataset_proba_random_forest.read()\n",
    "print(train_dataset_proba_random_forest.shape)\n",
    "threshold_random_forest = scenario_1.threshold_random_forest.read()\n",
    "print(threshold_random_forest)"
   ]
  },
  {
   "cell_type": "code",
   "execution_count": null,
   "id": "b4cee4a4",
   "metadata": {},
   "outputs": [],
   "source": [
    "task = scenario_1.find_best_threshold_xgboost\n",
    "task.submit(wait=True, timeout=50)\n",
    "train_dataset_proba_xgboost = scenario_1.train_dataset_proba_xgboost.read()\n",
    "print(train_dataset_proba_xgboost.shape)\n",
    "threshold_xgboost = scenario_1.threshold_xgboost.read()\n",
    "print(threshold_xgboost)"
   ]
  },
  {
   "cell_type": "markdown",
   "id": "2ce948ec",
   "metadata": {},
   "source": [
    "### TASKS roc"
   ]
  },
  {
   "cell_type": "code",
   "execution_count": null,
   "id": "668159aa",
   "metadata": {},
   "outputs": [],
   "source": [
    "task = scenario_1.task_roc_baseline\n",
    "task.submit(wait=True, timeout=50)\n",
    "roc_data_baseline = scenario_1.roc_data_baseline.read()\n",
    "print(roc_data_baseline.shape)\n",
    "auc_score_baseline = scenario_1.auc_score_baseline.read()\n",
    "print(auc_score_baseline)"
   ]
  },
  {
   "cell_type": "code",
   "execution_count": null,
   "id": "e06ee34c",
   "metadata": {},
   "outputs": [],
   "source": [
    "task = scenario_1.task_roc_logistic_regression\n",
    "task.submit(wait=True, timeout=50)\n",
    "roc_data_logistic_regression = scenario_1.roc_data_logistic_regression.read()\n",
    "print(roc_data_logistic_regression.shape)\n",
    "auc_score_logistic_regression = scenario_1.auc_score_logistic_regression.read()\n",
    "print(auc_score_logistic_regression)"
   ]
  },
  {
   "cell_type": "code",
   "execution_count": null,
   "id": "d6f1a13e",
   "metadata": {},
   "outputs": [],
   "source": [
    "task = scenario_1.task_roc_random_forest\n",
    "task.submit(wait=True, timeout=50)\n",
    "roc_data_random_forest = scenario_1.roc_data_random_forest.read()\n",
    "print(roc_data_random_forest.shape)\n",
    "auc_score_random_forest = scenario_1.auc_score_random_forest.read()\n",
    "print(auc_score_random_forest)"
   ]
  },
  {
   "cell_type": "code",
   "execution_count": null,
   "id": "685da54c",
   "metadata": {},
   "outputs": [],
   "source": [
    "task = scenario_1.task_roc_xgboost\n",
    "task.submit(wait=True, timeout=50)\n",
    "roc_data_xgboost = scenario_1.roc_data_xgboost.read()\n",
    "print(roc_data_xgboost.shape)\n",
    "auc_score_xgboost = scenario_1.auc_score_xgboost.read()\n",
    "print(auc_score_xgboost)"
   ]
  },
  {
   "cell_type": "markdown",
   "id": "deae4b5e",
   "metadata": {},
   "source": [
    "### TASKS create_metrics_on_train"
   ]
  },
  {
   "cell_type": "code",
   "execution_count": null,
   "id": "48361aed",
   "metadata": {},
   "outputs": [],
   "source": [
    "task = scenario_1.create_metrics_on_train_baseline\n",
    "task.submit(wait=True, timeout=50)\n",
    "train_dataset_metrics_baseline = scenario_1.train_dataset_metrics_baseline.read()\n",
    "print(train_dataset_metrics_baseline.shape)"
   ]
  },
  {
   "cell_type": "code",
   "execution_count": null,
   "id": "79b55ad0",
   "metadata": {},
   "outputs": [],
   "source": [
    "task = scenario_1.create_metrics_on_train_logistic_regression\n",
    "task.submit(wait=True, timeout=50)\n",
    "train_dataset_metrics_logistic_regression = scenario_1.train_dataset_metrics_logistic_regression.read()\n",
    "print(train_dataset_metrics_logistic_regression.shape)"
   ]
  },
  {
   "cell_type": "code",
   "execution_count": null,
   "id": "caa9364d",
   "metadata": {},
   "outputs": [],
   "source": [
    "task = scenario_1.create_metrics_on_train_random_forest\n",
    "task.submit(wait=True, timeout=50)\n",
    "train_dataset_metrics_random_forest = scenario_1.train_dataset_metrics_random_forest.read()\n",
    "print(train_dataset_metrics_random_forest.shape)\n"
   ]
  },
  {
   "cell_type": "code",
   "execution_count": null,
   "id": "8c58e774",
   "metadata": {},
   "outputs": [],
   "source": [
    "task = scenario_1.create_metrics_on_train_xgboost\n",
    "task.submit(wait=True, timeout=50)\n",
    "train_dataset_metrics_xgboost = scenario_1.train_dataset_metrics_xgboost.read()\n",
    "print(train_dataset_metrics_xgboost.shape)"
   ]
  },
  {
   "cell_type": "markdown",
   "id": "6c17eb65",
   "metadata": {},
   "source": [
    "### TASKS task_create_metrics"
   ]
  },
  {
   "cell_type": "code",
   "execution_count": null,
   "id": "376ecbe5",
   "metadata": {},
   "outputs": [],
   "source": [
    "task = scenario_1.task_create_metrics_baseline\n",
    "task.submit(wait=True, timeout=1)\n",
    "metrics_baseline = scenario_1.metrics_baseline.read()\n",
    "for key, value in metrics_baseline.items(): print(f'{key}: {value}')"
   ]
  },
  {
   "cell_type": "code",
   "execution_count": null,
   "id": "e2c0f248",
   "metadata": {},
   "outputs": [],
   "source": [
    "task = scenario_1.task_create_metrics_logistic_regression\n",
    "task.submit(wait=True, timeout=1)\n",
    "metrics_logistic_regression = scenario_1.metrics_logistic_regression.read()\n",
    "for key, value in metrics_logistic_regression.items(): print(f'{key}: {value}')"
   ]
  },
  {
   "cell_type": "code",
   "execution_count": null,
   "id": "5f33e3b5",
   "metadata": {},
   "outputs": [],
   "source": [
    "task = scenario_1.task_create_metrics_random_forest\n",
    "task.submit(wait=True, timeout=1)\n",
    "metrics_random_forest = scenario_1.metrics_random_forest.read()\n",
    "for key, value in metrics_random_forest.items(): print(f'{key}: {value}')"
   ]
  },
  {
   "cell_type": "code",
   "execution_count": null,
   "id": "36f28d39",
   "metadata": {},
   "outputs": [],
   "source": [
    "task = scenario_1.task_create_metrics_xgboost\n",
    "task.submit(wait=True, timeout=1)\n",
    "metrics_xgboost = scenario_1.metrics_xgboost.read()\n",
    "for key, value in metrics_xgboost.items(): print(f'{key}: {value}')"
   ]
  },
  {
   "cell_type": "markdown",
   "id": "6f6944dc",
   "metadata": {},
   "source": [
    "### TASKS task_create_results"
   ]
  },
  {
   "cell_type": "code",
   "execution_count": null,
   "id": "0c3c9e4d",
   "metadata": {},
   "outputs": [],
   "source": [
    "task = scenario_1.task_create_results_baseline\n",
    "task.submit(wait=True, timeout=1)\n",
    "results_baseline = scenario_1.results_baseline.read()\n",
    "print(results_baseline.shape)"
   ]
  },
  {
   "cell_type": "code",
   "execution_count": null,
   "id": "4b672ef3",
   "metadata": {},
   "outputs": [],
   "source": [
    "task = scenario_1.task_create_results_logistic_regression\n",
    "task.submit(wait=True, timeout=1)\n",
    "results_logistic_regression = scenario_1.results_logistic_regression.read()\n",
    "print(results_logistic_regression.shape)"
   ]
  },
  {
   "cell_type": "code",
   "execution_count": null,
   "id": "d2a55a3f",
   "metadata": {},
   "outputs": [],
   "source": [
    "results_logistic_regression"
   ]
  },
  {
   "cell_type": "code",
   "execution_count": null,
   "id": "a389cf7d",
   "metadata": {},
   "outputs": [],
   "source": [
    "task = scenario_1.task_create_results_random_forest\n",
    "task.submit(wait=True, timeout=1)\n",
    "results_random_forest = scenario_1.results_random_forest.read()\n",
    "print(results_random_forest.shape)"
   ]
  },
  {
   "cell_type": "code",
   "execution_count": null,
   "id": "8cbae84d",
   "metadata": {},
   "outputs": [],
   "source": [
    "task = scenario_1.task_create_results_xgboost\n",
    "task.submit(wait=True, timeout=1)\n",
    "results_xgboost = scenario_1.results_xgboost.read()\n",
    "print(results_xgboost.shape)"
   ]
  },
  {
   "cell_type": "code",
   "execution_count": null,
   "id": "cc259f6f",
   "metadata": {},
   "outputs": [],
   "source": [
    "# scenarios = tp.get_entities_by_config_id(tp.get_scenarios()[0])\n",
    "# print(scenarios)\n",
    "# scenario = scenarios[0]"
   ]
  },
  {
   "cell_type": "code",
   "execution_count": null,
   "id": "0c766c3f",
   "metadata": {},
   "outputs": [],
   "source": [
    "# print_object_attributes(scenario)"
   ]
  },
  {
   "cell_type": "code",
   "execution_count": null,
   "id": "71958c5c",
   "metadata": {},
   "outputs": [],
   "source": [
    "# print(scenario.get_inputs())\n",
    "# print(scenario.get_outputs())"
   ]
  },
  {
   "cell_type": "code",
   "execution_count": null,
   "id": "16894e06",
   "metadata": {},
   "outputs": [],
   "source": [
    "# input_nodes = scenario.get_inputs()\n",
    "# output_nodes = scenario.get_outputs()"
   ]
  },
  {
   "cell_type": "code",
   "execution_count": null,
   "id": "551fd8cc",
   "metadata": {},
   "outputs": [],
   "source": [
    "# input_node_1 = list(input_nodes)[0]\n",
    "# output_node_1 = list(output_nodes)[0]\n",
    "# # output_node_1 = list(output_node_1)[0].read()\n"
   ]
  },
  {
   "cell_type": "code",
   "execution_count": null,
   "id": "a4de8a17",
   "metadata": {},
   "outputs": [],
   "source": [
    "# list(output_nodes)[0]\n",
    "# print_object_attributes(list(output_nodes)[0])"
   ]
  },
  {
   "cell_type": "code",
   "execution_count": null,
   "id": "3fee0fd4",
   "metadata": {},
   "outputs": [],
   "source": [
    "# for o_n in list(output_nodes):\n",
    "#     # print(o_n._config_id )\n",
    "#     if o_n._config_id.startswith('results_'): \n",
    "#         print(o_n._config_id)\n",
    "\n",
    "# # o_n_1.read()"
   ]
  },
  {
   "cell_type": "code",
   "execution_count": null,
   "id": "0d20b581",
   "metadata": {},
   "outputs": [],
   "source": []
  },
  {
   "cell_type": "code",
   "execution_count": null,
   "id": "9fc60ce8",
   "metadata": {},
   "outputs": [],
   "source": [
    "# print_object_attributes(input_node_1)"
   ]
  },
  {
   "cell_type": "code",
   "execution_count": null,
   "id": "2bdac8b1",
   "metadata": {},
   "outputs": [],
   "source": [
    "# print_object_attributes(output_node_1)"
   ]
  },
  {
   "cell_type": "code",
   "execution_count": null,
   "id": "5c71c9f6",
   "metadata": {},
   "outputs": [],
   "source": [
    "# for i in list(outputs):\n",
    "#     a=i.read()\n",
    "#     print(type(a))\n",
    "    "
   ]
  },
  {
   "cell_type": "code",
   "execution_count": null,
   "id": "280fde0a",
   "metadata": {},
   "outputs": [],
   "source": [
    "# a = tp.get_entities_by_config_id(list(scenario_1.data_nodes)[0])"
   ]
  },
  {
   "cell_type": "code",
   "execution_count": null,
   "id": "e9ee840f",
   "metadata": {},
   "outputs": [],
   "source": [
    "# a[0].read()"
   ]
  },
  {
   "cell_type": "code",
   "execution_count": null,
   "id": "91713390",
   "metadata": {},
   "outputs": [],
   "source": [
    "# for i in scenario_1.get_outputs(): print(i)"
   ]
  },
  {
   "cell_type": "code",
   "execution_count": null,
   "id": "6878ded0",
   "metadata": {},
   "outputs": [],
   "source": [
    "# list(scenario_1.data_nodes.keys())"
   ]
  },
  {
   "cell_type": "code",
   "execution_count": null,
   "id": "dc289573",
   "metadata": {},
   "outputs": [],
   "source": [
    "# print([(s.name, s.get_outputs().read()) for s in tp.get_scenarios()])"
   ]
  },
  {
   "cell_type": "code",
   "execution_count": null,
   "id": "dfb64509",
   "metadata": {},
   "outputs": [],
   "source": []
  }
 ],
 "metadata": {
  "kernelspec": {
   "display_name": ".venv",
   "language": "python",
   "name": "python3"
  },
  "language_info": {
   "codemirror_mode": {
    "name": "ipython",
    "version": 3
   },
   "file_extension": ".py",
   "mimetype": "text/x-python",
   "name": "python",
   "nbconvert_exporter": "python",
   "pygments_lexer": "ipython3",
   "version": "3.12.7"
  }
 },
 "nbformat": 4,
 "nbformat_minor": 5
}
