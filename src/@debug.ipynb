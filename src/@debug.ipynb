{
 "cells": [
  {
   "cell_type": "code",
   "execution_count": 1,
   "id": "cc1a065a",
   "metadata": {},
   "outputs": [
    {
     "name": "stdout",
     "output_type": "stream",
     "text": [
      "폴더 'C:\\Users\\ohbok\\Taipy\\sparc-malfunction-classification-develop\\src\\.taipy'의 하위 내용이 성공적으로 삭제되었습니다.\n",
      "폴더 'C:\\Users\\ohbok\\Taipy\\sparc-malfunction-classification-develop\\src\\user_data'의 하위 내용이 성공적으로 삭제되었습니다.\n"
     ]
    }
   ],
   "source": [
    "import os\n",
    "import shutil\n",
    "\n",
    "# 정리할 폴더 경로\n",
    "folder_paths = [\n",
    "    'C:\\\\Users\\\\ohbok\\\\Taipy\\\\sparc-malfunction-classification-develop\\\\src\\\\.taipy',\n",
    "    'C:\\\\Users\\\\ohbok\\\\Taipy\\\\sparc-malfunction-classification-develop\\\\src\\\\user_data'\n",
    "]\n",
    "\n",
    "for path in folder_paths:\n",
    "    # 폴더가 존재하는지 확인\n",
    "    if os.path.exists(path) and os.path.isdir(path):\n",
    "        try:\n",
    "            # 폴더 하위의 모든 항목을 순회하며 삭제\n",
    "            for item in os.listdir(path):\n",
    "                item_path = os.path.join(path, item)\n",
    "                if os.path.isdir(item_path):\n",
    "                    # 하위 폴더인 경우 shutil.rmtree로 삭제\n",
    "                    shutil.rmtree(item_path)\n",
    "                else:\n",
    "                    # 파일인 경우 os.remove로 삭제\n",
    "                    os.remove(item_path)\n",
    "            print(f\"폴더 '{path}'의 하위 내용이 성공적으로 삭제되었습니다.\")\n",
    "        except OSError as e:\n",
    "            print(f\"폴더 '{path}'의 하위 내용 삭제 중 오류가 발생했습니다: {e}\")\n",
    "    else:\n",
    "        print(f\"폴더 '{path}'가 존재하지 않거나 디렉토리가 아닙니다.\")"
   ]
  },
  {
   "cell_type": "code",
   "execution_count": 2,
   "id": "11f31a90",
   "metadata": {},
   "outputs": [],
   "source": [
    "# 데이터 처리 및 기타 작업을 위한 라이브러리들을 불러옵니다.\n",
    "import pandas as pd                                         # 데이터프레임 구조를 다루는 데 필수적인 라이브러리\n",
    "import numpy as np                                          # 숫자 연산을 위한 라이브러리\n",
    "import datetime as dt                                       # 날짜와 시간을 다루는 라이브러리\n",
    "import json                                                 # JSON 형식의 데이터를 처리하는 라이브러리\n",
    "\n",
    "import optuna\n",
    "import pprint\n",
    "\n",
    "import taipy as tp\n",
    "from taipy import Config, Orchestrator, Gui"
   ]
  },
  {
   "cell_type": "code",
   "execution_count": 3,
   "id": "b0f7175c",
   "metadata": {},
   "outputs": [],
   "source": [
    "# # Ensure the orchestrator is stopped before modifying the configuration\n",
    "# tp.Orchestrator().stop()\n",
    "# Config.configure_job_executions(mode=\"standalone\", max_nb_of_workers=2)"
   ]
  },
  {
   "cell_type": "code",
   "execution_count": 4,
   "id": "75af6e3c",
   "metadata": {},
   "outputs": [],
   "source": [
    "from config.config import scenario_cfg"
   ]
  },
  {
   "cell_type": "code",
   "execution_count": 5,
   "id": "d9c967d1",
   "metadata": {},
   "outputs": [
    {
     "name": "stdout",
     "output_type": "stream",
     "text": [
      "[2025-08-21 13:37:59.588][Taipy][INFO] Unblocking configuration update...\n",
      "[2025-08-21 13:37:59.589][Taipy][INFO] Stopping job dispatcher...\n",
      "[2025-08-21 13:37:59.589][Taipy][INFO] Orchestrator service has been stopped.\n",
      "[2025-08-21 13:37:59.590][Taipy][INFO] Updating configuration with command-line arguments...\n",
      "[2025-08-21 13:37:59.591][Taipy][INFO] Managing application's version...\n",
      "[2025-08-21 13:37:59.597][Taipy][INFO] Development mode: Clean all entities of version e2549510-12f6-4e26-9b96-1529ef2581a8\n",
      "[2025-08-21 13:37:59.613][Taipy][INFO] Checking application's version...\n",
      "[2025-08-21 13:37:59.615][Taipy][INFO] Blocking configuration update...\n",
      "[2025-08-21 13:37:59.616][Taipy][INFO] Starting job dispatcher...\n",
      "[2025-08-21 13:37:59.617][Taipy][INFO] Orchestrator service has been started.\n"
     ]
    }
   ],
   "source": [
    "tp.Orchestrator().stop()\n",
    "tp.Orchestrator().run()"
   ]
  },
  {
   "cell_type": "code",
   "execution_count": 6,
   "id": "9a5f85d2",
   "metadata": {},
   "outputs": [],
   "source": [
    "from algos.algos import *"
   ]
  },
  {
   "cell_type": "code",
   "execution_count": 7,
   "id": "e05b53c3",
   "metadata": {},
   "outputs": [],
   "source": [
    "# 디렉토리 변경\n",
    "# import os\n",
    "# import subprocess\n",
    "\n",
    "# # # 파일이 위치한 디렉토리로 이동\n",
    "# # # 'c:\\\\my_project'와 같은 경로를 자신의 파일 경로로 바꿔주세요.\n",
    "# # os.chdir('/usr01/automl/sparc-malfunction-classification-develop/src/config')\n",
    "# os.chdir('/usr01/automl/sparc-malfunction-classification-develop/src')\n"
   ]
  },
  {
   "cell_type": "code",
   "execution_count": 8,
   "id": "1f0afba7",
   "metadata": {},
   "outputs": [],
   "source": [
    "# # 'my_script.py' 파일 실행\n",
    "# # 이 명령어는 Windows의 경우입니다.\n",
    "# # MacOS나 Linux에서는 'python my_script.py'로 실행할 수 있습니다.\n",
    "# subprocess.run(['python', 'config.py'])\n",
    "\n",
    "# # # 특정 경로를 직접 지정하여 실행\n",
    "# # # 이 방법은 현재 작업 디렉토리를 바꾸지 않고 파일을 실행할 수 있습니다.\n",
    "# # subprocess.run(['python', 'C:\\\\Users\\\\your_name\\\\Documents\\\\my_project\\\\my_script.py'])"
   ]
  },
  {
   "cell_type": "code",
   "execution_count": 9,
   "id": "91cf651b",
   "metadata": {},
   "outputs": [],
   "source": [
    "# Config.load(r\"/usr01/automl/sparc-malfunction-classification-develop/src/config/config.toml\")\n",
    "# scenario_cfg = Config.scenarios[\"churn_classification\"]\n",
    "\n",
    "scenario_1 = tp.create_scenario(scenario_cfg)"
   ]
  },
  {
   "cell_type": "markdown",
   "id": "879213c2",
   "metadata": {},
   "source": [
    "SCENARIO"
   ]
  },
  {
   "cell_type": "code",
   "execution_count": 10,
   "id": "3134c2ff",
   "metadata": {},
   "outputs": [
    {
     "name": "stdout",
     "output_type": "stream",
     "text": [
      "[2025-08-21 13:38:19.567][Taipy][INFO] job JOB_preprocess_dataset_a4b5ae84-9fa6-450b-bbd2-6ae104ddf978 is completed.\n",
      "[2025-08-21 13:38:35.777][Taipy][INFO] job JOB_create_train_and_test_data_0a74ddc5-575d-4c6c-9884-85c667ac8326 is completed.\n",
      "[2025-08-21 13:38:36.839][Taipy][INFO] job JOB_select_feature_59072bd1-c855-4b1e-b4f5-23577aa62f1b is completed.\n",
      "[2025-08-21 13:38:37.635][Taipy][INFO] job JOB_train_model_baseline_f9d7adb8-1d97-43c3-abc7-1483d7323889 is completed.\n",
      "[2025-08-21 13:38:38.329][Taipy][INFO] job JOB_train_model_logistic_regression_3697b741-f35a-45cc-8466-c1e5092eb721 is completed.\n",
      "[2025-08-21 13:38:39.327][Taipy][INFO] job JOB_find_best_threshold_baseline_8f449ef0-9b69-4680-84f6-0ed08983cb7a is completed.\n",
      "[2025-08-21 13:38:40.092][Taipy][INFO] job JOB_find_best_threshold_logistic_regression_aa131527-9556-4ab9-9ecb-dae01691207b is completed.\n",
      "[2025-08-21 13:38:40.577][Taipy][INFO] job JOB_predict_the_test_data_logistic_regression_6112f3b4-3fcb-4e69-88fa-5e99343e7b8f is completed.\n",
      "[2025-08-21 13:38:40.969][Taipy][INFO] job JOB_create_metrics_on_train_baseline_451a055b-0fa9-4925-becc-84a1b08e0614 is completed.\n",
      "[2025-08-21 13:38:41.287][Taipy][INFO] job JOB_create_metrics_on_train_logistic_regression_344756a4-03ac-4b07-bf84-eb3d5fc7a6a4 is completed.\n",
      "[2025-08-21 13:38:41.746][Taipy][INFO] job JOB_task_roc_logistic_regression_4cacb7c2-65e1-48aa-bee2-afca60cba898 is completed.\n",
      "[2025-08-21 13:38:42.033][Taipy][INFO] job JOB_task_create_results_logistic_regression_c440f91f-0536-4606-8ec2-28a8f2946002 is completed.\n",
      "[2025-08-21 13:38:42.360][Taipy][INFO] job JOB_task_create_metrics_logistic_regression_e66b123d-d819-47e8-980c-453c5dbbe96a is completed.\n",
      "[2025-08-21 13:38:48.207][Taipy][INFO] job JOB_predict_the_test_data_baseline_ec3bd080-781b-483b-8dc1-15dec701d776 is completed.\n",
      "[2025-08-21 13:38:48.977][Taipy][INFO] job JOB_task_roc_baseline_7b81ba23-557c-4022-b60f-79307f22fac3 is completed.\n",
      "[2025-08-21 13:38:49.463][Taipy][INFO] job JOB_task_create_results_baseline_2fc0cbe0-974a-42b7-9ef4-479224312ead is completed.\n",
      "[2025-08-21 13:38:49.785][Taipy][INFO] job JOB_task_create_metrics_baseline_37db7b3d-33c4-4d0e-9587-e000c8856ec2 is completed.\n"
     ]
    },
    {
     "data": {
      "text/plain": [
       "<taipy.core.submission.submission.Submission at 0x2b5d39aa360>"
      ]
     },
     "execution_count": 10,
     "metadata": {},
     "output_type": "execute_result"
    }
   ],
   "source": [
    "# scenario_1.submit(wait=True, timeout=300)\n",
    "scenario_1.submit(wait=True)"
   ]
  },
  {
   "cell_type": "code",
   "execution_count": null,
   "id": "bfe236bf",
   "metadata": {},
   "outputs": [],
   "source": []
  },
  {
   "cell_type": "code",
   "execution_count": null,
   "id": "a92b6615",
   "metadata": {},
   "outputs": [],
   "source": [
    "# pr = \\\n",
    "# {'baseline': {'function_name': 'train_model_baseline',\n",
    "#               'importance_data': {'Features': ['SensorOffsetHot-Cold',\n",
    "#                                                'band gap dpat_ok for band gap',\n",
    "#                                                'Radius'],\n",
    "#                                   'Importance': [56.6, 4.65, 96.9]}},\n",
    "#  'logistic_regression': {'class_weight_multiplier': 'len(y) - n_pos',\n",
    "#                          'function_name': 'train_model_logistic_regression',\n",
    "#                          'max_iter': 10,\n",
    "#                          'solver': 'lbfgs'},\n",
    "#  'logistic_regression_cv': {'cv': 3,\n",
    "#                             'f2_rare_scorer': {'beta': 2,\n",
    "#                                                'name': 'fbeta_score',\n",
    "#                                                'pos_label': 1},\n",
    "#                             'function_name': 'train_model_logistic_regression_cv',\n",
    "#                             'param_grid': {'C': [0.0001,\n",
    "#                                                  0.001,\n",
    "#                                                  0.01,\n",
    "#                                                  0.1,\n",
    "#                                                  1,\n",
    "#                                                  10,\n",
    "#                                                  20],\n",
    "#                                            'solver': ['lbfgs', 'liblinear']}},\n",
    "#  'logistic_regression_optuna': {'f2_rare_scorer': {'beta': 2,\n",
    "#                                                    'name': 'fbeta_score',\n",
    "#                                                    'pos_label': 1},\n",
    "#                                 'function_name': 'train_model_logistic_regression_optuna',\n",
    "#                                 'n_trials': 50,\n",
    "#                                 'param_ranges': {'C': [0.0001, 20],\n",
    "#                                                  'class_weight_multiplier': [1,\n",
    "#                                                                              20],\n",
    "#                                                  'max_iter': 10,\n",
    "#                                                  'solver': ['liblinear',\n",
    "#                                                             'saga']}},\n",
    "#  'rf_cv': {'class_weight_multiplier': 'len(y) - sum(y)',\n",
    "#            'cv': 3,\n",
    "#            'f2_rare_scorer': {'beta': 2, 'name': 'fbeta_score', 'pos_label': 1},\n",
    "#            'function_name': 'train_model_rf_cv',\n",
    "#            'param_grid': {'max_depth': [2, 5, None],\n",
    "#                           'min_samples_split': [2, 5],\n",
    "#                           'n_estimators': [20, 50, 100]},\n",
    "#            'verbose': 1},\n",
    "#  'rf_optuna': {'cv': 5,\n",
    "#                'f2_rare_scorer': {'beta': 2,\n",
    "#                                   'name': 'fbeta_score',\n",
    "#                                   'pos_label': 1},\n",
    "#                'function_name': 'train_model_rf_optuna',\n",
    "#                'n_trials': 50,\n",
    "#                'param_ranges': {'max_depth': {'high': 30, 'low': 10},\n",
    "#                                 'max_features': {'choices': ['sqrt', 0.5, 0.8]},\n",
    "#                                 'min_samples_leaf': {'high': 10, 'low': 1},\n",
    "#                                 'min_samples_split': {'high': 20, 'low': 2},\n",
    "#                                 'n_estimators': {'high': 300, 'low': 100}}},\n",
    "#  'xgboost_cv': {'cv': 3,\n",
    "#                 'f2_rare_scorer': {'beta': 2,\n",
    "#                                    'name': 'fbeta_score',\n",
    "#                                    'pos_label': 1},\n",
    "#                 'function_name': 'train_model_xgboost_cv',\n",
    "#                 'param_grid': {'learning_rate': [0.01, 0.1, 0.2],\n",
    "#                                'max_depth': [2, 5],\n",
    "#                                'n_estimators': [30, 50, 100]},\n",
    "#                 'scale_pos_weight_multiplier': 2,\n",
    "#                 'verbose': 1},\n",
    "#  'xgboost_optuna': {'cv': 5,\n",
    "#                     'f2_rare_scorer': {'beta': 2,\n",
    "#                                        'name': 'fbeta_score',\n",
    "#                                        'pos_label': 1},\n",
    "#                     'function_name': 'train_model_xgboost_optuna',\n",
    "#                     'n_trials': 50,\n",
    "#                     'param_ranges': {'colsample_bytree': {'high': 1.0,\n",
    "#                                                           'low': 0.7},\n",
    "#                                      'gamma': {'high': 0.5, 'low': 0.1},\n",
    "#                                      'learning_rate': {'high': 0.2,\n",
    "#                                                        'low': 0.01},\n",
    "#                                      'max_depth': {'high': 20, 'low': 5},\n",
    "#                                      'n_estimators': {'high': 300, 'low': 100},\n",
    "#                                      'reg_alpha': {'high': 0.1, 'low': 1e-06},\n",
    "#                                      'reg_lambda': {'high': 0.1, 'low': 1e-06},\n",
    "#                                      'subsample': {'high': 1.0, 'low': 0.7}},\n",
    "#                     'ratio_multiplier_range': {'high': 1.2, 'low': 0.8}}}"
   ]
  },
  {
   "cell_type": "code",
   "execution_count": null,
   "id": "38f93271",
   "metadata": {},
   "outputs": [],
   "source": [
    "# # 'baseline'\n",
    "# # 'logistic_regression'\n",
    "# # 'logistic_regression_cv'\n",
    "# # 'logistic_regression_optuna'\n",
    "# # 'rf_cv'\n",
    "# # 'rf_optuna'\n",
    "# # 'xgboost_cv'\n",
    "# # 'xgboost_optuna'\n",
    "\n",
    "# models = \\\n",
    "# {\n",
    "#     \"baseline\": train_model_baseline,\n",
    "#     \"logistic_regression\": train_model_logistic_regression,\n",
    "#     \"logistic_regression_cv\": train_model_logistic_regression_cv,\n",
    "#     \"logistic_regression_optuna\": train_model_logistic_regression_optuna,\n",
    "#     \"rf_cv\": train_model_rf_cv,\n",
    "#     \"rf_optuna\": train_model_rf_optuna,\n",
    "#     \"xgboost_cv\": train_model_xgboost_cv,\n",
    "#     \"xgboost_optuna\": train_model_xgboost_optuna,\n",
    "#     # \"tree\": train_model_decision_tree,\n",
    "# }"
   ]
  },
  {
   "cell_type": "code",
   "execution_count": null,
   "id": "a146640b",
   "metadata": {},
   "outputs": [],
   "source": [
    "# for key in models:\n",
    "#     if key in pr:\n",
    "#         print(f\"'{key}': {pr[key]}\")"
   ]
  },
  {
   "cell_type": "code",
   "execution_count": null,
   "id": "59038894",
   "metadata": {},
   "outputs": [],
   "source": [
    "# for model in models:\n",
    "\n",
    "#     # function = models.get(model, {})\n",
    "#     # print(function)\n",
    "\n",
    "\n",
    "#     # function_name = models[model].__name__\n",
    "#     function_name = pr.get(model, {}).get(\"function_name\")\n",
    "#     function_name = pr.get(model, {}).get(\"cv\")\n",
    "#     print(function_name)\n",
    "\n",
    "\n",
    "#     # print(pr.get(model, {}))\n",
    "#     # print(\"\")\n"
   ]
  },
  {
   "cell_type": "code",
   "execution_count": null,
   "id": "4ef157f2",
   "metadata": {},
   "outputs": [],
   "source": [
    "# train_dataset = scenario_1.train_dataset.read()\n",
    "# feature_selection_info = scenario_1.feature_selection_info.read()\n",
    "# train_parameters = scenario_1.train_parameters_random_forest_optuna.read()"
   ]
  },
  {
   "cell_type": "code",
   "execution_count": null,
   "id": "052c3c56",
   "metadata": {},
   "outputs": [],
   "source": [
    "# best_model, importance, model_parameter_info = train_model_rf_optuna(train_dataset, feature_selection_info, train_parameters)"
   ]
  },
  {
   "cell_type": "code",
   "execution_count": null,
   "id": "e38eaa04",
   "metadata": {},
   "outputs": [],
   "source": [
    "# train_parameters = {\n",
    "#     \"function_name\": \"train_model_rf_optuna\",\n",
    "#     \"n_trials\": 50,\n",
    "#     \"cv\": 5,\n",
    "#     \"param_ranges\": {\n",
    "#         \"n_estimators\": {\"low\": 50, \"high\": 150},\n",
    "#         \"max_depth\": {\"low\": 5, \"high\": 20},\n",
    "#         \"min_samples_split\": {\"low\": 2, \"high\": 10},\n",
    "#         \"min_samples_leaf\": {\"low\": 1, \"high\": 5},\n",
    "#         \"max_features\": {\"choices\": [\"sqrt\", \"log2\", 0.8]}\n",
    "#     },\n",
    "#     \"f2_rare_scorer\": {\n",
    "#         \"name\": \"fbeta_score\",\n",
    "#         \"beta\": 2,\n",
    "#         \"pos_label\": 1\n",
    "#     }\n",
    "# }"
   ]
  },
  {
   "cell_type": "code",
   "execution_count": null,
   "id": "38c2bf41",
   "metadata": {},
   "outputs": [],
   "source": [
    "# print(\"      Training the Random Forest model with Optuna hyperparameter tuning...\\n\")\n",
    "\n",
    "# model_parameter_info = {}\n",
    "\n",
    "# X, y = train_dataset.iloc[:, :-1], train_dataset.iloc[:, -1]\n",
    "# final_features = feature_selection_info['final_features']\n",
    "# X = X[final_features]\n",
    "\n",
    "# n_neg = len(y) - sum(y)\n",
    "\n",
    "# # train_parameters에서 Optuna 관련 설정 가져오기\n",
    "# if train_parameters and train_parameters.get('function_name') == 'train_model_rf_optuna':\n",
    "#     n_trials = train_parameters.get('n_trials', 30)\n",
    "#     cv = train_parameters.get('cv', 3)\n",
    "#     param_ranges = train_parameters.get('param_ranges', {\n",
    "#         'n_estimators': {'low': 50, 'high': 150},\n",
    "#         'max_depth': {'low': 5, 'high': 20},\n",
    "#         'min_samples_split': {'low': 2, 'high': 10},\n",
    "#         'min_samples_leaf': {'low': 1, 'high': 5},\n",
    "#         'max_features': {'choices': ['sqrt', 'log2', 0.8]}\n",
    "#     })\n",
    "#     if 'class_weight_multiplier' not in param_ranges:\n",
    "#         param_ranges['class_weight_multiplier'] = {'low': 1, 'high': n_neg}\n",
    "    \n",
    "#     # f2_rare_scorer 설정 로직 추가\n",
    "#     scoring_params = train_parameters.get('f2_rare_scorer', {})\n",
    "#     if scoring_params.get('name') == 'fbeta_score':\n",
    "#         beta = scoring_params.get('beta', 2)\n",
    "#         pos_label = scoring_params.get('pos_label', 1)\n",
    "#         scorer = make_scorer(fbeta_score, beta=beta, pos_label=pos_label)\n",
    "#     else:\n",
    "#         scorer = make_scorer(f2_rare_scorer, greater_is_better=True)\n",
    "        \n",
    "# else:\n",
    "#     n_trials = 30\n",
    "#     cv = 3\n",
    "#     param_ranges = {\n",
    "#         'n_estimators': {'low': 50, 'high': 150},\n",
    "#         'max_depth': {'low': 5, 'high': 20},\n",
    "#         'min_samples_split': {'low': 2, 'high': 10},\n",
    "#         'min_samples_leaf': {'low': 1, 'high': 5},\n",
    "#         'max_features': {'choices': ['sqrt', 'log2', 0.8]},\n",
    "#         'class_weight_multiplier': {'low': 1, 'high': n_neg}\n",
    "#     }\n",
    "#     scorer = make_scorer(f2_rare_scorer, greater_is_better=True)\n",
    "\n",
    "# model_parameter_info['n_trials'] = n_trials\n",
    "# model_parameter_info['cv'] = cv\n",
    "# model_parameter_info['param_ranges'] = param_ranges\n",
    "# if 'f2_rare_scorer' in locals():\n",
    "#     model_parameter_info['f2_rare_scorer'] = {\n",
    "#         'name': 'fbeta_score',\n",
    "#         'beta': scorer._kwargs.get('beta'),\n",
    "#         'pos_label': scorer._kwargs.get('pos_label')\n",
    "#     }\n",
    "\n",
    "# def objective(trial):\n",
    "#     params = {\n",
    "#         'n_estimators': trial.suggest_int('n_estimators', param_ranges['n_estimators']['low'], param_ranges['n_estimators']['high']),\n",
    "#         'max_depth': trial.suggest_int('max_depth', param_ranges['max_depth']['low'], param_ranges['max_depth']['high']),\n",
    "#         'min_samples_split': trial.suggest_int('min_samples_split', param_ranges['min_samples_split']['low'], param_ranges['min_samples_split']['high']),\n",
    "#         'min_samples_leaf': trial.suggest_int('min_samples_leaf', param_ranges['min_samples_leaf']['low'], param_ranges['min_samples_leaf']['high']),\n",
    "#         'max_features': trial.suggest_categorical('max_features', param_ranges['max_features']['choices']),\n",
    "#         'class_weight_multiplier': trial.suggest_int('class_weight_multiplier', param_ranges['class_weight_multiplier']['low'], param_ranges['class_weight_multiplier']['high'])\n",
    "#     }\n",
    "\n",
    "#     class_weight = {0: 1, 1: params.pop('class_weight_multiplier')}\n",
    "    \n",
    "#     rf_model = RandomForestClassifier(\n",
    "#         class_weight=class_weight,\n",
    "#         random_state=42,\n",
    "#         n_jobs=-1,\n",
    "#         **params\n",
    "#     )\n",
    "\n",
    "#     kf = StratifiedKFold(n_splits=cv, shuffle=True, random_state=42)\n",
    "#     score = cross_val_score(rf_model, X, y, cv=kf, scoring=scorer, n_jobs=-1).mean()\n",
    "    \n",
    "#     return score\n",
    "\n",
    "# study = optuna.create_study(direction='maximize')\n",
    "# study.optimize(objective, n_trials=n_trials, show_progress_bar=True)\n",
    "\n",
    "# best_params = study.best_params\n",
    "# best_class_weight_multiplier = best_params.pop('class_weight_multiplier')\n",
    "# best_class_weight = {0: 1, 1: best_class_weight_multiplier}\n",
    "\n",
    "# best_model = RandomForestClassifier(\n",
    "#     class_weight=best_class_weight,\n",
    "#     random_state=42,\n",
    "#     n_jobs=-1,\n",
    "#     **best_params\n",
    "# ).fit(X, y)\n",
    "\n",
    "# print(f\"\\n      Best parameters found (Optuna): {study.best_params}\")\n",
    "# print(f\"      Best F2 (class=1) score (CV): {study.best_value:.4f}\\n\")\n",
    "\n",
    "# model_parameter_info['best_params'] = study.best_params\n",
    "# model_parameter_info['best_class_weight_multiplier'] = best_class_weight_multiplier\n",
    "\n",
    "# importance_dict = {\n",
    "#     \"Features\": X.columns,\n",
    "#     \"Importance\": best_model.feature_importances_,\n",
    "#     \"Importance_abs\": np.abs(best_model.feature_importances_),\n",
    "# }\n",
    "# importance = pd.DataFrame(importance_dict).sort_values(\n",
    "#     by=\"Importance\", ascending=True\n",
    "# )"
   ]
  },
  {
   "cell_type": "markdown",
   "id": "5338e0be",
   "metadata": {},
   "source": [
    "SEQUENCE"
   ]
  },
  {
   "cell_type": "code",
   "execution_count": null,
   "id": "292af3d6",
   "metadata": {},
   "outputs": [],
   "source": []
  },
  {
   "cell_type": "markdown",
   "id": "cf7ac5f4",
   "metadata": {},
   "source": [
    "TASK"
   ]
  },
  {
   "cell_type": "code",
   "execution_count": null,
   "id": "16696064",
   "metadata": {},
   "outputs": [],
   "source": [
    "# train_parameters_default = scenario_1.train_parameters_list_default.read()\n",
    "# pprint.pprint(train_parameters_default)"
   ]
  },
  {
   "cell_type": "code",
   "execution_count": null,
   "id": "e715cdc8",
   "metadata": {},
   "outputs": [],
   "source": [
    "initial_dataset = scenario_1.initial_dataset.read()"
   ]
  },
  {
   "cell_type": "code",
   "execution_count": null,
   "id": "3b90282e",
   "metadata": {},
   "outputs": [],
   "source": [
    "print(initial_dataset.shape)\n",
    "# initial_dataset"
   ]
  },
  {
   "cell_type": "code",
   "execution_count": null,
   "id": "84dc4d09",
   "metadata": {},
   "outputs": [],
   "source": [
    "task = scenario_1.preprocess_dataset\n",
    "# task.submit(wait=True, timeout=50)\n",
    "task.submit(wait=True)"
   ]
  },
  {
   "cell_type": "code",
   "execution_count": null,
   "id": "ea87dfa4",
   "metadata": {},
   "outputs": [],
   "source": [
    "preprocessed_dataset = scenario_1.preprocessed_dataset.read()"
   ]
  },
  {
   "cell_type": "code",
   "execution_count": null,
   "id": "95a28f08",
   "metadata": {},
   "outputs": [],
   "source": [
    "print(preprocessed_dataset.shape)\n",
    "preprocessed_dataset"
   ]
  },
  {
   "cell_type": "code",
   "execution_count": null,
   "id": "11617127",
   "metadata": {},
   "outputs": [],
   "source": [
    "task = scenario_1.create_train_and_test_data\n",
    "# task.submit(wait=True, timeout=300)\n",
    "task.submit(wait=True)"
   ]
  },
  {
   "cell_type": "code",
   "execution_count": null,
   "id": "08107e64",
   "metadata": {},
   "outputs": [],
   "source": [
    "train_dataset = scenario_1.train_dataset.read()\n",
    "print(train_dataset.shape)\n",
    "test_dataset = scenario_1.test_dataset.read()\n",
    "print(test_dataset.shape)"
   ]
  },
  {
   "cell_type": "code",
   "execution_count": null,
   "id": "4a539049",
   "metadata": {},
   "outputs": [],
   "source": [
    "# train_dataset"
   ]
  },
  {
   "cell_type": "code",
   "execution_count": null,
   "id": "1a1c4cf8",
   "metadata": {},
   "outputs": [],
   "source": [
    "test_dataset"
   ]
  },
  {
   "cell_type": "code",
   "execution_count": null,
   "id": "5fcd7c04",
   "metadata": {},
   "outputs": [],
   "source": [
    "split_parameter_info = scenario_1.split_parameter_info.read()\n",
    "pprint.pprint(split_parameter_info)"
   ]
  },
  {
   "cell_type": "code",
   "execution_count": null,
   "id": "6768b601",
   "metadata": {},
   "outputs": [],
   "source": [
    "feature_selector = scenario_1.feature_selector.read()\n",
    "pprint.pprint(feature_selector)"
   ]
  },
  {
   "cell_type": "code",
   "execution_count": null,
   "id": "7ff61313",
   "metadata": {},
   "outputs": [],
   "source": [
    "task = scenario_1.select_feature\n",
    "task.submit(wait=True)"
   ]
  },
  {
   "cell_type": "code",
   "execution_count": null,
   "id": "4b6ad2d9",
   "metadata": {},
   "outputs": [],
   "source": [
    "feature_selection_info = scenario_1.feature_selection_info.read()\n",
    "# pprint.pprint(feature_selection_info)\n",
    "pprint.pprint(feature_selection_info.get('final_feature_count'))"
   ]
  },
  {
   "cell_type": "code",
   "execution_count": null,
   "id": "70ca51bf",
   "metadata": {},
   "outputs": [],
   "source": []
  },
  {
   "cell_type": "markdown",
   "id": "47204ed1",
   "metadata": {},
   "source": [
    "### TASKS train_model"
   ]
  },
  {
   "cell_type": "code",
   "execution_count": null,
   "id": "a5182996",
   "metadata": {},
   "outputs": [],
   "source": [
    "# Iterate through all scenarios and models\n",
    "for scenario in tp.get_scenarios():\n",
    "    for task_name in scenario.tasks:\n",
    "        if \"train_model\" in task_name:\n",
    "            model = task_name.split(\"train_model_\")[1]\n",
    "            print(f\"Model: {model}\")\n",
    "            task = eval(\"scenario.\" + task_name)\n",
    "            task.submit(wait=True)"
   ]
  },
  {
   "cell_type": "code",
   "execution_count": null,
   "id": "ade74fd9",
   "metadata": {},
   "outputs": [],
   "source": []
  },
  {
   "cell_type": "code",
   "execution_count": null,
   "id": "80b5ef47",
   "metadata": {},
   "outputs": [],
   "source": [
    "task = scenario_1.train_model_baseline\n",
    "# task.submit(wait=True, timeout=50)\n",
    "task.submit(wait=True)\n",
    "trained_model_baseline = scenario_1.trained_model_baseline.read()\n",
    "print(trained_model_baseline)\n",
    "feature_importance_baseline = scenario_1.feature_importance_baseline.read()\n",
    "print(feature_importance_baseline.shape)"
   ]
  },
  {
   "cell_type": "code",
   "execution_count": null,
   "id": "afa1a899",
   "metadata": {},
   "outputs": [],
   "source": [
    "# train_parameters_logistic_regression = scenario_1.train_parameters_logistic_regression.read()\n",
    "# train_parameters_logistic_regression"
   ]
  },
  {
   "cell_type": "code",
   "execution_count": null,
   "id": "8724ac57",
   "metadata": {},
   "outputs": [],
   "source": [
    "task = scenario_1.train_model_logistic_regression\n",
    "# task.submit(wait=True, timeout=50)\n",
    "task.submit(wait=True)\n",
    "trained_model_logistic_regression = scenario_1.trained_model_logistic_regression.read()\n",
    "print(trained_model_logistic_regression)\n",
    "feature_importance_logistic_regression = scenario_1.feature_importance_logistic_regression.read()\n",
    "print(feature_importance_logistic_regression.shape)"
   ]
  },
  {
   "cell_type": "code",
   "execution_count": null,
   "id": "7837f108",
   "metadata": {},
   "outputs": [],
   "source": [
    "# train_parameters_info_logistic_regression = scenario_1.train_parameters_info_logistic_regression.read()\n",
    "# pprint.pprint(train_parameters_info_logistic_regression)"
   ]
  },
  {
   "cell_type": "code",
   "execution_count": null,
   "id": "914c71bd",
   "metadata": {},
   "outputs": [],
   "source": [
    "# trained_model_logistic_regression\n",
    "# feature_importance_logistic_regression\n",
    "# train_parameters_info_logistic_regression"
   ]
  },
  {
   "cell_type": "markdown",
   "id": "c85e7feb",
   "metadata": {},
   "source": [
    "테스트 "
   ]
  },
  {
   "cell_type": "code",
   "execution_count": null,
   "id": "e6823a3c",
   "metadata": {},
   "outputs": [],
   "source": [
    "train_dataset = scenario_1.train_dataset.read()\n",
    "# train_dataset"
   ]
  },
  {
   "cell_type": "code",
   "execution_count": null,
   "id": "5c9ab068",
   "metadata": {},
   "outputs": [],
   "source": [
    "feature_selection_info = scenario_1.feature_selection_info.read()\n"
   ]
  },
  {
   "cell_type": "code",
   "execution_count": null,
   "id": "16672e74",
   "metadata": {},
   "outputs": [],
   "source": [
    "# train_parameters_logistic_regression = scenario_1.train_parameters_logistic_regression.read()\n",
    "# train_parameters = train_parameters_logistic_regression\n",
    "# train_parameters"
   ]
  },
  {
   "cell_type": "code",
   "execution_count": null,
   "id": "d7075ca3",
   "metadata": {},
   "outputs": [],
   "source": [
    "# train_parameters_random_forest = scenario_1.train_parameters_random_forest.read()\n",
    "# train_parameters = train_parameters_random_forest\n",
    "# train_parameters"
   ]
  },
  {
   "cell_type": "code",
   "execution_count": null,
   "id": "26f8724a",
   "metadata": {},
   "outputs": [],
   "source": [
    "task = scenario_1.train_model_random_forest\n",
    "# task.submit(wait=True, timeout=50)\n",
    "task.submit(wait=True)\n",
    "trained_model_random_forest = scenario_1.trained_model_random_forest.read()\n",
    "print(trained_model_random_forest)\n",
    "feature_importance_random_forest = scenario_1.feature_importance_random_forest.read()\n",
    "print(feature_importance_random_forest.shape)"
   ]
  },
  {
   "cell_type": "code",
   "execution_count": null,
   "id": "622b938d",
   "metadata": {},
   "outputs": [],
   "source": [
    "task = scenario_1.train_model_xgboost\n",
    "# task.submit(wait=True, timeout=50)\n",
    "task.submit(wait=True)\n",
    "trained_model_xgboost = scenario_1.trained_model_xgboost.read()\n",
    "print(trained_model_xgboost)\n",
    "feature_importance_xgboost = scenario_1.feature_importance_xgboost.read()\n",
    "print(feature_importance_xgboost.shape)"
   ]
  },
  {
   "cell_type": "markdown",
   "id": "bcc2b486",
   "metadata": {},
   "source": [
    "### TASKS predict_the_test_data"
   ]
  },
  {
   "cell_type": "code",
   "execution_count": null,
   "id": "3d594091",
   "metadata": {},
   "outputs": [],
   "source": [
    "task = scenario_1.predict_the_test_data_baseline\n",
    "# task.submit(wait=True, timeout=50)\n",
    "task.submit(wait=True, timeout=1)\n",
    "forecast_dataset_baseline = scenario_1.forecast_dataset_baseline.read()\n",
    "print(forecast_dataset_baseline)\n",
    "shap_values_baseline = scenario_1.shap_values_baseline.read()\n"
   ]
  },
  {
   "cell_type": "code",
   "execution_count": null,
   "id": "9b48cd2a",
   "metadata": {},
   "outputs": [],
   "source": [
    "# forecast_dataset_baseline"
   ]
  },
  {
   "cell_type": "code",
   "execution_count": null,
   "id": "7f9a3091",
   "metadata": {},
   "outputs": [],
   "source": [
    "# shap_values_baseline이 NoneType인 경우를 테스트하기 위한 예시\n",
    "# 아래 코드를 주석 처리하고 실제 shap_values_baseline을 사용하세요.\n",
    "# shap_values_baseline = (None, np.random.rand(100, 5))\n",
    "# 조건문\n",
    "if isinstance(shap_values_baseline[0], type(None)):\n",
    "    print(type(shap_values_baseline[0]))\n",
    "    print(shap_values_baseline[1].shape)\n",
    "else:\n",
    "    shap.summary_plot(shap_values_baseline[0], shap_values_baseline[1])"
   ]
  },
  {
   "cell_type": "code",
   "execution_count": null,
   "id": "ca252321",
   "metadata": {},
   "outputs": [],
   "source": [
    "task = scenario_1.predict_the_test_data_logistic_regression\n",
    "# task.submit(wait=True, timeout=50)\n",
    "task.submit(wait=True)\n",
    "forecast_dataset_logistic_regression = scenario_1.forecast_dataset_logistic_regression.read()"
   ]
  },
  {
   "cell_type": "code",
   "execution_count": null,
   "id": "02f230c0",
   "metadata": {},
   "outputs": [],
   "source": [
    "print(forecast_dataset_logistic_regression)\n",
    "shap_values_logistic_regression = scenario_1.shap_values_logistic_regression.read()\n"
   ]
  },
  {
   "cell_type": "code",
   "execution_count": null,
   "id": "a476f117",
   "metadata": {},
   "outputs": [],
   "source": [
    "\n",
    "# shap_values_logistic_regression이 NoneType인 경우를 테스트하기 위한 예시\n",
    "# 아래 코드를 주석 처리하고 실제 shap_values_logistic_regression을 사용하세요.\n",
    "# shap_values_logistic_regression = (None, np.random.rand(100, 5))\n",
    "# 조건문\n",
    "if isinstance(shap_values_logistic_regression[0], type(None)):\n",
    "    print(type(shap_values_logistic_regression[0]))\n",
    "    print(shap_values_logistic_regression[1].shape)\n",
    "else:\n",
    "    shap.summary_plot(shap_values_logistic_regression[0], shap_values_logistic_regression[1])"
   ]
  },
  {
   "cell_type": "code",
   "execution_count": null,
   "id": "b5a17fa5",
   "metadata": {},
   "outputs": [],
   "source": [
    "task = scenario_1.predict_the_test_data_random_forest\n",
    "task.submit(wait=True, timeout=50)\n",
    "forecast_dataset_random_forest = scenario_1.forecast_dataset_random_forest.read()\n",
    "print(forecast_dataset_random_forest)\n",
    "shap_values_random_forest = scenario_1.shap_values_random_forest.read()\n",
    "\n",
    "# shap_values_random_forest이 NoneType인 경우를 테스트하기 위한 예시\n",
    "# 아래 코드를 주석 처리하고 실제 shap_values_random_forest을 사용하세요.\n",
    "# shap_values_random_forest = (None, np.random.rand(100, 5))\n",
    "# 조건문\n",
    "if isinstance(shap_values_random_forest[0], type(None)):\n",
    "    print(type(shap_values_random_forest[0]))\n",
    "    print(shap_values_random_forest[1].shape)\n",
    "else:\n",
    "    shap.summary_plot(shap_values_random_forest[0], shap_values_random_forest[1])"
   ]
  },
  {
   "cell_type": "code",
   "execution_count": null,
   "id": "47094e67",
   "metadata": {},
   "outputs": [],
   "source": [
    "task = scenario_1.predict_the_test_data_xgboost\n",
    "task.submit(wait=True, timeout=50)\n",
    "forecast_dataset_xgboost = scenario_1.forecast_dataset_xgboost.read()\n",
    "print(forecast_dataset_xgboost)\n",
    "shap_values_xgboost = scenario_1.shap_values_xgboost.read()\n",
    "\n",
    "# shap_values_xgboost이 NoneType인 경우를 테스트하기 위한 예시\n",
    "# 아래 코드를 주석 처리하고 실제 shap_values_xgboost을 사용하세요.\n",
    "# shap_values_xgboost = (None, np.random.rand(100, 5))\n",
    "# 조건문\n",
    "if isinstance(shap_values_xgboost[0], type(None)):\n",
    "    print(type(shap_values_xgboost[0]))\n",
    "    print(shap_values_xgboost[1].shape)\n",
    "else:\n",
    "    shap.summary_plot(shap_values_xgboost[0], shap_values_xgboost[1])"
   ]
  },
  {
   "cell_type": "markdown",
   "id": "f0819cb5",
   "metadata": {},
   "source": [
    "### TASKS find_best_threshold"
   ]
  },
  {
   "cell_type": "code",
   "execution_count": null,
   "id": "72b6a005",
   "metadata": {},
   "outputs": [],
   "source": [
    "task = scenario_1.find_best_threshold_baseline\n",
    "task.submit(wait=True, timeout=50)\n",
    "train_dataset_proba_baseline = scenario_1.train_dataset_proba_baseline.read()\n",
    "print(train_dataset_proba_baseline.shape)\n",
    "threshold_baseline = scenario_1.threshold_baseline.read()\n",
    "print(threshold_baseline)"
   ]
  },
  {
   "cell_type": "code",
   "execution_count": null,
   "id": "f156f1af",
   "metadata": {},
   "outputs": [],
   "source": [
    "task = scenario_1.find_best_threshold_logistic_regression\n",
    "task.submit(wait=True, timeout=50)\n",
    "train_dataset_proba_logistic_regression = scenario_1.train_dataset_proba_logistic_regression.read()\n",
    "print(train_dataset_proba_logistic_regression.shape)\n",
    "threshold_logistic_regression = scenario_1.threshold_logistic_regression.read()\n",
    "print(threshold_logistic_regression)"
   ]
  },
  {
   "cell_type": "code",
   "execution_count": null,
   "id": "4e97bd3e",
   "metadata": {},
   "outputs": [],
   "source": [
    "task = scenario_1.find_best_threshold_random_forest\n",
    "task.submit(wait=True, timeout=50)\n",
    "train_dataset_proba_random_forest = scenario_1.train_dataset_proba_random_forest.read()\n",
    "print(train_dataset_proba_random_forest.shape)\n",
    "threshold_random_forest = scenario_1.threshold_random_forest.read()\n",
    "print(threshold_random_forest)"
   ]
  },
  {
   "cell_type": "code",
   "execution_count": null,
   "id": "b4cee4a4",
   "metadata": {},
   "outputs": [],
   "source": [
    "task = scenario_1.find_best_threshold_xgboost\n",
    "task.submit(wait=True, timeout=50)\n",
    "train_dataset_proba_xgboost = scenario_1.train_dataset_proba_xgboost.read()\n",
    "print(train_dataset_proba_xgboost.shape)\n",
    "threshold_xgboost = scenario_1.threshold_xgboost.read()\n",
    "print(threshold_xgboost)"
   ]
  },
  {
   "cell_type": "markdown",
   "id": "2ce948ec",
   "metadata": {},
   "source": [
    "### TASKS roc"
   ]
  },
  {
   "cell_type": "code",
   "execution_count": null,
   "id": "668159aa",
   "metadata": {},
   "outputs": [],
   "source": [
    "task = scenario_1.task_roc_baseline\n",
    "task.submit(wait=True, timeout=50)\n",
    "roc_data_baseline = scenario_1.roc_data_baseline.read()\n",
    "print(roc_data_baseline.shape)\n",
    "auc_score_baseline = scenario_1.auc_score_baseline.read()\n",
    "print(auc_score_baseline)"
   ]
  },
  {
   "cell_type": "code",
   "execution_count": null,
   "id": "e06ee34c",
   "metadata": {},
   "outputs": [],
   "source": [
    "task = scenario_1.task_roc_logistic_regression\n",
    "task.submit(wait=True, timeout=50)\n",
    "roc_data_logistic_regression = scenario_1.roc_data_logistic_regression.read()\n",
    "print(roc_data_logistic_regression.shape)\n",
    "auc_score_logistic_regression = scenario_1.auc_score_logistic_regression.read()\n",
    "print(auc_score_logistic_regression)"
   ]
  },
  {
   "cell_type": "code",
   "execution_count": null,
   "id": "d6f1a13e",
   "metadata": {},
   "outputs": [],
   "source": [
    "task = scenario_1.task_roc_random_forest\n",
    "task.submit(wait=True, timeout=50)\n",
    "roc_data_random_forest = scenario_1.roc_data_random_forest.read()\n",
    "print(roc_data_random_forest.shape)\n",
    "auc_score_random_forest = scenario_1.auc_score_random_forest.read()\n",
    "print(auc_score_random_forest)"
   ]
  },
  {
   "cell_type": "code",
   "execution_count": null,
   "id": "685da54c",
   "metadata": {},
   "outputs": [],
   "source": [
    "task = scenario_1.task_roc_xgboost\n",
    "task.submit(wait=True, timeout=50)\n",
    "roc_data_xgboost = scenario_1.roc_data_xgboost.read()\n",
    "print(roc_data_xgboost.shape)\n",
    "auc_score_xgboost = scenario_1.auc_score_xgboost.read()\n",
    "print(auc_score_xgboost)"
   ]
  },
  {
   "cell_type": "markdown",
   "id": "deae4b5e",
   "metadata": {},
   "source": [
    "### TASKS create_metrics_on_train"
   ]
  },
  {
   "cell_type": "code",
   "execution_count": null,
   "id": "48361aed",
   "metadata": {},
   "outputs": [],
   "source": [
    "task = scenario_1.create_metrics_on_train_baseline\n",
    "task.submit(wait=True, timeout=50)\n",
    "train_dataset_metrics_baseline = scenario_1.train_dataset_metrics_baseline.read()\n",
    "print(train_dataset_metrics_baseline.shape)"
   ]
  },
  {
   "cell_type": "code",
   "execution_count": null,
   "id": "79b55ad0",
   "metadata": {},
   "outputs": [],
   "source": [
    "task = scenario_1.create_metrics_on_train_logistic_regression\n",
    "task.submit(wait=True, timeout=50)\n",
    "train_dataset_metrics_logistic_regression = scenario_1.train_dataset_metrics_logistic_regression.read()\n",
    "print(train_dataset_metrics_logistic_regression.shape)"
   ]
  },
  {
   "cell_type": "code",
   "execution_count": null,
   "id": "caa9364d",
   "metadata": {},
   "outputs": [],
   "source": [
    "task = scenario_1.create_metrics_on_train_random_forest\n",
    "task.submit(wait=True, timeout=50)\n",
    "train_dataset_metrics_random_forest = scenario_1.train_dataset_metrics_random_forest.read()\n",
    "print(train_dataset_metrics_random_forest.shape)\n"
   ]
  },
  {
   "cell_type": "code",
   "execution_count": null,
   "id": "8c58e774",
   "metadata": {},
   "outputs": [],
   "source": [
    "task = scenario_1.create_metrics_on_train_xgboost\n",
    "task.submit(wait=True, timeout=50)\n",
    "train_dataset_metrics_xgboost = scenario_1.train_dataset_metrics_xgboost.read()\n",
    "print(train_dataset_metrics_xgboost.shape)"
   ]
  },
  {
   "cell_type": "markdown",
   "id": "6c17eb65",
   "metadata": {},
   "source": [
    "### TASKS task_create_metrics"
   ]
  },
  {
   "cell_type": "code",
   "execution_count": null,
   "id": "376ecbe5",
   "metadata": {},
   "outputs": [],
   "source": [
    "task = scenario_1.task_create_metrics_baseline\n",
    "task.submit(wait=True, timeout=1)\n",
    "metrics_baseline = scenario_1.metrics_baseline.read()\n",
    "for key, value in metrics_baseline.items(): print(f'{key}: {value}')"
   ]
  },
  {
   "cell_type": "code",
   "execution_count": null,
   "id": "e2c0f248",
   "metadata": {},
   "outputs": [],
   "source": [
    "task = scenario_1.task_create_metrics_logistic_regression\n",
    "task.submit(wait=True, timeout=1)\n",
    "metrics_logistic_regression = scenario_1.metrics_logistic_regression.read()\n",
    "for key, value in metrics_logistic_regression.items(): print(f'{key}: {value}')"
   ]
  },
  {
   "cell_type": "code",
   "execution_count": null,
   "id": "5f33e3b5",
   "metadata": {},
   "outputs": [],
   "source": [
    "task = scenario_1.task_create_metrics_random_forest\n",
    "task.submit(wait=True, timeout=1)\n",
    "metrics_random_forest = scenario_1.metrics_random_forest.read()\n",
    "for key, value in metrics_random_forest.items(): print(f'{key}: {value}')"
   ]
  },
  {
   "cell_type": "code",
   "execution_count": null,
   "id": "36f28d39",
   "metadata": {},
   "outputs": [],
   "source": [
    "task = scenario_1.task_create_metrics_xgboost\n",
    "task.submit(wait=True, timeout=1)\n",
    "metrics_xgboost = scenario_1.metrics_xgboost.read()\n",
    "for key, value in metrics_xgboost.items(): print(f'{key}: {value}')"
   ]
  },
  {
   "cell_type": "markdown",
   "id": "6f6944dc",
   "metadata": {},
   "source": [
    "### TASKS task_create_results"
   ]
  },
  {
   "cell_type": "code",
   "execution_count": null,
   "id": "0c3c9e4d",
   "metadata": {},
   "outputs": [],
   "source": [
    "task = scenario_1.task_create_results_baseline\n",
    "task.submit(wait=True, timeout=1)\n",
    "results_baseline = scenario_1.results_baseline.read()\n",
    "print(results_baseline.shape)"
   ]
  },
  {
   "cell_type": "code",
   "execution_count": null,
   "id": "4b672ef3",
   "metadata": {},
   "outputs": [],
   "source": [
    "task = scenario_1.task_create_results_logistic_regression\n",
    "task.submit(wait=True, timeout=1)\n",
    "results_logistic_regression = scenario_1.results_logistic_regression.read()\n",
    "print(results_logistic_regression.shape)"
   ]
  },
  {
   "cell_type": "code",
   "execution_count": null,
   "id": "d2a55a3f",
   "metadata": {},
   "outputs": [],
   "source": [
    "results_logistic_regression"
   ]
  },
  {
   "cell_type": "code",
   "execution_count": null,
   "id": "a389cf7d",
   "metadata": {},
   "outputs": [],
   "source": [
    "task = scenario_1.task_create_results_random_forest\n",
    "task.submit(wait=True, timeout=1)\n",
    "results_random_forest = scenario_1.results_random_forest.read()\n",
    "print(results_random_forest.shape)"
   ]
  },
  {
   "cell_type": "code",
   "execution_count": null,
   "id": "8cbae84d",
   "metadata": {},
   "outputs": [],
   "source": [
    "task = scenario_1.task_create_results_xgboost\n",
    "task.submit(wait=True, timeout=1)\n",
    "results_xgboost = scenario_1.results_xgboost.read()\n",
    "print(results_xgboost.shape)"
   ]
  },
  {
   "cell_type": "code",
   "execution_count": null,
   "id": "cc259f6f",
   "metadata": {},
   "outputs": [],
   "source": [
    "# scenarios = tp.get_entities_by_config_id(tp.get_scenarios()[0])\n",
    "# print(scenarios)\n",
    "# scenario = scenarios[0]"
   ]
  },
  {
   "cell_type": "code",
   "execution_count": null,
   "id": "0c766c3f",
   "metadata": {},
   "outputs": [],
   "source": [
    "# print_object_attributes(scenario)"
   ]
  },
  {
   "cell_type": "code",
   "execution_count": null,
   "id": "71958c5c",
   "metadata": {},
   "outputs": [],
   "source": [
    "# print(scenario.get_inputs())\n",
    "# print(scenario.get_outputs())"
   ]
  },
  {
   "cell_type": "code",
   "execution_count": null,
   "id": "16894e06",
   "metadata": {},
   "outputs": [],
   "source": [
    "# input_nodes = scenario.get_inputs()\n",
    "# output_nodes = scenario.get_outputs()"
   ]
  },
  {
   "cell_type": "code",
   "execution_count": null,
   "id": "551fd8cc",
   "metadata": {},
   "outputs": [],
   "source": [
    "# input_node_1 = list(input_nodes)[0]\n",
    "# output_node_1 = list(output_nodes)[0]\n",
    "# # output_node_1 = list(output_node_1)[0].read()\n"
   ]
  },
  {
   "cell_type": "code",
   "execution_count": null,
   "id": "a4de8a17",
   "metadata": {},
   "outputs": [],
   "source": [
    "# list(output_nodes)[0]\n",
    "# print_object_attributes(list(output_nodes)[0])"
   ]
  },
  {
   "cell_type": "code",
   "execution_count": null,
   "id": "3fee0fd4",
   "metadata": {},
   "outputs": [],
   "source": [
    "# for o_n in list(output_nodes):\n",
    "#     # print(o_n._config_id )\n",
    "#     if o_n._config_id.startswith('results_'): \n",
    "#         print(o_n._config_id)\n",
    "\n",
    "# # o_n_1.read()"
   ]
  },
  {
   "cell_type": "code",
   "execution_count": null,
   "id": "0d20b581",
   "metadata": {},
   "outputs": [],
   "source": []
  },
  {
   "cell_type": "code",
   "execution_count": null,
   "id": "9fc60ce8",
   "metadata": {},
   "outputs": [],
   "source": [
    "# print_object_attributes(input_node_1)"
   ]
  },
  {
   "cell_type": "code",
   "execution_count": null,
   "id": "2bdac8b1",
   "metadata": {},
   "outputs": [],
   "source": [
    "# print_object_attributes(output_node_1)"
   ]
  },
  {
   "cell_type": "code",
   "execution_count": null,
   "id": "5c71c9f6",
   "metadata": {},
   "outputs": [],
   "source": [
    "# for i in list(outputs):\n",
    "#     a=i.read()\n",
    "#     print(type(a))\n",
    "    "
   ]
  },
  {
   "cell_type": "code",
   "execution_count": null,
   "id": "280fde0a",
   "metadata": {},
   "outputs": [],
   "source": [
    "# a = tp.get_entities_by_config_id(list(scenario_1.data_nodes)[0])"
   ]
  },
  {
   "cell_type": "code",
   "execution_count": null,
   "id": "e9ee840f",
   "metadata": {},
   "outputs": [],
   "source": [
    "# a[0].read()"
   ]
  },
  {
   "cell_type": "code",
   "execution_count": null,
   "id": "91713390",
   "metadata": {},
   "outputs": [],
   "source": [
    "# for i in scenario_1.get_outputs(): print(i)"
   ]
  },
  {
   "cell_type": "code",
   "execution_count": null,
   "id": "6878ded0",
   "metadata": {},
   "outputs": [],
   "source": [
    "# list(scenario_1.data_nodes.keys())"
   ]
  },
  {
   "cell_type": "code",
   "execution_count": null,
   "id": "dc289573",
   "metadata": {},
   "outputs": [],
   "source": [
    "# print([(s.name, s.get_outputs().read()) for s in tp.get_scenarios()])"
   ]
  },
  {
   "cell_type": "code",
   "execution_count": null,
   "id": "dfb64509",
   "metadata": {},
   "outputs": [],
   "source": []
  }
 ],
 "metadata": {
  "kernelspec": {
   "display_name": ".venv",
   "language": "python",
   "name": "python3"
  },
  "language_info": {
   "codemirror_mode": {
    "name": "ipython",
    "version": 3
   },
   "file_extension": ".py",
   "mimetype": "text/x-python",
   "name": "python",
   "nbconvert_exporter": "python",
   "pygments_lexer": "ipython3",
   "version": "3.12.7"
  }
 },
 "nbformat": 4,
 "nbformat_minor": 5
}
